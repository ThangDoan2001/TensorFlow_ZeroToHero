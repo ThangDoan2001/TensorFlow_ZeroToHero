{
  "nbformat": 4,
  "nbformat_minor": 0,
  "metadata": {
    "colab": {
      "name": "01_neural_network_regression_with_tensorflow.ipynb",
      "provenance": [],
      "collapsed_sections": [],
      "authorship_tag": "ABX9TyMpTxjK28UKmGyiTNUZmzrH",
      "include_colab_link": true
    },
    "kernelspec": {
      "name": "python3",
      "display_name": "Python 3"
    },
    "language_info": {
      "name": "python"
    },
    "accelerator": "GPU"
  },
  "cells": [
    {
      "cell_type": "markdown",
      "metadata": {
        "id": "view-in-github",
        "colab_type": "text"
      },
      "source": [
        "<a href=\"https://colab.research.google.com/github/ThangDoan2001/TensorFlow_ZeroToHero/blob/master/01_neural_network_regression_with_tensorflow.ipynb\" target=\"_parent\"><img src=\"https://colab.research.google.com/assets/colab-badge.svg\" alt=\"Open In Colab\"/></a>"
      ]
    },
    {
      "cell_type": "markdown",
      "metadata": {
        "id": "M9ymjskEsf37"
      },
      "source": [
        "# Introduction to Regression with Neural Networks in TensorFlow \n",
        "\n",
        "There are many definitions for a regression problem but in our case, we're going to simplify it: predecting a numerical variable based on some other combination of variables, even shorter .... predicting a number."
      ]
    },
    {
      "cell_type": "code",
      "metadata": {
        "colab": {
          "base_uri": "https://localhost:8080/",
          "height": 36
        },
        "id": "rsK_BYTrrxpC",
        "outputId": "6caf29da-fd8c-41ed-96bf-58c77f4bc55a"
      },
      "source": [
        "# Import TensorFlow\n",
        "import tensorflow as tf\n",
        "tf.__version__"
      ],
      "execution_count": 47,
      "outputs": [
        {
          "output_type": "execute_result",
          "data": {
            "application/vnd.google.colaboratory.intrinsic+json": {
              "type": "string"
            },
            "text/plain": [
              "'2.5.0'"
            ]
          },
          "metadata": {
            "tags": []
          },
          "execution_count": 47
        }
      ]
    },
    {
      "cell_type": "markdown",
      "metadata": {
        "id": "qk9YxuD4tMhY"
      },
      "source": [
        "## Creating some data to view and fit"
      ]
    },
    {
      "cell_type": "code",
      "metadata": {
        "colab": {
          "base_uri": "https://localhost:8080/",
          "height": 269
        },
        "id": "rF2vwm6LtG8o",
        "outputId": "05d692e4-4a38-441c-a51e-cc0caa0befc7"
      },
      "source": [
        " import numpy as np\n",
        " import matplotlib.pyplot as plt\n",
        "\n",
        " # Create features\n",
        " X = np.array([-7., -4., -1., 2., 5. , 8., 11., 14.])\n",
        "\n",
        "\n",
        " # Create lables\n",
        " y = np.array([3., 6., 9., 12., 15., 18., 21., 24.])\n",
        "\n",
        " # Visualize it\n",
        " plt.scatter(X, y);"
      ],
      "execution_count": 48,
      "outputs": [
        {
          "output_type": "display_data",
          "data": {
            "image/png": "[encoded data removed]",
            "text/plain": [
              "<Figure size 432x288 with 1 Axes>"
            ]
          },
          "metadata": {
            "tags": [],
            "needs_background": "light"
          }
        }
      ]
    },
    {
      "cell_type": "code",
      "metadata": {
        "colab": {
          "base_uri": "https://localhost:8080/"
        },
        "id": "D_f8R7XIt3Ai",
        "outputId": "f74f69a7-a9d4-444f-92f6-2060fcf9b09b"
      },
      "source": [
        "y == X + 10"
      ],
      "execution_count": 49,
      "outputs": [
        {
          "output_type": "execute_result",
          "data": {
            "text/plain": [
              "array([ True,  True,  True,  True,  True,  True,  True,  True])"
            ]
          },
          "metadata": {
            "tags": []
          },
          "execution_count": 49
        }
      ]
    },
    {
      "cell_type": "markdown",
      "metadata": {
        "id": "DtPRawymuKw0"
      },
      "source": [
        "## Input and out put shape"
      ]
    },
    {
      "cell_type": "code",
      "metadata": {
        "colab": {
          "base_uri": "https://localhost:8080/"
        },
        "id": "di7gc9BpuKJq",
        "outputId": "5728d9c6-d824-4488-a50a-483649b8c0ba"
      },
      "source": [
        "# Create a demo tensor for our housing preice predictions problem\n",
        "house_info = tf.constant([\"bedroom\", \"bathroom\", \"gargage\"])\n",
        "house_price = tf.constant([939700])\n",
        "house_info, house_price"
      ],
      "execution_count": 50,
      "outputs": [
        {
          "output_type": "execute_result",
          "data": {
            "text/plain": [
              "(<tf.Tensor: shape=(3,), dtype=string, numpy=array([b'bedroom', b'bathroom', b'gargage'], dtype=object)>,\n",
              " <tf.Tensor: shape=(1,), dtype=int32, numpy=array([939700], dtype=int32)>)"
            ]
          },
          "metadata": {
            "tags": []
          },
          "execution_count": 50
        }
      ]
    },
    {
      "cell_type": "code",
      "metadata": {
        "colab": {
          "base_uri": "https://localhost:8080/"
        },
        "id": "-PbdVLNivJ5g",
        "outputId": "7f0b500a-953f-4f2a-b4ed-0a2a4b76ce2e"
      },
      "source": [
        "X[0], y[0]"
      ],
      "execution_count": 51,
      "outputs": [
        {
          "output_type": "execute_result",
          "data": {
            "text/plain": [
              "(-7.0, 3.0)"
            ]
          },
          "metadata": {
            "tags": []
          },
          "execution_count": 51
        }
      ]
    },
    {
      "cell_type": "code",
      "metadata": {
        "colab": {
          "base_uri": "https://localhost:8080/"
        },
        "id": "G2AYIc_rvK8Q",
        "outputId": "291f8a96-4d30-433c-bab1-55f99919e0f7"
      },
      "source": [
        "X[1], y[1]"
      ],
      "execution_count": 52,
      "outputs": [
        {
          "output_type": "execute_result",
          "data": {
            "text/plain": [
              "(-4.0, 6.0)"
            ]
          },
          "metadata": {
            "tags": []
          },
          "execution_count": 52
        }
      ]
    },
    {
      "cell_type": "code",
      "metadata": {
        "colab": {
          "base_uri": "https://localhost:8080/"
        },
        "id": "lb6TAwHku4BT",
        "outputId": "1b9c1872-d7e2-46d2-8fbf-6364b51696b8"
      },
      "source": [
        "input_shape = X[0].shape\n",
        "output_shape = y[0].shape\n",
        "input_shape, output_shape"
      ],
      "execution_count": 53,
      "outputs": [
        {
          "output_type": "execute_result",
          "data": {
            "text/plain": [
              "((), ())"
            ]
          },
          "metadata": {
            "tags": []
          },
          "execution_count": 53
        }
      ]
    },
    {
      "cell_type": "code",
      "metadata": {
        "colab": {
          "base_uri": "https://localhost:8080/"
        },
        "id": "oc9fUcxPvc0C",
        "outputId": "9aa43d42-ee23-43cb-f352-33371933e957"
      },
      "source": [
        "X[0].ndim"
      ],
      "execution_count": 54,
      "outputs": [
        {
          "output_type": "execute_result",
          "data": {
            "text/plain": [
              "0"
            ]
          },
          "metadata": {
            "tags": []
          },
          "execution_count": 54
        }
      ]
    },
    {
      "cell_type": "code",
      "metadata": {
        "colab": {
          "base_uri": "https://localhost:8080/"
        },
        "id": "3_pN5SKpvfXU",
        "outputId": "6e52f87a-1c51-45d8-8deb-4d8a77c3de77"
      },
      "source": [
        "X[0], y[0]"
      ],
      "execution_count": 55,
      "outputs": [
        {
          "output_type": "execute_result",
          "data": {
            "text/plain": [
              "(-7.0, 3.0)"
            ]
          },
          "metadata": {
            "tags": []
          },
          "execution_count": 55
        }
      ]
    },
    {
      "cell_type": "code",
      "metadata": {
        "colab": {
          "base_uri": "https://localhost:8080/"
        },
        "id": "puMF0W8pKqnl",
        "outputId": "8767d55d-008d-4347-ca04-53351446eac1"
      },
      "source": [
        "# Turn our NumPy arrays into tensors with dtype float32\n",
        "X = tf.cast(tf.constant(X), dtype=tf.float32)\n",
        "y = tf.cast(tf.constant(y), dtype=tf.float32)\n",
        "X, y"
      ],
      "execution_count": 56,
      "outputs": [
        {
          "output_type": "execute_result",
          "data": {
            "text/plain": [
              "(<tf.Tensor: shape=(8,), dtype=float32, numpy=array([-7., -4., -1.,  2.,  5.,  8., 11., 14.], dtype=float32)>,\n",
              " <tf.Tensor: shape=(8,), dtype=float32, numpy=array([ 3.,  6.,  9., 12., 15., 18., 21., 24.], dtype=float32)>)"
            ]
          },
          "metadata": {
            "tags": []
          },
          "execution_count": 56
        }
      ]
    },
    {
      "cell_type": "code",
      "metadata": {
        "colab": {
          "base_uri": "https://localhost:8080/"
        },
        "id": "aIG5neTeK6IQ",
        "outputId": "e72ac363-16bc-47b1-d7ab-83593100ed2f"
      },
      "source": [
        "input_shape = X[0].shape\n",
        "output_shape = y[0].shape\n",
        "input_shape, output_shape"
      ],
      "execution_count": 57,
      "outputs": [
        {
          "output_type": "execute_result",
          "data": {
            "text/plain": [
              "(TensorShape([]), TensorShape([]))"
            ]
          },
          "metadata": {
            "tags": []
          },
          "execution_count": 57
        }
      ]
    },
    {
      "cell_type": "code",
      "metadata": {
        "colab": {
          "base_uri": "https://localhost:8080/",
          "height": 287
        },
        "id": "hWjb6WdoLE6h",
        "outputId": "719484a1-cd8b-451c-e2a3-406130354132"
      },
      "source": [
        "plt.scatter(X, y)"
      ],
      "execution_count": 58,
      "outputs": [
        {
          "output_type": "execute_result",
          "data": {
            "text/plain": [
              "<matplotlib.collections.PathCollection at 0x7fa513781650>"
            ]
          },
          "metadata": {
            "tags": []
          },
          "execution_count": 58
        },
        {
          "output_type": "display_data",
          "data": {
            "image/png": "[encoded data removed]",
            "text/plain": [
              "<Figure size 432x288 with 1 Axes>"
            ]
          },
          "metadata": {
            "tags": [],
            "needs_background": "light"
          }
        }
      ]
    },
    {
      "cell_type": "markdown",
      "metadata": {
        "id": "UEmWz2BfLKD-"
      },
      "source": [
        "## Steps in modelling with TensorFlow\n",
        "\n",
        "---\n",
        "1. **Creating a model** - define the input and ouput layers, as well as the hidden layers of a deep learning model.\n",
        "2. **Compliling a model** - define the loss function ( in other words, the function which tells our model how wrong it is) and the optimizer(tells our model how to improve the patterns its learning) and evaluation metrics (what we can use to interpret the performance of our model).\n",
        "3. Fitting a model - letting the model try to find patterns between X & y (features and labels)\n"
      ]
    },
    {
      "cell_type": "code",
      "metadata": {
        "colab": {
          "base_uri": "https://localhost:8080/"
        },
        "id": "wXfcHsp8LMXw",
        "outputId": "b6b42c75-d71b-40df-bc25-cc352825a082"
      },
      "source": [
        "# Set random seed\n",
        "tf.random.set_seed(59)\n",
        "\n",
        "# 1. Create a model using the Sequential API\n",
        "model = tf.keras.Sequential([\n",
        "    tf.keras.layers.Dense(1)\n",
        "])\n",
        "\n",
        "# 2. Compile the model\n",
        "model.compile(loss=tf.keras.losses.MAE,     # mae is short for mean absolute error\n",
        "              optimizer=tf.keras.optimizers.SGD(), # sgd is short for stochastic gradient descent\n",
        "              metrics=[\"mae\"])\n",
        "\n",
        "# 3. Fit the model\n",
        "model.fit(X, y, epochs = 5)"
      ],
      "execution_count": 59,
      "outputs": [
        {
          "output_type": "stream",
          "text": [
            "Epoch 1/5\n",
            "1/1 [==============================] - 0s 220ms/step - loss: 13.2553 - mae: 13.2553\n",
            "Epoch 2/5\n",
            "1/1 [==============================] - 0s 6ms/step - loss: 13.1228 - mae: 13.1228\n",
            "Epoch 3/5\n",
            "1/1 [==============================] - 0s 5ms/step - loss: 12.9903 - mae: 12.9903\n",
            "Epoch 4/5\n",
            "1/1 [==============================] - 0s 3ms/step - loss: 12.8578 - mae: 12.8578\n",
            "Epoch 5/5\n",
            "1/1 [==============================] - 0s 4ms/step - loss: 12.7253 - mae: 12.7253\n"
          ],
          "name": "stdout"
        },
        {
          "output_type": "execute_result",
          "data": {
            "text/plain": [
              "<tensorflow.python.keras.callbacks.History at 0x7fa524061150>"
            ]
          },
          "metadata": {
            "tags": []
          },
          "execution_count": 59
        }
      ]
    },
    {
      "cell_type": "code",
      "metadata": {
        "colab": {
          "base_uri": "https://localhost:8080/"
        },
        "id": "Q4XE-K76PUKV",
        "outputId": "31d23e3d-5461-44ea-de15-56ad38457eef"
      },
      "source": [
        "# Check out X and y\n",
        "X, y"
      ],
      "execution_count": 60,
      "outputs": [
        {
          "output_type": "execute_result",
          "data": {
            "text/plain": [
              "(<tf.Tensor: shape=(8,), dtype=float32, numpy=array([-7., -4., -1.,  2.,  5.,  8., 11., 14.], dtype=float32)>,\n",
              " <tf.Tensor: shape=(8,), dtype=float32, numpy=array([ 3.,  6.,  9., 12., 15., 18., 21., 24.], dtype=float32)>)"
            ]
          },
          "metadata": {
            "tags": []
          },
          "execution_count": 60
        }
      ]
    },
    {
      "cell_type": "code",
      "metadata": {
        "colab": {
          "base_uri": "https://localhost:8080/"
        },
        "id": "DTXGNq2QPbBg",
        "outputId": "21995f4c-95d6-47c4-8f87-064a5b5cc73b"
      },
      "source": [
        "# Try and make a prediction using our model\n",
        "y_pred = model.predict([17.0])"
      ],
      "execution_count": 61,
      "outputs": [
        {
          "output_type": "stream",
          "text": [
            "WARNING:tensorflow:5 out of the last 10 calls to <function Model.make_predict_function.<locals>.predict_function at 0x7fa524014680> triggered tf.function retracing. Tracing is expensive and the excessive number of tracings could be due to (1) creating @tf.function repeatedly in a loop, (2) passing tensors with different shapes, (3) passing Python objects instead of tensors. For (1), please define your @tf.function outside of the loop. For (2), @tf.function has experimental_relax_shapes=True option that relaxes argument shapes that can avoid unnecessary retracing. For (3), please refer to https://www.tensorflow.org/guide/function#controlling_retracing and https://www.tensorflow.org/api_docs/python/tf/function for  more details.\n"
          ],
          "name": "stdout"
        }
      ]
    },
    {
      "cell_type": "code",
      "metadata": {
        "colab": {
          "base_uri": "https://localhost:8080/"
        },
        "id": "-tn375coP03V",
        "outputId": "d4c09fbc-42c9-4ff7-ed15-b4bd145ec393"
      },
      "source": [
        "y_pred + 11"
      ],
      "execution_count": 62,
      "outputs": [
        {
          "output_type": "execute_result",
          "data": {
            "text/plain": [
              "array([[15.2136755]], dtype=float32)"
            ]
          },
          "metadata": {
            "tags": []
          },
          "execution_count": 62
        }
      ]
    },
    {
      "cell_type": "markdown",
      "metadata": {
        "id": "feqMleh-P5z6"
      },
      "source": [
        "## Improving our model\n",
        "\n",
        "We can imporve our model, by altering the steps we took to create a model.\n",
        "\n",
        "1. **Creating a model** - Here we might add more layers, increase the number of hidden units (all called neurons) withnin each of the hidden layers, change the activation function of each layer.\n",
        "2. **Compiling a model** - Here we might change the optimization function or perhaps the **learning rate** of the optimization function.\n",
        "3. **Fitting a model** - Here we might fit a model for more  **epochs** (leave it training for longer) or on more data (give the model more examples to learn from. \n"
      ]
    },
    {
      "cell_type": "code",
      "metadata": {
        "colab": {
          "base_uri": "https://localhost:8080/"
        },
        "id": "Jl1MoLsKP7XV",
        "outputId": "414e2bb6-c1e3-48d6-ffd1-409b3e56b894"
      },
      "source": [
        "# Let's rebuild our model\n",
        "\n",
        "# 1. Create the model\n",
        "model = tf.keras.Sequential([\n",
        "  tf.keras.layers.Dense(1)\n",
        "])\n",
        "\n",
        "# 2. Compile the model\n",
        "model.compile(loss=tf.keras.losses.MAE,\n",
        "              optimizer=tf.keras.optimizers.SGD(),\n",
        "              metrics=[\"mae\"])\n",
        "\n",
        "# 3. Fit the model (this time we'll train for longer)\n",
        "model.fit(X, y, epochs=100)"
      ],
      "execution_count": 63,
      "outputs": [
        {
          "output_type": "stream",
          "text": [
            "Epoch 1/100\n",
            "1/1 [==============================] - 0s 209ms/step - loss: 10.3864 - mae: 10.3864\n",
            "Epoch 2/100\n",
            "1/1 [==============================] - 0s 6ms/step - loss: 10.2539 - mae: 10.2539\n",
            "Epoch 3/100\n",
            "1/1 [==============================] - 0s 4ms/step - loss: 10.1214 - mae: 10.1214\n",
            "Epoch 4/100\n",
            "1/1 [==============================] - 0s 3ms/step - loss: 9.9889 - mae: 9.9889\n",
            "Epoch 5/100\n",
            "1/1 [==============================] - 0s 5ms/step - loss: 9.8564 - mae: 9.8564\n",
            "Epoch 6/100\n",
            "1/1 [==============================] - 0s 4ms/step - loss: 9.7239 - mae: 9.7239\n",
            "Epoch 7/100\n",
            "1/1 [==============================] - 0s 4ms/step - loss: 9.5914 - mae: 9.5914\n",
            "Epoch 8/100\n",
            "1/1 [==============================] - 0s 3ms/step - loss: 9.4589 - mae: 9.4589\n",
            "Epoch 9/100\n",
            "1/1 [==============================] - 0s 4ms/step - loss: 9.3264 - mae: 9.3264\n",
            "Epoch 10/100\n",
            "1/1 [==============================] - 0s 6ms/step - loss: 9.1939 - mae: 9.1939\n",
            "Epoch 11/100\n",
            "1/1 [==============================] - 0s 4ms/step - loss: 9.0614 - mae: 9.0614\n",
            "Epoch 12/100\n",
            "1/1 [==============================] - 0s 4ms/step - loss: 8.9289 - mae: 8.9289\n",
            "Epoch 13/100\n",
            "1/1 [==============================] - 0s 4ms/step - loss: 8.7964 - mae: 8.7964\n",
            "Epoch 14/100\n",
            "1/1 [==============================] - 0s 4ms/step - loss: 8.6639 - mae: 8.6639\n",
            "Epoch 15/100\n",
            "1/1 [==============================] - 0s 4ms/step - loss: 8.5314 - mae: 8.5314\n",
            "Epoch 16/100\n",
            "1/1 [==============================] - 0s 4ms/step - loss: 8.3989 - mae: 8.3989\n",
            "Epoch 17/100\n",
            "1/1 [==============================] - 0s 4ms/step - loss: 8.2664 - mae: 8.2664\n",
            "Epoch 18/100\n",
            "1/1 [==============================] - 0s 3ms/step - loss: 8.1339 - mae: 8.1339\n",
            "Epoch 19/100\n",
            "1/1 [==============================] - 0s 4ms/step - loss: 8.0014 - mae: 8.0014\n",
            "Epoch 20/100\n",
            "1/1 [==============================] - 0s 4ms/step - loss: 7.8689 - mae: 7.8689\n",
            "Epoch 21/100\n",
            "1/1 [==============================] - 0s 5ms/step - loss: 7.7364 - mae: 7.7364\n",
            "Epoch 22/100\n",
            "1/1 [==============================] - 0s 5ms/step - loss: 7.6039 - mae: 7.6039\n",
            "Epoch 23/100\n",
            "1/1 [==============================] - 0s 9ms/step - loss: 7.4714 - mae: 7.4714\n",
            "Epoch 24/100\n",
            "1/1 [==============================] - 0s 8ms/step - loss: 7.3389 - mae: 7.3389\n",
            "Epoch 25/100\n",
            "1/1 [==============================] - 0s 8ms/step - loss: 7.3200 - mae: 7.3200\n",
            "Epoch 26/100\n",
            "1/1 [==============================] - 0s 5ms/step - loss: 7.3144 - mae: 7.3144\n",
            "Epoch 27/100\n",
            "1/1 [==============================] - 0s 5ms/step - loss: 7.3087 - mae: 7.3087\n",
            "Epoch 28/100\n",
            "1/1 [==============================] - 0s 4ms/step - loss: 7.3031 - mae: 7.3031\n",
            "Epoch 29/100\n",
            "1/1 [==============================] - 0s 4ms/step - loss: 7.2975 - mae: 7.2975\n",
            "Epoch 30/100\n",
            "1/1 [==============================] - 0s 4ms/step - loss: 7.2919 - mae: 7.2919\n",
            "Epoch 31/100\n",
            "1/1 [==============================] - 0s 3ms/step - loss: 7.2863 - mae: 7.2863\n",
            "Epoch 32/100\n",
            "1/1 [==============================] - 0s 4ms/step - loss: 7.2806 - mae: 7.2806\n",
            "Epoch 33/100\n",
            "1/1 [==============================] - 0s 4ms/step - loss: 7.2750 - mae: 7.2750\n",
            "Epoch 34/100\n",
            "1/1 [==============================] - 0s 4ms/step - loss: 7.2694 - mae: 7.2694\n",
            "Epoch 35/100\n",
            "1/1 [==============================] - 0s 11ms/step - loss: 7.2638 - mae: 7.2638\n",
            "Epoch 36/100\n",
            "1/1 [==============================] - 0s 7ms/step - loss: 7.2581 - mae: 7.2581\n",
            "Epoch 37/100\n",
            "1/1 [==============================] - 0s 5ms/step - loss: 7.2525 - mae: 7.2525\n",
            "Epoch 38/100\n",
            "1/1 [==============================] - 0s 4ms/step - loss: 7.2469 - mae: 7.2469\n",
            "Epoch 39/100\n",
            "1/1 [==============================] - 0s 5ms/step - loss: 7.2413 - mae: 7.2413\n",
            "Epoch 40/100\n",
            "1/1 [==============================] - 0s 6ms/step - loss: 7.2356 - mae: 7.2356\n",
            "Epoch 41/100\n",
            "1/1 [==============================] - 0s 7ms/step - loss: 7.2300 - mae: 7.2300\n",
            "Epoch 42/100\n",
            "1/1 [==============================] - 0s 4ms/step - loss: 7.2244 - mae: 7.2244\n",
            "Epoch 43/100\n",
            "1/1 [==============================] - 0s 4ms/step - loss: 7.2188 - mae: 7.2188\n",
            "Epoch 44/100\n",
            "1/1 [==============================] - 0s 6ms/step - loss: 7.2131 - mae: 7.2131\n",
            "Epoch 45/100\n",
            "1/1 [==============================] - 0s 6ms/step - loss: 7.2075 - mae: 7.2075\n",
            "Epoch 46/100\n",
            "1/1 [==============================] - 0s 7ms/step - loss: 7.2019 - mae: 7.2019\n",
            "Epoch 47/100\n",
            "1/1 [==============================] - 0s 7ms/step - loss: 7.1962 - mae: 7.1962\n",
            "Epoch 48/100\n",
            "1/1 [==============================] - 0s 7ms/step - loss: 7.1906 - mae: 7.1906\n",
            "Epoch 49/100\n",
            "1/1 [==============================] - 0s 4ms/step - loss: 7.1850 - mae: 7.1850\n",
            "Epoch 50/100\n",
            "1/1 [==============================] - 0s 4ms/step - loss: 7.1794 - mae: 7.1794\n",
            "Epoch 51/100\n",
            "1/1 [==============================] - 0s 5ms/step - loss: 7.1738 - mae: 7.1738\n",
            "Epoch 52/100\n",
            "1/1 [==============================] - 0s 4ms/step - loss: 7.1681 - mae: 7.1681\n",
            "Epoch 53/100\n",
            "1/1 [==============================] - 0s 4ms/step - loss: 7.1625 - mae: 7.1625\n",
            "Epoch 54/100\n",
            "1/1 [==============================] - 0s 11ms/step - loss: 7.1569 - mae: 7.1569\n",
            "Epoch 55/100\n",
            "1/1 [==============================] - 0s 9ms/step - loss: 7.1512 - mae: 7.1512\n",
            "Epoch 56/100\n",
            "1/1 [==============================] - 0s 4ms/step - loss: 7.1456 - mae: 7.1456\n",
            "Epoch 57/100\n",
            "1/1 [==============================] - 0s 4ms/step - loss: 7.1400 - mae: 7.1400\n",
            "Epoch 58/100\n",
            "1/1 [==============================] - 0s 4ms/step - loss: 7.1344 - mae: 7.1344\n",
            "Epoch 59/100\n",
            "1/1 [==============================] - 0s 4ms/step - loss: 7.1287 - mae: 7.1287\n",
            "Epoch 60/100\n",
            "1/1 [==============================] - 0s 7ms/step - loss: 7.1231 - mae: 7.1231\n",
            "Epoch 61/100\n",
            "1/1 [==============================] - 0s 3ms/step - loss: 7.1175 - mae: 7.1175\n",
            "Epoch 62/100\n",
            "1/1 [==============================] - 0s 4ms/step - loss: 7.1119 - mae: 7.1119\n",
            "Epoch 63/100\n",
            "1/1 [==============================] - 0s 4ms/step - loss: 7.1063 - mae: 7.1063\n",
            "Epoch 64/100\n",
            "1/1 [==============================] - 0s 3ms/step - loss: 7.1006 - mae: 7.1006\n",
            "Epoch 65/100\n",
            "1/1 [==============================] - 0s 5ms/step - loss: 7.0950 - mae: 7.0950\n",
            "Epoch 66/100\n",
            "1/1 [==============================] - 0s 5ms/step - loss: 7.0894 - mae: 7.0894\n",
            "Epoch 67/100\n",
            "1/1 [==============================] - 0s 4ms/step - loss: 7.0838 - mae: 7.0838\n",
            "Epoch 68/100\n",
            "1/1 [==============================] - 0s 5ms/step - loss: 7.0781 - mae: 7.0781\n",
            "Epoch 69/100\n",
            "1/1 [==============================] - 0s 10ms/step - loss: 7.0725 - mae: 7.0725\n",
            "Epoch 70/100\n",
            "1/1 [==============================] - 0s 4ms/step - loss: 7.0669 - mae: 7.0669\n",
            "Epoch 71/100\n",
            "1/1 [==============================] - 0s 5ms/step - loss: 7.0612 - mae: 7.0612\n",
            "Epoch 72/100\n",
            "1/1 [==============================] - 0s 6ms/step - loss: 7.0556 - mae: 7.0556\n",
            "Epoch 73/100\n",
            "1/1 [==============================] - 0s 5ms/step - loss: 7.0500 - mae: 7.0500\n",
            "Epoch 74/100\n",
            "1/1 [==============================] - 0s 5ms/step - loss: 7.0444 - mae: 7.0444\n",
            "Epoch 75/100\n",
            "1/1 [==============================] - 0s 6ms/step - loss: 7.0388 - mae: 7.0388\n",
            "Epoch 76/100\n",
            "1/1 [==============================] - 0s 7ms/step - loss: 7.0331 - mae: 7.0331\n",
            "Epoch 77/100\n",
            "1/1 [==============================] - 0s 5ms/step - loss: 7.0275 - mae: 7.0275\n",
            "Epoch 78/100\n",
            "1/1 [==============================] - 0s 7ms/step - loss: 7.0219 - mae: 7.0219\n",
            "Epoch 79/100\n",
            "1/1 [==============================] - 0s 18ms/step - loss: 7.0163 - mae: 7.0163\n",
            "Epoch 80/100\n",
            "1/1 [==============================] - 0s 5ms/step - loss: 7.0106 - mae: 7.0106\n",
            "Epoch 81/100\n",
            "1/1 [==============================] - 0s 4ms/step - loss: 7.0050 - mae: 7.0050\n",
            "Epoch 82/100\n",
            "1/1 [==============================] - 0s 4ms/step - loss: 6.9994 - mae: 6.9994\n",
            "Epoch 83/100\n",
            "1/1 [==============================] - 0s 4ms/step - loss: 6.9938 - mae: 6.9938\n",
            "Epoch 84/100\n",
            "1/1 [==============================] - 0s 4ms/step - loss: 6.9881 - mae: 6.9881\n",
            "Epoch 85/100\n",
            "1/1 [==============================] - 0s 4ms/step - loss: 6.9825 - mae: 6.9825\n",
            "Epoch 86/100\n",
            "1/1 [==============================] - 0s 4ms/step - loss: 6.9769 - mae: 6.9769\n",
            "Epoch 87/100\n",
            "1/1 [==============================] - 0s 4ms/step - loss: 6.9713 - mae: 6.9713\n",
            "Epoch 88/100\n",
            "1/1 [==============================] - 0s 4ms/step - loss: 6.9656 - mae: 6.9656\n",
            "Epoch 89/100\n",
            "1/1 [==============================] - 0s 8ms/step - loss: 6.9600 - mae: 6.9600\n",
            "Epoch 90/100\n",
            "1/1 [==============================] - 0s 4ms/step - loss: 6.9544 - mae: 6.9544\n",
            "Epoch 91/100\n",
            "1/1 [==============================] - 0s 6ms/step - loss: 6.9488 - mae: 6.9488\n",
            "Epoch 92/100\n",
            "1/1 [==============================] - 0s 4ms/step - loss: 6.9431 - mae: 6.9431\n",
            "Epoch 93/100\n",
            "1/1 [==============================] - 0s 4ms/step - loss: 6.9375 - mae: 6.9375\n",
            "Epoch 94/100\n",
            "1/1 [==============================] - 0s 4ms/step - loss: 6.9319 - mae: 6.9319\n",
            "Epoch 95/100\n",
            "1/1 [==============================] - 0s 4ms/step - loss: 6.9263 - mae: 6.9263\n",
            "Epoch 96/100\n",
            "1/1 [==============================] - 0s 4ms/step - loss: 6.9206 - mae: 6.9206\n",
            "Epoch 97/100\n",
            "1/1 [==============================] - 0s 4ms/step - loss: 6.9150 - mae: 6.9150\n",
            "Epoch 98/100\n",
            "1/1 [==============================] - 0s 6ms/step - loss: 6.9094 - mae: 6.9094\n",
            "Epoch 99/100\n",
            "1/1 [==============================] - 0s 9ms/step - loss: 6.9038 - mae: 6.9038\n",
            "Epoch 100/100\n",
            "1/1 [==============================] - 0s 4ms/step - loss: 6.8981 - mae: 6.8981\n"
          ],
          "name": "stdout"
        },
        {
          "output_type": "execute_result",
          "data": {
            "text/plain": [
              "<tensorflow.python.keras.callbacks.History at 0x7fa51377da50>"
            ]
          },
          "metadata": {
            "tags": []
          },
          "execution_count": 63
        }
      ]
    },
    {
      "cell_type": "code",
      "metadata": {
        "colab": {
          "base_uri": "https://localhost:8080/"
        },
        "id": "2a0y8_3pTh5q",
        "outputId": "c6fe3379-b6c8-42dc-ea9f-24c9b499d559"
      },
      "source": [
        "# Remind ourselves of the data\n",
        "X, y"
      ],
      "execution_count": 64,
      "outputs": [
        {
          "output_type": "execute_result",
          "data": {
            "text/plain": [
              "(<tf.Tensor: shape=(8,), dtype=float32, numpy=array([-7., -4., -1.,  2.,  5.,  8., 11., 14.], dtype=float32)>,\n",
              " <tf.Tensor: shape=(8,), dtype=float32, numpy=array([ 3.,  6.,  9., 12., 15., 18., 21., 24.], dtype=float32)>)"
            ]
          },
          "metadata": {
            "tags": []
          },
          "execution_count": 64
        }
      ]
    },
    {
      "cell_type": "code",
      "metadata": {
        "colab": {
          "base_uri": "https://localhost:8080/"
        },
        "id": "-JqjNtLzUM1V",
        "outputId": "71a91901-020a-4e18-a294-b90cf44ae94a"
      },
      "source": [
        "# Let's see of our model's prediction has improved....\n",
        "model.predict([17.])"
      ],
      "execution_count": 65,
      "outputs": [
        {
          "output_type": "stream",
          "text": [
            "WARNING:tensorflow:6 out of the last 11 calls to <function Model.make_predict_function.<locals>.predict_function at 0x7fa523f4a950> triggered tf.function retracing. Tracing is expensive and the excessive number of tracings could be due to (1) creating @tf.function repeatedly in a loop, (2) passing tensors with different shapes, (3) passing Python objects instead of tensors. For (1), please define your @tf.function outside of the loop. For (2), @tf.function has experimental_relax_shapes=True option that relaxes argument shapes that can avoid unnecessary retracing. For (3), please refer to https://www.tensorflow.org/guide/function#controlling_retracing and https://www.tensorflow.org/api_docs/python/tf/function for  more details.\n"
          ],
          "name": "stdout"
        },
        {
          "output_type": "execute_result",
          "data": {
            "text/plain": [
              "array([[30.21327]], dtype=float32)"
            ]
          },
          "metadata": {
            "tags": []
          },
          "execution_count": 65
        }
      ]
    },
    {
      "cell_type": "code",
      "metadata": {
        "colab": {
          "base_uri": "https://localhost:8080/"
        },
        "id": "pYzh8I5aUtrs",
        "outputId": "0d26ab65-202f-4931-d889-1082bac487cf"
      },
      "source": [
        "# Let's change optimizer to Adam\n",
        "\n",
        "# 1. Create the model\n",
        "model = tf.keras.Sequential([\n",
        "  tf.keras.layers.Dense(1)\n",
        "])\n",
        "\n",
        "# 2. Compile the model (this time we change the optimizer to Adam. We also add learning rate into it)\n",
        "model.compile(loss=tf.keras.losses.MAE,\n",
        "              optimizer=tf.keras.optimizers.Adam(learning_rate=0.0001),\n",
        "              metrics=[\"mae\"])\n",
        "\n",
        "# 3. Fit the model\n",
        "model.fit(X, y, epochs=100)"
      ],
      "execution_count": 66,
      "outputs": [
        {
          "output_type": "stream",
          "text": [
            "Epoch 1/100\n",
            "1/1 [==============================] - 0s 264ms/step - loss: 8.4911 - mae: 8.4911\n",
            "Epoch 2/100\n",
            "1/1 [==============================] - 0s 5ms/step - loss: 8.4907 - mae: 8.4907\n",
            "Epoch 3/100\n",
            "1/1 [==============================] - 0s 4ms/step - loss: 8.4902 - mae: 8.4902\n",
            "Epoch 4/100\n",
            "1/1 [==============================] - 0s 4ms/step - loss: 8.4898 - mae: 8.4898\n",
            "Epoch 5/100\n",
            "1/1 [==============================] - 0s 5ms/step - loss: 8.4893 - mae: 8.4893\n",
            "Epoch 6/100\n",
            "1/1 [==============================] - 0s 5ms/step - loss: 8.4889 - mae: 8.4889\n",
            "Epoch 7/100\n",
            "1/1 [==============================] - 0s 5ms/step - loss: 8.4884 - mae: 8.4884\n",
            "Epoch 8/100\n",
            "1/1 [==============================] - 0s 5ms/step - loss: 8.4880 - mae: 8.4880\n",
            "Epoch 9/100\n",
            "1/1 [==============================] - 0s 6ms/step - loss: 8.4875 - mae: 8.4875\n",
            "Epoch 10/100\n",
            "1/1 [==============================] - 0s 4ms/step - loss: 8.4871 - mae: 8.4871\n",
            "Epoch 11/100\n",
            "1/1 [==============================] - 0s 6ms/step - loss: 8.4866 - mae: 8.4866\n",
            "Epoch 12/100\n",
            "1/1 [==============================] - 0s 4ms/step - loss: 8.4862 - mae: 8.4862\n",
            "Epoch 13/100\n",
            "1/1 [==============================] - 0s 9ms/step - loss: 8.4857 - mae: 8.4857\n",
            "Epoch 14/100\n",
            "1/1 [==============================] - 0s 3ms/step - loss: 8.4853 - mae: 8.4853\n",
            "Epoch 15/100\n",
            "1/1 [==============================] - 0s 4ms/step - loss: 8.4848 - mae: 8.4848\n",
            "Epoch 16/100\n",
            "1/1 [==============================] - 0s 3ms/step - loss: 8.4844 - mae: 8.4844\n",
            "Epoch 17/100\n",
            "1/1 [==============================] - 0s 5ms/step - loss: 8.4839 - mae: 8.4839\n",
            "Epoch 18/100\n",
            "1/1 [==============================] - 0s 5ms/step - loss: 8.4835 - mae: 8.4835\n",
            "Epoch 19/100\n",
            "1/1 [==============================] - 0s 3ms/step - loss: 8.4830 - mae: 8.4830\n",
            "Epoch 20/100\n",
            "1/1 [==============================] - 0s 6ms/step - loss: 8.4826 - mae: 8.4826\n",
            "Epoch 21/100\n",
            "1/1 [==============================] - 0s 4ms/step - loss: 8.4821 - mae: 8.4821\n",
            "Epoch 22/100\n",
            "1/1 [==============================] - 0s 5ms/step - loss: 8.4817 - mae: 8.4817\n",
            "Epoch 23/100\n",
            "1/1 [==============================] - 0s 6ms/step - loss: 8.4812 - mae: 8.4812\n",
            "Epoch 24/100\n",
            "1/1 [==============================] - 0s 4ms/step - loss: 8.4808 - mae: 8.4808\n",
            "Epoch 25/100\n",
            "1/1 [==============================] - 0s 4ms/step - loss: 8.4803 - mae: 8.4803\n",
            "Epoch 26/100\n",
            "1/1 [==============================] - 0s 4ms/step - loss: 8.4799 - mae: 8.4799\n",
            "Epoch 27/100\n",
            "1/1 [==============================] - 0s 4ms/step - loss: 8.4794 - mae: 8.4794\n",
            "Epoch 28/100\n",
            "1/1 [==============================] - 0s 4ms/step - loss: 8.4790 - mae: 8.4790\n",
            "Epoch 29/100\n",
            "1/1 [==============================] - 0s 4ms/step - loss: 8.4785 - mae: 8.4785\n",
            "Epoch 30/100\n",
            "1/1 [==============================] - 0s 4ms/step - loss: 8.4781 - mae: 8.4781\n",
            "Epoch 31/100\n",
            "1/1 [==============================] - 0s 4ms/step - loss: 8.4776 - mae: 8.4776\n",
            "Epoch 32/100\n",
            "1/1 [==============================] - 0s 14ms/step - loss: 8.4772 - mae: 8.4772\n",
            "Epoch 33/100\n",
            "1/1 [==============================] - 0s 4ms/step - loss: 8.4767 - mae: 8.4767\n",
            "Epoch 34/100\n",
            "1/1 [==============================] - 0s 4ms/step - loss: 8.4763 - mae: 8.4763\n",
            "Epoch 35/100\n",
            "1/1 [==============================] - 0s 5ms/step - loss: 8.4758 - mae: 8.4758\n",
            "Epoch 36/100\n",
            "1/1 [==============================] - 0s 5ms/step - loss: 8.4754 - mae: 8.4754\n",
            "Epoch 37/100\n",
            "1/1 [==============================] - 0s 5ms/step - loss: 8.4749 - mae: 8.4749\n",
            "Epoch 38/100\n",
            "1/1 [==============================] - 0s 7ms/step - loss: 8.4745 - mae: 8.4745\n",
            "Epoch 39/100\n",
            "1/1 [==============================] - 0s 4ms/step - loss: 8.4740 - mae: 8.4740\n",
            "Epoch 40/100\n",
            "1/1 [==============================] - 0s 5ms/step - loss: 8.4736 - mae: 8.4736\n",
            "Epoch 41/100\n",
            "1/1 [==============================] - 0s 4ms/step - loss: 8.4731 - mae: 8.4731\n",
            "Epoch 42/100\n",
            "1/1 [==============================] - 0s 5ms/step - loss: 8.4727 - mae: 8.4727\n",
            "Epoch 43/100\n",
            "1/1 [==============================] - 0s 4ms/step - loss: 8.4722 - mae: 8.4722\n",
            "Epoch 44/100\n",
            "1/1 [==============================] - 0s 7ms/step - loss: 8.4718 - mae: 8.4718\n",
            "Epoch 45/100\n",
            "1/1 [==============================] - 0s 4ms/step - loss: 8.4713 - mae: 8.4713\n",
            "Epoch 46/100\n",
            "1/1 [==============================] - 0s 5ms/step - loss: 8.4709 - mae: 8.4709\n",
            "Epoch 47/100\n",
            "1/1 [==============================] - 0s 6ms/step - loss: 8.4704 - mae: 8.4704\n",
            "Epoch 48/100\n",
            "1/1 [==============================] - 0s 5ms/step - loss: 8.4700 - mae: 8.4700\n",
            "Epoch 49/100\n",
            "1/1 [==============================] - 0s 4ms/step - loss: 8.4695 - mae: 8.4695\n",
            "Epoch 50/100\n",
            "1/1 [==============================] - 0s 5ms/step - loss: 8.4691 - mae: 8.4691\n",
            "Epoch 51/100\n",
            "1/1 [==============================] - 0s 6ms/step - loss: 8.4686 - mae: 8.4686\n",
            "Epoch 52/100\n",
            "1/1 [==============================] - 0s 5ms/step - loss: 8.4682 - mae: 8.4682\n",
            "Epoch 53/100\n",
            "1/1 [==============================] - 0s 7ms/step - loss: 8.4677 - mae: 8.4677\n",
            "Epoch 54/100\n",
            "1/1 [==============================] - 0s 6ms/step - loss: 8.4673 - mae: 8.4673\n",
            "Epoch 55/100\n",
            "1/1 [==============================] - 0s 7ms/step - loss: 8.4668 - mae: 8.4668\n",
            "Epoch 56/100\n",
            "1/1 [==============================] - 0s 5ms/step - loss: 8.4664 - mae: 8.4664\n",
            "Epoch 57/100\n",
            "1/1 [==============================] - 0s 5ms/step - loss: 8.4659 - mae: 8.4659\n",
            "Epoch 58/100\n",
            "1/1 [==============================] - 0s 6ms/step - loss: 8.4655 - mae: 8.4655\n",
            "Epoch 59/100\n",
            "1/1 [==============================] - 0s 6ms/step - loss: 8.4650 - mae: 8.4650\n",
            "Epoch 60/100\n",
            "1/1 [==============================] - 0s 5ms/step - loss: 8.4646 - mae: 8.4646\n",
            "Epoch 61/100\n",
            "1/1 [==============================] - 0s 10ms/step - loss: 8.4641 - mae: 8.4641\n",
            "Epoch 62/100\n",
            "1/1 [==============================] - 0s 8ms/step - loss: 8.4637 - mae: 8.4637\n",
            "Epoch 63/100\n",
            "1/1 [==============================] - 0s 11ms/step - loss: 8.4632 - mae: 8.4632\n",
            "Epoch 64/100\n",
            "1/1 [==============================] - 0s 11ms/step - loss: 8.4628 - mae: 8.4628\n",
            "Epoch 65/100\n",
            "1/1 [==============================] - 0s 5ms/step - loss: 8.4623 - mae: 8.4623\n",
            "Epoch 66/100\n",
            "1/1 [==============================] - 0s 6ms/step - loss: 8.4619 - mae: 8.4619\n",
            "Epoch 67/100\n",
            "1/1 [==============================] - 0s 8ms/step - loss: 8.4614 - mae: 8.4614\n",
            "Epoch 68/100\n",
            "1/1 [==============================] - 0s 7ms/step - loss: 8.4610 - mae: 8.4610\n",
            "Epoch 69/100\n",
            "1/1 [==============================] - 0s 5ms/step - loss: 8.4605 - mae: 8.4605\n",
            "Epoch 70/100\n",
            "1/1 [==============================] - 0s 5ms/step - loss: 8.4601 - mae: 8.4601\n",
            "Epoch 71/100\n",
            "1/1 [==============================] - 0s 7ms/step - loss: 8.4596 - mae: 8.4596\n",
            "Epoch 72/100\n",
            "1/1 [==============================] - 0s 6ms/step - loss: 8.4592 - mae: 8.4592\n",
            "Epoch 73/100\n",
            "1/1 [==============================] - 0s 11ms/step - loss: 8.4587 - mae: 8.4587\n",
            "Epoch 74/100\n",
            "1/1 [==============================] - 0s 4ms/step - loss: 8.4583 - mae: 8.4583\n",
            "Epoch 75/100\n",
            "1/1 [==============================] - 0s 6ms/step - loss: 8.4578 - mae: 8.4578\n",
            "Epoch 76/100\n",
            "1/1 [==============================] - 0s 4ms/step - loss: 8.4574 - mae: 8.4574\n",
            "Epoch 77/100\n",
            "1/1 [==============================] - 0s 4ms/step - loss: 8.4569 - mae: 8.4569\n",
            "Epoch 78/100\n",
            "1/1 [==============================] - 0s 7ms/step - loss: 8.4565 - mae: 8.4565\n",
            "Epoch 79/100\n",
            "1/1 [==============================] - 0s 6ms/step - loss: 8.4560 - mae: 8.4560\n",
            "Epoch 80/100\n",
            "1/1 [==============================] - 0s 6ms/step - loss: 8.4556 - mae: 8.4556\n",
            "Epoch 81/100\n",
            "1/1 [==============================] - 0s 10ms/step - loss: 8.4551 - mae: 8.4551\n",
            "Epoch 82/100\n",
            "1/1 [==============================] - 0s 5ms/step - loss: 8.4547 - mae: 8.4547\n",
            "Epoch 83/100\n",
            "1/1 [==============================] - 0s 6ms/step - loss: 8.4542 - mae: 8.4542\n",
            "Epoch 84/100\n",
            "1/1 [==============================] - 0s 6ms/step - loss: 8.4538 - mae: 8.4538\n",
            "Epoch 85/100\n",
            "1/1 [==============================] - 0s 7ms/step - loss: 8.4533 - mae: 8.4533\n",
            "Epoch 86/100\n",
            "1/1 [==============================] - 0s 8ms/step - loss: 8.4529 - mae: 8.4529\n",
            "Epoch 87/100\n",
            "1/1 [==============================] - 0s 5ms/step - loss: 8.4524 - mae: 8.4524\n",
            "Epoch 88/100\n",
            "1/1 [==============================] - 0s 5ms/step - loss: 8.4520 - mae: 8.4520\n",
            "Epoch 89/100\n",
            "1/1 [==============================] - 0s 4ms/step - loss: 8.4515 - mae: 8.4515\n",
            "Epoch 90/100\n",
            "1/1 [==============================] - 0s 8ms/step - loss: 8.4511 - mae: 8.4511\n",
            "Epoch 91/100\n",
            "1/1 [==============================] - 0s 7ms/step - loss: 8.4506 - mae: 8.4506\n",
            "Epoch 92/100\n",
            "1/1 [==============================] - 0s 6ms/step - loss: 8.4502 - mae: 8.4502\n",
            "Epoch 93/100\n",
            "1/1 [==============================] - 0s 5ms/step - loss: 8.4497 - mae: 8.4497\n",
            "Epoch 94/100\n",
            "1/1 [==============================] - 0s 7ms/step - loss: 8.4493 - mae: 8.4493\n",
            "Epoch 95/100\n",
            "1/1 [==============================] - 0s 3ms/step - loss: 8.4488 - mae: 8.4488\n",
            "Epoch 96/100\n",
            "1/1 [==============================] - 0s 4ms/step - loss: 8.4484 - mae: 8.4484\n",
            "Epoch 97/100\n",
            "1/1 [==============================] - 0s 5ms/step - loss: 8.4479 - mae: 8.4479\n",
            "Epoch 98/100\n",
            "1/1 [==============================] - 0s 7ms/step - loss: 8.4475 - mae: 8.4475\n",
            "Epoch 99/100\n",
            "1/1 [==============================] - 0s 6ms/step - loss: 8.4470 - mae: 8.4470\n",
            "Epoch 100/100\n",
            "1/1 [==============================] - 0s 4ms/step - loss: 8.4466 - mae: 8.4466\n"
          ],
          "name": "stdout"
        },
        {
          "output_type": "execute_result",
          "data": {
            "text/plain": [
              "<tensorflow.python.keras.callbacks.History at 0x7fa523ea2150>"
            ]
          },
          "metadata": {
            "tags": []
          },
          "execution_count": 66
        }
      ]
    },
    {
      "cell_type": "code",
      "metadata": {
        "colab": {
          "base_uri": "https://localhost:8080/"
        },
        "id": "twMQs3B5VpXw",
        "outputId": "fc2058f3-01d7-40a0-915c-04af5c83e6ed"
      },
      "source": [
        "model.predict([17.])"
      ],
      "execution_count": 67,
      "outputs": [
        {
          "output_type": "execute_result",
          "data": {
            "text/plain": [
              "array([[24.50885]], dtype=float32)"
            ]
          },
          "metadata": {
            "tags": []
          },
          "execution_count": 67
        }
      ]
    },
    {
      "cell_type": "code",
      "metadata": {
        "colab": {
          "base_uri": "https://localhost:8080/"
        },
        "id": "T_dO_ltCV29q",
        "outputId": "725aef7d-e3ff-405d-b5ab-c5dc90f01260"
      },
      "source": [
        "# Let's do it one more time. this time we will add more hidden layers\n",
        "\n",
        "# 1. Create the model (this time we add 3 more hidden layers)\n",
        "model = tf.keras.Sequential([\n",
        "  tf.keras.layers.Dense(100, activation=\"relu\"),\n",
        "  tf.keras.layers.Dense(100, activation=\"relu\"),\n",
        "  tf.keras.layers.Dense(100, activation=\"relu\"),\n",
        "  tf.keras.layers.Dense(1)\n",
        "])\n",
        "\n",
        "# 2. Compile the model\n",
        "model.compile(loss=tf.keras.losses.MAE,\n",
        "              optimizer=tf.keras.optimizers.Adam(learning_rate=0.001),\n",
        "              metrics=[\"mae\"])\n",
        "\n",
        "# 3. Fit the model\n",
        "model.fit(X, y, epochs=100)\n"
      ],
      "execution_count": 68,
      "outputs": [
        {
          "output_type": "stream",
          "text": [
            "Epoch 1/100\n",
            "1/1 [==============================] - 0s 327ms/step - loss: 12.4450 - mae: 12.4450\n",
            "Epoch 2/100\n",
            "1/1 [==============================] - 0s 5ms/step - loss: 12.1035 - mae: 12.1035\n",
            "Epoch 3/100\n",
            "1/1 [==============================] - 0s 3ms/step - loss: 11.7671 - mae: 11.7671\n",
            "Epoch 4/100\n",
            "1/1 [==============================] - 0s 4ms/step - loss: 11.4332 - mae: 11.4332\n",
            "Epoch 5/100\n",
            "1/1 [==============================] - 0s 5ms/step - loss: 11.0918 - mae: 11.0918\n",
            "Epoch 6/100\n",
            "1/1 [==============================] - 0s 6ms/step - loss: 10.7424 - mae: 10.7424\n",
            "Epoch 7/100\n",
            "1/1 [==============================] - 0s 6ms/step - loss: 10.4482 - mae: 10.4482\n",
            "Epoch 8/100\n",
            "1/1 [==============================] - 0s 6ms/step - loss: 10.1831 - mae: 10.1831\n",
            "Epoch 9/100\n",
            "1/1 [==============================] - 0s 6ms/step - loss: 9.9015 - mae: 9.9015\n",
            "Epoch 10/100\n",
            "1/1 [==============================] - 0s 5ms/step - loss: 9.6097 - mae: 9.6097\n",
            "Epoch 11/100\n",
            "1/1 [==============================] - 0s 4ms/step - loss: 9.2930 - mae: 9.2930\n",
            "Epoch 12/100\n",
            "1/1 [==============================] - 0s 4ms/step - loss: 8.9582 - mae: 8.9582\n",
            "Epoch 13/100\n",
            "1/1 [==============================] - 0s 3ms/step - loss: 8.6020 - mae: 8.6020\n",
            "Epoch 14/100\n",
            "1/1 [==============================] - 0s 5ms/step - loss: 8.2198 - mae: 8.2198\n",
            "Epoch 15/100\n",
            "1/1 [==============================] - 0s 6ms/step - loss: 7.8120 - mae: 7.8120\n",
            "Epoch 16/100\n",
            "1/1 [==============================] - 0s 5ms/step - loss: 7.3829 - mae: 7.3829\n",
            "Epoch 17/100\n",
            "1/1 [==============================] - 0s 4ms/step - loss: 6.9304 - mae: 6.9304\n",
            "Epoch 18/100\n",
            "1/1 [==============================] - 0s 3ms/step - loss: 6.4445 - mae: 6.4445\n",
            "Epoch 19/100\n",
            "1/1 [==============================] - 0s 4ms/step - loss: 5.9254 - mae: 5.9254\n",
            "Epoch 20/100\n",
            "1/1 [==============================] - 0s 5ms/step - loss: 5.3718 - mae: 5.3718\n",
            "Epoch 21/100\n",
            "1/1 [==============================] - 0s 5ms/step - loss: 4.7825 - mae: 4.7825\n",
            "Epoch 22/100\n",
            "1/1 [==============================] - 0s 6ms/step - loss: 4.1769 - mae: 4.1769\n",
            "Epoch 23/100\n",
            "1/1 [==============================] - 0s 4ms/step - loss: 3.9766 - mae: 3.9766\n",
            "Epoch 24/100\n",
            "1/1 [==============================] - 0s 4ms/step - loss: 3.9642 - mae: 3.9642\n",
            "Epoch 25/100\n",
            "1/1 [==============================] - 0s 7ms/step - loss: 4.0867 - mae: 4.0867\n",
            "Epoch 26/100\n",
            "1/1 [==============================] - 0s 3ms/step - loss: 4.1921 - mae: 4.1921\n",
            "Epoch 27/100\n",
            "1/1 [==============================] - 0s 9ms/step - loss: 4.3695 - mae: 4.3695\n",
            "Epoch 28/100\n",
            "1/1 [==============================] - 0s 4ms/step - loss: 4.5361 - mae: 4.5361\n",
            "Epoch 29/100\n",
            "1/1 [==============================] - 0s 8ms/step - loss: 4.6197 - mae: 4.6197\n",
            "Epoch 30/100\n",
            "1/1 [==============================] - 0s 8ms/step - loss: 4.6309 - mae: 4.6309\n",
            "Epoch 31/100\n",
            "1/1 [==============================] - 0s 5ms/step - loss: 4.5775 - mae: 4.5775\n",
            "Epoch 32/100\n",
            "1/1 [==============================] - 0s 4ms/step - loss: 4.4714 - mae: 4.4714\n",
            "Epoch 33/100\n",
            "1/1 [==============================] - 0s 6ms/step - loss: 4.3206 - mae: 4.3206\n",
            "Epoch 34/100\n",
            "1/1 [==============================] - 0s 5ms/step - loss: 4.1424 - mae: 4.1424\n",
            "Epoch 35/100\n",
            "1/1 [==============================] - 0s 4ms/step - loss: 4.0656 - mae: 4.0656\n",
            "Epoch 36/100\n",
            "1/1 [==============================] - 0s 4ms/step - loss: 3.9894 - mae: 3.9894\n",
            "Epoch 37/100\n",
            "1/1 [==============================] - 0s 4ms/step - loss: 3.9148 - mae: 3.9148\n",
            "Epoch 38/100\n",
            "1/1 [==============================] - 0s 26ms/step - loss: 3.8406 - mae: 3.8406\n",
            "Epoch 39/100\n",
            "1/1 [==============================] - 0s 5ms/step - loss: 3.7676 - mae: 3.7676\n",
            "Epoch 40/100\n",
            "1/1 [==============================] - 0s 8ms/step - loss: 3.7732 - mae: 3.7732\n",
            "Epoch 41/100\n",
            "1/1 [==============================] - 0s 5ms/step - loss: 3.8250 - mae: 3.8250\n",
            "Epoch 42/100\n",
            "1/1 [==============================] - 0s 8ms/step - loss: 3.8348 - mae: 3.8348\n",
            "Epoch 43/100\n",
            "1/1 [==============================] - 0s 14ms/step - loss: 3.8604 - mae: 3.8604\n",
            "Epoch 44/100\n",
            "1/1 [==============================] - 0s 6ms/step - loss: 3.8715 - mae: 3.8715\n",
            "Epoch 45/100\n",
            "1/1 [==============================] - 0s 7ms/step - loss: 3.8685 - mae: 3.8685\n",
            "Epoch 46/100\n",
            "1/1 [==============================] - 0s 4ms/step - loss: 3.8524 - mae: 3.8524\n",
            "Epoch 47/100\n",
            "1/1 [==============================] - 0s 7ms/step - loss: 3.8251 - mae: 3.8251\n",
            "Epoch 48/100\n",
            "1/1 [==============================] - 0s 5ms/step - loss: 3.7871 - mae: 3.7871\n",
            "Epoch 49/100\n",
            "1/1 [==============================] - 0s 6ms/step - loss: 3.7387 - mae: 3.7387\n",
            "Epoch 50/100\n",
            "1/1 [==============================] - 0s 5ms/step - loss: 3.6782 - mae: 3.6782\n",
            "Epoch 51/100\n",
            "1/1 [==============================] - 0s 5ms/step - loss: 3.6548 - mae: 3.6548\n",
            "Epoch 52/100\n",
            "1/1 [==============================] - 0s 5ms/step - loss: 3.6745 - mae: 3.6745\n",
            "Epoch 53/100\n",
            "1/1 [==============================] - 0s 5ms/step - loss: 3.6840 - mae: 3.6840\n",
            "Epoch 54/100\n",
            "1/1 [==============================] - 0s 7ms/step - loss: 3.6827 - mae: 3.6827\n",
            "Epoch 55/100\n",
            "1/1 [==============================] - 0s 5ms/step - loss: 3.6784 - mae: 3.6784\n",
            "Epoch 56/100\n",
            "1/1 [==============================] - 0s 13ms/step - loss: 3.6610 - mae: 3.6610\n",
            "Epoch 57/100\n",
            "1/1 [==============================] - 0s 4ms/step - loss: 3.6441 - mae: 3.6441\n",
            "Epoch 58/100\n",
            "1/1 [==============================] - 0s 4ms/step - loss: 3.6188 - mae: 3.6188\n",
            "Epoch 59/100\n",
            "1/1 [==============================] - 0s 5ms/step - loss: 3.5874 - mae: 3.5874\n",
            "Epoch 60/100\n",
            "1/1 [==============================] - 0s 16ms/step - loss: 3.5491 - mae: 3.5491\n",
            "Epoch 61/100\n",
            "1/1 [==============================] - 0s 5ms/step - loss: 3.5566 - mae: 3.5566\n",
            "Epoch 62/100\n",
            "1/1 [==============================] - 0s 6ms/step - loss: 3.5709 - mae: 3.5709\n",
            "Epoch 63/100\n",
            "1/1 [==============================] - 0s 6ms/step - loss: 3.5534 - mae: 3.5534\n",
            "Epoch 64/100\n",
            "1/1 [==============================] - 0s 6ms/step - loss: 3.5260 - mae: 3.5260\n",
            "Epoch 65/100\n",
            "1/1 [==============================] - 0s 11ms/step - loss: 3.4861 - mae: 3.4861\n",
            "Epoch 66/100\n",
            "1/1 [==============================] - 0s 6ms/step - loss: 3.4869 - mae: 3.4869\n",
            "Epoch 67/100\n",
            "1/1 [==============================] - 0s 6ms/step - loss: 3.4745 - mae: 3.4745\n",
            "Epoch 68/100\n",
            "1/1 [==============================] - 0s 3ms/step - loss: 3.4556 - mae: 3.4556\n",
            "Epoch 69/100\n",
            "1/1 [==============================] - 0s 6ms/step - loss: 3.4328 - mae: 3.4328\n",
            "Epoch 70/100\n",
            "1/1 [==============================] - 0s 4ms/step - loss: 3.4109 - mae: 3.4109\n",
            "Epoch 71/100\n",
            "1/1 [==============================] - 0s 5ms/step - loss: 3.4017 - mae: 3.4017\n",
            "Epoch 72/100\n",
            "1/1 [==============================] - 0s 4ms/step - loss: 3.3828 - mae: 3.3828\n",
            "Epoch 73/100\n",
            "1/1 [==============================] - 0s 6ms/step - loss: 3.3818 - mae: 3.3818\n",
            "Epoch 74/100\n",
            "1/1 [==============================] - 0s 6ms/step - loss: 3.3558 - mae: 3.3558\n",
            "Epoch 75/100\n",
            "1/1 [==============================] - 0s 8ms/step - loss: 3.3348 - mae: 3.3348\n",
            "Epoch 76/100\n",
            "1/1 [==============================] - 0s 5ms/step - loss: 3.3217 - mae: 3.3217\n",
            "Epoch 77/100\n",
            "1/1 [==============================] - 0s 4ms/step - loss: 3.3113 - mae: 3.3113\n",
            "Epoch 78/100\n",
            "1/1 [==============================] - 0s 5ms/step - loss: 3.2930 - mae: 3.2930\n",
            "Epoch 79/100\n",
            "1/1 [==============================] - 0s 6ms/step - loss: 3.2605 - mae: 3.2605\n",
            "Epoch 80/100\n",
            "1/1 [==============================] - 0s 5ms/step - loss: 3.2546 - mae: 3.2546\n",
            "Epoch 81/100\n",
            "1/1 [==============================] - 0s 6ms/step - loss: 3.2301 - mae: 3.2301\n",
            "Epoch 82/100\n",
            "1/1 [==============================] - 0s 5ms/step - loss: 3.2257 - mae: 3.2257\n",
            "Epoch 83/100\n",
            "1/1 [==============================] - 0s 10ms/step - loss: 3.1999 - mae: 3.1999\n",
            "Epoch 84/100\n",
            "1/1 [==============================] - 0s 6ms/step - loss: 3.1777 - mae: 3.1777\n",
            "Epoch 85/100\n",
            "1/1 [==============================] - 0s 8ms/step - loss: 3.1449 - mae: 3.1449\n",
            "Epoch 86/100\n",
            "1/1 [==============================] - 0s 22ms/step - loss: 3.1244 - mae: 3.1244\n",
            "Epoch 87/100\n",
            "1/1 [==============================] - 0s 7ms/step - loss: 3.0975 - mae: 3.0975\n",
            "Epoch 88/100\n",
            "1/1 [==============================] - 0s 9ms/step - loss: 3.0835 - mae: 3.0835\n",
            "Epoch 89/100\n",
            "1/1 [==============================] - 0s 5ms/step - loss: 3.0574 - mae: 3.0574\n",
            "Epoch 90/100\n",
            "1/1 [==============================] - 0s 10ms/step - loss: 3.0222 - mae: 3.0222\n",
            "Epoch 91/100\n",
            "1/1 [==============================] - 0s 5ms/step - loss: 3.0086 - mae: 3.0086\n",
            "Epoch 92/100\n",
            "1/1 [==============================] - 0s 7ms/step - loss: 2.9781 - mae: 2.9781\n",
            "Epoch 93/100\n",
            "1/1 [==============================] - 0s 9ms/step - loss: 2.9558 - mae: 2.9558\n",
            "Epoch 94/100\n",
            "1/1 [==============================] - 0s 11ms/step - loss: 2.9370 - mae: 2.9370\n",
            "Epoch 95/100\n",
            "1/1 [==============================] - 0s 6ms/step - loss: 2.9009 - mae: 2.9009\n",
            "Epoch 96/100\n",
            "1/1 [==============================] - 0s 4ms/step - loss: 2.8477 - mae: 2.8477\n",
            "Epoch 97/100\n",
            "1/1 [==============================] - 0s 7ms/step - loss: 2.8360 - mae: 2.8360\n",
            "Epoch 98/100\n",
            "1/1 [==============================] - 0s 8ms/step - loss: 2.7950 - mae: 2.7950\n",
            "Epoch 99/100\n",
            "1/1 [==============================] - 0s 8ms/step - loss: 2.7453 - mae: 2.7453\n",
            "Epoch 100/100\n",
            "1/1 [==============================] - 0s 5ms/step - loss: 2.7134 - mae: 2.7134\n"
          ],
          "name": "stdout"
        },
        {
          "output_type": "execute_result",
          "data": {
            "text/plain": [
              "<tensorflow.python.keras.callbacks.History at 0x7fa523e1a790>"
            ]
          },
          "metadata": {
            "tags": []
          },
          "execution_count": 68
        }
      ]
    },
    {
      "cell_type": "code",
      "metadata": {
        "colab": {
          "base_uri": "https://localhost:8080/"
        },
        "id": "x236g-6lWqt_",
        "outputId": "78560215-dcf7-4a0c-9cc6-cd46c1f20319"
      },
      "source": [
        "model.predict([17.])"
      ],
      "execution_count": 69,
      "outputs": [
        {
          "output_type": "execute_result",
          "data": {
            "text/plain": [
              "array([[31.127031]], dtype=float32)"
            ]
          },
          "metadata": {
            "tags": []
          },
          "execution_count": 69
        }
      ]
    },
    {
      "cell_type": "markdown",
      "metadata": {
        "id": "1X7ZwcK1erk-"
      },
      "source": [
        "**Common ways to improve a deep model:**\n",
        "* Adding layers\n",
        "* Increase the number of hidden units\n",
        "* Change the activation functions \n",
        "* Change the optimization function\n",
        "* Change the learning rate\n",
        "* Fitting on more data\n",
        "* Fitting for longer"
      ]
    },
    {
      "cell_type": "markdown",
      "metadata": {
        "id": "9HcqvIl2eFmS"
      },
      "source": [
        "## Evaluting a model\n",
        "\n",
        "In practice, a typical workflow you'll go through when building neural networks is :\n",
        "```\n",
        "Build a model -> fit it -> evaluate it -> tweak a model -> fit it -> evaluate it -> tweak a model ....\n",
        "```"
      ]
    },
    {
      "cell_type": "markdown",
      "metadata": {
        "id": "6nkxgU78fFhg"
      },
      "source": [
        "When it comes to evaluation... there are 3 words you should memorize:\n",
        "\n",
        ">\"Visualize, visualize, visualize\"\n",
        "\n",
        "It's a good idea to visualize:\n",
        "* The data - what date are we working with? What does this look like?\n",
        "\n",
        "* The model itself - what does our model look like?\n",
        "* The training of a model - how does a model perform while it learns?\n",
        "* The predictions of the model - how the predictions of a model line up against the ground truth (the original labels)"
      ]
    },
    {
      "cell_type": "code",
      "metadata": {
        "colab": {
          "base_uri": "https://localhost:8080/"
        },
        "id": "vG1iUpy4WtSs",
        "outputId": "30c0f972-3397-43f3-ba6e-8c8b78273707"
      },
      "source": [
        "# Make a bigger dataset \\\n",
        "X = tf.range(-100, 100, 4)\n",
        "X"
      ],
      "execution_count": 71,
      "outputs": [
        {
          "output_type": "execute_result",
          "data": {
            "text/plain": [
              "<tf.Tensor: shape=(50,), dtype=int32, numpy=\n",
              "array([-100,  -96,  -92,  -88,  -84,  -80,  -76,  -72,  -68,  -64,  -60,\n",
              "        -56,  -52,  -48,  -44,  -40,  -36,  -32,  -28,  -24,  -20,  -16,\n",
              "        -12,   -8,   -4,    0,    4,    8,   12,   16,   20,   24,   28,\n",
              "         32,   36,   40,   44,   48,   52,   56,   60,   64,   68,   72,\n",
              "         76,   80,   84,   88,   92,   96], dtype=int32)>"
            ]
          },
          "metadata": {
            "tags": []
          },
          "execution_count": 71
        }
      ]
    },
    {
      "cell_type": "code",
      "metadata": {
        "colab": {
          "base_uri": "https://localhost:8080/"
        },
        "id": "JxviAE0pf9wq",
        "outputId": "5f6304cd-2316-40e7-871f-d8912f1fe921"
      },
      "source": [
        "# Make labels for the dataset\n",
        "y = X + 10\n",
        "y"
      ],
      "execution_count": 73,
      "outputs": [
        {
          "output_type": "execute_result",
          "data": {
            "text/plain": [
              "<tf.Tensor: shape=(50,), dtype=int32, numpy=\n",
              "array([-90, -86, -82, -78, -74, -70, -66, -62, -58, -54, -50, -46, -42,\n",
              "       -38, -34, -30, -26, -22, -18, -14, -10,  -6,  -2,   2,   6,  10,\n",
              "        14,  18,  22,  26,  30,  34,  38,  42,  46,  50,  54,  58,  62,\n",
              "        66,  70,  74,  78,  82,  86,  90,  94,  98, 102, 106], dtype=int32)>"
            ]
          },
          "metadata": {
            "tags": []
          },
          "execution_count": 73
        }
      ]
    },
    {
      "cell_type": "code",
      "metadata": {
        "colab": {
          "base_uri": "https://localhost:8080/",
          "height": 283
        },
        "id": "cCZOOr3pgnFF",
        "outputId": "242ba5a3-4990-4bea-acec-007380c53b85"
      },
      "source": [
        "# Visualize the data\n",
        "import matplotlib.pyplot as plt\n",
        "plt.scatter(X, y)"
      ],
      "execution_count": 75,
      "outputs": [
        {
          "output_type": "execute_result",
          "data": {
            "text/plain": [
              "<matplotlib.collections.PathCollection at 0x7fa523c82b10>"
            ]
          },
          "metadata": {
            "tags": []
          },
          "execution_count": 75
        },
        {
          "output_type": "display_data",
          "data": {
            "image/png": "[encoded data removed]",
            "text/plain": [
              "<Figure size 432x288 with 1 Axes>"
            ]
          },
          "metadata": {
            "tags": [],
            "needs_background": "light"
          }
        }
      ]
    },
    {
      "cell_type": "markdown",
      "metadata": {
        "id": "2jOvGjyPg04Y"
      },
      "source": [
        "### The 3 sets....\n",
        "\n",
        "* **Training set** - the model learns form this data, which is typically 70-80% of the total data you have available.\n",
        "* **Validation set** - the model gets tuned on this data, which is typically 10-15% of the data available.\n",
        "* Test set - the model gets evaluated on this data to test what is has learned, this set is typically 10-15% of the total data available."
      ]
    },
    {
      "cell_type": "code",
      "metadata": {
        "colab": {
          "base_uri": "https://localhost:8080/"
        },
        "id": "hyAk5UwbhqTm",
        "outputId": "5b722a51-4733-4af4-a99d-bff76bdfb281"
      },
      "source": [
        "# Check the length of how many samples we have\n",
        "len(X)"
      ],
      "execution_count": 76,
      "outputs": [
        {
          "output_type": "execute_result",
          "data": {
            "text/plain": [
              "50"
            ]
          },
          "metadata": {
            "tags": []
          },
          "execution_count": 76
        }
      ]
    },
    {
      "cell_type": "code",
      "metadata": {
        "colab": {
          "base_uri": "https://localhost:8080/"
        },
        "id": "Fra88HZiiHcF",
        "outputId": "82eb72e2-628e-4c32-84ab-7c2a72bab78e"
      },
      "source": [
        "# Split the data into train and test sets\n",
        "X_train = X[:40] # first 40 are training samples (80% of the data) \n",
        "y_train = y[:40]\n",
        "\n",
        "X_test = X[40:] # last 10 are testing samples (20% of the data) \n",
        "y_test = y[40:]\n",
        "\n",
        "len(X_train), len(X_test), len(y_train), len(y_test)"
      ],
      "execution_count": 79,
      "outputs": [
        {
          "output_type": "execute_result",
          "data": {
            "text/plain": [
              "(40, 10, 40, 10)"
            ]
          },
          "metadata": {
            "tags": []
          },
          "execution_count": 79
        }
      ]
    },
    {
      "cell_type": "markdown",
      "metadata": {
        "id": "LqNEtVRYjAWQ"
      },
      "source": [
        "### Visualing the data\n",
        "\n",
        "Now we've got our data in training and test sets... let's visaulize it again!"
      ]
    },
    {
      "cell_type": "code",
      "metadata": {
        "colab": {
          "base_uri": "https://localhost:8080/",
          "height": 428
        },
        "id": "ml9BE4Dhi_Jb",
        "outputId": "e7803cf3-9479-4fdd-fd99-c52b938da229"
      },
      "source": [
        "plt.figure(figsize=(10, 7))\n",
        "# Plot training data in blue\n",
        "plt.scatter(X_train, y_train, c=\"b\", label=\"Training data\")\n",
        "# Plot test data in green\n",
        "plt.scatter(X_test, y_test, c=\"g\", label=\"Testing data\") \n",
        "# Show a legend\n",
        "plt.legend();"
      ],
      "execution_count": 82,
      "outputs": [
        {
          "output_type": "display_data",
          "data": {
            "image/png": "[encoded data removed]",
            "text/plain": [
              "<Figure size 720x504 with 1 Axes>"
            ]
          },
          "metadata": {
            "tags": [],
            "needs_background": "light"
          }
        }
      ]
    }
  ]
}