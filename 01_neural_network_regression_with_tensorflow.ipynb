{
  "nbformat": 4,
  "nbformat_minor": 0,
  "metadata": {
    "colab": {
      "name": "01_neural_network_regression_with_tensorflow.ipynb",
      "provenance": [],
      "collapsed_sections": [],
      "authorship_tag": "ABX9TyPWXDNVxb4PLpV8m6xqjt1m",
      "include_colab_link": true
    },
    "kernelspec": {
      "name": "python3",
      "display_name": "Python 3"
    },
    "language_info": {
      "name": "python"
    },
    "accelerator": "GPU"
  },
  "cells": [
    {
      "cell_type": "markdown",
      "metadata": {
        "id": "view-in-github",
        "colab_type": "text"
      },
      "source": [
        "<a href=\"https://colab.research.google.com/github/ThangDoan2001/TensorFlow_ZeroToHero/blob/master/01_neural_network_regression_with_tensorflow.ipynb\" target=\"_parent\"><img src=\"https://colab.research.google.com/assets/colab-badge.svg\" alt=\"Open In Colab\"/></a>"
      ]
    },
    {
      "cell_type": "markdown",
      "metadata": {
        "id": "M9ymjskEsf37"
      },
      "source": [
        "# Introduction to Regression with Neural Networks in TensorFlow \n",
        "\n",
        "There are many definitions for a regression problem but in our case, we're going to simplify it: predecting a numerical variable based on some other combination of variables, even shorter .... predicting a number."
      ]
    },
    {
      "cell_type": "code",
      "metadata": {
        "colab": {
          "base_uri": "https://localhost:8080/",
          "height": 36
        },
        "id": "rsK_BYTrrxpC",
        "outputId": "02c5eb06-b37d-4324-a212-1ce2e994f772"
      },
      "source": [
        "# Import TensorFlow\n",
        "import tensorflow as tf\n",
        "tf.__version__"
      ],
      "execution_count": 1,
      "outputs": [
        {
          "output_type": "execute_result",
          "data": {
            "application/vnd.google.colaboratory.intrinsic+json": {
              "type": "string"
            },
            "text/plain": [
              "'2.5.0'"
            ]
          },
          "metadata": {
            "tags": []
          },
          "execution_count": 1
        }
      ]
    },
    {
      "cell_type": "markdown",
      "metadata": {
        "id": "qk9YxuD4tMhY"
      },
      "source": [
        "## Creating some data to view and fit"
      ]
    },
    {
      "cell_type": "code",
      "metadata": {
        "colab": {
          "base_uri": "https://localhost:8080/",
          "height": 269
        },
        "id": "rF2vwm6LtG8o",
        "outputId": "87f029c1-f0d0-4c11-e754-d386c237cfa2"
      },
      "source": [
        " import numpy as np\n",
        " import matplotlib.pyplot as plt\n",
        "\n",
        " # Create features\n",
        " X = np.array([-7., -4., -1., 2., 5. , 8., 11., 14.])\n",
        "\n",
        "\n",
        " # Create lables\n",
        " y = np.array([3., 6., 9., 12., 15., 18., 21., 24.])\n",
        "\n",
        " # Visualize it\n",
        " plt.scatter(X, y);"
      ],
      "execution_count": 2,
      "outputs": [
        {
          "output_type": "display_data",
          "data": {
            "image/png": "[encoded data removed]",
            "text/plain": [
              "<Figure size 432x288 with 1 Axes>"
            ]
          },
          "metadata": {
            "tags": [],
            "needs_background": "light"
          }
        }
      ]
    },
    {
      "cell_type": "code",
      "metadata": {
        "colab": {
          "base_uri": "https://localhost:8080/"
        },
        "id": "D_f8R7XIt3Ai",
        "outputId": "955de2c8-7675-461c-f509-87d91b5f5ed4"
      },
      "source": [
        "y == X + 10"
      ],
      "execution_count": 3,
      "outputs": [
        {
          "output_type": "execute_result",
          "data": {
            "text/plain": [
              "array([ True,  True,  True,  True,  True,  True,  True,  True])"
            ]
          },
          "metadata": {
            "tags": []
          },
          "execution_count": 3
        }
      ]
    },
    {
      "cell_type": "markdown",
      "metadata": {
        "id": "DtPRawymuKw0"
      },
      "source": [
        "## Input and out put shape"
      ]
    },
    {
      "cell_type": "code",
      "metadata": {
        "colab": {
          "base_uri": "https://localhost:8080/"
        },
        "id": "di7gc9BpuKJq",
        "outputId": "13f8cdf9-38c6-4bdd-ab38-4904ae8fc121"
      },
      "source": [
        "# Create a demo tensor for our housing preice predictions problem\n",
        "house_info = tf.constant([\"bedroom\", \"bathroom\", \"gargage\"])\n",
        "house_price = tf.constant([939700])\n",
        "house_info, house_price"
      ],
      "execution_count": 4,
      "outputs": [
        {
          "output_type": "execute_result",
          "data": {
            "text/plain": [
              "(<tf.Tensor: shape=(3,), dtype=string, numpy=array([b'bedroom', b'bathroom', b'gargage'], dtype=object)>,\n",
              " <tf.Tensor: shape=(1,), dtype=int32, numpy=array([939700], dtype=int32)>)"
            ]
          },
          "metadata": {
            "tags": []
          },
          "execution_count": 4
        }
      ]
    },
    {
      "cell_type": "code",
      "metadata": {
        "colab": {
          "base_uri": "https://localhost:8080/"
        },
        "id": "-PbdVLNivJ5g",
        "outputId": "8d174d49-1a2a-4703-c1ea-a5e1c3b47a36"
      },
      "source": [
        "X[0], y[0]"
      ],
      "execution_count": 5,
      "outputs": [
        {
          "output_type": "execute_result",
          "data": {
            "text/plain": [
              "(-7.0, 3.0)"
            ]
          },
          "metadata": {
            "tags": []
          },
          "execution_count": 5
        }
      ]
    },
    {
      "cell_type": "code",
      "metadata": {
        "colab": {
          "base_uri": "https://localhost:8080/"
        },
        "id": "G2AYIc_rvK8Q",
        "outputId": "01b4eb8c-2c7e-4962-fbf4-646f7e8add51"
      },
      "source": [
        "X[1], y[1]"
      ],
      "execution_count": 6,
      "outputs": [
        {
          "output_type": "execute_result",
          "data": {
            "text/plain": [
              "(-4.0, 6.0)"
            ]
          },
          "metadata": {
            "tags": []
          },
          "execution_count": 6
        }
      ]
    },
    {
      "cell_type": "code",
      "metadata": {
        "colab": {
          "base_uri": "https://localhost:8080/"
        },
        "id": "lb6TAwHku4BT",
        "outputId": "71dd837d-8790-4109-f949-d673ffae8287"
      },
      "source": [
        "input_shape = X[0].shape\n",
        "output_shape = y[0].shape\n",
        "input_shape, output_shape"
      ],
      "execution_count": 7,
      "outputs": [
        {
          "output_type": "execute_result",
          "data": {
            "text/plain": [
              "((), ())"
            ]
          },
          "metadata": {
            "tags": []
          },
          "execution_count": 7
        }
      ]
    },
    {
      "cell_type": "code",
      "metadata": {
        "colab": {
          "base_uri": "https://localhost:8080/"
        },
        "id": "oc9fUcxPvc0C",
        "outputId": "a7710958-8e4e-42a6-ea1d-a2358edc143b"
      },
      "source": [
        "X[0].ndim"
      ],
      "execution_count": 8,
      "outputs": [
        {
          "output_type": "execute_result",
          "data": {
            "text/plain": [
              "0"
            ]
          },
          "metadata": {
            "tags": []
          },
          "execution_count": 8
        }
      ]
    },
    {
      "cell_type": "code",
      "metadata": {
        "colab": {
          "base_uri": "https://localhost:8080/"
        },
        "id": "3_pN5SKpvfXU",
        "outputId": "b3aac2af-95d9-412b-fa36-8ae3e1b93793"
      },
      "source": [
        "X[0], y[0]"
      ],
      "execution_count": 9,
      "outputs": [
        {
          "output_type": "execute_result",
          "data": {
            "text/plain": [
              "(-7.0, 3.0)"
            ]
          },
          "metadata": {
            "tags": []
          },
          "execution_count": 9
        }
      ]
    },
    {
      "cell_type": "code",
      "metadata": {
        "colab": {
          "base_uri": "https://localhost:8080/"
        },
        "id": "puMF0W8pKqnl",
        "outputId": "1b4375ad-6ea1-4778-d346-a57d156013f9"
      },
      "source": [
        "# Turn our NumPy arrays into tensors with dtype float32\n",
        "X = tf.cast(tf.constant(X), dtype=tf.float32)\n",
        "y = tf.cast(tf.constant(y), dtype=tf.float32)\n",
        "X, y"
      ],
      "execution_count": 10,
      "outputs": [
        {
          "output_type": "execute_result",
          "data": {
            "text/plain": [
              "(<tf.Tensor: shape=(8,), dtype=float32, numpy=array([-7., -4., -1.,  2.,  5.,  8., 11., 14.], dtype=float32)>,\n",
              " <tf.Tensor: shape=(8,), dtype=float32, numpy=array([ 3.,  6.,  9., 12., 15., 18., 21., 24.], dtype=float32)>)"
            ]
          },
          "metadata": {
            "tags": []
          },
          "execution_count": 10
        }
      ]
    },
    {
      "cell_type": "code",
      "metadata": {
        "colab": {
          "base_uri": "https://localhost:8080/"
        },
        "id": "aIG5neTeK6IQ",
        "outputId": "93b20f60-1a53-4143-8dcd-ceb668d0bae9"
      },
      "source": [
        "input_shape = X[0].shape\n",
        "output_shape = y[0].shape\n",
        "input_shape, output_shape"
      ],
      "execution_count": 11,
      "outputs": [
        {
          "output_type": "execute_result",
          "data": {
            "text/plain": [
              "(TensorShape([]), TensorShape([]))"
            ]
          },
          "metadata": {
            "tags": []
          },
          "execution_count": 11
        }
      ]
    },
    {
      "cell_type": "code",
      "metadata": {
        "colab": {
          "base_uri": "https://localhost:8080/",
          "height": 287
        },
        "id": "hWjb6WdoLE6h",
        "outputId": "4f4c9025-f1f1-4746-cd4b-e9636fcb4c07"
      },
      "source": [
        "plt.scatter(X, y)"
      ],
      "execution_count": 12,
      "outputs": [
        {
          "output_type": "execute_result",
          "data": {
            "text/plain": [
              "<matplotlib.collections.PathCollection at 0x7f290077aa10>"
            ]
          },
          "metadata": {
            "tags": []
          },
          "execution_count": 12
        },
        {
          "output_type": "display_data",
          "data": {
            "image/png": "[encoded data removed]",
            "text/plain": [
              "<Figure size 432x288 with 1 Axes>"
            ]
          },
          "metadata": {
            "tags": [],
            "needs_background": "light"
          }
        }
      ]
    },
    {
      "cell_type": "markdown",
      "metadata": {
        "id": "UEmWz2BfLKD-"
      },
      "source": [
        "## Steps in modelling with TensorFlow\n",
        "\n",
        "---\n",
        "1. **Creating a model** - define the input and ouput layers, as well as the hidden layers of a deep learning model.\n",
        "2. **Compliling a model** - define the loss function ( in other words, the function which tells our model how wrong it is) and the optimizer(tells our model how to improve the patterns its learning) and evaluation metrics (what we can use to interpret the performance of our model).\n",
        "3. Fitting a model - letting the model try to find patterns between X & y (features and labels)\n"
      ]
    },
    {
      "cell_type": "code",
      "metadata": {
        "colab": {
          "base_uri": "https://localhost:8080/"
        },
        "id": "wXfcHsp8LMXw",
        "outputId": "f366f0fa-10fe-4a7c-e8f0-d81ec41ddda2"
      },
      "source": [
        "# Set random seed\n",
        "tf.random.set_seed(59)\n",
        "\n",
        "# 1. Create a model using the Sequential API\n",
        "model = tf.keras.Sequential([\n",
        "    tf.keras.layers.Dense(1)\n",
        "])\n",
        "\n",
        "# 2. Compile the model\n",
        "model.compile(loss=tf.keras.losses.MAE,     # mae is short for mean absolute error\n",
        "              optimizer=tf.keras.optimizers.SGD(), # sgd is short for stochastic gradient descent\n",
        "              metrics=[\"mae\"])\n",
        "\n",
        "# 3. Fit the model\n",
        "model.fit(X, y, epochs = 5)"
      ],
      "execution_count": 13,
      "outputs": [
        {
          "output_type": "stream",
          "text": [
            "Epoch 1/5\n",
            "1/1 [==============================] - 3s 3s/step - loss: 13.2553 - mae: 13.2553\n",
            "Epoch 2/5\n",
            "1/1 [==============================] - 0s 5ms/step - loss: 13.1228 - mae: 13.1228\n",
            "Epoch 3/5\n",
            "1/1 [==============================] - 0s 5ms/step - loss: 12.9903 - mae: 12.9903\n",
            "Epoch 4/5\n",
            "1/1 [==============================] - 0s 3ms/step - loss: 12.8578 - mae: 12.8578\n",
            "Epoch 5/5\n",
            "1/1 [==============================] - 0s 3ms/step - loss: 12.7253 - mae: 12.7253\n"
          ],
          "name": "stdout"
        },
        {
          "output_type": "execute_result",
          "data": {
            "text/plain": [
              "<tensorflow.python.keras.callbacks.History at 0x7f28b4122590>"
            ]
          },
          "metadata": {
            "tags": []
          },
          "execution_count": 13
        }
      ]
    },
    {
      "cell_type": "code",
      "metadata": {
        "colab": {
          "base_uri": "https://localhost:8080/"
        },
        "id": "Q4XE-K76PUKV",
        "outputId": "1da70221-e730-458b-c3c8-ef6bffeaa506"
      },
      "source": [
        "# Check out X and y\n",
        "X, y"
      ],
      "execution_count": 14,
      "outputs": [
        {
          "output_type": "execute_result",
          "data": {
            "text/plain": [
              "(<tf.Tensor: shape=(8,), dtype=float32, numpy=array([-7., -4., -1.,  2.,  5.,  8., 11., 14.], dtype=float32)>,\n",
              " <tf.Tensor: shape=(8,), dtype=float32, numpy=array([ 3.,  6.,  9., 12., 15., 18., 21., 24.], dtype=float32)>)"
            ]
          },
          "metadata": {
            "tags": []
          },
          "execution_count": 14
        }
      ]
    },
    {
      "cell_type": "code",
      "metadata": {
        "id": "DTXGNq2QPbBg"
      },
      "source": [
        "# Try and make a prediction using our model\n",
        "y_pred = model.predict([17.0])"
      ],
      "execution_count": 15,
      "outputs": []
    },
    {
      "cell_type": "code",
      "metadata": {
        "colab": {
          "base_uri": "https://localhost:8080/"
        },
        "id": "-tn375coP03V",
        "outputId": "43da0ead-ce56-47bd-a086-a1049015c386"
      },
      "source": [
        "y_pred + 11"
      ],
      "execution_count": 16,
      "outputs": [
        {
          "output_type": "execute_result",
          "data": {
            "text/plain": [
              "array([[15.2136755]], dtype=float32)"
            ]
          },
          "metadata": {
            "tags": []
          },
          "execution_count": 16
        }
      ]
    },
    {
      "cell_type": "markdown",
      "metadata": {
        "id": "feqMleh-P5z6"
      },
      "source": [
        "## Improving our model\n",
        "\n",
        "We can imporve our model, by altering the steps we took to create a model.\n",
        "\n",
        "1. **Creating a model** - Here we might add more layers, increase the number of hidden units (all called neurons) withnin each of the hidden layers, change the activation function of each layer.\n",
        "2. **Compiling a model** - Here we might change the optimization function or perhaps the **learning rate** of the optimization function.\n",
        "3. **Fitting a model** - Here we might fit a model for more  **epochs** (leave it training for longer) or on more data (give the model more examples to learn from. \n"
      ]
    },
    {
      "cell_type": "code",
      "metadata": {
        "colab": {
          "base_uri": "https://localhost:8080/"
        },
        "id": "Jl1MoLsKP7XV",
        "outputId": "a69ec672-78e4-4846-a6fb-4286d68f17d6"
      },
      "source": [
        "# Let's rebuild our model\n",
        "\n",
        "# 1. Create the model\n",
        "model = tf.keras.Sequential([\n",
        "  tf.keras.layers.Dense(1)\n",
        "])\n",
        "\n",
        "# 2. Compile the model\n",
        "model.compile(loss=tf.keras.losses.MAE,\n",
        "              optimizer=tf.keras.optimizers.SGD(),\n",
        "              metrics=[\"mae\"])\n",
        "\n",
        "# 3. Fit the model (this time we'll train for longer)\n",
        "model.fit(X, y, epochs=100)"
      ],
      "execution_count": 17,
      "outputs": [
        {
          "output_type": "stream",
          "text": [
            "Epoch 1/100\n",
            "1/1 [==============================] - 0s 191ms/step - loss: 10.3864 - mae: 10.3864\n",
            "Epoch 2/100\n",
            "1/1 [==============================] - 0s 11ms/step - loss: 10.2539 - mae: 10.2539\n",
            "Epoch 3/100\n",
            "1/1 [==============================] - 0s 4ms/step - loss: 10.1214 - mae: 10.1214\n",
            "Epoch 4/100\n",
            "1/1 [==============================] - 0s 4ms/step - loss: 9.9889 - mae: 9.9889\n",
            "Epoch 5/100\n",
            "1/1 [==============================] - 0s 3ms/step - loss: 9.8564 - mae: 9.8564\n",
            "Epoch 6/100\n",
            "1/1 [==============================] - 0s 4ms/step - loss: 9.7239 - mae: 9.7239\n",
            "Epoch 7/100\n",
            "1/1 [==============================] - 0s 4ms/step - loss: 9.5914 - mae: 9.5914\n",
            "Epoch 8/100\n",
            "1/1 [==============================] - 0s 5ms/step - loss: 9.4589 - mae: 9.4589\n",
            "Epoch 9/100\n",
            "1/1 [==============================] - 0s 5ms/step - loss: 9.3264 - mae: 9.3264\n",
            "Epoch 10/100\n",
            "1/1 [==============================] - 0s 3ms/step - loss: 9.1939 - mae: 9.1939\n",
            "Epoch 11/100\n",
            "1/1 [==============================] - 0s 5ms/step - loss: 9.0614 - mae: 9.0614\n",
            "Epoch 12/100\n",
            "1/1 [==============================] - 0s 6ms/step - loss: 8.9289 - mae: 8.9289\n",
            "Epoch 13/100\n",
            "1/1 [==============================] - 0s 6ms/step - loss: 8.7964 - mae: 8.7964\n",
            "Epoch 14/100\n",
            "1/1 [==============================] - 0s 4ms/step - loss: 8.6639 - mae: 8.6639\n",
            "Epoch 15/100\n",
            "1/1 [==============================] - 0s 5ms/step - loss: 8.5314 - mae: 8.5314\n",
            "Epoch 16/100\n",
            "1/1 [==============================] - 0s 4ms/step - loss: 8.3989 - mae: 8.3989\n",
            "Epoch 17/100\n",
            "1/1 [==============================] - 0s 5ms/step - loss: 8.2664 - mae: 8.2664\n",
            "Epoch 18/100\n",
            "1/1 [==============================] - 0s 4ms/step - loss: 8.1339 - mae: 8.1339\n",
            "Epoch 19/100\n",
            "1/1 [==============================] - 0s 4ms/step - loss: 8.0014 - mae: 8.0014\n",
            "Epoch 20/100\n",
            "1/1 [==============================] - 0s 5ms/step - loss: 7.8689 - mae: 7.8689\n",
            "Epoch 21/100\n",
            "1/1 [==============================] - 0s 5ms/step - loss: 7.7364 - mae: 7.7364\n",
            "Epoch 22/100\n",
            "1/1 [==============================] - 0s 5ms/step - loss: 7.6039 - mae: 7.6039\n",
            "Epoch 23/100\n",
            "1/1 [==============================] - 0s 5ms/step - loss: 7.4714 - mae: 7.4714\n",
            "Epoch 24/100\n",
            "1/1 [==============================] - 0s 4ms/step - loss: 7.3389 - mae: 7.3389\n",
            "Epoch 25/100\n",
            "1/1 [==============================] - 0s 5ms/step - loss: 7.3200 - mae: 7.3200\n",
            "Epoch 26/100\n",
            "1/1 [==============================] - 0s 5ms/step - loss: 7.3144 - mae: 7.3144\n",
            "Epoch 27/100\n",
            "1/1 [==============================] - 0s 4ms/step - loss: 7.3087 - mae: 7.3087\n",
            "Epoch 28/100\n",
            "1/1 [==============================] - 0s 5ms/step - loss: 7.3031 - mae: 7.3031\n",
            "Epoch 29/100\n",
            "1/1 [==============================] - 0s 4ms/step - loss: 7.2975 - mae: 7.2975\n",
            "Epoch 30/100\n",
            "1/1 [==============================] - 0s 4ms/step - loss: 7.2919 - mae: 7.2919\n",
            "Epoch 31/100\n",
            "1/1 [==============================] - 0s 6ms/step - loss: 7.2863 - mae: 7.2863\n",
            "Epoch 32/100\n",
            "1/1 [==============================] - 0s 5ms/step - loss: 7.2806 - mae: 7.2806\n",
            "Epoch 33/100\n",
            "1/1 [==============================] - 0s 5ms/step - loss: 7.2750 - mae: 7.2750\n",
            "Epoch 34/100\n",
            "1/1 [==============================] - 0s 6ms/step - loss: 7.2694 - mae: 7.2694\n",
            "Epoch 35/100\n",
            "1/1 [==============================] - 0s 6ms/step - loss: 7.2638 - mae: 7.2638\n",
            "Epoch 36/100\n",
            "1/1 [==============================] - 0s 8ms/step - loss: 7.2581 - mae: 7.2581\n",
            "Epoch 37/100\n",
            "1/1 [==============================] - 0s 7ms/step - loss: 7.2525 - mae: 7.2525\n",
            "Epoch 38/100\n",
            "1/1 [==============================] - 0s 5ms/step - loss: 7.2469 - mae: 7.2469\n",
            "Epoch 39/100\n",
            "1/1 [==============================] - 0s 7ms/step - loss: 7.2413 - mae: 7.2413\n",
            "Epoch 40/100\n",
            "1/1 [==============================] - 0s 4ms/step - loss: 7.2356 - mae: 7.2356\n",
            "Epoch 41/100\n",
            "1/1 [==============================] - 0s 4ms/step - loss: 7.2300 - mae: 7.2300\n",
            "Epoch 42/100\n",
            "1/1 [==============================] - 0s 6ms/step - loss: 7.2244 - mae: 7.2244\n",
            "Epoch 43/100\n",
            "1/1 [==============================] - 0s 4ms/step - loss: 7.2188 - mae: 7.2188\n",
            "Epoch 44/100\n",
            "1/1 [==============================] - 0s 5ms/step - loss: 7.2131 - mae: 7.2131\n",
            "Epoch 45/100\n",
            "1/1 [==============================] - 0s 6ms/step - loss: 7.2075 - mae: 7.2075\n",
            "Epoch 46/100\n",
            "1/1 [==============================] - 0s 5ms/step - loss: 7.2019 - mae: 7.2019\n",
            "Epoch 47/100\n",
            "1/1 [==============================] - 0s 6ms/step - loss: 7.1962 - mae: 7.1962\n",
            "Epoch 48/100\n",
            "1/1 [==============================] - 0s 5ms/step - loss: 7.1906 - mae: 7.1906\n",
            "Epoch 49/100\n",
            "1/1 [==============================] - 0s 6ms/step - loss: 7.1850 - mae: 7.1850\n",
            "Epoch 50/100\n",
            "1/1 [==============================] - 0s 4ms/step - loss: 7.1794 - mae: 7.1794\n",
            "Epoch 51/100\n",
            "1/1 [==============================] - 0s 7ms/step - loss: 7.1738 - mae: 7.1738\n",
            "Epoch 52/100\n",
            "1/1 [==============================] - 0s 6ms/step - loss: 7.1681 - mae: 7.1681\n",
            "Epoch 53/100\n",
            "1/1 [==============================] - 0s 8ms/step - loss: 7.1625 - mae: 7.1625\n",
            "Epoch 54/100\n",
            "1/1 [==============================] - 0s 6ms/step - loss: 7.1569 - mae: 7.1569\n",
            "Epoch 55/100\n",
            "1/1 [==============================] - 0s 5ms/step - loss: 7.1512 - mae: 7.1512\n",
            "Epoch 56/100\n",
            "1/1 [==============================] - 0s 6ms/step - loss: 7.1456 - mae: 7.1456\n",
            "Epoch 57/100\n",
            "1/1 [==============================] - 0s 6ms/step - loss: 7.1400 - mae: 7.1400\n",
            "Epoch 58/100\n",
            "1/1 [==============================] - 0s 5ms/step - loss: 7.1344 - mae: 7.1344\n",
            "Epoch 59/100\n",
            "1/1 [==============================] - 0s 20ms/step - loss: 7.1287 - mae: 7.1287\n",
            "Epoch 60/100\n",
            "1/1 [==============================] - 0s 3ms/step - loss: 7.1231 - mae: 7.1231\n",
            "Epoch 61/100\n",
            "1/1 [==============================] - 0s 3ms/step - loss: 7.1175 - mae: 7.1175\n",
            "Epoch 62/100\n",
            "1/1 [==============================] - 0s 3ms/step - loss: 7.1119 - mae: 7.1119\n",
            "Epoch 63/100\n",
            "1/1 [==============================] - 0s 4ms/step - loss: 7.1063 - mae: 7.1063\n",
            "Epoch 64/100\n",
            "1/1 [==============================] - 0s 4ms/step - loss: 7.1006 - mae: 7.1006\n",
            "Epoch 65/100\n",
            "1/1 [==============================] - 0s 10ms/step - loss: 7.0950 - mae: 7.0950\n",
            "Epoch 66/100\n",
            "1/1 [==============================] - 0s 6ms/step - loss: 7.0894 - mae: 7.0894\n",
            "Epoch 67/100\n",
            "1/1 [==============================] - 0s 4ms/step - loss: 7.0838 - mae: 7.0838\n",
            "Epoch 68/100\n",
            "1/1 [==============================] - 0s 7ms/step - loss: 7.0781 - mae: 7.0781\n",
            "Epoch 69/100\n",
            "1/1 [==============================] - 0s 5ms/step - loss: 7.0725 - mae: 7.0725\n",
            "Epoch 70/100\n",
            "1/1 [==============================] - 0s 5ms/step - loss: 7.0669 - mae: 7.0669\n",
            "Epoch 71/100\n",
            "1/1 [==============================] - 0s 4ms/step - loss: 7.0612 - mae: 7.0612\n",
            "Epoch 72/100\n",
            "1/1 [==============================] - 0s 3ms/step - loss: 7.0556 - mae: 7.0556\n",
            "Epoch 73/100\n",
            "1/1 [==============================] - 0s 5ms/step - loss: 7.0500 - mae: 7.0500\n",
            "Epoch 74/100\n",
            "1/1 [==============================] - 0s 3ms/step - loss: 7.0444 - mae: 7.0444\n",
            "Epoch 75/100\n",
            "1/1 [==============================] - 0s 4ms/step - loss: 7.0388 - mae: 7.0388\n",
            "Epoch 76/100\n",
            "1/1 [==============================] - 0s 5ms/step - loss: 7.0331 - mae: 7.0331\n",
            "Epoch 77/100\n",
            "1/1 [==============================] - 0s 3ms/step - loss: 7.0275 - mae: 7.0275\n",
            "Epoch 78/100\n",
            "1/1 [==============================] - 0s 4ms/step - loss: 7.0219 - mae: 7.0219\n",
            "Epoch 79/100\n",
            "1/1 [==============================] - 0s 3ms/step - loss: 7.0163 - mae: 7.0163\n",
            "Epoch 80/100\n",
            "1/1 [==============================] - 0s 5ms/step - loss: 7.0106 - mae: 7.0106\n",
            "Epoch 81/100\n",
            "1/1 [==============================] - 0s 3ms/step - loss: 7.0050 - mae: 7.0050\n",
            "Epoch 82/100\n",
            "1/1 [==============================] - 0s 4ms/step - loss: 6.9994 - mae: 6.9994\n",
            "Epoch 83/100\n",
            "1/1 [==============================] - 0s 3ms/step - loss: 6.9938 - mae: 6.9938\n",
            "Epoch 84/100\n",
            "1/1 [==============================] - 0s 3ms/step - loss: 6.9881 - mae: 6.9881\n",
            "Epoch 85/100\n",
            "1/1 [==============================] - 0s 5ms/step - loss: 6.9825 - mae: 6.9825\n",
            "Epoch 86/100\n",
            "1/1 [==============================] - 0s 7ms/step - loss: 6.9769 - mae: 6.9769\n",
            "Epoch 87/100\n",
            "1/1 [==============================] - 0s 10ms/step - loss: 6.9713 - mae: 6.9713\n",
            "Epoch 88/100\n",
            "1/1 [==============================] - 0s 11ms/step - loss: 6.9656 - mae: 6.9656\n",
            "Epoch 89/100\n",
            "1/1 [==============================] - 0s 9ms/step - loss: 6.9600 - mae: 6.9600\n",
            "Epoch 90/100\n",
            "1/1 [==============================] - 0s 6ms/step - loss: 6.9544 - mae: 6.9544\n",
            "Epoch 91/100\n",
            "1/1 [==============================] - 0s 4ms/step - loss: 6.9488 - mae: 6.9488\n",
            "Epoch 92/100\n",
            "1/1 [==============================] - 0s 6ms/step - loss: 6.9431 - mae: 6.9431\n",
            "Epoch 93/100\n",
            "1/1 [==============================] - 0s 8ms/step - loss: 6.9375 - mae: 6.9375\n",
            "Epoch 94/100\n",
            "1/1 [==============================] - 0s 7ms/step - loss: 6.9319 - mae: 6.9319\n",
            "Epoch 95/100\n",
            "1/1 [==============================] - 0s 6ms/step - loss: 6.9263 - mae: 6.9263\n",
            "Epoch 96/100\n",
            "1/1 [==============================] - 0s 4ms/step - loss: 6.9206 - mae: 6.9206\n",
            "Epoch 97/100\n",
            "1/1 [==============================] - 0s 3ms/step - loss: 6.9150 - mae: 6.9150\n",
            "Epoch 98/100\n",
            "1/1 [==============================] - 0s 3ms/step - loss: 6.9094 - mae: 6.9094\n",
            "Epoch 99/100\n",
            "1/1 [==============================] - 0s 3ms/step - loss: 6.9038 - mae: 6.9038\n",
            "Epoch 100/100\n",
            "1/1 [==============================] - 0s 3ms/step - loss: 6.8981 - mae: 6.8981\n"
          ],
          "name": "stdout"
        },
        {
          "output_type": "execute_result",
          "data": {
            "text/plain": [
              "<tensorflow.python.keras.callbacks.History at 0x7f28a1efe710>"
            ]
          },
          "metadata": {
            "tags": []
          },
          "execution_count": 17
        }
      ]
    },
    {
      "cell_type": "code",
      "metadata": {
        "colab": {
          "base_uri": "https://localhost:8080/"
        },
        "id": "2a0y8_3pTh5q",
        "outputId": "4960d3f0-f93f-4a81-fa3a-3b7fb876a3a7"
      },
      "source": [
        "# Remind ourselves of the data\n",
        "X, y"
      ],
      "execution_count": 18,
      "outputs": [
        {
          "output_type": "execute_result",
          "data": {
            "text/plain": [
              "(<tf.Tensor: shape=(8,), dtype=float32, numpy=array([-7., -4., -1.,  2.,  5.,  8., 11., 14.], dtype=float32)>,\n",
              " <tf.Tensor: shape=(8,), dtype=float32, numpy=array([ 3.,  6.,  9., 12., 15., 18., 21., 24.], dtype=float32)>)"
            ]
          },
          "metadata": {
            "tags": []
          },
          "execution_count": 18
        }
      ]
    },
    {
      "cell_type": "code",
      "metadata": {
        "colab": {
          "base_uri": "https://localhost:8080/"
        },
        "id": "-JqjNtLzUM1V",
        "outputId": "d400775a-fc54-40cb-f399-ecde17064caa"
      },
      "source": [
        "# Let's see of our model's prediction has improved....\n",
        "model.predict([17.])"
      ],
      "execution_count": 19,
      "outputs": [
        {
          "output_type": "execute_result",
          "data": {
            "text/plain": [
              "array([[30.21327]], dtype=float32)"
            ]
          },
          "metadata": {
            "tags": []
          },
          "execution_count": 19
        }
      ]
    },
    {
      "cell_type": "code",
      "metadata": {
        "colab": {
          "base_uri": "https://localhost:8080/"
        },
        "id": "pYzh8I5aUtrs",
        "outputId": "7058ef4a-5305-4bb8-8fbd-d7417a0b2f0b"
      },
      "source": [
        "# Let's change optimizer to Adam\n",
        "\n",
        "# 1. Create the model\n",
        "model = tf.keras.Sequential([\n",
        "  tf.keras.layers.Dense(1)\n",
        "])\n",
        "\n",
        "# 2. Compile the model (this time we change the optimizer to Adam. We also add learning rate into it)\n",
        "model.compile(loss=tf.keras.losses.MAE,\n",
        "              optimizer=tf.keras.optimizers.Adam(learning_rate=0.0001),\n",
        "              metrics=[\"mae\"])\n",
        "\n",
        "# 3. Fit the model\n",
        "model.fit(X, y, epochs=100)"
      ],
      "execution_count": 20,
      "outputs": [
        {
          "output_type": "stream",
          "text": [
            "Epoch 1/100\n",
            "1/1 [==============================] - 0s 236ms/step - loss: 8.4911 - mae: 8.4911\n",
            "Epoch 2/100\n",
            "1/1 [==============================] - 0s 6ms/step - loss: 8.4907 - mae: 8.4907\n",
            "Epoch 3/100\n",
            "1/1 [==============================] - 0s 5ms/step - loss: 8.4902 - mae: 8.4902\n",
            "Epoch 4/100\n",
            "1/1 [==============================] - 0s 5ms/step - loss: 8.4898 - mae: 8.4898\n",
            "Epoch 5/100\n",
            "1/1 [==============================] - 0s 4ms/step - loss: 8.4893 - mae: 8.4893\n",
            "Epoch 6/100\n",
            "1/1 [==============================] - 0s 5ms/step - loss: 8.4889 - mae: 8.4889\n",
            "Epoch 7/100\n",
            "1/1 [==============================] - 0s 4ms/step - loss: 8.4884 - mae: 8.4884\n",
            "Epoch 8/100\n",
            "1/1 [==============================] - 0s 7ms/step - loss: 8.4880 - mae: 8.4880\n",
            "Epoch 9/100\n",
            "1/1 [==============================] - 0s 5ms/step - loss: 8.4875 - mae: 8.4875\n",
            "Epoch 10/100\n",
            "1/1 [==============================] - 0s 5ms/step - loss: 8.4871 - mae: 8.4871\n",
            "Epoch 11/100\n",
            "1/1 [==============================] - 0s 5ms/step - loss: 8.4866 - mae: 8.4866\n",
            "Epoch 12/100\n",
            "1/1 [==============================] - 0s 5ms/step - loss: 8.4862 - mae: 8.4862\n",
            "Epoch 13/100\n",
            "1/1 [==============================] - 0s 3ms/step - loss: 8.4857 - mae: 8.4857\n",
            "Epoch 14/100\n",
            "1/1 [==============================] - 0s 4ms/step - loss: 8.4853 - mae: 8.4853\n",
            "Epoch 15/100\n",
            "1/1 [==============================] - 0s 3ms/step - loss: 8.4848 - mae: 8.4848\n",
            "Epoch 16/100\n",
            "1/1 [==============================] - 0s 4ms/step - loss: 8.4844 - mae: 8.4844\n",
            "Epoch 17/100\n",
            "1/1 [==============================] - 0s 5ms/step - loss: 8.4839 - mae: 8.4839\n",
            "Epoch 18/100\n",
            "1/1 [==============================] - 0s 3ms/step - loss: 8.4835 - mae: 8.4835\n",
            "Epoch 19/100\n",
            "1/1 [==============================] - 0s 5ms/step - loss: 8.4830 - mae: 8.4830\n",
            "Epoch 20/100\n",
            "1/1 [==============================] - 0s 5ms/step - loss: 8.4826 - mae: 8.4826\n",
            "Epoch 21/100\n",
            "1/1 [==============================] - 0s 7ms/step - loss: 8.4821 - mae: 8.4821\n",
            "Epoch 22/100\n",
            "1/1 [==============================] - 0s 5ms/step - loss: 8.4817 - mae: 8.4817\n",
            "Epoch 23/100\n",
            "1/1 [==============================] - 0s 3ms/step - loss: 8.4812 - mae: 8.4812\n",
            "Epoch 24/100\n",
            "1/1 [==============================] - 0s 5ms/step - loss: 8.4808 - mae: 8.4808\n",
            "Epoch 25/100\n",
            "1/1 [==============================] - 0s 5ms/step - loss: 8.4803 - mae: 8.4803\n",
            "Epoch 26/100\n",
            "1/1 [==============================] - 0s 6ms/step - loss: 8.4799 - mae: 8.4799\n",
            "Epoch 27/100\n",
            "1/1 [==============================] - 0s 9ms/step - loss: 8.4794 - mae: 8.4794\n",
            "Epoch 28/100\n",
            "1/1 [==============================] - 0s 5ms/step - loss: 8.4790 - mae: 8.4790\n",
            "Epoch 29/100\n",
            "1/1 [==============================] - 0s 10ms/step - loss: 8.4785 - mae: 8.4785\n",
            "Epoch 30/100\n",
            "1/1 [==============================] - 0s 6ms/step - loss: 8.4781 - mae: 8.4781\n",
            "Epoch 31/100\n",
            "1/1 [==============================] - 0s 5ms/step - loss: 8.4776 - mae: 8.4776\n",
            "Epoch 32/100\n",
            "1/1 [==============================] - 0s 5ms/step - loss: 8.4772 - mae: 8.4772\n",
            "Epoch 33/100\n",
            "1/1 [==============================] - 0s 4ms/step - loss: 8.4767 - mae: 8.4767\n",
            "Epoch 34/100\n",
            "1/1 [==============================] - 0s 5ms/step - loss: 8.4763 - mae: 8.4763\n",
            "Epoch 35/100\n",
            "1/1 [==============================] - 0s 7ms/step - loss: 8.4758 - mae: 8.4758\n",
            "Epoch 36/100\n",
            "1/1 [==============================] - 0s 4ms/step - loss: 8.4754 - mae: 8.4754\n",
            "Epoch 37/100\n",
            "1/1 [==============================] - 0s 4ms/step - loss: 8.4749 - mae: 8.4749\n",
            "Epoch 38/100\n",
            "1/1 [==============================] - 0s 5ms/step - loss: 8.4745 - mae: 8.4745\n",
            "Epoch 39/100\n",
            "1/1 [==============================] - 0s 4ms/step - loss: 8.4740 - mae: 8.4740\n",
            "Epoch 40/100\n",
            "1/1 [==============================] - 0s 4ms/step - loss: 8.4736 - mae: 8.4736\n",
            "Epoch 41/100\n",
            "1/1 [==============================] - 0s 5ms/step - loss: 8.4731 - mae: 8.4731\n",
            "Epoch 42/100\n",
            "1/1 [==============================] - 0s 3ms/step - loss: 8.4727 - mae: 8.4727\n",
            "Epoch 43/100\n",
            "1/1 [==============================] - 0s 4ms/step - loss: 8.4722 - mae: 8.4722\n",
            "Epoch 44/100\n",
            "1/1 [==============================] - 0s 4ms/step - loss: 8.4718 - mae: 8.4718\n",
            "Epoch 45/100\n",
            "1/1 [==============================] - 0s 4ms/step - loss: 8.4713 - mae: 8.4713\n",
            "Epoch 46/100\n",
            "1/1 [==============================] - 0s 3ms/step - loss: 8.4709 - mae: 8.4709\n",
            "Epoch 47/100\n",
            "1/1 [==============================] - 0s 5ms/step - loss: 8.4704 - mae: 8.4704\n",
            "Epoch 48/100\n",
            "1/1 [==============================] - 0s 4ms/step - loss: 8.4700 - mae: 8.4700\n",
            "Epoch 49/100\n",
            "1/1 [==============================] - 0s 3ms/step - loss: 8.4695 - mae: 8.4695\n",
            "Epoch 50/100\n",
            "1/1 [==============================] - 0s 7ms/step - loss: 8.4691 - mae: 8.4691\n",
            "Epoch 51/100\n",
            "1/1 [==============================] - 0s 6ms/step - loss: 8.4686 - mae: 8.4686\n",
            "Epoch 52/100\n",
            "1/1 [==============================] - 0s 3ms/step - loss: 8.4682 - mae: 8.4682\n",
            "Epoch 53/100\n",
            "1/1 [==============================] - 0s 4ms/step - loss: 8.4677 - mae: 8.4677\n",
            "Epoch 54/100\n",
            "1/1 [==============================] - 0s 5ms/step - loss: 8.4673 - mae: 8.4673\n",
            "Epoch 55/100\n",
            "1/1 [==============================] - 0s 5ms/step - loss: 8.4668 - mae: 8.4668\n",
            "Epoch 56/100\n",
            "1/1 [==============================] - 0s 7ms/step - loss: 8.4664 - mae: 8.4664\n",
            "Epoch 57/100\n",
            "1/1 [==============================] - 0s 4ms/step - loss: 8.4659 - mae: 8.4659\n",
            "Epoch 58/100\n",
            "1/1 [==============================] - 0s 4ms/step - loss: 8.4655 - mae: 8.4655\n",
            "Epoch 59/100\n",
            "1/1 [==============================] - 0s 3ms/step - loss: 8.4650 - mae: 8.4650\n",
            "Epoch 60/100\n",
            "1/1 [==============================] - 0s 4ms/step - loss: 8.4646 - mae: 8.4646\n",
            "Epoch 61/100\n",
            "1/1 [==============================] - 0s 4ms/step - loss: 8.4641 - mae: 8.4641\n",
            "Epoch 62/100\n",
            "1/1 [==============================] - 0s 4ms/step - loss: 8.4637 - mae: 8.4637\n",
            "Epoch 63/100\n",
            "1/1 [==============================] - 0s 5ms/step - loss: 8.4632 - mae: 8.4632\n",
            "Epoch 64/100\n",
            "1/1 [==============================] - 0s 5ms/step - loss: 8.4628 - mae: 8.4628\n",
            "Epoch 65/100\n",
            "1/1 [==============================] - 0s 4ms/step - loss: 8.4623 - mae: 8.4623\n",
            "Epoch 66/100\n",
            "1/1 [==============================] - 0s 4ms/step - loss: 8.4619 - mae: 8.4619\n",
            "Epoch 67/100\n",
            "1/1 [==============================] - 0s 5ms/step - loss: 8.4614 - mae: 8.4614\n",
            "Epoch 68/100\n",
            "1/1 [==============================] - 0s 5ms/step - loss: 8.4610 - mae: 8.4610\n",
            "Epoch 69/100\n",
            "1/1 [==============================] - 0s 5ms/step - loss: 8.4605 - mae: 8.4605\n",
            "Epoch 70/100\n",
            "1/1 [==============================] - 0s 4ms/step - loss: 8.4601 - mae: 8.4601\n",
            "Epoch 71/100\n",
            "1/1 [==============================] - 0s 5ms/step - loss: 8.4596 - mae: 8.4596\n",
            "Epoch 72/100\n",
            "1/1 [==============================] - 0s 4ms/step - loss: 8.4592 - mae: 8.4592\n",
            "Epoch 73/100\n",
            "1/1 [==============================] - 0s 4ms/step - loss: 8.4587 - mae: 8.4587\n",
            "Epoch 74/100\n",
            "1/1 [==============================] - 0s 5ms/step - loss: 8.4583 - mae: 8.4583\n",
            "Epoch 75/100\n",
            "1/1 [==============================] - 0s 4ms/step - loss: 8.4578 - mae: 8.4578\n",
            "Epoch 76/100\n",
            "1/1 [==============================] - 0s 7ms/step - loss: 8.4574 - mae: 8.4574\n",
            "Epoch 77/100\n",
            "1/1 [==============================] - 0s 4ms/step - loss: 8.4569 - mae: 8.4569\n",
            "Epoch 78/100\n",
            "1/1 [==============================] - 0s 5ms/step - loss: 8.4565 - mae: 8.4565\n",
            "Epoch 79/100\n",
            "1/1 [==============================] - 0s 3ms/step - loss: 8.4560 - mae: 8.4560\n",
            "Epoch 80/100\n",
            "1/1 [==============================] - 0s 5ms/step - loss: 8.4556 - mae: 8.4556\n",
            "Epoch 81/100\n",
            "1/1 [==============================] - 0s 4ms/step - loss: 8.4551 - mae: 8.4551\n",
            "Epoch 82/100\n",
            "1/1 [==============================] - 0s 4ms/step - loss: 8.4547 - mae: 8.4547\n",
            "Epoch 83/100\n",
            "1/1 [==============================] - 0s 6ms/step - loss: 8.4542 - mae: 8.4542\n",
            "Epoch 84/100\n",
            "1/1 [==============================] - 0s 7ms/step - loss: 8.4538 - mae: 8.4538\n",
            "Epoch 85/100\n",
            "1/1 [==============================] - 0s 7ms/step - loss: 8.4533 - mae: 8.4533\n",
            "Epoch 86/100\n",
            "1/1 [==============================] - 0s 8ms/step - loss: 8.4529 - mae: 8.4529\n",
            "Epoch 87/100\n",
            "1/1 [==============================] - 0s 4ms/step - loss: 8.4524 - mae: 8.4524\n",
            "Epoch 88/100\n",
            "1/1 [==============================] - 0s 3ms/step - loss: 8.4520 - mae: 8.4520\n",
            "Epoch 89/100\n",
            "1/1 [==============================] - 0s 4ms/step - loss: 8.4515 - mae: 8.4515\n",
            "Epoch 90/100\n",
            "1/1 [==============================] - 0s 4ms/step - loss: 8.4511 - mae: 8.4511\n",
            "Epoch 91/100\n",
            "1/1 [==============================] - 0s 17ms/step - loss: 8.4506 - mae: 8.4506\n",
            "Epoch 92/100\n",
            "1/1 [==============================] - 0s 4ms/step - loss: 8.4502 - mae: 8.4502\n",
            "Epoch 93/100\n",
            "1/1 [==============================] - 0s 6ms/step - loss: 8.4497 - mae: 8.4497\n",
            "Epoch 94/100\n",
            "1/1 [==============================] - 0s 6ms/step - loss: 8.4493 - mae: 8.4493\n",
            "Epoch 95/100\n",
            "1/1 [==============================] - 0s 5ms/step - loss: 8.4488 - mae: 8.4488\n",
            "Epoch 96/100\n",
            "1/1 [==============================] - 0s 8ms/step - loss: 8.4484 - mae: 8.4484\n",
            "Epoch 97/100\n",
            "1/1 [==============================] - 0s 5ms/step - loss: 8.4479 - mae: 8.4479\n",
            "Epoch 98/100\n",
            "1/1 [==============================] - 0s 6ms/step - loss: 8.4475 - mae: 8.4475\n",
            "Epoch 99/100\n",
            "1/1 [==============================] - 0s 5ms/step - loss: 8.4470 - mae: 8.4470\n",
            "Epoch 100/100\n",
            "1/1 [==============================] - 0s 5ms/step - loss: 8.4466 - mae: 8.4466\n"
          ],
          "name": "stdout"
        },
        {
          "output_type": "execute_result",
          "data": {
            "text/plain": [
              "<tensorflow.python.keras.callbacks.History at 0x7f28a1f08210>"
            ]
          },
          "metadata": {
            "tags": []
          },
          "execution_count": 20
        }
      ]
    },
    {
      "cell_type": "code",
      "metadata": {
        "colab": {
          "base_uri": "https://localhost:8080/"
        },
        "id": "twMQs3B5VpXw",
        "outputId": "08cc50e5-74f0-4473-ae42-7bae8e837b54"
      },
      "source": [
        "model.predict([17.])"
      ],
      "execution_count": 21,
      "outputs": [
        {
          "output_type": "execute_result",
          "data": {
            "text/plain": [
              "array([[24.50885]], dtype=float32)"
            ]
          },
          "metadata": {
            "tags": []
          },
          "execution_count": 21
        }
      ]
    },
    {
      "cell_type": "code",
      "metadata": {
        "colab": {
          "base_uri": "https://localhost:8080/"
        },
        "id": "T_dO_ltCV29q",
        "outputId": "c6ccea3a-2a23-4fb8-bc25-c52c46208592"
      },
      "source": [
        "# Let's do it one more time. this time we will add more hidden layers\n",
        "\n",
        "# 1. Create the model (this time we add 3 more hidden layers)\n",
        "model = tf.keras.Sequential([\n",
        "  tf.keras.layers.Dense(100, activation=\"relu\"),\n",
        "  tf.keras.layers.Dense(100, activation=\"relu\"),\n",
        "  tf.keras.layers.Dense(100, activation=\"relu\"),\n",
        "  tf.keras.layers.Dense(1)\n",
        "])\n",
        "\n",
        "# 2. Compile the model\n",
        "model.compile(loss=tf.keras.losses.MAE,\n",
        "              optimizer=tf.keras.optimizers.Adam(learning_rate=0.001),\n",
        "              metrics=[\"mae\"])\n",
        "\n",
        "# 3. Fit the model\n",
        "model.fit(X, y, epochs=100)\n"
      ],
      "execution_count": 22,
      "outputs": [
        {
          "output_type": "stream",
          "text": [
            "Epoch 1/100\n",
            "1/1 [==============================] - 0s 343ms/step - loss: 12.4450 - mae: 12.4450\n",
            "Epoch 2/100\n",
            "1/1 [==============================] - 0s 4ms/step - loss: 12.1035 - mae: 12.1035\n",
            "Epoch 3/100\n",
            "1/1 [==============================] - 0s 5ms/step - loss: 11.7671 - mae: 11.7671\n",
            "Epoch 4/100\n",
            "1/1 [==============================] - 0s 6ms/step - loss: 11.4332 - mae: 11.4332\n",
            "Epoch 5/100\n",
            "1/1 [==============================] - 0s 4ms/step - loss: 11.0918 - mae: 11.0918\n",
            "Epoch 6/100\n",
            "1/1 [==============================] - 0s 5ms/step - loss: 10.7424 - mae: 10.7424\n",
            "Epoch 7/100\n",
            "1/1 [==============================] - 0s 4ms/step - loss: 10.4482 - mae: 10.4482\n",
            "Epoch 8/100\n",
            "1/1 [==============================] - 0s 4ms/step - loss: 10.1831 - mae: 10.1831\n",
            "Epoch 9/100\n",
            "1/1 [==============================] - 0s 4ms/step - loss: 9.9015 - mae: 9.9015\n",
            "Epoch 10/100\n",
            "1/1 [==============================] - 0s 3ms/step - loss: 9.6097 - mae: 9.6097\n",
            "Epoch 11/100\n",
            "1/1 [==============================] - 0s 4ms/step - loss: 9.2930 - mae: 9.2930\n",
            "Epoch 12/100\n",
            "1/1 [==============================] - 0s 4ms/step - loss: 8.9582 - mae: 8.9582\n",
            "Epoch 13/100\n",
            "1/1 [==============================] - 0s 3ms/step - loss: 8.6020 - mae: 8.6020\n",
            "Epoch 14/100\n",
            "1/1 [==============================] - 0s 3ms/step - loss: 8.2198 - mae: 8.2198\n",
            "Epoch 15/100\n",
            "1/1 [==============================] - 0s 3ms/step - loss: 7.8120 - mae: 7.8120\n",
            "Epoch 16/100\n",
            "1/1 [==============================] - 0s 3ms/step - loss: 7.3829 - mae: 7.3829\n",
            "Epoch 17/100\n",
            "1/1 [==============================] - 0s 4ms/step - loss: 6.9304 - mae: 6.9304\n",
            "Epoch 18/100\n",
            "1/1 [==============================] - 0s 3ms/step - loss: 6.4445 - mae: 6.4445\n",
            "Epoch 19/100\n",
            "1/1 [==============================] - 0s 5ms/step - loss: 5.9254 - mae: 5.9254\n",
            "Epoch 20/100\n",
            "1/1 [==============================] - 0s 3ms/step - loss: 5.3718 - mae: 5.3718\n",
            "Epoch 21/100\n",
            "1/1 [==============================] - 0s 5ms/step - loss: 4.7825 - mae: 4.7825\n",
            "Epoch 22/100\n",
            "1/1 [==============================] - 0s 3ms/step - loss: 4.1769 - mae: 4.1769\n",
            "Epoch 23/100\n",
            "1/1 [==============================] - 0s 6ms/step - loss: 3.9766 - mae: 3.9766\n",
            "Epoch 24/100\n",
            "1/1 [==============================] - 0s 6ms/step - loss: 3.9642 - mae: 3.9642\n",
            "Epoch 25/100\n",
            "1/1 [==============================] - 0s 4ms/step - loss: 4.0867 - mae: 4.0867\n",
            "Epoch 26/100\n",
            "1/1 [==============================] - 0s 5ms/step - loss: 4.1921 - mae: 4.1921\n",
            "Epoch 27/100\n",
            "1/1 [==============================] - 0s 4ms/step - loss: 4.3695 - mae: 4.3695\n",
            "Epoch 28/100\n",
            "1/1 [==============================] - 0s 3ms/step - loss: 4.5361 - mae: 4.5361\n",
            "Epoch 29/100\n",
            "1/1 [==============================] - 0s 5ms/step - loss: 4.6197 - mae: 4.6197\n",
            "Epoch 30/100\n",
            "1/1 [==============================] - 0s 10ms/step - loss: 4.6309 - mae: 4.6309\n",
            "Epoch 31/100\n",
            "1/1 [==============================] - 0s 6ms/step - loss: 4.5775 - mae: 4.5775\n",
            "Epoch 32/100\n",
            "1/1 [==============================] - 0s 5ms/step - loss: 4.4714 - mae: 4.4714\n",
            "Epoch 33/100\n",
            "1/1 [==============================] - 0s 7ms/step - loss: 4.3206 - mae: 4.3206\n",
            "Epoch 34/100\n",
            "1/1 [==============================] - 0s 4ms/step - loss: 4.1424 - mae: 4.1424\n",
            "Epoch 35/100\n",
            "1/1 [==============================] - 0s 7ms/step - loss: 4.0656 - mae: 4.0656\n",
            "Epoch 36/100\n",
            "1/1 [==============================] - 0s 3ms/step - loss: 3.9894 - mae: 3.9894\n",
            "Epoch 37/100\n",
            "1/1 [==============================] - 0s 5ms/step - loss: 3.9148 - mae: 3.9148\n",
            "Epoch 38/100\n",
            "1/1 [==============================] - 0s 7ms/step - loss: 3.8406 - mae: 3.8406\n",
            "Epoch 39/100\n",
            "1/1 [==============================] - 0s 12ms/step - loss: 3.7676 - mae: 3.7676\n",
            "Epoch 40/100\n",
            "1/1 [==============================] - 0s 11ms/step - loss: 3.7732 - mae: 3.7732\n",
            "Epoch 41/100\n",
            "1/1 [==============================] - 0s 6ms/step - loss: 3.8250 - mae: 3.8250\n",
            "Epoch 42/100\n",
            "1/1 [==============================] - 0s 8ms/step - loss: 3.8348 - mae: 3.8348\n",
            "Epoch 43/100\n",
            "1/1 [==============================] - 0s 6ms/step - loss: 3.8604 - mae: 3.8604\n",
            "Epoch 44/100\n",
            "1/1 [==============================] - 0s 4ms/step - loss: 3.8715 - mae: 3.8715\n",
            "Epoch 45/100\n",
            "1/1 [==============================] - 0s 5ms/step - loss: 3.8685 - mae: 3.8685\n",
            "Epoch 46/100\n",
            "1/1 [==============================] - 0s 5ms/step - loss: 3.8524 - mae: 3.8524\n",
            "Epoch 47/100\n",
            "1/1 [==============================] - 0s 5ms/step - loss: 3.8251 - mae: 3.8251\n",
            "Epoch 48/100\n",
            "1/1 [==============================] - 0s 4ms/step - loss: 3.7871 - mae: 3.7871\n",
            "Epoch 49/100\n",
            "1/1 [==============================] - 0s 7ms/step - loss: 3.7387 - mae: 3.7387\n",
            "Epoch 50/100\n",
            "1/1 [==============================] - 0s 9ms/step - loss: 3.6782 - mae: 3.6782\n",
            "Epoch 51/100\n",
            "1/1 [==============================] - 0s 6ms/step - loss: 3.6548 - mae: 3.6548\n",
            "Epoch 52/100\n",
            "1/1 [==============================] - 0s 7ms/step - loss: 3.6745 - mae: 3.6745\n",
            "Epoch 53/100\n",
            "1/1 [==============================] - 0s 5ms/step - loss: 3.6840 - mae: 3.6840\n",
            "Epoch 54/100\n",
            "1/1 [==============================] - 0s 3ms/step - loss: 3.6827 - mae: 3.6827\n",
            "Epoch 55/100\n",
            "1/1 [==============================] - 0s 8ms/step - loss: 3.6784 - mae: 3.6784\n",
            "Epoch 56/100\n",
            "1/1 [==============================] - 0s 6ms/step - loss: 3.6610 - mae: 3.6610\n",
            "Epoch 57/100\n",
            "1/1 [==============================] - 0s 4ms/step - loss: 3.6441 - mae: 3.6441\n",
            "Epoch 58/100\n",
            "1/1 [==============================] - 0s 5ms/step - loss: 3.6188 - mae: 3.6188\n",
            "Epoch 59/100\n",
            "1/1 [==============================] - 0s 3ms/step - loss: 3.5874 - mae: 3.5874\n",
            "Epoch 60/100\n",
            "1/1 [==============================] - 0s 8ms/step - loss: 3.5491 - mae: 3.5491\n",
            "Epoch 61/100\n",
            "1/1 [==============================] - 0s 6ms/step - loss: 3.5566 - mae: 3.5566\n",
            "Epoch 62/100\n",
            "1/1 [==============================] - 0s 13ms/step - loss: 3.5709 - mae: 3.5709\n",
            "Epoch 63/100\n",
            "1/1 [==============================] - 0s 7ms/step - loss: 3.5534 - mae: 3.5534\n",
            "Epoch 64/100\n",
            "1/1 [==============================] - 0s 6ms/step - loss: 3.5260 - mae: 3.5260\n",
            "Epoch 65/100\n",
            "1/1 [==============================] - 0s 4ms/step - loss: 3.4861 - mae: 3.4861\n",
            "Epoch 66/100\n",
            "1/1 [==============================] - 0s 6ms/step - loss: 3.4869 - mae: 3.4869\n",
            "Epoch 67/100\n",
            "1/1 [==============================] - 0s 5ms/step - loss: 3.4745 - mae: 3.4745\n",
            "Epoch 68/100\n",
            "1/1 [==============================] - 0s 4ms/step - loss: 3.4556 - mae: 3.4556\n",
            "Epoch 69/100\n",
            "1/1 [==============================] - 0s 5ms/step - loss: 3.4328 - mae: 3.4328\n",
            "Epoch 70/100\n",
            "1/1 [==============================] - 0s 3ms/step - loss: 3.4109 - mae: 3.4109\n",
            "Epoch 71/100\n",
            "1/1 [==============================] - 0s 4ms/step - loss: 3.4017 - mae: 3.4017\n",
            "Epoch 72/100\n",
            "1/1 [==============================] - 0s 5ms/step - loss: 3.3828 - mae: 3.3828\n",
            "Epoch 73/100\n",
            "1/1 [==============================] - 0s 5ms/step - loss: 3.3818 - mae: 3.3818\n",
            "Epoch 74/100\n",
            "1/1 [==============================] - 0s 7ms/step - loss: 3.3558 - mae: 3.3558\n",
            "Epoch 75/100\n",
            "1/1 [==============================] - 0s 8ms/step - loss: 3.3348 - mae: 3.3348\n",
            "Epoch 76/100\n",
            "1/1 [==============================] - 0s 8ms/step - loss: 3.3217 - mae: 3.3217\n",
            "Epoch 77/100\n",
            "1/1 [==============================] - 0s 7ms/step - loss: 3.3113 - mae: 3.3113\n",
            "Epoch 78/100\n",
            "1/1 [==============================] - 0s 14ms/step - loss: 3.2930 - mae: 3.2930\n",
            "Epoch 79/100\n",
            "1/1 [==============================] - 0s 6ms/step - loss: 3.2605 - mae: 3.2605\n",
            "Epoch 80/100\n",
            "1/1 [==============================] - 0s 4ms/step - loss: 3.2546 - mae: 3.2546\n",
            "Epoch 81/100\n",
            "1/1 [==============================] - 0s 6ms/step - loss: 3.2301 - mae: 3.2301\n",
            "Epoch 82/100\n",
            "1/1 [==============================] - 0s 6ms/step - loss: 3.2257 - mae: 3.2257\n",
            "Epoch 83/100\n",
            "1/1 [==============================] - 0s 4ms/step - loss: 3.1999 - mae: 3.1999\n",
            "Epoch 84/100\n",
            "1/1 [==============================] - 0s 4ms/step - loss: 3.1777 - mae: 3.1777\n",
            "Epoch 85/100\n",
            "1/1 [==============================] - 0s 7ms/step - loss: 3.1449 - mae: 3.1449\n",
            "Epoch 86/100\n",
            "1/1 [==============================] - 0s 5ms/step - loss: 3.1244 - mae: 3.1244\n",
            "Epoch 87/100\n",
            "1/1 [==============================] - 0s 4ms/step - loss: 3.0975 - mae: 3.0975\n",
            "Epoch 88/100\n",
            "1/1 [==============================] - 0s 5ms/step - loss: 3.0835 - mae: 3.0835\n",
            "Epoch 89/100\n",
            "1/1 [==============================] - 0s 5ms/step - loss: 3.0574 - mae: 3.0574\n",
            "Epoch 90/100\n",
            "1/1 [==============================] - 0s 5ms/step - loss: 3.0222 - mae: 3.0222\n",
            "Epoch 91/100\n",
            "1/1 [==============================] - 0s 7ms/step - loss: 3.0086 - mae: 3.0086\n",
            "Epoch 92/100\n",
            "1/1 [==============================] - 0s 4ms/step - loss: 2.9781 - mae: 2.9781\n",
            "Epoch 93/100\n",
            "1/1 [==============================] - 0s 7ms/step - loss: 2.9558 - mae: 2.9558\n",
            "Epoch 94/100\n",
            "1/1 [==============================] - 0s 5ms/step - loss: 2.9370 - mae: 2.9370\n",
            "Epoch 95/100\n",
            "1/1 [==============================] - 0s 6ms/step - loss: 2.9009 - mae: 2.9009\n",
            "Epoch 96/100\n",
            "1/1 [==============================] - 0s 5ms/step - loss: 2.8477 - mae: 2.8477\n",
            "Epoch 97/100\n",
            "1/1 [==============================] - 0s 4ms/step - loss: 2.8360 - mae: 2.8360\n",
            "Epoch 98/100\n",
            "1/1 [==============================] - 0s 8ms/step - loss: 2.7950 - mae: 2.7950\n",
            "Epoch 99/100\n",
            "1/1 [==============================] - 0s 6ms/step - loss: 2.7453 - mae: 2.7453\n",
            "Epoch 100/100\n",
            "1/1 [==============================] - 0s 4ms/step - loss: 2.7134 - mae: 2.7134\n"
          ],
          "name": "stdout"
        },
        {
          "output_type": "execute_result",
          "data": {
            "text/plain": [
              "<tensorflow.python.keras.callbacks.History at 0x7f28a0519090>"
            ]
          },
          "metadata": {
            "tags": []
          },
          "execution_count": 22
        }
      ]
    },
    {
      "cell_type": "code",
      "metadata": {
        "colab": {
          "base_uri": "https://localhost:8080/"
        },
        "id": "x236g-6lWqt_",
        "outputId": "f011f518-bb57-4452-c57c-98ae8e58ec9f"
      },
      "source": [
        "model.predict([17.])"
      ],
      "execution_count": 23,
      "outputs": [
        {
          "output_type": "execute_result",
          "data": {
            "text/plain": [
              "array([[31.127031]], dtype=float32)"
            ]
          },
          "metadata": {
            "tags": []
          },
          "execution_count": 23
        }
      ]
    },
    {
      "cell_type": "markdown",
      "metadata": {
        "id": "1X7ZwcK1erk-"
      },
      "source": [
        "**Common ways to improve a deep model:**\n",
        "* Adding layers\n",
        "* Increase the number of hidden units\n",
        "* Change the activation functions \n",
        "* Change the optimization function\n",
        "* Change the learning rate\n",
        "* Fitting on more data\n",
        "* Fitting for longer"
      ]
    },
    {
      "cell_type": "markdown",
      "metadata": {
        "id": "9HcqvIl2eFmS"
      },
      "source": [
        "## Evaluting a model\n",
        "\n",
        "In practice, a typical workflow you'll go through when building neural networks is :\n",
        "```\n",
        "Build a model -> fit it -> evaluate it -> tweak a model -> fit it -> evaluate it -> tweak a model ....\n",
        "```"
      ]
    },
    {
      "cell_type": "markdown",
      "metadata": {
        "id": "6nkxgU78fFhg"
      },
      "source": [
        "When it comes to evaluation... there are 3 words you should memorize:\n",
        "\n",
        ">\"Visualize, visualize, visualize\"\n",
        "\n",
        "It's a good idea to visualize:\n",
        "* The data - what date are we working with? What does this look like?\n",
        "\n",
        "* The model itself - what does our model look like?\n",
        "* The training of a model - how does a model perform while it learns?\n",
        "* The predictions of the model - how the predictions of a model line up against the ground truth (the original labels)"
      ]
    },
    {
      "cell_type": "code",
      "metadata": {
        "colab": {
          "base_uri": "https://localhost:8080/"
        },
        "id": "vG1iUpy4WtSs",
        "outputId": "baa261da-2407-47dc-e3a2-9619525cd600"
      },
      "source": [
        "# Make a bigger dataset \\\n",
        "X = tf.range(-100, 100, 4)\n",
        "X"
      ],
      "execution_count": 24,
      "outputs": [
        {
          "output_type": "execute_result",
          "data": {
            "text/plain": [
              "<tf.Tensor: shape=(50,), dtype=int32, numpy=\n",
              "array([-100,  -96,  -92,  -88,  -84,  -80,  -76,  -72,  -68,  -64,  -60,\n",
              "        -56,  -52,  -48,  -44,  -40,  -36,  -32,  -28,  -24,  -20,  -16,\n",
              "        -12,   -8,   -4,    0,    4,    8,   12,   16,   20,   24,   28,\n",
              "         32,   36,   40,   44,   48,   52,   56,   60,   64,   68,   72,\n",
              "         76,   80,   84,   88,   92,   96], dtype=int32)>"
            ]
          },
          "metadata": {
            "tags": []
          },
          "execution_count": 24
        }
      ]
    },
    {
      "cell_type": "code",
      "metadata": {
        "colab": {
          "base_uri": "https://localhost:8080/"
        },
        "id": "JxviAE0pf9wq",
        "outputId": "eb0a8253-0458-4fbd-c837-0e5b1f861850"
      },
      "source": [
        "# Make labels for the dataset\n",
        "y = X + 10\n",
        "y"
      ],
      "execution_count": 25,
      "outputs": [
        {
          "output_type": "execute_result",
          "data": {
            "text/plain": [
              "<tf.Tensor: shape=(50,), dtype=int32, numpy=\n",
              "array([-90, -86, -82, -78, -74, -70, -66, -62, -58, -54, -50, -46, -42,\n",
              "       -38, -34, -30, -26, -22, -18, -14, -10,  -6,  -2,   2,   6,  10,\n",
              "        14,  18,  22,  26,  30,  34,  38,  42,  46,  50,  54,  58,  62,\n",
              "        66,  70,  74,  78,  82,  86,  90,  94,  98, 102, 106], dtype=int32)>"
            ]
          },
          "metadata": {
            "tags": []
          },
          "execution_count": 25
        }
      ]
    },
    {
      "cell_type": "code",
      "metadata": {
        "colab": {
          "base_uri": "https://localhost:8080/",
          "height": 283
        },
        "id": "cCZOOr3pgnFF",
        "outputId": "67a189c9-562b-4cb5-9931-7f961eb692f4"
      },
      "source": [
        "# Visualize the data\n",
        "import matplotlib.pyplot as plt\n",
        "plt.scatter(X, y)"
      ],
      "execution_count": 26,
      "outputs": [
        {
          "output_type": "execute_result",
          "data": {
            "text/plain": [
              "<matplotlib.collections.PathCollection at 0x7f28a037ef10>"
            ]
          },
          "metadata": {
            "tags": []
          },
          "execution_count": 26
        },
        {
          "output_type": "display_data",
          "data": {
            "image/png": "[encoded data removed]",
            "text/plain": [
              "<Figure size 432x288 with 1 Axes>"
            ]
          },
          "metadata": {
            "tags": [],
            "needs_background": "light"
          }
        }
      ]
    },
    {
      "cell_type": "markdown",
      "metadata": {
        "id": "2jOvGjyPg04Y"
      },
      "source": [
        "### The 3 sets....\n",
        "\n",
        "* **Training set** - the model learns form this data, which is typically 70-80% of the total data you have available.\n",
        "* **Validation set** - the model gets tuned on this data, which is typically 10-15% of the data available.\n",
        "* Test set - the model gets evaluated on this data to test what is has learned, this set is typically 10-15% of the total data available."
      ]
    },
    {
      "cell_type": "code",
      "metadata": {
        "colab": {
          "base_uri": "https://localhost:8080/"
        },
        "id": "hyAk5UwbhqTm",
        "outputId": "4a59791f-c551-408b-aeec-66939bd740f2"
      },
      "source": [
        "# Check the length of how many samples we have\n",
        "len(X)"
      ],
      "execution_count": 27,
      "outputs": [
        {
          "output_type": "execute_result",
          "data": {
            "text/plain": [
              "50"
            ]
          },
          "metadata": {
            "tags": []
          },
          "execution_count": 27
        }
      ]
    },
    {
      "cell_type": "code",
      "metadata": {
        "colab": {
          "base_uri": "https://localhost:8080/"
        },
        "id": "Fra88HZiiHcF",
        "outputId": "b42f2faf-4586-4038-b187-11ab7418f135"
      },
      "source": [
        "# Split the data into train and test sets\n",
        "X_train = X[:40] # first 40 are training samples (80% of the data) \n",
        "y_train = y[:40]\n",
        "\n",
        "X_test = X[40:] # last 10 are testing samples (20% of the data) \n",
        "y_test = y[40:]\n",
        "\n",
        "len(X_train), len(X_test), len(y_train), len(y_test)"
      ],
      "execution_count": 28,
      "outputs": [
        {
          "output_type": "execute_result",
          "data": {
            "text/plain": [
              "(40, 10, 40, 10)"
            ]
          },
          "metadata": {
            "tags": []
          },
          "execution_count": 28
        }
      ]
    },
    {
      "cell_type": "markdown",
      "metadata": {
        "id": "LqNEtVRYjAWQ"
      },
      "source": [
        "### Visualizing the data\n",
        "\n",
        "Now we've got our data in training and test sets... let's visaulize it again!"
      ]
    },
    {
      "cell_type": "code",
      "metadata": {
        "colab": {
          "base_uri": "https://localhost:8080/",
          "height": 428
        },
        "id": "ml9BE4Dhi_Jb",
        "outputId": "7a1dcfaa-12ce-4985-8126-b0136d41d92d"
      },
      "source": [
        "plt.figure(figsize=(10, 7))\n",
        "# Plot training data in blue\n",
        "plt.scatter(X_train, y_train, c=\"b\", label=\"Training data\")\n",
        "# Plot test data in green\n",
        "plt.scatter(X_test, y_test, c=\"g\", label=\"Testing data\") \n",
        "# Show a legend\n",
        "plt.legend();"
      ],
      "execution_count": 29,
      "outputs": [
        {
          "output_type": "display_data",
          "data": {
            "image/png": "[encoded data removed]",
            "text/plain": [
              "<Figure size 720x504 with 1 Axes>"
            ]
          },
          "metadata": {
            "tags": [],
            "needs_background": "light"
          }
        }
      ]
    },
    {
      "cell_type": "code",
      "metadata": {
        "id": "-O6L77nUou8W"
      },
      "source": [
        "# Let's have a look at how to build a neural network for our data\n",
        "\n",
        "# 1. Create a model\n",
        "model = tf.keras.Sequential([\n",
        "  tf.keras.layers.Dense(1)\n",
        "])\n",
        "\n",
        "# 2. Conpile the model\n",
        "model.compile(loss=tf.keras.losses.MAE,\n",
        "              optimizer=tf.keras.optimizers.SGD(),\n",
        "              metrics=[\"mae\"])\n",
        "\n",
        "# 3. Fit the model\n",
        "#model.fit(X_train, y_train, epochs=100)"
      ],
      "execution_count": 30,
      "outputs": []
    },
    {
      "cell_type": "markdown",
      "metadata": {
        "id": "kq_NumVVppgr"
      },
      "source": [
        "### Visualizing the model"
      ]
    },
    {
      "cell_type": "code",
      "metadata": {
        "colab": {
          "base_uri": "https://localhost:8080/",
          "height": 316
        },
        "id": "5mlFNGwnpk1U",
        "outputId": "4d012fbd-3dba-432a-ce1a-4d46e564fc1d"
      },
      "source": [
        "model.summary()"
      ],
      "execution_count": 32,
      "outputs": [
        {
          "output_type": "error",
          "ename": "ValueError",
          "evalue": "ignored",
          "traceback": [
            "\u001b[0;31m---------------------------------------------------------------------------\u001b[0m",
            "\u001b[0;31mValueError\u001b[0m                                Traceback (most recent call last)",
            "\u001b[0;32m<ipython-input-32-5f15418b3570>\u001b[0m in \u001b[0;36m<module>\u001b[0;34m()\u001b[0m\n\u001b[0;32m----> 1\u001b[0;31m \u001b[0mmodel\u001b[0m\u001b[0;34m.\u001b[0m\u001b[0msummary\u001b[0m\u001b[0;34m(\u001b[0m\u001b[0;34m)\u001b[0m\u001b[0;34m\u001b[0m\u001b[0;34m\u001b[0m\u001b[0m\n\u001b[0m",
            "\u001b[0;32m/usr/local/lib/python3.7/dist-packages/tensorflow/python/keras/engine/training.py\u001b[0m in \u001b[0;36msummary\u001b[0;34m(self, line_length, positions, print_fn)\u001b[0m\n\u001b[1;32m   2475\u001b[0m     \"\"\"\n\u001b[1;32m   2476\u001b[0m     \u001b[0;32mif\u001b[0m \u001b[0;32mnot\u001b[0m \u001b[0mself\u001b[0m\u001b[0;34m.\u001b[0m\u001b[0mbuilt\u001b[0m\u001b[0;34m:\u001b[0m\u001b[0;34m\u001b[0m\u001b[0;34m\u001b[0m\u001b[0m\n\u001b[0;32m-> 2477\u001b[0;31m       raise ValueError('This model has not yet been built. '\n\u001b[0m\u001b[1;32m   2478\u001b[0m                        \u001b[0;34m'Build the model first by calling `build()` or calling '\u001b[0m\u001b[0;34m\u001b[0m\u001b[0;34m\u001b[0m\u001b[0m\n\u001b[1;32m   2479\u001b[0m                        \u001b[0;34m'`fit()` with some data, or specify '\u001b[0m\u001b[0;34m\u001b[0m\u001b[0;34m\u001b[0m\u001b[0m\n",
            "\u001b[0;31mValueError\u001b[0m: This model has not yet been built. Build the model first by calling `build()` or calling `fit()` with some data, or specify an `input_shape` argument in the first layer(s) for automatic build."
          ]
        }
      ]
    },
    {
      "cell_type": "code",
      "metadata": {
        "colab": {
          "base_uri": "https://localhost:8080/"
        },
        "id": "OYdXz2Vnqtsz",
        "outputId": "60c341f9-93fb-4d7c-9c4f-5d924851310b"
      },
      "source": [
        "X[0].shape"
      ],
      "execution_count": 34,
      "outputs": [
        {
          "output_type": "execute_result",
          "data": {
            "text/plain": [
              "TensorShape([])"
            ]
          },
          "metadata": {
            "tags": []
          },
          "execution_count": 34
        }
      ]
    },
    {
      "cell_type": "code",
      "metadata": {
        "id": "hTAiROTCp78P"
      },
      "source": [
        "# Let's create a model which builds automatically by defining the input shape argumentr in the first layer\n",
        "tf.random.set_seed(42)\n",
        "# 1. Create the model \n",
        "model = tf.keras.Sequential([\n",
        "  tf.keras.layers.Dense(1, input_shape=[1])\n",
        "])\n",
        "\n",
        "# 2. Compile the model\n",
        "model.compile(loss=tf.keras.losses.MAE,\n",
        "              optimizer=tf.keras.optimizers.SGD(),\n",
        "              metrics=[\"mae\"])\n",
        "\n",
        "# 3. Fit the model\n",
        "# model.fit(X_train, y_train, epochs=100)"
      ],
      "execution_count": 33,
      "outputs": []
    },
    {
      "cell_type": "code",
      "metadata": {
        "colab": {
          "base_uri": "https://localhost:8080/"
        },
        "id": "hDwcHH64rDLo",
        "outputId": "4b973223-0dc6-4769-d819-0f377cf4923d"
      },
      "source": [
        "model.summary()"
      ],
      "execution_count": 35,
      "outputs": [
        {
          "output_type": "stream",
          "text": [
            "Model: \"sequential_5\"\n",
            "_________________________________________________________________\n",
            "Layer (type)                 Output Shape              Param #   \n",
            "=================================================================\n",
            "dense_8 (Dense)              (None, 1)                 2         \n",
            "=================================================================\n",
            "Total params: 2\n",
            "Trainable params: 2\n",
            "Non-trainable params: 0\n",
            "_________________________________________________________________\n"
          ],
          "name": "stdout"
        }
      ]
    },
    {
      "cell_type": "markdown",
      "metadata": {
        "id": "pEc8hCy8rUga"
      },
      "source": [
        "* Total params - total number of parameters in the model.\n",
        "* Trainable parameters - there are the parameters (patterns) the model can update as it trains.\n",
        "* Non-trainable params - these parameter aren't updated during training (this is typical when you bring in already learn patterns or parameters from other models during **transfer learning**)\n",
        "\n",
        "**Resource** For a more in-depth overview of the trainable parameters within a layer, check out MIT's introduction to deep learning video.\n",
        "\n",
        "**Exercise** Try playing around with the number of hidden units in the dense layer, see how that effects the number of parameters (total and trainable) by calling `model.summary()`"
      ]
    },
    {
      "cell_type": "code",
      "metadata": {
        "colab": {
          "base_uri": "https://localhost:8080/"
        },
        "id": "EOxuxD8Nr_2Q",
        "outputId": "cc6757e1-6778-43bf-ecf7-d543078a07b1"
      },
      "source": [
        "# 1. Create the model \n",
        "model = tf.keras.Sequential([\n",
        "  tf.keras.layers.Dense(10, input_shape=[1], name=\"input_layer\"),\n",
        "  tf.keras.layers.Dense(1, name=\"output_layer\")\n",
        "], name=\"model_1\")\n",
        "\n",
        "# 2. Compile the model\n",
        "model.compile(loss=tf.keras.losses.MAE,\n",
        "              optimizer=tf.keras.optimizers.SGD(learning_rate=0.01),\n",
        "              metrics=[\"mae\"])\n",
        "\n",
        "model.summary()"
      ],
      "execution_count": 64,
      "outputs": [
        {
          "output_type": "stream",
          "text": [
            "Model: \"model_1\"\n",
            "_________________________________________________________________\n",
            "Layer (type)                 Output Shape              Param #   \n",
            "=================================================================\n",
            "input_layer (Dense)          (None, 10)                20        \n",
            "_________________________________________________________________\n",
            "output_layer (Dense)         (None, 1)                 11        \n",
            "=================================================================\n",
            "Total params: 31\n",
            "Trainable params: 31\n",
            "Non-trainable params: 0\n",
            "_________________________________________________________________\n"
          ],
          "name": "stdout"
        }
      ]
    },
    {
      "cell_type": "code",
      "metadata": {
        "colab": {
          "base_uri": "https://localhost:8080/"
        },
        "id": "NWHrirktuATC",
        "outputId": "6614544f-3f4e-4396-bc06-80cc6c099d28"
      },
      "source": [
        "# Let;s fit our model to the training data\n",
        "model.fit(X_train, y_train, epochs=100, verbose=0)"
      ],
      "execution_count": 65,
      "outputs": [
        {
          "output_type": "execute_result",
          "data": {
            "text/plain": [
              "<tensorflow.python.keras.callbacks.History at 0x7f28a00c2bd0>"
            ]
          },
          "metadata": {
            "tags": []
          },
          "execution_count": 65
        }
      ]
    },
    {
      "cell_type": "code",
      "metadata": {
        "colab": {
          "base_uri": "https://localhost:8080/"
        },
        "id": "af0is_OgYWmp",
        "outputId": "7eb0107d-294c-4a5f-adfc-1b9b75c7e401"
      },
      "source": [
        "# Get a summary of our model\n",
        "model.summary()"
      ],
      "execution_count": 60,
      "outputs": [
        {
          "output_type": "stream",
          "text": [
            "Model: \"model_1\"\n",
            "_________________________________________________________________\n",
            "Layer (type)                 Output Shape              Param #   \n",
            "=================================================================\n",
            "input_layer (Dense)          (None, 10)                20        \n",
            "_________________________________________________________________\n",
            "output_layer (Dense)         (None, 1)                 11        \n",
            "=================================================================\n",
            "Total params: 31\n",
            "Trainable params: 31\n",
            "Non-trainable params: 0\n",
            "_________________________________________________________________\n"
          ],
          "name": "stdout"
        }
      ]
    },
    {
      "cell_type": "code",
      "metadata": {
        "colab": {
          "base_uri": "https://localhost:8080/",
          "height": 312
        },
        "id": "mogPG1CEZRmn",
        "outputId": "ac8e1f54-e4e3-4a76-bee1-90b5b0f991de"
      },
      "source": [
        "from tensorflow.keras.utils import plot_model\n",
        "\n",
        "plot_model(model=model, show_shapes=True)"
      ],
      "execution_count": 51,
      "outputs": [
        {
          "output_type": "execute_result",
          "data": {
            "image/png": "[encoded data removed]",
            "text/plain": [
              "<IPython.core.display.Image object>"
            ]
          },
          "metadata": {
            "tags": []
          },
          "execution_count": 51
        }
      ]
    },
    {
      "cell_type": "markdown",
      "metadata": {
        "id": "w_NfGNL6arfz"
      },
      "source": [
        "### Visualizing our model's predictions\n",
        "\n",
        "To visualize predictions, it's a good idea to plot them against the ground truth labels.\n",
        "\n",
        "Often you'll see this in the form of `y_test` or `y_true` versus `y_pred` ( ground truth versus your model predictions)\n",
        "\n"
      ]
    },
    {
      "cell_type": "code",
      "metadata": {
        "colab": {
          "base_uri": "https://localhost:8080/"
        },
        "id": "YoCYFXbAapxa",
        "outputId": "5acdaf33-bbf4-4b7d-88e9-ed11349f6332"
      },
      "source": [
        "# Make some predictions\n",
        "y_pred = model.predict(X_test)\n",
        "y_pred"
      ],
      "execution_count": 66,
      "outputs": [
        {
          "output_type": "execute_result",
          "data": {
            "text/plain": [
              "array([[ 76.49255],\n",
              "       [ 81.4774 ],\n",
              "       [ 86.46225],\n",
              "       [ 91.44711],\n",
              "       [ 96.43196],\n",
              "       [101.41681],\n",
              "       [106.40166],\n",
              "       [111.38651],\n",
              "       [116.37137],\n",
              "       [121.35622]], dtype=float32)"
            ]
          },
          "metadata": {
            "tags": []
          },
          "execution_count": 66
        }
      ]
    },
    {
      "cell_type": "code",
      "metadata": {
        "colab": {
          "base_uri": "https://localhost:8080/"
        },
        "id": "3XsFBSNUbZCe",
        "outputId": "2f5fec36-f42b-4d67-b4e5-4b5852619b70"
      },
      "source": [
        "y_test"
      ],
      "execution_count": 68,
      "outputs": [
        {
          "output_type": "execute_result",
          "data": {
            "text/plain": [
              "<tf.Tensor: shape=(10,), dtype=int32, numpy=array([ 70,  74,  78,  82,  86,  90,  94,  98, 102, 106], dtype=int32)>"
            ]
          },
          "metadata": {
            "tags": []
          },
          "execution_count": 68
        }
      ]
    },
    {
      "cell_type": "markdown",
      "metadata": {
        "id": "HOEff-J5cH5E"
      },
      "source": [
        "**Note:** If you feel like you're going to reuse some kind of functionality in the future, it's a good idea to turn it into a function"
      ]
    },
    {
      "cell_type": "code",
      "metadata": {
        "id": "FBcCQQnEb_hD"
      },
      "source": [
        "# Let's create a plotting function\n",
        "def plot_predictions(train_data=X_train,\n",
        "                     train_labels=y_train,\n",
        "                     test_data=X_test,\n",
        "                     test_labels=y_test,\n",
        "                     predictions=y_pred):\n",
        "  \n",
        "  \"\"\"\n",
        "  Plots training data, test data and compares predictions with ground truth labels\n",
        "  \"\"\"\n",
        "  plt.figure(figsize=(10, 7))\n",
        "  # Plot training data in blue\n",
        "  plt.scatter(train_data, train_labels, c=\"b\", label=\"Training data\")\n",
        "  # Plot testing data in green\n",
        "  plt.scatter(test_data, test_labels, c=\"g\", label=\"Testing data\")\n",
        "  # Plot model's predictions in red\n",
        "  plt.scatter(test_data, y_pred, c=\"r\", label=\"Predictions\")\n",
        "  # Show the ledeng\n",
        "  plt.legend()\n",
        "  plt.show()\n"
      ],
      "execution_count": 71,
      "outputs": []
    },
    {
      "cell_type": "code",
      "metadata": {
        "colab": {
          "base_uri": "https://localhost:8080/",
          "height": 428
        },
        "id": "ajw3t02EdVAN",
        "outputId": "32964303-aa4a-486a-c991-71bee8db4b5b"
      },
      "source": [
        "plot_predictions(train_data=X_train,\n",
        "                 train_labels=y_train,\n",
        "                 test_data=X_test,\n",
        "                 test_labels=y_test,\n",
        "                 predictions=y_pred)"
      ],
      "execution_count": 73,
      "outputs": [
        {
          "output_type": "display_data",
          "data": {
            "image/png": "[encoded data removed]",
            "text/plain": [
              "<Figure size 720x504 with 1 Axes>"
            ]
          },
          "metadata": {
            "tags": [],
            "needs_background": "light"
          }
        }
      ]
    },
    {
      "cell_type": "markdown",
      "metadata": {
        "id": "D-EJypEHdyui"
      },
      "source": [
        "### Evaluting our model's predictions with regression evaluation metrics\n",
        "\n",
        "Depending on the problem you're working on, there will be different evaluation metrics to evaluate your model's preformance.\n",
        "\n",
        "Since we're working on a regression, two of the main metrics:\n",
        "* MAE - mean absolute error, \"on average, how wrong is each of my model's predictions\"\n",
        "* MSE - mean square error, \"square the average errors\""
      ]
    },
    {
      "cell_type": "code",
      "metadata": {
        "colab": {
          "base_uri": "https://localhost:8080/"
        },
        "id": "z_ibPqoed4FP",
        "outputId": "e1af727e-87a1-4530-9f11-ee281537ba3e"
      },
      "source": [
        "# Evaluate the model on the test\n",
        "model.evaluate(X_test, y_test)"
      ],
      "execution_count": 75,
      "outputs": [
        {
          "output_type": "stream",
          "text": [
            "1/1 [==============================] - 0s 16ms/step - loss: 10.9244 - mae: 10.9244\n"
          ],
          "name": "stdout"
        },
        {
          "output_type": "execute_result",
          "data": {
            "text/plain": [
              "[10.924384117126465, 10.924384117126465]"
            ]
          },
          "metadata": {
            "tags": []
          },
          "execution_count": 75
        }
      ]
    },
    {
      "cell_type": "code",
      "metadata": {
        "colab": {
          "base_uri": "https://localhost:8080/"
        },
        "id": "HwlUtA2zhrl1",
        "outputId": "fce17a5e-d78f-464d-8f48-0bbffd9a0712"
      },
      "source": [
        "# Calculate the mean absolute error\n",
        "mae = tf.metrics.mean_absolute_error(y_true=y_test, \n",
        "                                     y_pred=y_pred)\n",
        "mae"
      ],
      "execution_count": 79,
      "outputs": [
        {
          "output_type": "execute_result",
          "data": {
            "text/plain": [
              "<tf.Tensor: shape=(10,), dtype=float32, numpy=\n",
              "array([13.304468, 11.009039, 10.      , 10.289423, 11.772784, 14.450086,\n",
              "       18.401657, 23.386513, 28.371368, 33.356216], dtype=float32)>"
            ]
          },
          "metadata": {
            "tags": []
          },
          "execution_count": 79
        }
      ]
    },
    {
      "cell_type": "code",
      "metadata": {
        "colab": {
          "base_uri": "https://localhost:8080/"
        },
        "id": "DtpbRtr8hnQI",
        "outputId": "9a39f640-af4a-4cb9-c5f0-a8440bc45a3f"
      },
      "source": [
        "tf.constant(y_pred)"
      ],
      "execution_count": 81,
      "outputs": [
        {
          "output_type": "execute_result",
          "data": {
            "text/plain": [
              "<tf.Tensor: shape=(10, 1), dtype=float32, numpy=\n",
              "array([[ 76.49255],\n",
              "       [ 81.4774 ],\n",
              "       [ 86.46225],\n",
              "       [ 91.44711],\n",
              "       [ 96.43196],\n",
              "       [101.41681],\n",
              "       [106.40166],\n",
              "       [111.38651],\n",
              "       [116.37137],\n",
              "       [121.35622]], dtype=float32)>"
            ]
          },
          "metadata": {
            "tags": []
          },
          "execution_count": 81
        }
      ]
    },
    {
      "cell_type": "code",
      "metadata": {
        "colab": {
          "base_uri": "https://localhost:8080/"
        },
        "id": "a7ZanpFqhoG9",
        "outputId": "93891bba-cf91-4a42-db81-eb67caf73abe"
      },
      "source": [
        "y_test"
      ],
      "execution_count": 80,
      "outputs": [
        {
          "output_type": "execute_result",
          "data": {
            "text/plain": [
              "<tf.Tensor: shape=(10,), dtype=int32, numpy=array([ 70,  74,  78,  82,  86,  90,  94,  98, 102, 106], dtype=int32)>"
            ]
          },
          "metadata": {
            "tags": []
          },
          "execution_count": 80
        }
      ]
    },
    {
      "cell_type": "code",
      "metadata": {
        "colab": {
          "base_uri": "https://localhost:8080/"
        },
        "id": "-cHrd8VFhozX",
        "outputId": "00bb14b4-f7bb-4a87-ee1b-bb6a227af70f"
      },
      "source": [
        "tf.squeeze(y_pred)"
      ],
      "execution_count": 83,
      "outputs": [
        {
          "output_type": "execute_result",
          "data": {
            "text/plain": [
              "<tf.Tensor: shape=(10,), dtype=float32, numpy=\n",
              "array([ 76.49255,  81.4774 ,  86.46225,  91.44711,  96.43196, 101.41681,\n",
              "       106.40166, 111.38651, 116.37137, 121.35622], dtype=float32)>"
            ]
          },
          "metadata": {
            "tags": []
          },
          "execution_count": 83
        }
      ]
    },
    {
      "cell_type": "code",
      "metadata": {
        "colab": {
          "base_uri": "https://localhost:8080/"
        },
        "id": "mseYnXP7i3q8",
        "outputId": "cae02a91-f7dd-41e8-ed36-e3c65e29d319"
      },
      "source": [
        "# Calculate the mean absolute error\n",
        "mae = tf.metrics.mean_absolute_error(y_true=y_test,\n",
        "                                     y_pred=tf.squeeze(y_pred))\n",
        "mae"
      ],
      "execution_count": 88,
      "outputs": [
        {
          "output_type": "execute_result",
          "data": {
            "text/plain": [
              "<tf.Tensor: shape=(), dtype=float32, numpy=10.924384>"
            ]
          },
          "metadata": {
            "tags": []
          },
          "execution_count": 88
        }
      ]
    },
    {
      "cell_type": "code",
      "metadata": {
        "colab": {
          "base_uri": "https://localhost:8080/"
        },
        "id": "-WEMU8dHjvfl",
        "outputId": "7be9ac52-1fb8-401f-f6ef-371492ca79f3"
      },
      "source": [
        "# Calculate the mean squared error\n",
        "mse = tf.metrics.mean_squared_error(y_true=y_test,\n",
        "                                   y_pred=tf.squeeze(y_pred))\n",
        "mse"
      ],
      "execution_count": 90,
      "outputs": [
        {
          "output_type": "execute_result",
          "data": {
            "text/plain": [
              "<tf.Tensor: shape=(), dtype=float32, numpy=127.34412>"
            ]
          },
          "metadata": {
            "tags": []
          },
          "execution_count": 90
        }
      ]
    }
  ]
}