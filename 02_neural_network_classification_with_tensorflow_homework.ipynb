{
  "nbformat": 4,
  "nbformat_minor": 0,
  "metadata": {
    "colab": {
      "name": "02_neural_network_classification_with_tensorflow_homework.ipynb",
      "provenance": [],
      "collapsed_sections": [],
      "authorship_tag": "ABX9TyOdA36Pqp2d5KJ241Q75DFl",
      "include_colab_link": true
    },
    "kernelspec": {
      "name": "python3",
      "display_name": "Python 3"
    },
    "language_info": {
      "name": "python"
    },
    "accelerator": "GPU"
  },
  "cells": [
    {
      "cell_type": "markdown",
      "metadata": {
        "id": "view-in-github",
        "colab_type": "text"
      },
      "source": [
        "<a href=\"https://colab.research.google.com/github/ThangDoan2001/TensorFlow_ZeroToHero/blob/master/02_neural_network_classification_with_tensorflow_homework.ipynb\" target=\"_parent\"><img src=\"https://colab.research.google.com/assets/colab-badge.svg\" alt=\"Open In Colab\"/></a>"
      ]
    },
    {
      "cell_type": "markdown",
      "metadata": {
        "id": "u_ZeKELO_uOV"
      },
      "source": [
        "# 2. Replicate the model pictured in the TensorFlow Playground diagram below using TensorFlow code. Compile it using the Adam optimizer, binary crossentropy loss and accuracy metric. Once it's compiled check a summary of the model."
      ]
    },
    {
      "cell_type": "code",
      "metadata": {
        "id": "MalWIq9SKf2y"
      },
      "source": [
        "import tensorflow as tf"
      ],
      "execution_count": 1,
      "outputs": []
    },
    {
      "cell_type": "code",
      "metadata": {
        "colab": {
          "base_uri": "https://localhost:8080/"
        },
        "id": "3jEyPV4IKofp",
        "outputId": "1eb08527-13be-49f1-a712-f88aaf0a4cd5"
      },
      "source": [
        "# Set the random seed\n",
        "tf.random.set_seed(42)\n",
        "\n",
        "# 1. Create the model\n",
        "model_1 = tf.keras.Sequential([\n",
        "  tf.keras.layers.Input(shape=(2,)),\n",
        "  tf.keras.layers.Dense(6, activation=tf.keras.activations.relu),\n",
        "  tf.keras.layers.Dense(6, activation=tf.keras.activations.relu),\n",
        "  tf.keras.layers.Dense(6, activation=tf.keras.activations.relu),\n",
        "  tf.keras.layers.Dense(6, activation=tf.keras.activations.relu),\n",
        "  tf.keras.layers.Dense(6, activation=tf.keras.activations.relu),\n",
        "  tf.keras.layers.Dense(1, activation=tf.keras.activations.sigmoid)\n",
        "])\n",
        "\n",
        "# 2. Compile the model\n",
        "model_1.compile(loss=tf.keras.losses.BinaryCrossentropy(),\n",
        "                optimizer=tf.keras.optimizers.Adam(),\n",
        "                metrics=[\"accuracy\"])"
      ],
      "execution_count": 2,
      "outputs": [
        {
          "output_type": "stream",
          "text": [
            "WARNING:tensorflow:Please add `keras.layers.InputLayer` instead of `keras.Input` to Sequential model. `keras.Input` is intended to be used by Functional model.\n"
          ],
          "name": "stdout"
        }
      ]
    },
    {
      "cell_type": "code",
      "metadata": {
        "colab": {
          "base_uri": "https://localhost:8080/"
        },
        "id": "nv6liwyJLnf1",
        "outputId": "fda3feab-6576-40d6-d055-61448d1fa07d"
      },
      "source": [
        "# 3. Check the summary of the model\n",
        "model_1.summary()"
      ],
      "execution_count": 3,
      "outputs": [
        {
          "output_type": "stream",
          "text": [
            "Model: \"sequential\"\n",
            "_________________________________________________________________\n",
            "Layer (type)                 Output Shape              Param #   \n",
            "=================================================================\n",
            "dense (Dense)                (None, 6)                 18        \n",
            "_________________________________________________________________\n",
            "dense_1 (Dense)              (None, 6)                 42        \n",
            "_________________________________________________________________\n",
            "dense_2 (Dense)              (None, 6)                 42        \n",
            "_________________________________________________________________\n",
            "dense_3 (Dense)              (None, 6)                 42        \n",
            "_________________________________________________________________\n",
            "dense_4 (Dense)              (None, 6)                 42        \n",
            "_________________________________________________________________\n",
            "dense_5 (Dense)              (None, 1)                 7         \n",
            "=================================================================\n",
            "Total params: 193\n",
            "Trainable params: 193\n",
            "Non-trainable params: 0\n",
            "_________________________________________________________________\n"
          ],
          "name": "stdout"
        }
      ]
    },
    {
      "cell_type": "markdown",
      "metadata": {
        "id": "mWpkU_ewLs-4"
      },
      "source": [
        "# 3. Create a classification dataset using Scikit-Learn's make_moons() function, visualize it and then build a model to fit it at over 85% accuracy."
      ]
    },
    {
      "cell_type": "code",
      "metadata": {
        "id": "i5ErCHrhMUbd"
      },
      "source": [
        "# Create date to view and fit\n",
        "from sklearn.datasets import make_moons\n",
        "\n",
        "# Make 1000 samples\n",
        "n_samples = 1000\n",
        "\n",
        "# Create moon\n",
        "X, y = make_moons(n_samples,\n",
        "                  noise=0.03,\n",
        "                  random_state=42)"
      ],
      "execution_count": 4,
      "outputs": []
    },
    {
      "cell_type": "code",
      "metadata": {
        "colab": {
          "base_uri": "https://localhost:8080/"
        },
        "id": "9nLDGos0MtAP",
        "outputId": "f6e205ea-e67a-46d5-920d-1b03599c1b53"
      },
      "source": [
        "X[:10], y[:10]"
      ],
      "execution_count": 5,
      "outputs": [
        {
          "output_type": "execute_result",
          "data": {
            "text/plain": [
              "(array([[-0.00933187,  0.39098105],\n",
              "        [ 0.95457387, -0.47375583],\n",
              "        [ 0.9185256 , -0.42519648],\n",
              "        [ 0.41276802, -0.37638459],\n",
              "        [-0.84532016,  0.52879908],\n",
              "        [ 0.57954249, -0.35297867],\n",
              "        [ 0.29488426, -0.20923768],\n",
              "        [-0.01448804,  0.4358961 ],\n",
              "        [ 1.62651037, -0.28120742],\n",
              "        [ 0.67159767,  0.78642227]]), array([1, 1, 1, 1, 0, 1, 1, 1, 1, 0]))"
            ]
          },
          "metadata": {
            "tags": []
          },
          "execution_count": 5
        }
      ]
    },
    {
      "cell_type": "code",
      "metadata": {
        "colab": {
          "base_uri": "https://localhost:8080/",
          "height": 417
        },
        "id": "Pz5sOHxFMwcq",
        "outputId": "a3448ed1-7a50-4fb0-8889-024ee25b0515"
      },
      "source": [
        "# Visualize our data\n",
        "import pandas as pd\n",
        "moon = pd.DataFrame({\"X0\":X[:, 0], \"X1\":X[:, 1], \"label\":y})\n",
        "moon"
      ],
      "execution_count": 6,
      "outputs": [
        {
          "output_type": "execute_result",
          "data": {
            "text/html": [
              "<div>\n",
              "<style scoped>\n",
              "    .dataframe tbody tr th:only-of-type {\n",
              "        vertical-align: middle;\n",
              "    }\n",
              "\n",
              "    .dataframe tbody tr th {\n",
              "        vertical-align: top;\n",
              "    }\n",
              "\n",
              "    .dataframe thead th {\n",
              "        text-align: right;\n",
              "    }\n",
              "</style>\n",
              "<table border=\"1\" class=\"dataframe\">\n",
              "  <thead>\n",
              "    <tr style=\"text-align: right;\">\n",
              "      <th></th>\n",
              "      <th>X0</th>\n",
              "      <th>X1</th>\n",
              "      <th>label</th>\n",
              "    </tr>\n",
              "  </thead>\n",
              "  <tbody>\n",
              "    <tr>\n",
              "      <th>0</th>\n",
              "      <td>-0.009332</td>\n",
              "      <td>0.390981</td>\n",
              "      <td>1</td>\n",
              "    </tr>\n",
              "    <tr>\n",
              "      <th>1</th>\n",
              "      <td>0.954574</td>\n",
              "      <td>-0.473756</td>\n",
              "      <td>1</td>\n",
              "    </tr>\n",
              "    <tr>\n",
              "      <th>2</th>\n",
              "      <td>0.918526</td>\n",
              "      <td>-0.425196</td>\n",
              "      <td>1</td>\n",
              "    </tr>\n",
              "    <tr>\n",
              "      <th>3</th>\n",
              "      <td>0.412768</td>\n",
              "      <td>-0.376385</td>\n",
              "      <td>1</td>\n",
              "    </tr>\n",
              "    <tr>\n",
              "      <th>4</th>\n",
              "      <td>-0.845320</td>\n",
              "      <td>0.528799</td>\n",
              "      <td>0</td>\n",
              "    </tr>\n",
              "    <tr>\n",
              "      <th>...</th>\n",
              "      <td>...</td>\n",
              "      <td>...</td>\n",
              "      <td>...</td>\n",
              "    </tr>\n",
              "    <tr>\n",
              "      <th>995</th>\n",
              "      <td>0.793018</td>\n",
              "      <td>0.591402</td>\n",
              "      <td>0</td>\n",
              "    </tr>\n",
              "    <tr>\n",
              "      <th>996</th>\n",
              "      <td>-0.138777</td>\n",
              "      <td>0.968000</td>\n",
              "      <td>0</td>\n",
              "    </tr>\n",
              "    <tr>\n",
              "      <th>997</th>\n",
              "      <td>1.653915</td>\n",
              "      <td>-0.291798</td>\n",
              "      <td>1</td>\n",
              "    </tr>\n",
              "    <tr>\n",
              "      <th>998</th>\n",
              "      <td>-0.934102</td>\n",
              "      <td>0.353582</td>\n",
              "      <td>0</td>\n",
              "    </tr>\n",
              "    <tr>\n",
              "      <th>999</th>\n",
              "      <td>0.796836</td>\n",
              "      <td>0.604237</td>\n",
              "      <td>0</td>\n",
              "    </tr>\n",
              "  </tbody>\n",
              "</table>\n",
              "<p>1000 rows × 3 columns</p>\n",
              "</div>"
            ],
            "text/plain": [
              "           X0        X1  label\n",
              "0   -0.009332  0.390981      1\n",
              "1    0.954574 -0.473756      1\n",
              "2    0.918526 -0.425196      1\n",
              "3    0.412768 -0.376385      1\n",
              "4   -0.845320  0.528799      0\n",
              "..        ...       ...    ...\n",
              "995  0.793018  0.591402      0\n",
              "996 -0.138777  0.968000      0\n",
              "997  1.653915 -0.291798      1\n",
              "998 -0.934102  0.353582      0\n",
              "999  0.796836  0.604237      0\n",
              "\n",
              "[1000 rows x 3 columns]"
            ]
          },
          "metadata": {
            "tags": []
          },
          "execution_count": 6
        }
      ]
    },
    {
      "cell_type": "code",
      "metadata": {
        "colab": {
          "base_uri": "https://localhost:8080/",
          "height": 282
        },
        "id": "rY7YmIJ4NFKt",
        "outputId": "1a572687-5ec4-4dbf-d60a-f47b29c702b6"
      },
      "source": [
        "# Visualize with a plot\n",
        "import matplotlib.pyplot as plt\n",
        "plt.scatter(X[:, 0], X[:, 1], c=y, cmap=plt.cm.RdYlBu)"
      ],
      "execution_count": 7,
      "outputs": [
        {
          "output_type": "execute_result",
          "data": {
            "text/plain": [
              "<matplotlib.collections.PathCollection at 0x7f8e2b094390>"
            ]
          },
          "metadata": {
            "tags": []
          },
          "execution_count": 7
        },
        {
          "output_type": "display_data",
          "data": {
            "image/png": "[encoded data removed]",
            "text/plain": [
              "<Figure size 432x288 with 1 Axes>"
            ]
          },
          "metadata": {
            "tags": [],
            "needs_background": "light"
          }
        }
      ]
    },
    {
      "cell_type": "code",
      "metadata": {
        "id": "HBw_5UaLNXy2"
      },
      "source": [
        "# Split into train data and test data\n",
        "train_data, train_labels = X[:800], y[:800]\n",
        "test_data, test_labels = X[800:], y[800:]"
      ],
      "execution_count": 8,
      "outputs": []
    },
    {
      "cell_type": "code",
      "metadata": {
        "colab": {
          "base_uri": "https://localhost:8080/"
        },
        "id": "DiuN6axwN3OA",
        "outputId": "726044bd-71ef-41f5-d86a-4c254f7ddb5a"
      },
      "source": [
        "train_data.shape, train_labels.shape"
      ],
      "execution_count": 9,
      "outputs": [
        {
          "output_type": "execute_result",
          "data": {
            "text/plain": [
              "((800, 2), (800,))"
            ]
          },
          "metadata": {
            "tags": []
          },
          "execution_count": 9
        }
      ]
    },
    {
      "cell_type": "code",
      "metadata": {
        "colab": {
          "base_uri": "https://localhost:8080/"
        },
        "id": "7Kz8f7jMN7Nf",
        "outputId": "502839fe-e2ed-4a75-affd-97d2c214c0a9"
      },
      "source": [
        "# Let try our data with model_1\n",
        "history = model_1.fit(train_data, train_labels, epochs=20)"
      ],
      "execution_count": 10,
      "outputs": [
        {
          "output_type": "stream",
          "text": [
            "Epoch 1/20\n",
            "25/25 [==============================] - 3s 3ms/step - loss: 0.6907 - accuracy: 0.5325\n",
            "Epoch 2/20\n",
            "25/25 [==============================] - 0s 3ms/step - loss: 0.6799 - accuracy: 0.6850\n",
            "Epoch 3/20\n",
            "25/25 [==============================] - 0s 3ms/step - loss: 0.6595 - accuracy: 0.7287\n",
            "Epoch 4/20\n",
            "25/25 [==============================] - 0s 3ms/step - loss: 0.6134 - accuracy: 0.7788\n",
            "Epoch 5/20\n",
            "25/25 [==============================] - 0s 3ms/step - loss: 0.5440 - accuracy: 0.8175\n",
            "Epoch 6/20\n",
            "25/25 [==============================] - 0s 3ms/step - loss: 0.4712 - accuracy: 0.8263\n",
            "Epoch 7/20\n",
            "25/25 [==============================] - 0s 3ms/step - loss: 0.4038 - accuracy: 0.8662\n",
            "Epoch 8/20\n",
            "25/25 [==============================] - 0s 3ms/step - loss: 0.3515 - accuracy: 0.8850\n",
            "Epoch 9/20\n",
            "25/25 [==============================] - 0s 3ms/step - loss: 0.3112 - accuracy: 0.8938\n",
            "Epoch 10/20\n",
            "25/25 [==============================] - 0s 3ms/step - loss: 0.2808 - accuracy: 0.9087\n",
            "Epoch 11/20\n",
            "25/25 [==============================] - 0s 3ms/step - loss: 0.2583 - accuracy: 0.9075\n",
            "Epoch 12/20\n",
            "25/25 [==============================] - 0s 3ms/step - loss: 0.2437 - accuracy: 0.9150\n",
            "Epoch 13/20\n",
            "25/25 [==============================] - 0s 3ms/step - loss: 0.2309 - accuracy: 0.9087\n",
            "Epoch 14/20\n",
            "25/25 [==============================] - 0s 3ms/step - loss: 0.2197 - accuracy: 0.9087\n",
            "Epoch 15/20\n",
            "25/25 [==============================] - 0s 3ms/step - loss: 0.2128 - accuracy: 0.9112\n",
            "Epoch 16/20\n",
            "25/25 [==============================] - 0s 3ms/step - loss: 0.2051 - accuracy: 0.9087\n",
            "Epoch 17/20\n",
            "25/25 [==============================] - 0s 3ms/step - loss: 0.1989 - accuracy: 0.9125\n",
            "Epoch 18/20\n",
            "25/25 [==============================] - 0s 3ms/step - loss: 0.1936 - accuracy: 0.9112\n",
            "Epoch 19/20\n",
            "25/25 [==============================] - 0s 3ms/step - loss: 0.1875 - accuracy: 0.9175\n",
            "Epoch 20/20\n",
            "25/25 [==============================] - 0s 3ms/step - loss: 0.1805 - accuracy: 0.9175\n"
          ],
          "name": "stdout"
        }
      ]
    },
    {
      "cell_type": "code",
      "metadata": {
        "colab": {
          "base_uri": "https://localhost:8080/"
        },
        "id": "pgjH75qpOBim",
        "outputId": "70f9f2ae-23d1-4502-e5c5-659f46e1c4b1"
      },
      "source": [
        "# Evaluate our model\n",
        "model_1.evaluate(test_data, test_labels)"
      ],
      "execution_count": 11,
      "outputs": [
        {
          "output_type": "stream",
          "text": [
            "7/7 [==============================] - 0s 3ms/step - loss: 0.1942 - accuracy: 0.9100\n"
          ],
          "name": "stdout"
        },
        {
          "output_type": "execute_result",
          "data": {
            "text/plain": [
              "[0.19419912993907928, 0.9100000262260437]"
            ]
          },
          "metadata": {
            "tags": []
          },
          "execution_count": 11
        }
      ]
    },
    {
      "cell_type": "markdown",
      "metadata": {
        "id": "oxMyKpD3OIyC"
      },
      "source": [
        "Wow, 91% at the first time, quite good"
      ]
    },
    {
      "cell_type": "code",
      "metadata": {
        "colab": {
          "base_uri": "https://localhost:8080/",
          "height": 298
        },
        "id": "8A36j64zObjk",
        "outputId": "b0b2d94d-d489-4f55-ca3f-fbe28909b736"
      },
      "source": [
        "# Plot the training curves\n",
        "pd.DataFrame(history.history).plot()\n",
        "plt.title(\"Model_1 loss curves\")"
      ],
      "execution_count": 12,
      "outputs": [
        {
          "output_type": "execute_result",
          "data": {
            "text/plain": [
              "Text(0.5, 1.0, 'Model_1 loss curves')"
            ]
          },
          "metadata": {
            "tags": []
          },
          "execution_count": 12
        },
        {
          "output_type": "display_data",
          "data": {
            "image/png": "[encoded data removed]",
            "text/plain": [
              "<Figure size 432x288 with 1 Axes>"
            ]
          },
          "metadata": {
            "tags": [],
            "needs_background": "light"
          }
        }
      ]
    },
    {
      "cell_type": "code",
      "metadata": {
        "id": "JjqoAq_mO1tT",
        "colab": {
          "base_uri": "https://localhost:8080/"
        },
        "outputId": "a433d4fb-2dfe-451c-e488-f2201e226450"
      },
      "source": [
        "# Fiding the ideal learning rate\n",
        "\n",
        "# 1. Create the model\n",
        "model_2 = tf.keras.Sequential([\n",
        "  tf.keras.layers.Dense(6, activation=tf.keras.activations.relu),\n",
        "  tf.keras.layers.Dense(6, activation=tf.keras.activations.relu),\n",
        "  tf.keras.layers.Dense(6, activation=tf.keras.activations.relu),\n",
        "  tf.keras.layers.Dense(6, activation=tf.keras.activations.relu),\n",
        "  tf.keras.layers.Dense(6, activation=tf.keras.activations.relu),\n",
        "  tf.keras.layers.Dense(1, activation=tf.keras.activations.sigmoid)\n",
        "])\n",
        "\n",
        "# 2. Compile the model\n",
        "model_2.compile(loss=tf.keras.losses.BinaryCrossentropy(),\n",
        "                optimizer=tf.keras.optimizers.Adam(),\n",
        "                metrics=[\"accuracy\"])\n",
        "\n",
        "# 3. Learning rate call back\n",
        "lr_scheduler = tf.keras.callbacks.LearningRateScheduler(lambda epochs: 1e-4 * 10**(epochs/20))\n",
        "\n",
        "# 4. Fit the model (50 epochs)\n",
        "history_2 = model_2.fit(train_data, train_labels, epochs=50, callbacks=[lr_scheduler])"
      ],
      "execution_count": 16,
      "outputs": [
        {
          "output_type": "stream",
          "text": [
            "Epoch 1/50\n",
            "25/25 [==============================] - 1s 3ms/step - loss: 0.7010 - accuracy: 0.4963\n",
            "Epoch 2/50\n",
            "25/25 [==============================] - 0s 3ms/step - loss: 0.6976 - accuracy: 0.4650\n",
            "Epoch 3/50\n",
            "25/25 [==============================] - 0s 3ms/step - loss: 0.6943 - accuracy: 0.5400\n",
            "Epoch 4/50\n",
            "25/25 [==============================] - 0s 3ms/step - loss: 0.6909 - accuracy: 0.5863\n",
            "Epoch 5/50\n",
            "25/25 [==============================] - 0s 3ms/step - loss: 0.6876 - accuracy: 0.6137\n",
            "Epoch 6/50\n",
            "25/25 [==============================] - 0s 3ms/step - loss: 0.6839 - accuracy: 0.6438\n",
            "Epoch 7/50\n",
            "25/25 [==============================] - 0s 3ms/step - loss: 0.6786 - accuracy: 0.7550\n",
            "Epoch 8/50\n",
            "25/25 [==============================] - 0s 3ms/step - loss: 0.6675 - accuracy: 0.8650\n",
            "Epoch 9/50\n",
            "25/25 [==============================] - 0s 3ms/step - loss: 0.6524 - accuracy: 0.8612\n",
            "Epoch 10/50\n",
            "25/25 [==============================] - 0s 3ms/step - loss: 0.6355 - accuracy: 0.8687\n",
            "Epoch 11/50\n",
            "25/25 [==============================] - 0s 3ms/step - loss: 0.6151 - accuracy: 0.8712\n",
            "Epoch 12/50\n",
            "25/25 [==============================] - 0s 3ms/step - loss: 0.5886 - accuracy: 0.8775\n",
            "Epoch 13/50\n",
            "25/25 [==============================] - 0s 3ms/step - loss: 0.5519 - accuracy: 0.8800\n",
            "Epoch 14/50\n",
            "25/25 [==============================] - 0s 3ms/step - loss: 0.5051 - accuracy: 0.8800\n",
            "Epoch 15/50\n",
            "25/25 [==============================] - 0s 3ms/step - loss: 0.4468 - accuracy: 0.8788\n",
            "Epoch 16/50\n",
            "25/25 [==============================] - 0s 3ms/step - loss: 0.3859 - accuracy: 0.8813\n",
            "Epoch 17/50\n",
            "25/25 [==============================] - 0s 3ms/step - loss: 0.3315 - accuracy: 0.8825\n",
            "Epoch 18/50\n",
            "25/25 [==============================] - 0s 3ms/step - loss: 0.2937 - accuracy: 0.8850\n",
            "Epoch 19/50\n",
            "25/25 [==============================] - 0s 3ms/step - loss: 0.2723 - accuracy: 0.8850\n",
            "Epoch 20/50\n",
            "25/25 [==============================] - 0s 3ms/step - loss: 0.2586 - accuracy: 0.8888\n",
            "Epoch 21/50\n",
            "25/25 [==============================] - 0s 3ms/step - loss: 0.2500 - accuracy: 0.8888\n",
            "Epoch 22/50\n",
            "25/25 [==============================] - 0s 3ms/step - loss: 0.2429 - accuracy: 0.8888\n",
            "Epoch 23/50\n",
            "25/25 [==============================] - 0s 3ms/step - loss: 0.2369 - accuracy: 0.8875\n",
            "Epoch 24/50\n",
            "25/25 [==============================] - 0s 3ms/step - loss: 0.2289 - accuracy: 0.8850\n",
            "Epoch 25/50\n",
            "25/25 [==============================] - 0s 3ms/step - loss: 0.2227 - accuracy: 0.8888\n",
            "Epoch 26/50\n",
            "25/25 [==============================] - 0s 3ms/step - loss: 0.2118 - accuracy: 0.8963\n",
            "Epoch 27/50\n",
            "25/25 [==============================] - 0s 3ms/step - loss: 0.2023 - accuracy: 0.8975\n",
            "Epoch 28/50\n",
            "25/25 [==============================] - 0s 3ms/step - loss: 0.1981 - accuracy: 0.9087\n",
            "Epoch 29/50\n",
            "25/25 [==============================] - 0s 3ms/step - loss: 0.1889 - accuracy: 0.9137\n",
            "Epoch 30/50\n",
            "25/25 [==============================] - 0s 3ms/step - loss: 0.1809 - accuracy: 0.9075\n",
            "Epoch 31/50\n",
            "25/25 [==============================] - 0s 3ms/step - loss: 0.1663 - accuracy: 0.9187\n",
            "Epoch 32/50\n",
            "25/25 [==============================] - 0s 3ms/step - loss: 0.1535 - accuracy: 0.9362\n",
            "Epoch 33/50\n",
            "25/25 [==============================] - 0s 3ms/step - loss: 0.1059 - accuracy: 0.9588\n",
            "Epoch 34/50\n",
            "25/25 [==============================] - 0s 3ms/step - loss: 0.0494 - accuracy: 0.9950\n",
            "Epoch 35/50\n",
            "25/25 [==============================] - 0s 3ms/step - loss: 0.0146 - accuracy: 1.0000\n",
            "Epoch 36/50\n",
            "25/25 [==============================] - 0s 3ms/step - loss: 0.0064 - accuracy: 1.0000\n",
            "Epoch 37/50\n",
            "25/25 [==============================] - 0s 3ms/step - loss: 0.0034 - accuracy: 1.0000\n",
            "Epoch 38/50\n",
            "25/25 [==============================] - 0s 3ms/step - loss: 0.0023 - accuracy: 1.0000\n",
            "Epoch 39/50\n",
            "25/25 [==============================] - 0s 3ms/step - loss: 0.0016 - accuracy: 1.0000\n",
            "Epoch 40/50\n",
            "25/25 [==============================] - 0s 3ms/step - loss: 0.0011 - accuracy: 1.0000\n",
            "Epoch 41/50\n",
            "25/25 [==============================] - 0s 3ms/step - loss: 8.3734e-04 - accuracy: 1.0000\n",
            "Epoch 42/50\n",
            "25/25 [==============================] - 0s 3ms/step - loss: 6.3385e-04 - accuracy: 1.0000\n",
            "Epoch 43/50\n",
            "25/25 [==============================] - 0s 3ms/step - loss: 4.9398e-04 - accuracy: 1.0000\n",
            "Epoch 44/50\n",
            "25/25 [==============================] - 0s 3ms/step - loss: 3.9481e-04 - accuracy: 1.0000\n",
            "Epoch 45/50\n",
            "25/25 [==============================] - 0s 3ms/step - loss: 3.1375e-04 - accuracy: 1.0000\n",
            "Epoch 46/50\n",
            "25/25 [==============================] - 0s 3ms/step - loss: 2.5447e-04 - accuracy: 1.0000\n",
            "Epoch 47/50\n",
            "25/25 [==============================] - 0s 3ms/step - loss: 2.0314e-04 - accuracy: 1.0000\n",
            "Epoch 48/50\n",
            "25/25 [==============================] - 0s 3ms/step - loss: 1.6397e-04 - accuracy: 1.0000\n",
            "Epoch 49/50\n",
            "25/25 [==============================] - 0s 3ms/step - loss: 1.3484e-04 - accuracy: 1.0000\n",
            "Epoch 50/50\n",
            "25/25 [==============================] - 0s 3ms/step - loss: 1.1130e-04 - accuracy: 1.0000\n"
          ],
          "name": "stdout"
        }
      ]
    },
    {
      "cell_type": "code",
      "metadata": {
        "colab": {
          "base_uri": "https://localhost:8080/",
          "height": 459
        },
        "id": "7Ku9ncilooXB",
        "outputId": "5a98134d-5186-4177-c084-fa8669e64d66"
      },
      "source": [
        "# Check out the hisroty\n",
        "pd.DataFrame(history_2.history).plot(figsize=(10, 7), xlabel=\"epochs\")\n"
      ],
      "execution_count": 17,
      "outputs": [
        {
          "output_type": "execute_result",
          "data": {
            "text/plain": [
              "<matplotlib.axes._subplots.AxesSubplot at 0x7f8e22b70d90>"
            ]
          },
          "metadata": {
            "tags": []
          },
          "execution_count": 17
        },
        {
          "output_type": "display_data",
          "data": {
            "image/png": "[encoded data removed]",
            "text/plain": [
              "<Figure size 720x504 with 1 Axes>"
            ]
          },
          "metadata": {
            "tags": [],
            "needs_background": "light"
          }
        }
      ]
    },
    {
      "cell_type": "code",
      "metadata": {
        "colab": {
          "base_uri": "https://localhost:8080/",
          "height": 479
        },
        "id": "xuEc-khJptG2",
        "outputId": "32eed2a7-d566-4628-a81c-17e4381a8a7b"
      },
      "source": [
        "# Plot the learning rate vs Loss\n",
        "lrs = 1e-4 * (10**(tf.range(50)/20))\n",
        "plt.figure(figsize=(10, 7))\n",
        "plt.semilogx(lrs, history_2.history[\"loss\"])\n",
        "plt.xlabel(\"Learning rate\")\n",
        "plt.ylabel(\"Loss\")\n",
        "plt.title(\"Learning rate vs loss\")"
      ],
      "execution_count": 18,
      "outputs": [
        {
          "output_type": "execute_result",
          "data": {
            "text/plain": [
              "Text(0.5, 1.0, 'Learning rate vs loss')"
            ]
          },
          "metadata": {
            "tags": []
          },
          "execution_count": 18
        },
        {
          "output_type": "display_data",
          "data": {
            "image/png": "[encoded data removed]",
            "text/plain": [
              "<Figure size 720x504 with 1 Axes>"
            ]
          },
          "metadata": {
            "tags": [],
            "needs_background": "light"
          }
        }
      ]
    },
    {
      "cell_type": "code",
      "metadata": {
        "colab": {
          "base_uri": "https://localhost:8080/"
        },
        "id": "dz1jwbmVqRN8",
        "outputId": "25e2e886-c721-4395-89a7-fe0db0c08a1a"
      },
      "source": [
        "# Evaluate the model_2\n",
        "model_2.evaluate(test_data, test_labels)"
      ],
      "execution_count": 19,
      "outputs": [
        {
          "output_type": "stream",
          "text": [
            "7/7 [==============================] - 0s 3ms/step - loss: 1.6052e-04 - accuracy: 1.0000\n"
          ],
          "name": "stdout"
        },
        {
          "output_type": "execute_result",
          "data": {
            "text/plain": [
              "[0.00016052070714067668, 1.0]"
            ]
          },
          "metadata": {
            "tags": []
          },
          "execution_count": 19
        }
      ]
    },
    {
      "cell_type": "code",
      "metadata": {
        "colab": {
          "base_uri": "https://localhost:8080/"
        },
        "id": "7TqJb8QFqcvD",
        "outputId": "76e07d04-37f6-4f71-8fb3-4ebef2d9b442"
      },
      "source": [
        "# Let's create the model with the ideal learning rate\n",
        "\n",
        "# Set the random seed\n",
        "tf.random.set_seed(42)\n",
        "\n",
        "# 1. Create the model\n",
        "model_3 = tf.keras.Sequential([\n",
        "  tf.keras.layers.Dense(6, activation=tf.keras.activations.relu),\n",
        "  tf.keras.layers.Dense(6, activation=tf.keras.activations.relu),\n",
        "  tf.keras.layers.Dense(6, activation=tf.keras.activations.relu),\n",
        "  tf.keras.layers.Dense(1, activation=tf.keras.activations.sigmoid)\n",
        "])\n",
        "\n",
        "# 2. Compile the model\n",
        "model_3.compile(loss=tf.keras.losses.BinaryCrossentropy(),\n",
        "                optimizer=tf.keras.optimizers.Adam(learning_rate=0.001),\n",
        "                metrics=[\"accuracy\"])\n",
        "\n",
        "# 3. Fit the model\n",
        "history_3 = model_3.fit(train_data, train_labels, epochs=50)"
      ],
      "execution_count": 23,
      "outputs": [
        {
          "output_type": "stream",
          "text": [
            "Epoch 1/50\n",
            "25/25 [==============================] - 1s 3ms/step - loss: 0.6639 - accuracy: 0.5625\n",
            "Epoch 2/50\n",
            "25/25 [==============================] - 0s 3ms/step - loss: 0.6433 - accuracy: 0.7613\n",
            "Epoch 3/50\n",
            "25/25 [==============================] - 0s 3ms/step - loss: 0.6162 - accuracy: 0.8462\n",
            "Epoch 4/50\n",
            "25/25 [==============================] - 0s 3ms/step - loss: 0.5821 - accuracy: 0.8675\n",
            "Epoch 5/50\n",
            "25/25 [==============================] - 0s 3ms/step - loss: 0.5413 - accuracy: 0.8725\n",
            "Epoch 6/50\n",
            "25/25 [==============================] - 0s 3ms/step - loss: 0.4966 - accuracy: 0.8662\n",
            "Epoch 7/50\n",
            "25/25 [==============================] - 0s 3ms/step - loss: 0.4508 - accuracy: 0.8725\n",
            "Epoch 8/50\n",
            "25/25 [==============================] - 0s 3ms/step - loss: 0.4099 - accuracy: 0.8775\n",
            "Epoch 9/50\n",
            "25/25 [==============================] - 0s 3ms/step - loss: 0.3732 - accuracy: 0.8863\n",
            "Epoch 10/50\n",
            "25/25 [==============================] - 0s 3ms/step - loss: 0.3406 - accuracy: 0.8950\n",
            "Epoch 11/50\n",
            "25/25 [==============================] - 0s 3ms/step - loss: 0.3128 - accuracy: 0.8900\n",
            "Epoch 12/50\n",
            "25/25 [==============================] - 0s 3ms/step - loss: 0.2916 - accuracy: 0.8975\n",
            "Epoch 13/50\n",
            "25/25 [==============================] - 0s 3ms/step - loss: 0.2715 - accuracy: 0.8950\n",
            "Epoch 14/50\n",
            "25/25 [==============================] - 0s 3ms/step - loss: 0.2558 - accuracy: 0.8975\n",
            "Epoch 15/50\n",
            "25/25 [==============================] - 0s 3ms/step - loss: 0.2445 - accuracy: 0.8975\n",
            "Epoch 16/50\n",
            "25/25 [==============================] - 0s 3ms/step - loss: 0.2350 - accuracy: 0.8963\n",
            "Epoch 17/50\n",
            "25/25 [==============================] - 0s 3ms/step - loss: 0.2278 - accuracy: 0.8975\n",
            "Epoch 18/50\n",
            "25/25 [==============================] - 0s 3ms/step - loss: 0.2230 - accuracy: 0.8950\n",
            "Epoch 19/50\n",
            "25/25 [==============================] - 0s 3ms/step - loss: 0.2184 - accuracy: 0.9025\n",
            "Epoch 20/50\n",
            "25/25 [==============================] - 0s 3ms/step - loss: 0.2150 - accuracy: 0.8988\n",
            "Epoch 21/50\n",
            "25/25 [==============================] - 0s 3ms/step - loss: 0.2123 - accuracy: 0.9000\n",
            "Epoch 22/50\n",
            "25/25 [==============================] - 0s 3ms/step - loss: 0.2106 - accuracy: 0.9050\n",
            "Epoch 23/50\n",
            "25/25 [==============================] - 0s 3ms/step - loss: 0.2103 - accuracy: 0.8975\n",
            "Epoch 24/50\n",
            "25/25 [==============================] - 0s 3ms/step - loss: 0.2080 - accuracy: 0.9062\n",
            "Epoch 25/50\n",
            "25/25 [==============================] - 0s 3ms/step - loss: 0.2072 - accuracy: 0.9000\n",
            "Epoch 26/50\n",
            "25/25 [==============================] - 0s 3ms/step - loss: 0.2057 - accuracy: 0.9000\n",
            "Epoch 27/50\n",
            "25/25 [==============================] - 0s 3ms/step - loss: 0.2060 - accuracy: 0.8950\n",
            "Epoch 28/50\n",
            "25/25 [==============================] - 0s 3ms/step - loss: 0.2047 - accuracy: 0.9013\n",
            "Epoch 29/50\n",
            "25/25 [==============================] - 0s 3ms/step - loss: 0.2039 - accuracy: 0.9000\n",
            "Epoch 30/50\n",
            "25/25 [==============================] - 0s 3ms/step - loss: 0.2036 - accuracy: 0.9013\n",
            "Epoch 31/50\n",
            "25/25 [==============================] - 0s 3ms/step - loss: 0.2046 - accuracy: 0.8950\n",
            "Epoch 32/50\n",
            "25/25 [==============================] - 0s 3ms/step - loss: 0.2035 - accuracy: 0.9062\n",
            "Epoch 33/50\n",
            "25/25 [==============================] - 0s 3ms/step - loss: 0.2027 - accuracy: 0.8963\n",
            "Epoch 34/50\n",
            "25/25 [==============================] - 0s 3ms/step - loss: 0.2023 - accuracy: 0.8950\n",
            "Epoch 35/50\n",
            "25/25 [==============================] - 0s 3ms/step - loss: 0.2020 - accuracy: 0.8963\n",
            "Epoch 36/50\n",
            "25/25 [==============================] - 0s 3ms/step - loss: 0.2025 - accuracy: 0.8950\n",
            "Epoch 37/50\n",
            "25/25 [==============================] - 0s 3ms/step - loss: 0.2012 - accuracy: 0.8963\n",
            "Epoch 38/50\n",
            "25/25 [==============================] - 0s 3ms/step - loss: 0.2013 - accuracy: 0.8963\n",
            "Epoch 39/50\n",
            "25/25 [==============================] - 0s 3ms/step - loss: 0.2019 - accuracy: 0.8925\n",
            "Epoch 40/50\n",
            "25/25 [==============================] - 0s 3ms/step - loss: 0.2015 - accuracy: 0.8988\n",
            "Epoch 41/50\n",
            "25/25 [==============================] - 0s 3ms/step - loss: 0.2012 - accuracy: 0.8988\n",
            "Epoch 42/50\n",
            "25/25 [==============================] - 0s 3ms/step - loss: 0.2009 - accuracy: 0.8938\n",
            "Epoch 43/50\n",
            "25/25 [==============================] - 0s 3ms/step - loss: 0.2006 - accuracy: 0.8938\n",
            "Epoch 44/50\n",
            "25/25 [==============================] - 0s 3ms/step - loss: 0.2023 - accuracy: 0.9013\n",
            "Epoch 45/50\n",
            "25/25 [==============================] - 0s 3ms/step - loss: 0.2005 - accuracy: 0.8950\n",
            "Epoch 46/50\n",
            "25/25 [==============================] - 0s 3ms/step - loss: 0.2003 - accuracy: 0.8975\n",
            "Epoch 47/50\n",
            "25/25 [==============================] - 0s 3ms/step - loss: 0.2003 - accuracy: 0.9013\n",
            "Epoch 48/50\n",
            "25/25 [==============================] - 0s 3ms/step - loss: 0.2013 - accuracy: 0.8938\n",
            "Epoch 49/50\n",
            "25/25 [==============================] - 0s 3ms/step - loss: 0.2002 - accuracy: 0.8950\n",
            "Epoch 50/50\n",
            "25/25 [==============================] - 0s 3ms/step - loss: 0.2002 - accuracy: 0.8913\n"
          ],
          "name": "stdout"
        }
      ]
    },
    {
      "cell_type": "code",
      "metadata": {
        "colab": {
          "base_uri": "https://localhost:8080/"
        },
        "id": "kvlCZuUYrl8M",
        "outputId": "f4b5136f-3137-46c2-d02f-d26b81d79e4b"
      },
      "source": [
        "# Evaluate our model\n",
        "model_3.evaluate(test_data, test_labels)"
      ],
      "execution_count": 25,
      "outputs": [
        {
          "output_type": "stream",
          "text": [
            "7/7 [==============================] - 0s 3ms/step - loss: 0.2155 - accuracy: 0.8900\n"
          ],
          "name": "stdout"
        },
        {
          "output_type": "execute_result",
          "data": {
            "text/plain": [
              "[0.21548298001289368, 0.8899999856948853]"
            ]
          },
          "metadata": {
            "tags": []
          },
          "execution_count": 25
        }
      ]
    },
    {
      "cell_type": "code",
      "metadata": {
        "colab": {
          "base_uri": "https://localhost:8080/",
          "height": 459
        },
        "id": "kUK3lk-Rrsie",
        "outputId": "b48a8cf5-3e17-465c-f434-5103e4737552"
      },
      "source": [
        "# Plot the accuracy and loss curves\n",
        "pd.DataFrame(history_3.history).plot(figsize=(10, 7), xlabel=\"epochs\")"
      ],
      "execution_count": 24,
      "outputs": [
        {
          "output_type": "execute_result",
          "data": {
            "text/plain": [
              "<matplotlib.axes._subplots.AxesSubplot at 0x7f8e297b5a50>"
            ]
          },
          "metadata": {
            "tags": []
          },
          "execution_count": 24
        },
        {
          "output_type": "display_data",
          "data": {
            "image/png": "[encoded data removed]",
            "text/plain": [
              "<Figure size 720x504 with 1 Axes>"
            ]
          },
          "metadata": {
            "tags": [],
            "needs_background": "light"
          }
        }
      ]
    },
    {
      "cell_type": "code",
      "metadata": {
        "id": "4-TpAI9sr3Vv"
      },
      "source": [
        "# Write a plot_decision boundary function:\n",
        "\n",
        "import numpy as np\n",
        "def plot_decision_boundary(model, X, y):\n",
        "  # Define the axis boundaries of the plot and create a meshgrid\n",
        "  x_min, x_max = X[:, 0].min() - 0.1, X[:, 0].max() + 0.1\n",
        "  y_min, y_max = X[:, 1].min() - 0.1, X[:, 1].max() + 0.1\n",
        "  xx, yy = np.meshgrid(np.linspace(x_min, x_max, 100),\n",
        "                       np.linspace(y_min, y_max, 100))\n",
        "  \n",
        "  # Create X value (we're going to make predict one these)\n",
        "  X_in = np.c_[xx.ravel(), yy.ravel()] # Stack 2D arrays together\n",
        "  # print(X_in[:10])\n",
        "  # Make prediction\n",
        "  y_pred = model.predict(X_in)\n",
        "  \n",
        "  # Check for the multi-class\n",
        "  if len(y_pred[0]) > 1:\n",
        "    print(\"doing multi-class classification\")\n",
        "    # We have to reshape out prediction to get them already\n",
        "    y_pred = np.argmax(y_pred, axis=1).reshape(xx.shape)\n",
        "  else:\n",
        "    print(\"doing binary classification\")\n",
        "    y_pred = np.round(y_pred).reshape(xx.shape)\n",
        "\n",
        "  # Plot the boundary\n",
        "  plt.contourf(xx, yy, y_pred, cmap=plt.cm.RdYlBu, alpha=0.7)\n",
        "  plt.scatter(X[:, 0], X[:, 1], c=y, s=40, cmap=plt.cm.RdYlBu)\n",
        "  plt.xlim(xx.min(), xx.max())\n",
        "  plt.ylim(yy.min(), yy.max())"
      ],
      "execution_count": 38,
      "outputs": []
    },
    {
      "cell_type": "code",
      "metadata": {
        "colab": {
          "base_uri": "https://localhost:8080/",
          "height": 450
        },
        "id": "zFvrJ-3yuL6A",
        "outputId": "5a7400cd-1956-4ec5-8bf5-24ed5b61fa74"
      },
      "source": [
        "plot_decision_boundary(model_3, X, y)"
      ],
      "execution_count": 35,
      "outputs": [
        {
          "output_type": "stream",
          "text": [
            "[[-1.16175082 -0.6716972 ]\n",
            " [-1.12815094 -0.6716972 ]\n",
            " [-1.09455106 -0.6716972 ]\n",
            " [-1.06095118 -0.6716972 ]\n",
            " [-1.0273513  -0.6716972 ]\n",
            " [-0.99375142 -0.6716972 ]\n",
            " [-0.96015153 -0.6716972 ]\n",
            " [-0.92655165 -0.6716972 ]\n",
            " [-0.89295177 -0.6716972 ]\n",
            " [-0.85935189 -0.6716972 ]]\n",
            "doing binary classification\n"
          ],
          "name": "stdout"
        },
        {
          "output_type": "display_data",
          "data": {
            "image/png": "[encoded data removed]",
            "text/plain": [
              "<Figure size 432x288 with 1 Axes>"
            ]
          },
          "metadata": {
            "tags": [],
            "needs_background": "light"
          }
        }
      ]
    },
    {
      "cell_type": "code",
      "metadata": {
        "colab": {
          "base_uri": "https://localhost:8080/",
          "height": 450
        },
        "id": "n6ZCDpF2uN5C",
        "outputId": "7bed52bb-9957-4df6-d84a-44802929c1bd"
      },
      "source": [
        "plot_decision_boundary(model_2, X, y)"
      ],
      "execution_count": 36,
      "outputs": [
        {
          "output_type": "stream",
          "text": [
            "[[-1.16175082 -0.6716972 ]\n",
            " [-1.12815094 -0.6716972 ]\n",
            " [-1.09455106 -0.6716972 ]\n",
            " [-1.06095118 -0.6716972 ]\n",
            " [-1.0273513  -0.6716972 ]\n",
            " [-0.99375142 -0.6716972 ]\n",
            " [-0.96015153 -0.6716972 ]\n",
            " [-0.92655165 -0.6716972 ]\n",
            " [-0.89295177 -0.6716972 ]\n",
            " [-0.85935189 -0.6716972 ]]\n",
            "doing binary classification\n"
          ],
          "name": "stdout"
        },
        {
          "output_type": "display_data",
          "data": {
            "image/png": "[encoded data removed]",
            "text/plain": [
              "<Figure size 432x288 with 1 Axes>"
            ]
          },
          "metadata": {
            "tags": [],
            "needs_background": "light"
          }
        }
      ]
    },
    {
      "cell_type": "code",
      "metadata": {
        "colab": {
          "base_uri": "https://localhost:8080/",
          "height": 424
        },
        "id": "XjD-9mRgwjmT",
        "outputId": "bd32a93b-a957-4005-f2d7-1913a26c96fa"
      },
      "source": [
        "# Plot the decision boudaries for the training and test sets\n",
        "plt.figure(figsize=(12, 6))\n",
        "plt.subplot(1, 2, 1)\n",
        "plt.title(\"Training plot\")\n",
        "plot_decision_boundary(model_2, X=train_data, y=train_labels)\n",
        "plt.subplot(1, 2, 2)\n",
        "plt.title(\"Test plot\")\n",
        "plot_decision_boundary(model_2, X=test_data, y=test_labels)"
      ],
      "execution_count": 39,
      "outputs": [
        {
          "output_type": "stream",
          "text": [
            "doing binary classification\n",
            "doing binary classification\n"
          ],
          "name": "stdout"
        },
        {
          "output_type": "display_data",
          "data": {
            "image/png": "[encoded data removed]",
            "text/plain": [
              "<Figure size 864x432 with 2 Axes>"
            ]
          },
          "metadata": {
            "tags": [],
            "needs_background": "light"
          }
        }
      ]
    },
    {
      "cell_type": "markdown",
      "metadata": {
        "id": "e5qP0LWuxCoO"
      },
      "source": [
        "# 4. Train a model to get 88%+ accuracy on the fashion MNIST test set. Plot a confusion matrix to see the results after."
      ]
    },
    {
      "cell_type": "code",
      "metadata": {
        "id": "BudODqiAyW5J"
      },
      "source": [
        "import tensorflow as tf\n",
        "from tensorflow.keras.datasets import fashion_mnist\n",
        "\n",
        "# The data has already been sorted into training and test sets for us\n",
        "(train_data, train_labels), (test_data, test_labels) = fashion_mnist.load_data()"
      ],
      "execution_count": 52,
      "outputs": []
    },
    {
      "cell_type": "code",
      "metadata": {
        "id": "HcYXJ7g2y0To"
      },
      "source": [
        "# At first I will normalized the data\n",
        "train_data_norm = train_data / 255.0\n",
        "test_data_norm = test_data / 255.0\n"
      ],
      "execution_count": 46,
      "outputs": []
    },
    {
      "cell_type": "code",
      "metadata": {
        "colab": {
          "base_uri": "https://localhost:8080/"
        },
        "id": "scnlVyFJzK4u",
        "outputId": "1893fb70-09a7-470f-f228-10a7a2118b80"
      },
      "source": [
        "# Let's build the model but this time I will increase the number of Dense layers by one\n",
        "\n",
        "# Set the random seed\n",
        "tf.random.set_seed(42)\n",
        "\n",
        "# 1. Create the model\n",
        "model_4 = tf.keras.Sequential([\n",
        "  tf.keras.layers.Flatten(input_shape=(28, 28)),\n",
        "  tf.keras.layers.Dense(4, activation=tf.keras.activations.relu),\n",
        "  tf.keras.layers.Dense(4, activation=tf.keras.activations.relu),\n",
        "  tf.keras.layers.Dense(4, activation=tf.keras.activations.relu),\n",
        "  tf.keras.layers.Dense(10, activation=tf.keras.activations.softmax)\n",
        "])\n",
        "\n",
        "# 2. Compile the model\n",
        "model_4.compile(loss=tf.keras.losses.CategoricalCrossentropy(),\n",
        "                optimizer=tf.keras.optimizers.Adam(),\n",
        "                metrics=[\"accuracy\"])\n",
        "\n",
        "# 3. Fit the model\n",
        "history_4 = model_4.fit(train_data_norm, tf.one_hot(train_labels, depth=10), epochs=50)"
      ],
      "execution_count": 50,
      "outputs": [
        {
          "output_type": "stream",
          "text": [
            "Epoch 1/50\n",
            "1875/1875 [==============================] - 6s 3ms/step - loss: 1.2228 - accuracy: 0.5265\n",
            "Epoch 2/50\n",
            "1875/1875 [==============================] - 5s 3ms/step - loss: 0.7745 - accuracy: 0.7208\n",
            "Epoch 3/50\n",
            "1875/1875 [==============================] - 5s 3ms/step - loss: 0.7203 - accuracy: 0.7411\n",
            "Epoch 4/50\n",
            "1875/1875 [==============================] - 5s 3ms/step - loss: 0.6938 - accuracy: 0.7495\n",
            "Epoch 5/50\n",
            "1875/1875 [==============================] - 5s 3ms/step - loss: 0.6793 - accuracy: 0.7548\n",
            "Epoch 6/50\n",
            "1875/1875 [==============================] - 5s 3ms/step - loss: 0.6692 - accuracy: 0.7584\n",
            "Epoch 7/50\n",
            "1875/1875 [==============================] - 5s 3ms/step - loss: 0.6609 - accuracy: 0.7611\n",
            "Epoch 8/50\n",
            "1875/1875 [==============================] - 5s 3ms/step - loss: 0.6542 - accuracy: 0.7631\n",
            "Epoch 9/50\n",
            "1875/1875 [==============================] - 5s 3ms/step - loss: 0.6474 - accuracy: 0.7653\n",
            "Epoch 10/50\n",
            "1875/1875 [==============================] - 5s 3ms/step - loss: 0.6407 - accuracy: 0.7686\n",
            "Epoch 11/50\n",
            "1875/1875 [==============================] - 5s 3ms/step - loss: 0.6362 - accuracy: 0.7707\n",
            "Epoch 12/50\n",
            "1875/1875 [==============================] - 5s 3ms/step - loss: 0.6304 - accuracy: 0.7724\n",
            "Epoch 13/50\n",
            "1875/1875 [==============================] - 5s 3ms/step - loss: 0.6263 - accuracy: 0.7745\n",
            "Epoch 14/50\n",
            "1875/1875 [==============================] - 5s 3ms/step - loss: 0.6217 - accuracy: 0.7761\n",
            "Epoch 15/50\n",
            "1875/1875 [==============================] - 5s 3ms/step - loss: 0.6165 - accuracy: 0.7762\n",
            "Epoch 16/50\n",
            "1875/1875 [==============================] - 5s 3ms/step - loss: 0.6119 - accuracy: 0.7782\n",
            "Epoch 17/50\n",
            "1875/1875 [==============================] - 5s 3ms/step - loss: 0.6061 - accuracy: 0.7815\n",
            "Epoch 18/50\n",
            "1875/1875 [==============================] - 5s 3ms/step - loss: 0.6050 - accuracy: 0.7809\n",
            "Epoch 19/50\n",
            "1875/1875 [==============================] - 5s 3ms/step - loss: 0.6026 - accuracy: 0.7807\n",
            "Epoch 20/50\n",
            "1875/1875 [==============================] - 5s 3ms/step - loss: 0.5997 - accuracy: 0.7826\n",
            "Epoch 21/50\n",
            "1875/1875 [==============================] - 5s 3ms/step - loss: 0.5973 - accuracy: 0.7828\n",
            "Epoch 22/50\n",
            "1875/1875 [==============================] - 5s 3ms/step - loss: 0.5962 - accuracy: 0.7839\n",
            "Epoch 23/50\n",
            "1875/1875 [==============================] - 5s 3ms/step - loss: 0.5952 - accuracy: 0.7836\n",
            "Epoch 24/50\n",
            "1875/1875 [==============================] - 5s 3ms/step - loss: 0.5936 - accuracy: 0.7848\n",
            "Epoch 25/50\n",
            "1875/1875 [==============================] - 5s 3ms/step - loss: 0.5921 - accuracy: 0.7840\n",
            "Epoch 26/50\n",
            "1875/1875 [==============================] - 5s 3ms/step - loss: 0.5932 - accuracy: 0.7837\n",
            "Epoch 27/50\n",
            "1875/1875 [==============================] - 5s 3ms/step - loss: 0.5910 - accuracy: 0.7848\n",
            "Epoch 28/50\n",
            "1875/1875 [==============================] - 5s 3ms/step - loss: 0.5902 - accuracy: 0.7847\n",
            "Epoch 29/50\n",
            "1875/1875 [==============================] - 5s 3ms/step - loss: 0.5893 - accuracy: 0.7863\n",
            "Epoch 30/50\n",
            "1875/1875 [==============================] - 5s 3ms/step - loss: 0.5881 - accuracy: 0.7859\n",
            "Epoch 31/50\n",
            "1875/1875 [==============================] - 5s 3ms/step - loss: 0.5884 - accuracy: 0.7855\n",
            "Epoch 32/50\n",
            "1875/1875 [==============================] - 5s 3ms/step - loss: 0.5875 - accuracy: 0.7864\n",
            "Epoch 33/50\n",
            "1875/1875 [==============================] - 5s 3ms/step - loss: 0.5864 - accuracy: 0.7878\n",
            "Epoch 34/50\n",
            "1875/1875 [==============================] - 5s 3ms/step - loss: 0.5855 - accuracy: 0.7862\n",
            "Epoch 35/50\n",
            "1875/1875 [==============================] - 5s 3ms/step - loss: 0.5848 - accuracy: 0.7884\n",
            "Epoch 36/50\n",
            "1875/1875 [==============================] - 5s 3ms/step - loss: 0.5829 - accuracy: 0.7918\n",
            "Epoch 37/50\n",
            "1875/1875 [==============================] - 5s 3ms/step - loss: 0.5819 - accuracy: 0.7927\n",
            "Epoch 38/50\n",
            "1875/1875 [==============================] - 5s 3ms/step - loss: 0.5806 - accuracy: 0.7953\n",
            "Epoch 39/50\n",
            "1875/1875 [==============================] - 5s 3ms/step - loss: 0.5785 - accuracy: 0.7968\n",
            "Epoch 40/50\n",
            "1875/1875 [==============================] - 5s 3ms/step - loss: 0.5761 - accuracy: 0.7983\n",
            "Epoch 41/50\n",
            "1875/1875 [==============================] - 5s 3ms/step - loss: 0.5752 - accuracy: 0.7994\n",
            "Epoch 42/50\n",
            "1875/1875 [==============================] - 5s 3ms/step - loss: 0.5748 - accuracy: 0.7986\n",
            "Epoch 43/50\n",
            "1875/1875 [==============================] - 5s 3ms/step - loss: 0.5735 - accuracy: 0.7987\n",
            "Epoch 44/50\n",
            "1875/1875 [==============================] - 5s 3ms/step - loss: 0.5714 - accuracy: 0.8008\n",
            "Epoch 45/50\n",
            "1875/1875 [==============================] - 5s 3ms/step - loss: 0.5714 - accuracy: 0.8004\n",
            "Epoch 46/50\n",
            "1875/1875 [==============================] - 5s 3ms/step - loss: 0.5697 - accuracy: 0.8017\n",
            "Epoch 47/50\n",
            "1875/1875 [==============================] - 5s 3ms/step - loss: 0.5691 - accuracy: 0.8029\n",
            "Epoch 48/50\n",
            "1875/1875 [==============================] - 5s 3ms/step - loss: 0.5681 - accuracy: 0.8029\n",
            "Epoch 49/50\n",
            "1875/1875 [==============================] - 5s 3ms/step - loss: 0.5683 - accuracy: 0.8036\n",
            "Epoch 50/50\n",
            "1875/1875 [==============================] - 5s 3ms/step - loss: 0.5666 - accuracy: 0.8031\n"
          ],
          "name": "stdout"
        }
      ]
    },
    {
      "cell_type": "code",
      "metadata": {
        "colab": {
          "base_uri": "https://localhost:8080/"
        },
        "id": "hbK48t5a0Gm4",
        "outputId": "a423bc84-a0b6-45db-9e96-99b7fd971ac7"
      },
      "source": [
        "# Let's valuate our model\n",
        "model_4.evaluate(test_data_norm, tf.one_hot(test_labels, depth=10))"
      ],
      "execution_count": 55,
      "outputs": [
        {
          "output_type": "stream",
          "text": [
            "313/313 [==============================] - 1s 3ms/step - loss: 0.6233 - accuracy: 0.7851\n"
          ],
          "name": "stdout"
        },
        {
          "output_type": "execute_result",
          "data": {
            "text/plain": [
              "[0.6232854127883911, 0.785099983215332]"
            ]
          },
          "metadata": {
            "tags": []
          },
          "execution_count": 55
        }
      ]
    },
    {
      "cell_type": "code",
      "metadata": {
        "colab": {
          "base_uri": "https://localhost:8080/"
        },
        "id": "-AwitOQq1Ux0",
        "outputId": "b1d758be-cdd9-432e-c4e6-8b59ee601d69"
      },
      "source": [
        "# How about train model with validation data ?\n",
        "model_4.fit(train_data_norm,\n",
        "            tf.one_hot(train_labels, depth=10),\n",
        "            epochs=40,\n",
        "            validation_data=(test_data_norm, tf.one_hot(test_labels, depth=10)))"
      ],
      "execution_count": 56,
      "outputs": [
        {
          "output_type": "stream",
          "text": [
            "Epoch 1/40\n",
            "1875/1875 [==============================] - 6s 3ms/step - loss: 0.5660 - accuracy: 0.8038 - val_loss: 0.6158 - val_accuracy: 0.7855\n",
            "Epoch 2/40\n",
            "1875/1875 [==============================] - 7s 3ms/step - loss: 0.5653 - accuracy: 0.8050 - val_loss: 0.6382 - val_accuracy: 0.7803\n",
            "Epoch 3/40\n",
            "1875/1875 [==============================] - 6s 3ms/step - loss: 0.5637 - accuracy: 0.8046 - val_loss: 0.6165 - val_accuracy: 0.7884\n",
            "Epoch 4/40\n",
            "1875/1875 [==============================] - 6s 3ms/step - loss: 0.5642 - accuracy: 0.8052 - val_loss: 0.6184 - val_accuracy: 0.7876\n",
            "Epoch 5/40\n",
            "1875/1875 [==============================] - 7s 3ms/step - loss: 0.5635 - accuracy: 0.8040 - val_loss: 0.6226 - val_accuracy: 0.7853\n",
            "Epoch 6/40\n",
            "1875/1875 [==============================] - 7s 3ms/step - loss: 0.5632 - accuracy: 0.8055 - val_loss: 0.6195 - val_accuracy: 0.7873\n",
            "Epoch 7/40\n",
            "1875/1875 [==============================] - 6s 3ms/step - loss: 0.5623 - accuracy: 0.8055 - val_loss: 0.6263 - val_accuracy: 0.7830\n",
            "Epoch 8/40\n",
            "1875/1875 [==============================] - 6s 3ms/step - loss: 0.5619 - accuracy: 0.8051 - val_loss: 0.6227 - val_accuracy: 0.7850\n",
            "Epoch 9/40\n",
            "1875/1875 [==============================] - 7s 3ms/step - loss: 0.5614 - accuracy: 0.8055 - val_loss: 0.6210 - val_accuracy: 0.7850\n",
            "Epoch 10/40\n",
            "1875/1875 [==============================] - 6s 3ms/step - loss: 0.5613 - accuracy: 0.8065 - val_loss: 0.6123 - val_accuracy: 0.7896\n",
            "Epoch 11/40\n",
            "1875/1875 [==============================] - 6s 3ms/step - loss: 0.5603 - accuracy: 0.8066 - val_loss: 0.6132 - val_accuracy: 0.7911\n",
            "Epoch 12/40\n",
            "1875/1875 [==============================] - 6s 3ms/step - loss: 0.5591 - accuracy: 0.8074 - val_loss: 0.6121 - val_accuracy: 0.7904\n",
            "Epoch 13/40\n",
            "1875/1875 [==============================] - 6s 3ms/step - loss: 0.5588 - accuracy: 0.8078 - val_loss: 0.6159 - val_accuracy: 0.7939\n",
            "Epoch 14/40\n",
            "1875/1875 [==============================] - 6s 3ms/step - loss: 0.5588 - accuracy: 0.8080 - val_loss: 0.6180 - val_accuracy: 0.7927\n",
            "Epoch 15/40\n",
            "1875/1875 [==============================] - 6s 3ms/step - loss: 0.5580 - accuracy: 0.8080 - val_loss: 0.6157 - val_accuracy: 0.7931\n",
            "Epoch 16/40\n",
            "1875/1875 [==============================] - 7s 3ms/step - loss: 0.5566 - accuracy: 0.8081 - val_loss: 0.6118 - val_accuracy: 0.7927\n",
            "Epoch 17/40\n",
            "1875/1875 [==============================] - 6s 3ms/step - loss: 0.5546 - accuracy: 0.8087 - val_loss: 0.6130 - val_accuracy: 0.7866\n",
            "Epoch 18/40\n",
            "1875/1875 [==============================] - 7s 4ms/step - loss: 0.5562 - accuracy: 0.8082 - val_loss: 0.6078 - val_accuracy: 0.7914\n",
            "Epoch 19/40\n",
            "1875/1875 [==============================] - 6s 3ms/step - loss: 0.5551 - accuracy: 0.8080 - val_loss: 0.6230 - val_accuracy: 0.7876\n",
            "Epoch 20/40\n",
            "1875/1875 [==============================] - 7s 3ms/step - loss: 0.5542 - accuracy: 0.8100 - val_loss: 0.6122 - val_accuracy: 0.7919\n",
            "Epoch 21/40\n",
            "1875/1875 [==============================] - 6s 3ms/step - loss: 0.5531 - accuracy: 0.8095 - val_loss: 0.6114 - val_accuracy: 0.7915\n",
            "Epoch 22/40\n",
            "1875/1875 [==============================] - 6s 3ms/step - loss: 0.5528 - accuracy: 0.8112 - val_loss: 0.6167 - val_accuracy: 0.7901\n",
            "Epoch 23/40\n",
            "1875/1875 [==============================] - 7s 3ms/step - loss: 0.5518 - accuracy: 0.8113 - val_loss: 0.6126 - val_accuracy: 0.7895\n",
            "Epoch 24/40\n",
            "1875/1875 [==============================] - 6s 3ms/step - loss: 0.5519 - accuracy: 0.8106 - val_loss: 0.6150 - val_accuracy: 0.7919\n",
            "Epoch 25/40\n",
            "1875/1875 [==============================] - 6s 3ms/step - loss: 0.5513 - accuracy: 0.8109 - val_loss: 0.6152 - val_accuracy: 0.7951\n",
            "Epoch 26/40\n",
            "1875/1875 [==============================] - 7s 4ms/step - loss: 0.5516 - accuracy: 0.8103 - val_loss: 0.6057 - val_accuracy: 0.7941\n",
            "Epoch 27/40\n",
            "1875/1875 [==============================] - 6s 3ms/step - loss: 0.5503 - accuracy: 0.8116 - val_loss: 0.6129 - val_accuracy: 0.7946\n",
            "Epoch 28/40\n",
            "1875/1875 [==============================] - 6s 3ms/step - loss: 0.5504 - accuracy: 0.8108 - val_loss: 0.6099 - val_accuracy: 0.7946\n",
            "Epoch 29/40\n",
            "1875/1875 [==============================] - 7s 4ms/step - loss: 0.5495 - accuracy: 0.8120 - val_loss: 0.6074 - val_accuracy: 0.7943\n",
            "Epoch 30/40\n",
            "1875/1875 [==============================] - 7s 4ms/step - loss: 0.5487 - accuracy: 0.8114 - val_loss: 0.6127 - val_accuracy: 0.7899\n",
            "Epoch 31/40\n",
            "1875/1875 [==============================] - 6s 3ms/step - loss: 0.5486 - accuracy: 0.8114 - val_loss: 0.6267 - val_accuracy: 0.7849\n",
            "Epoch 32/40\n",
            "1875/1875 [==============================] - 6s 3ms/step - loss: 0.5488 - accuracy: 0.8117 - val_loss: 0.6128 - val_accuracy: 0.7930\n",
            "Epoch 33/40\n",
            "1875/1875 [==============================] - 6s 3ms/step - loss: 0.5475 - accuracy: 0.8134 - val_loss: 0.6183 - val_accuracy: 0.7876\n",
            "Epoch 34/40\n",
            "1875/1875 [==============================] - 6s 3ms/step - loss: 0.5474 - accuracy: 0.8125 - val_loss: 0.6110 - val_accuracy: 0.7950\n",
            "Epoch 35/40\n",
            "1875/1875 [==============================] - 6s 3ms/step - loss: 0.5468 - accuracy: 0.8139 - val_loss: 0.6166 - val_accuracy: 0.7953\n",
            "Epoch 36/40\n",
            "1875/1875 [==============================] - 7s 4ms/step - loss: 0.5463 - accuracy: 0.8140 - val_loss: 0.6105 - val_accuracy: 0.7945\n",
            "Epoch 37/40\n",
            "1875/1875 [==============================] - 7s 4ms/step - loss: 0.5455 - accuracy: 0.8149 - val_loss: 0.6182 - val_accuracy: 0.7940\n",
            "Epoch 38/40\n",
            "1875/1875 [==============================] - 6s 3ms/step - loss: 0.5456 - accuracy: 0.8135 - val_loss: 0.6045 - val_accuracy: 0.7949\n",
            "Epoch 39/40\n",
            "1875/1875 [==============================] - 7s 4ms/step - loss: 0.5446 - accuracy: 0.8143 - val_loss: 0.6076 - val_accuracy: 0.7941\n",
            "Epoch 40/40\n",
            "1875/1875 [==============================] - 7s 4ms/step - loss: 0.5433 - accuracy: 0.8134 - val_loss: 0.6101 - val_accuracy: 0.7915\n"
          ],
          "name": "stdout"
        },
        {
          "output_type": "execute_result",
          "data": {
            "text/plain": [
              "<tensorflow.python.keras.callbacks.History at 0x7f8e2020bb50>"
            ]
          },
          "metadata": {
            "tags": []
          },
          "execution_count": 56
        }
      ]
    },
    {
      "cell_type": "code",
      "metadata": {
        "colab": {
          "base_uri": "https://localhost:8080/"
        },
        "id": "6ks9ybSZ2Ecf",
        "outputId": "0695d80b-8270-4b41-b877-8fd6ce4f544e"
      },
      "source": [
        "# How we can improve our model ?\n",
        "\n",
        "# Set the random seed\n",
        "tf.random.set_seed(42)\n",
        "\n",
        "# 1. Create the model\n",
        "model_5 = tf.keras.Sequential([\n",
        "  tf.keras.layers.Flatten(input_shape=(28, 28)),\n",
        "  tf.keras.layers.Dense(6, activation=tf.keras.activations.relu),\n",
        "  tf.keras.layers.Dense(6, activation=tf.keras.activations.relu),\n",
        "  tf.keras.layers.Dense(6, activation=tf.keras.activations.relu),\n",
        "  tf.keras.layers.Dense(10, activation=tf.keras.activations.softmax)\n",
        "])\n",
        "\n",
        "# 2. Compile the model\n",
        "model_5.compile(loss=tf.keras.losses.SparseCategoricalCrossentropy(),\n",
        "                optimizer=tf.keras.optimizers.Adam(),\n",
        "                metrics=[\"accuracy\"])\n",
        "\n",
        "# 3. Fit the model\n",
        "history_5 = model_5.fit(train_data_norm,\n",
        "                        train_labels,\n",
        "                        epochs=20,\n",
        "                        validation_data=(test_data_norm, test_labels))"
      ],
      "execution_count": 57,
      "outputs": [
        {
          "output_type": "stream",
          "text": [
            "Epoch 1/20\n",
            "1875/1875 [==============================] - 6s 3ms/step - loss: 1.1198 - accuracy: 0.6197 - val_loss: 0.7557 - val_accuracy: 0.7340\n",
            "Epoch 2/20\n",
            "1875/1875 [==============================] - 5s 3ms/step - loss: 0.6627 - accuracy: 0.7681 - val_loss: 0.6296 - val_accuracy: 0.7816\n",
            "Epoch 3/20\n",
            "1875/1875 [==============================] - 5s 3ms/step - loss: 0.5753 - accuracy: 0.8015 - val_loss: 0.5781 - val_accuracy: 0.7969\n",
            "Epoch 4/20\n",
            "1875/1875 [==============================] - 5s 3ms/step - loss: 0.5436 - accuracy: 0.8106 - val_loss: 0.5512 - val_accuracy: 0.8068\n",
            "Epoch 5/20\n",
            "1875/1875 [==============================] - 5s 3ms/step - loss: 0.5214 - accuracy: 0.8148 - val_loss: 0.5690 - val_accuracy: 0.7911\n",
            "Epoch 6/20\n",
            "1875/1875 [==============================] - 5s 3ms/step - loss: 0.5044 - accuracy: 0.8206 - val_loss: 0.5412 - val_accuracy: 0.8109\n",
            "Epoch 7/20\n",
            "1875/1875 [==============================] - 5s 3ms/step - loss: 0.4941 - accuracy: 0.8246 - val_loss: 0.5661 - val_accuracy: 0.7988\n",
            "Epoch 8/20\n",
            "1875/1875 [==============================] - 5s 3ms/step - loss: 0.4866 - accuracy: 0.8271 - val_loss: 0.5150 - val_accuracy: 0.8181\n",
            "Epoch 9/20\n",
            "1875/1875 [==============================] - 5s 3ms/step - loss: 0.4791 - accuracy: 0.8296 - val_loss: 0.5168 - val_accuracy: 0.8180\n",
            "Epoch 10/20\n",
            "1875/1875 [==============================] - 5s 3ms/step - loss: 0.4741 - accuracy: 0.8317 - val_loss: 0.5158 - val_accuracy: 0.8158\n",
            "Epoch 11/20\n",
            "1875/1875 [==============================] - 5s 3ms/step - loss: 0.4695 - accuracy: 0.8340 - val_loss: 0.5059 - val_accuracy: 0.8228\n",
            "Epoch 12/20\n",
            "1875/1875 [==============================] - 5s 3ms/step - loss: 0.4623 - accuracy: 0.8376 - val_loss: 0.5055 - val_accuracy: 0.8263\n",
            "Epoch 13/20\n",
            "1875/1875 [==============================] - 5s 3ms/step - loss: 0.4593 - accuracy: 0.8381 - val_loss: 0.5114 - val_accuracy: 0.8222\n",
            "Epoch 14/20\n",
            "1875/1875 [==============================] - 5s 3ms/step - loss: 0.4542 - accuracy: 0.8403 - val_loss: 0.5040 - val_accuracy: 0.8218\n",
            "Epoch 15/20\n",
            "1875/1875 [==============================] - 5s 3ms/step - loss: 0.4518 - accuracy: 0.8411 - val_loss: 0.5036 - val_accuracy: 0.8211\n",
            "Epoch 16/20\n",
            "1875/1875 [==============================] - 5s 3ms/step - loss: 0.4484 - accuracy: 0.8437 - val_loss: 0.4958 - val_accuracy: 0.8281\n",
            "Epoch 17/20\n",
            "1875/1875 [==============================] - 5s 3ms/step - loss: 0.4445 - accuracy: 0.8435 - val_loss: 0.4968 - val_accuracy: 0.8280\n",
            "Epoch 18/20\n",
            "1875/1875 [==============================] - 5s 3ms/step - loss: 0.4429 - accuracy: 0.8446 - val_loss: 0.4939 - val_accuracy: 0.8305\n",
            "Epoch 19/20\n",
            "1875/1875 [==============================] - 5s 3ms/step - loss: 0.4401 - accuracy: 0.8458 - val_loss: 0.4976 - val_accuracy: 0.8283\n",
            "Epoch 20/20\n",
            "1875/1875 [==============================] - 5s 3ms/step - loss: 0.4374 - accuracy: 0.8467 - val_loss: 0.5050 - val_accuracy: 0.8241\n"
          ],
          "name": "stdout"
        }
      ]
    },
    {
      "cell_type": "code",
      "metadata": {
        "colab": {
          "base_uri": "https://localhost:8080/"
        },
        "id": "lnQ4R6B-4ED2",
        "outputId": "d156b6e5-00ed-4cc3-8385-0681c77a3de0"
      },
      "source": [
        "# Evaluate our model \n",
        "model_5.evaluate(test_data_norm, test_labels)"
      ],
      "execution_count": 58,
      "outputs": [
        {
          "output_type": "stream",
          "text": [
            "313/313 [==============================] - 1s 3ms/step - loss: 0.5050 - accuracy: 0.8241\n"
          ],
          "name": "stdout"
        },
        {
          "output_type": "execute_result",
          "data": {
            "text/plain": [
              "[0.5049957633018494, 0.8241000175476074]"
            ]
          },
          "metadata": {
            "tags": []
          },
          "execution_count": 58
        }
      ]
    },
    {
      "cell_type": "code",
      "metadata": {
        "colab": {
          "base_uri": "https://localhost:8080/",
          "height": 296
        },
        "id": "PZjPSAVE4r2T",
        "outputId": "93ba9d2e-1723-4947-9dfd-a45a531b5bcb"
      },
      "source": [
        "# Plot data loss curves\n",
        "pd.DataFrame(history_5.history).plot(xlabel=\"epochs\")"
      ],
      "execution_count": 59,
      "outputs": [
        {
          "output_type": "execute_result",
          "data": {
            "text/plain": [
              "<matplotlib.axes._subplots.AxesSubplot at 0x7f8e200587d0>"
            ]
          },
          "metadata": {
            "tags": []
          },
          "execution_count": 59
        },
        {
          "output_type": "display_data",
          "data": {
            "image/png": "[encoded data removed]",
            "text/plain": [
              "<Figure size 432x288 with 1 Axes>"
            ]
          },
          "metadata": {
            "tags": [],
            "needs_background": "light"
          }
        }
      ]
    },
    {
      "cell_type": "code",
      "metadata": {
        "colab": {
          "base_uri": "https://localhost:8080/"
        },
        "id": "rt_0TYRu44_0",
        "outputId": "beaff557-cb8e-469f-8807-9dd05f9c4f86"
      },
      "source": [
        "# How about we add one more layer ?\n",
        "\n",
        "# Set the random seed\n",
        "tf.random.set_seed(42)\n",
        "\n",
        "# 1. Create the model\n",
        "model_6 = tf.keras.Sequential([\n",
        "  tf.keras.layers.Flatten(input_shape=(28, 28)),\n",
        "  tf.keras.layers.Dense(6, activation=tf.keras.activations.relu),\n",
        "  tf.keras.layers.Dense(6, activation=tf.keras.activations.relu),\n",
        "  tf.keras.layers.Dense(6, activation=tf.keras.activations.relu),\n",
        "  tf.keras.layers.Dense(6, activation=tf.keras.activations.relu),\n",
        "  tf.keras.layers.Dense(10, activation=tf.keras.activations.softmax)\n",
        "])\n",
        "\n",
        "# 2. Compile the model\n",
        "model_6.compile(loss=tf.keras.losses.SparseCategoricalCrossentropy(),\n",
        "                optimizer=tf.keras.optimizers.Adam(),\n",
        "                metrics=[\"accuracy\"])\n",
        "\n",
        "# 3. Fit the model\n",
        "history_6 = model_6.fit(train_data_norm,\n",
        "                        train_labels,\n",
        "                        epochs=25,\n",
        "                        validation_data=(test_data_norm, test_labels))"
      ],
      "execution_count": 60,
      "outputs": [
        {
          "output_type": "stream",
          "text": [
            "Epoch 1/25\n",
            "1875/1875 [==============================] - 6s 3ms/step - loss: 0.9826 - accuracy: 0.6284 - val_loss: 0.7114 - val_accuracy: 0.7360\n",
            "Epoch 2/25\n",
            "1875/1875 [==============================] - 6s 3ms/step - loss: 0.6306 - accuracy: 0.7697 - val_loss: 0.6048 - val_accuracy: 0.7950\n",
            "Epoch 3/25\n",
            "1875/1875 [==============================] - 6s 3ms/step - loss: 0.5508 - accuracy: 0.8092 - val_loss: 0.5793 - val_accuracy: 0.7941\n",
            "Epoch 4/25\n",
            "1875/1875 [==============================] - 6s 3ms/step - loss: 0.5267 - accuracy: 0.8173 - val_loss: 0.5479 - val_accuracy: 0.8106\n",
            "Epoch 5/25\n",
            "1875/1875 [==============================] - 6s 3ms/step - loss: 0.5148 - accuracy: 0.8204 - val_loss: 0.5434 - val_accuracy: 0.8131\n",
            "Epoch 6/25\n",
            "1875/1875 [==============================] - 6s 3ms/step - loss: 0.5043 - accuracy: 0.8233 - val_loss: 0.5699 - val_accuracy: 0.7979\n",
            "Epoch 7/25\n",
            "1875/1875 [==============================] - 6s 3ms/step - loss: 0.4980 - accuracy: 0.8239 - val_loss: 0.5299 - val_accuracy: 0.8137\n",
            "Epoch 8/25\n",
            "1875/1875 [==============================] - 6s 3ms/step - loss: 0.4904 - accuracy: 0.8274 - val_loss: 0.5223 - val_accuracy: 0.8199\n",
            "Epoch 9/25\n",
            "1875/1875 [==============================] - 5s 3ms/step - loss: 0.4852 - accuracy: 0.8296 - val_loss: 0.5396 - val_accuracy: 0.8123\n",
            "Epoch 10/25\n",
            "1875/1875 [==============================] - 6s 3ms/step - loss: 0.4832 - accuracy: 0.8295 - val_loss: 0.5171 - val_accuracy: 0.8190\n",
            "Epoch 11/25\n",
            "1875/1875 [==============================] - 6s 3ms/step - loss: 0.4790 - accuracy: 0.8321 - val_loss: 0.5183 - val_accuracy: 0.8199\n",
            "Epoch 12/25\n",
            "1875/1875 [==============================] - 6s 3ms/step - loss: 0.4758 - accuracy: 0.8316 - val_loss: 0.5187 - val_accuracy: 0.8202\n",
            "Epoch 13/25\n",
            "1875/1875 [==============================] - 6s 3ms/step - loss: 0.4728 - accuracy: 0.8339 - val_loss: 0.5143 - val_accuracy: 0.8207\n",
            "Epoch 14/25\n",
            "1875/1875 [==============================] - 6s 3ms/step - loss: 0.4702 - accuracy: 0.8356 - val_loss: 0.5061 - val_accuracy: 0.8243\n",
            "Epoch 15/25\n",
            "1875/1875 [==============================] - 6s 3ms/step - loss: 0.4689 - accuracy: 0.8343 - val_loss: 0.5075 - val_accuracy: 0.8267\n",
            "Epoch 16/25\n",
            "1875/1875 [==============================] - 6s 3ms/step - loss: 0.4676 - accuracy: 0.8358 - val_loss: 0.5056 - val_accuracy: 0.8250\n",
            "Epoch 17/25\n",
            "1875/1875 [==============================] - 6s 3ms/step - loss: 0.4630 - accuracy: 0.8366 - val_loss: 0.5053 - val_accuracy: 0.8245\n",
            "Epoch 18/25\n",
            "1875/1875 [==============================] - 6s 3ms/step - loss: 0.4625 - accuracy: 0.8370 - val_loss: 0.4971 - val_accuracy: 0.8283\n",
            "Epoch 19/25\n",
            "1875/1875 [==============================] - 6s 3ms/step - loss: 0.4624 - accuracy: 0.8366 - val_loss: 0.5052 - val_accuracy: 0.8254\n",
            "Epoch 20/25\n",
            "1875/1875 [==============================] - 6s 3ms/step - loss: 0.4600 - accuracy: 0.8383 - val_loss: 0.5152 - val_accuracy: 0.8234\n",
            "Epoch 21/25\n",
            "1875/1875 [==============================] - 6s 3ms/step - loss: 0.4572 - accuracy: 0.8388 - val_loss: 0.5233 - val_accuracy: 0.8162\n",
            "Epoch 22/25\n",
            "1875/1875 [==============================] - 6s 3ms/step - loss: 0.4564 - accuracy: 0.8381 - val_loss: 0.4994 - val_accuracy: 0.8274\n",
            "Epoch 23/25\n",
            "1875/1875 [==============================] - 6s 3ms/step - loss: 0.4551 - accuracy: 0.8390 - val_loss: 0.5212 - val_accuracy: 0.8152\n",
            "Epoch 24/25\n",
            "1875/1875 [==============================] - 6s 3ms/step - loss: 0.4541 - accuracy: 0.8397 - val_loss: 0.5204 - val_accuracy: 0.8216\n",
            "Epoch 25/25\n",
            "1875/1875 [==============================] - 6s 3ms/step - loss: 0.4529 - accuracy: 0.8409 - val_loss: 0.5145 - val_accuracy: 0.8235\n"
          ],
          "name": "stdout"
        }
      ]
    },
    {
      "cell_type": "code",
      "metadata": {
        "colab": {
          "base_uri": "https://localhost:8080/",
          "height": 297
        },
        "id": "H6P-C3Bw6_VX",
        "outputId": "14c3afd1-05be-451e-fd00-a0452dc81532"
      },
      "source": [
        "pd.DataFrame(history_6.history).plot(xlabel=\"epochs\")"
      ],
      "execution_count": 62,
      "outputs": [
        {
          "output_type": "execute_result",
          "data": {
            "text/plain": [
              "<matplotlib.axes._subplots.AxesSubplot at 0x7f8e240b1a90>"
            ]
          },
          "metadata": {
            "tags": []
          },
          "execution_count": 62
        },
        {
          "output_type": "display_data",
          "data": {
            "image/png": "[encoded data removed]",
            "text/plain": [
              "<Figure size 432x288 with 1 Axes>"
            ]
          },
          "metadata": {
            "tags": [],
            "needs_background": "light"
          }
        }
      ]
    },
    {
      "cell_type": "code",
      "metadata": {
        "colab": {
          "base_uri": "https://localhost:8080/"
        },
        "id": "h41wSkcU6DAN",
        "outputId": "7167758b-1dcb-4616-ffa4-e42216a87e01"
      },
      "source": [
        "# Let find the ideal learning rate\n",
        "\n",
        "# Set the random seed\n",
        "tf.random.set_seed(42)\n",
        "\n",
        "# 1. Create the model\n",
        "model_7 = tf.keras.Sequential([\n",
        "  tf.keras.layers.Flatten(input_shape=(28, 28)),\n",
        "  tf.keras.layers.Dense(6, activation=tf.keras.activations.relu),\n",
        "  tf.keras.layers.Dense(6, activation=tf.keras.activations.relu),\n",
        "  tf.keras.layers.Dense(6, activation=tf.keras.activations.relu),\n",
        "  tf.keras.layers.Dense(6, activation=tf.keras.activations.relu),\n",
        "  tf.keras.layers.Dense(10, activation=tf.keras.activations.softmax)\n",
        "])\n",
        "\n",
        "# 2. Compile the model\n",
        "model_7.compile(loss=tf.keras.losses.SparseCategoricalCrossentropy(),\n",
        "                optimizer=tf.keras.optimizers.Adam(),\n",
        "                metrics=[\"accuracy\"])\n",
        "\n",
        "# 3. Create the learning rate callbacks\n",
        "lr_scheduler = tf.keras.callbacks.LearningRateScheduler(lambda epochs: 1e-4*10**(epochs/20))\n",
        "\n",
        "# 4. Fit the model\n",
        "history_7 = model_7.fit(train_data_norm,\n",
        "                        train_labels,\n",
        "                        epochs=40,\n",
        "                        validation_data=(test_data_norm, test_labels),\n",
        "                        callbacks=[lr_scheduler])"
      ],
      "execution_count": 69,
      "outputs": [
        {
          "output_type": "stream",
          "text": [
            "Epoch 1/40\n",
            "1875/1875 [==============================] - 6s 3ms/step - loss: 1.8594 - accuracy: 0.2888 - val_loss: 1.4279 - val_accuracy: 0.4226\n",
            "Epoch 2/40\n",
            "1875/1875 [==============================] - 6s 3ms/step - loss: 1.1600 - accuracy: 0.5822 - val_loss: 0.9851 - val_accuracy: 0.6538\n",
            "Epoch 3/40\n",
            "1875/1875 [==============================] - 6s 3ms/step - loss: 0.8326 - accuracy: 0.6985 - val_loss: 0.7846 - val_accuracy: 0.7210\n",
            "Epoch 4/40\n",
            "1875/1875 [==============================] - 6s 3ms/step - loss: 0.7216 - accuracy: 0.7460 - val_loss: 0.7091 - val_accuracy: 0.7554\n",
            "Epoch 5/40\n",
            "1875/1875 [==============================] - 6s 3ms/step - loss: 0.6592 - accuracy: 0.7734 - val_loss: 0.6563 - val_accuracy: 0.7734\n",
            "Epoch 6/40\n",
            "1875/1875 [==============================] - 6s 3ms/step - loss: 0.6112 - accuracy: 0.7916 - val_loss: 0.6153 - val_accuracy: 0.7884\n",
            "Epoch 7/40\n",
            "1875/1875 [==============================] - 6s 3ms/step - loss: 0.5752 - accuracy: 0.8058 - val_loss: 0.5916 - val_accuracy: 0.7980\n",
            "Epoch 8/40\n",
            "1875/1875 [==============================] - 6s 3ms/step - loss: 0.5480 - accuracy: 0.8139 - val_loss: 0.5662 - val_accuracy: 0.8052\n",
            "Epoch 9/40\n",
            "1875/1875 [==============================] - 6s 3ms/step - loss: 0.5280 - accuracy: 0.8205 - val_loss: 0.5424 - val_accuracy: 0.8159\n",
            "Epoch 10/40\n",
            "1875/1875 [==============================] - 6s 3ms/step - loss: 0.5121 - accuracy: 0.8241 - val_loss: 0.5340 - val_accuracy: 0.8143\n",
            "Epoch 11/40\n",
            "1875/1875 [==============================] - 6s 3ms/step - loss: 0.4992 - accuracy: 0.8294 - val_loss: 0.5343 - val_accuracy: 0.8165\n",
            "Epoch 12/40\n",
            "1875/1875 [==============================] - 6s 3ms/step - loss: 0.4896 - accuracy: 0.8322 - val_loss: 0.5238 - val_accuracy: 0.8222\n",
            "Epoch 13/40\n",
            "1875/1875 [==============================] - 6s 3ms/step - loss: 0.4810 - accuracy: 0.8342 - val_loss: 0.5071 - val_accuracy: 0.8276\n",
            "Epoch 14/40\n",
            "1875/1875 [==============================] - 6s 3ms/step - loss: 0.4744 - accuracy: 0.8364 - val_loss: 0.5278 - val_accuracy: 0.8233\n",
            "Epoch 15/40\n",
            "1875/1875 [==============================] - 6s 3ms/step - loss: 0.4680 - accuracy: 0.8381 - val_loss: 0.5050 - val_accuracy: 0.8279\n",
            "Epoch 16/40\n",
            "1875/1875 [==============================] - 6s 3ms/step - loss: 0.4633 - accuracy: 0.8400 - val_loss: 0.4910 - val_accuracy: 0.8326\n",
            "Epoch 17/40\n",
            "1875/1875 [==============================] - 6s 3ms/step - loss: 0.4598 - accuracy: 0.8398 - val_loss: 0.4972 - val_accuracy: 0.8273\n",
            "Epoch 18/40\n",
            "1875/1875 [==============================] - 6s 3ms/step - loss: 0.4568 - accuracy: 0.8406 - val_loss: 0.4840 - val_accuracy: 0.8320\n",
            "Epoch 19/40\n",
            "1875/1875 [==============================] - 6s 3ms/step - loss: 0.4555 - accuracy: 0.8411 - val_loss: 0.4949 - val_accuracy: 0.8247\n",
            "Epoch 20/40\n",
            "1875/1875 [==============================] - 6s 3ms/step - loss: 0.4515 - accuracy: 0.8424 - val_loss: 0.4930 - val_accuracy: 0.8282\n",
            "Epoch 21/40\n",
            "1875/1875 [==============================] - 6s 3ms/step - loss: 0.4512 - accuracy: 0.8415 - val_loss: 0.5046 - val_accuracy: 0.8239\n",
            "Epoch 22/40\n",
            "1875/1875 [==============================] - 6s 3ms/step - loss: 0.4502 - accuracy: 0.8415 - val_loss: 0.4879 - val_accuracy: 0.8328\n",
            "Epoch 23/40\n",
            "1875/1875 [==============================] - 6s 3ms/step - loss: 0.4470 - accuracy: 0.8445 - val_loss: 0.4918 - val_accuracy: 0.8304\n",
            "Epoch 24/40\n",
            "1875/1875 [==============================] - 6s 3ms/step - loss: 0.4495 - accuracy: 0.8428 - val_loss: 0.4815 - val_accuracy: 0.8328\n",
            "Epoch 25/40\n",
            "1875/1875 [==============================] - 6s 3ms/step - loss: 0.4451 - accuracy: 0.8464 - val_loss: 0.5193 - val_accuracy: 0.8179\n",
            "Epoch 26/40\n",
            "1875/1875 [==============================] - 6s 3ms/step - loss: 0.4502 - accuracy: 0.8431 - val_loss: 0.4846 - val_accuracy: 0.8300\n",
            "Epoch 27/40\n",
            "1875/1875 [==============================] - 6s 3ms/step - loss: 0.4470 - accuracy: 0.8451 - val_loss: 0.4700 - val_accuracy: 0.8352\n",
            "Epoch 28/40\n",
            "1875/1875 [==============================] - 6s 3ms/step - loss: 0.4461 - accuracy: 0.8434 - val_loss: 0.5016 - val_accuracy: 0.8311\n",
            "Epoch 29/40\n",
            "1875/1875 [==============================] - 6s 3ms/step - loss: 0.4457 - accuracy: 0.8452 - val_loss: 0.4668 - val_accuracy: 0.8363\n",
            "Epoch 30/40\n",
            "1875/1875 [==============================] - 6s 3ms/step - loss: 0.4467 - accuracy: 0.8446 - val_loss: 0.5053 - val_accuracy: 0.8228\n",
            "Epoch 31/40\n",
            "1875/1875 [==============================] - 6s 3ms/step - loss: 0.4433 - accuracy: 0.8455 - val_loss: 0.4888 - val_accuracy: 0.8270\n",
            "Epoch 32/40\n",
            "1875/1875 [==============================] - 6s 3ms/step - loss: 0.4473 - accuracy: 0.8452 - val_loss: 0.5373 - val_accuracy: 0.8157\n",
            "Epoch 33/40\n",
            "1875/1875 [==============================] - 6s 3ms/step - loss: 0.4437 - accuracy: 0.8457 - val_loss: 0.5000 - val_accuracy: 0.8302\n",
            "Epoch 34/40\n",
            "1875/1875 [==============================] - 6s 3ms/step - loss: 0.4467 - accuracy: 0.8435 - val_loss: 0.5063 - val_accuracy: 0.8225\n",
            "Epoch 35/40\n",
            "1875/1875 [==============================] - 6s 3ms/step - loss: 0.4489 - accuracy: 0.8435 - val_loss: 0.5861 - val_accuracy: 0.8017\n",
            "Epoch 36/40\n",
            "1875/1875 [==============================] - 6s 3ms/step - loss: 0.4448 - accuracy: 0.8453 - val_loss: 0.5477 - val_accuracy: 0.8111\n",
            "Epoch 37/40\n",
            "1875/1875 [==============================] - 6s 3ms/step - loss: 0.4539 - accuracy: 0.8424 - val_loss: 0.4995 - val_accuracy: 0.8225\n",
            "Epoch 38/40\n",
            "1875/1875 [==============================] - 6s 3ms/step - loss: 0.4607 - accuracy: 0.8404 - val_loss: 0.4776 - val_accuracy: 0.8366\n",
            "Epoch 39/40\n",
            "1875/1875 [==============================] - 6s 3ms/step - loss: 0.4643 - accuracy: 0.8400 - val_loss: 0.4974 - val_accuracy: 0.8264\n",
            "Epoch 40/40\n",
            "1875/1875 [==============================] - 6s 3ms/step - loss: 0.4683 - accuracy: 0.8386 - val_loss: 0.5026 - val_accuracy: 0.8315\n"
          ],
          "name": "stdout"
        }
      ]
    },
    {
      "cell_type": "code",
      "metadata": {
        "colab": {
          "base_uri": "https://localhost:8080/",
          "height": 316
        },
        "id": "AEeapUSJ76d9",
        "outputId": "79fe1b3e-6553-4456-e50f-0891090a0621"
      },
      "source": [
        "# Plot the learning rate decay curve\n",
        "\n",
        "import matplotlib.pyplot as plt\n",
        "\n",
        "lrs = 1e-4 * (10**(tf.range(40)/20))\n",
        "plt.semilogx(lrs, history_7.history[\"loss\"])\n",
        "plt.xlabel(\"Learning rate\")\n",
        "plt.ylabel(\"Loss\")\n",
        "plt.title(\"Finding the ideal learning rate\")"
      ],
      "execution_count": 72,
      "outputs": [
        {
          "output_type": "execute_result",
          "data": {
            "text/plain": [
              "Text(0.5, 1.0, 'Finding the ideal learning rate')"
            ]
          },
          "metadata": {
            "tags": []
          },
          "execution_count": 72
        },
        {
          "output_type": "display_data",
          "data": {
            "image/png": "[encoded data removed]",
            "text/plain": [
              "<Figure size 432x288 with 1 Axes>"
            ]
          },
          "metadata": {
            "tags": [],
            "needs_background": "light"
          }
        }
      ]
    },
    {
      "cell_type": "code",
      "metadata": {
        "colab": {
          "base_uri": "https://localhost:8080/"
        },
        "id": "VzNo_8_A9d72",
        "outputId": "01145968-6d55-4e43-e4f5-03bdb7e4fc1a"
      },
      "source": [
        "# How about we add one more layer ?\n",
        "\n",
        "# Set the random seed\n",
        "tf.random.set_seed(42)\n",
        "\n",
        "# 1. Create the model\n",
        "model_8 = tf.keras.Sequential([\n",
        "  tf.keras.layers.Flatten(input_shape=(28, 28)),\n",
        "  tf.keras.layers.Dense(10, activation=tf.keras.activations.relu),\n",
        "  tf.keras.layers.Dense(10, activation=tf.keras.activations.relu),\n",
        "  tf.keras.layers.Dense(10, activation=tf.keras.activations.relu),\n",
        "  tf.keras.layers.Dense(10, activation=tf.keras.activations.relu),\n",
        "  tf.keras.layers.Dense(10, activation=tf.keras.activations.softmax)\n",
        "])\n",
        "\n",
        "# 2. Compile the model\n",
        "model_8.compile(loss=tf.keras.losses.SparseCategoricalCrossentropy(),\n",
        "                optimizer=tf.keras.optimizers.Adam(learning_rate=1e-4),\n",
        "                metrics=[\"accuracy\"])\n",
        "\n",
        "# 3. Fit the model\n",
        "history_8 = model_8.fit(train_data_norm,\n",
        "                        train_labels,\n",
        "                        epochs=25,\n",
        "                        validation_data=(test_data_norm, test_labels))"
      ],
      "execution_count": 74,
      "outputs": [
        {
          "output_type": "stream",
          "text": [
            "Epoch 1/25\n",
            "1875/1875 [==============================] - 6s 3ms/step - loss: 1.5238 - accuracy: 0.4577 - val_loss: 0.9320 - val_accuracy: 0.6535\n",
            "Epoch 2/25\n",
            "1875/1875 [==============================] - 6s 3ms/step - loss: 0.7700 - accuracy: 0.7403 - val_loss: 0.7166 - val_accuracy: 0.7539\n",
            "Epoch 3/25\n",
            "1875/1875 [==============================] - 6s 3ms/step - loss: 0.6502 - accuracy: 0.7789 - val_loss: 0.6448 - val_accuracy: 0.7776\n",
            "Epoch 4/25\n",
            "1875/1875 [==============================] - 6s 3ms/step - loss: 0.5989 - accuracy: 0.7941 - val_loss: 0.6051 - val_accuracy: 0.7885\n",
            "Epoch 5/25\n",
            "1875/1875 [==============================] - 6s 3ms/step - loss: 0.5667 - accuracy: 0.8060 - val_loss: 0.5781 - val_accuracy: 0.7964\n",
            "Epoch 6/25\n",
            "1875/1875 [==============================] - 6s 3ms/step - loss: 0.5437 - accuracy: 0.8132 - val_loss: 0.5623 - val_accuracy: 0.8049\n",
            "Epoch 7/25\n",
            "1875/1875 [==============================] - 6s 3ms/step - loss: 0.5271 - accuracy: 0.8197 - val_loss: 0.5527 - val_accuracy: 0.8046\n",
            "Epoch 8/25\n",
            "1875/1875 [==============================] - 6s 3ms/step - loss: 0.5125 - accuracy: 0.8242 - val_loss: 0.5352 - val_accuracy: 0.8123\n",
            "Epoch 9/25\n",
            "1875/1875 [==============================] - 6s 3ms/step - loss: 0.5010 - accuracy: 0.8277 - val_loss: 0.5241 - val_accuracy: 0.8134\n",
            "Epoch 10/25\n",
            "1875/1875 [==============================] - 6s 3ms/step - loss: 0.4911 - accuracy: 0.8320 - val_loss: 0.5147 - val_accuracy: 0.8194\n",
            "Epoch 11/25\n",
            "1875/1875 [==============================] - 6s 3ms/step - loss: 0.4824 - accuracy: 0.8333 - val_loss: 0.5113 - val_accuracy: 0.8201\n",
            "Epoch 12/25\n",
            "1875/1875 [==============================] - 6s 3ms/step - loss: 0.4742 - accuracy: 0.8367 - val_loss: 0.5017 - val_accuracy: 0.8235\n",
            "Epoch 13/25\n",
            "1875/1875 [==============================] - 6s 3ms/step - loss: 0.4677 - accuracy: 0.8379 - val_loss: 0.4982 - val_accuracy: 0.8252\n",
            "Epoch 14/25\n",
            "1875/1875 [==============================] - 6s 3ms/step - loss: 0.4609 - accuracy: 0.8410 - val_loss: 0.4925 - val_accuracy: 0.8255\n",
            "Epoch 15/25\n",
            "1875/1875 [==============================] - 6s 3ms/step - loss: 0.4550 - accuracy: 0.8428 - val_loss: 0.4912 - val_accuracy: 0.8263\n",
            "Epoch 16/25\n",
            "1875/1875 [==============================] - 6s 3ms/step - loss: 0.4503 - accuracy: 0.8434 - val_loss: 0.4843 - val_accuracy: 0.8294\n",
            "Epoch 17/25\n",
            "1875/1875 [==============================] - 6s 3ms/step - loss: 0.4456 - accuracy: 0.8441 - val_loss: 0.4826 - val_accuracy: 0.8290\n",
            "Epoch 18/25\n",
            "1875/1875 [==============================] - 6s 3ms/step - loss: 0.4414 - accuracy: 0.8458 - val_loss: 0.4778 - val_accuracy: 0.8326\n",
            "Epoch 19/25\n",
            "1875/1875 [==============================] - 6s 3ms/step - loss: 0.4376 - accuracy: 0.8469 - val_loss: 0.4769 - val_accuracy: 0.8303\n",
            "Epoch 20/25\n",
            "1875/1875 [==============================] - 6s 3ms/step - loss: 0.4343 - accuracy: 0.8485 - val_loss: 0.4751 - val_accuracy: 0.8328\n",
            "Epoch 21/25\n",
            "1875/1875 [==============================] - 6s 3ms/step - loss: 0.4305 - accuracy: 0.8490 - val_loss: 0.4692 - val_accuracy: 0.8341\n",
            "Epoch 22/25\n",
            "1875/1875 [==============================] - 6s 3ms/step - loss: 0.4276 - accuracy: 0.8501 - val_loss: 0.4691 - val_accuracy: 0.8364\n",
            "Epoch 23/25\n",
            "1875/1875 [==============================] - 6s 3ms/step - loss: 0.4249 - accuracy: 0.8511 - val_loss: 0.4646 - val_accuracy: 0.8341\n",
            "Epoch 24/25\n",
            "1875/1875 [==============================] - 6s 3ms/step - loss: 0.4222 - accuracy: 0.8520 - val_loss: 0.4657 - val_accuracy: 0.8343\n",
            "Epoch 25/25\n",
            "1875/1875 [==============================] - 6s 3ms/step - loss: 0.4197 - accuracy: 0.8525 - val_loss: 0.4614 - val_accuracy: 0.8361\n"
          ],
          "name": "stdout"
        }
      ]
    },
    {
      "cell_type": "markdown",
      "metadata": {
        "id": "AQJnB-5XI2CL"
      },
      "source": [
        ""
      ]
    },
    {
      "cell_type": "code",
      "metadata": {
        "id": "YBSKB0H49ztK"
      },
      "source": [
        ""
      ],
      "execution_count": null,
      "outputs": []
    }
  ]
}