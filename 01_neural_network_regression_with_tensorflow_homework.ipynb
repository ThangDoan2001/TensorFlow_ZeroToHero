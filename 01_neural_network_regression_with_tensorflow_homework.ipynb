{
  "nbformat": 4,
  "nbformat_minor": 0,
  "metadata": {
    "colab": {
      "name": "01_neural_network_regression_with_tensorflow_homework.ipynb",
      "provenance": [],
      "collapsed_sections": [],
      "authorship_tag": "ABX9TyMFiLdNldTQ5OB9eC70YVTu",
      "include_colab_link": true
    },
    "kernelspec": {
      "name": "python3",
      "display_name": "Python 3"
    },
    "language_info": {
      "name": "python"
    },
    "accelerator": "GPU"
  },
  "cells": [
    {
      "cell_type": "markdown",
      "metadata": {
        "id": "view-in-github",
        "colab_type": "text"
      },
      "source": [
        "<a href=\"https://colab.research.google.com/github/ThangDoan2001/TensorFlow_ZeroToHero/blob/master/01_neural_network_regression_with_tensorflow_homework.ipynb\" target=\"_parent\"><img src=\"https://colab.research.google.com/assets/colab-badge.svg\" alt=\"Open In Colab\"/></a>"
      ]
    },
    {
      "cell_type": "markdown",
      "metadata": {
        "id": "2sF-rfJf4VpY"
      },
      "source": [
        "### **1.Create your own regression dataset and build fit a model to it**\n",
        "\n"
      ]
    },
    {
      "cell_type": "code",
      "metadata": {
        "id": "VhguT3YLwyQ1",
        "colab": {
          "base_uri": "https://localhost:8080/",
          "height": 36
        },
        "outputId": "11a08a7a-4e0b-4b6c-8539-4c766b1b326c"
      },
      "source": [
        "import tensorflow as tf\n",
        "import numpy as np\n",
        "tf.__version__"
      ],
      "execution_count": null,
      "outputs": [
        {
          "output_type": "execute_result",
          "data": {
            "application/vnd.google.colaboratory.intrinsic+json": {
              "type": "string"
            },
            "text/plain": [
              "'2.5.0'"
            ]
          },
          "metadata": {
            "tags": []
          },
          "execution_count": 1
        }
      ]
    },
    {
      "cell_type": "code",
      "metadata": {
        "id": "VHHhvUf-4TDM"
      },
      "source": [
        "# Create regression data set\n",
        "X = np.arange(-200, 200, 2)\n",
        "y = X*X + 100\n"
      ],
      "execution_count": null,
      "outputs": []
    },
    {
      "cell_type": "code",
      "metadata": {
        "colab": {
          "base_uri": "https://localhost:8080/"
        },
        "id": "rPFp5gP-5Bxe",
        "outputId": "2ce10c9f-06cb-4ced-917c-fa03adec9632"
      },
      "source": [
        "# Split dataset into training_data and testing data\n",
        "from sklearn.model_selection import train_test_split\n",
        "X_train, X_test, y_train, y_test = train_test_split(X, y, test_size=0.2, random_state=42)\n",
        "len(X_train), len(y_train)"
      ],
      "execution_count": null,
      "outputs": [
        {
          "output_type": "execute_result",
          "data": {
            "text/plain": [
              "(160, 160)"
            ]
          },
          "metadata": {
            "tags": []
          },
          "execution_count": 3
        }
      ]
    },
    {
      "cell_type": "code",
      "metadata": {
        "colab": {
          "base_uri": "https://localhost:8080/",
          "height": 446
        },
        "id": "EUCrHBPN5iIM",
        "outputId": "5e703a66-23b4-42fd-a212-de4e41d7f794"
      },
      "source": [
        "# Visualization input data\n",
        "import matplotlib.pyplot as plt\n",
        "plt.figure(figsize=(10, 7))\n",
        "# Plot training data in blue\n",
        "plt.scatter(X_train, y_train, c=\"b\", label=\"Training data\")\n",
        "# Plot testing data in green\n",
        "plt.scatter(X_test, y_test, c=\"g\", label=\"Testing data\")\n",
        "# Show a legend\n",
        "plt.legend()\n"
      ],
      "execution_count": null,
      "outputs": [
        {
          "output_type": "execute_result",
          "data": {
            "text/plain": [
              "<matplotlib.legend.Legend at 0x7fb72e5b9610>"
            ]
          },
          "metadata": {
            "tags": []
          },
          "execution_count": 4
        },
        {
          "output_type": "display_data",
          "data": {
            "image/png": "[encoded data removed]",
            "text/plain": [
              "<Figure size 720x504 with 1 Axes>"
            ]
          },
          "metadata": {
            "tags": [],
            "needs_background": "light"
          }
        }
      ]
    },
    {
      "cell_type": "code",
      "metadata": {
        "id": "fKHTQZFn8TKu"
      },
      "source": [
        "# Create a plotting function with prediction \n",
        "def plot_predictions(train_data,\n",
        "                     train_labels,\n",
        "                     test_data,\n",
        "                     test_labels,\n",
        "                     predictions):\n",
        "  plt.figure(figsize=(10, 7))\n",
        "  # Plot trainig data in blue\n",
        "  plt.scatter(train_data, train_labels, c=\"b\", label=\"Training data\")\n",
        "  # Plot testing data in green\n",
        "  plt.scatter(test_data, test_labels, c=\"g\", label=\"Testing data\")\n",
        "  # Plot model's predictions in red\n",
        "  plt.scatter(test_data, predictions, c=\"r\", label=\"Predictions\") \n",
        "  # Show a legend\n",
        "  plt.legend()\n"
      ],
      "execution_count": null,
      "outputs": []
    },
    {
      "cell_type": "code",
      "metadata": {
        "colab": {
          "base_uri": "https://localhost:8080/"
        },
        "id": "Sy9rlvlC-NKs",
        "outputId": "d736a190-88d3-4423-fa7a-ed3262f919e0"
      },
      "source": [
        "# Let's build our first model with 1 hidden layers, optimizer SGD and train with epochs = 100\n",
        "tf.random.set_seed(42)\n",
        "# 1. Build a model\n",
        "model_1 = tf.keras.Sequential([\n",
        "  tf.keras.layers.Dense(1, input_shape=[1])\n",
        "], name=\"model_1\")\n",
        "\n",
        "# 2. Compile the model\n",
        "model_1.compile(loss=tf.keras.losses.MAE,\n",
        "                optimizer=tf.keras.optimizers.SGD(),\n",
        "                metrics=[\"mae\"])\n",
        "\n",
        "# 3. Fit the model\n",
        "model_1.fit(X_train, y_train, epochs=100)"
      ],
      "execution_count": null,
      "outputs": [
        {
          "output_type": "stream",
          "text": [
            "Epoch 1/100\n",
            "5/5 [==============================] - 3s 3ms/step - loss: 14118.3066 - mae: 14118.3066\n",
            "Epoch 2/100\n",
            "5/5 [==============================] - 0s 2ms/step - loss: 14120.1748 - mae: 14120.1748\n",
            "Epoch 3/100\n",
            "5/5 [==============================] - 0s 2ms/step - loss: 14118.4814 - mae: 14118.4814\n",
            "Epoch 4/100\n",
            "5/5 [==============================] - 0s 2ms/step - loss: 14119.3535 - mae: 14119.3535\n",
            "Epoch 5/100\n",
            "5/5 [==============================] - 0s 2ms/step - loss: 14117.7051 - mae: 14117.7051\n",
            "Epoch 6/100\n",
            "5/5 [==============================] - 0s 2ms/step - loss: 14117.5703 - mae: 14117.5703\n",
            "Epoch 7/100\n",
            "5/5 [==============================] - 0s 2ms/step - loss: 14118.0996 - mae: 14118.0996\n",
            "Epoch 8/100\n",
            "5/5 [==============================] - 0s 2ms/step - loss: 14118.4033 - mae: 14118.4033\n",
            "Epoch 9/100\n",
            "5/5 [==============================] - 0s 2ms/step - loss: 14117.0918 - mae: 14117.0918\n",
            "Epoch 10/100\n",
            "5/5 [==============================] - 0s 2ms/step - loss: 14118.0654 - mae: 14118.0654\n",
            "Epoch 11/100\n",
            "5/5 [==============================] - 0s 2ms/step - loss: 14115.9531 - mae: 14115.9531\n",
            "Epoch 12/100\n",
            "5/5 [==============================] - 0s 3ms/step - loss: 14120.9092 - mae: 14120.9092\n",
            "Epoch 13/100\n",
            "5/5 [==============================] - 0s 2ms/step - loss: 14122.7139 - mae: 14122.7139\n",
            "Epoch 14/100\n",
            "5/5 [==============================] - 0s 2ms/step - loss: 14116.0176 - mae: 14116.0176\n",
            "Epoch 15/100\n",
            "5/5 [==============================] - 0s 2ms/step - loss: 14115.8379 - mae: 14115.8379\n",
            "Epoch 16/100\n",
            "5/5 [==============================] - 0s 3ms/step - loss: 14116.7188 - mae: 14116.7188\n",
            "Epoch 17/100\n",
            "5/5 [==============================] - 0s 3ms/step - loss: 14114.7637 - mae: 14114.7637\n",
            "Epoch 18/100\n",
            "5/5 [==============================] - 0s 2ms/step - loss: 14114.8574 - mae: 14114.8574\n",
            "Epoch 19/100\n",
            "5/5 [==============================] - 0s 2ms/step - loss: 14114.4873 - mae: 14114.4873\n",
            "Epoch 20/100\n",
            "5/5 [==============================] - 0s 2ms/step - loss: 14114.0186 - mae: 14114.0186\n",
            "Epoch 21/100\n",
            "5/5 [==============================] - 0s 2ms/step - loss: 14114.3906 - mae: 14114.3906\n",
            "Epoch 22/100\n",
            "5/5 [==============================] - 0s 3ms/step - loss: 14116.8691 - mae: 14116.8691\n",
            "Epoch 23/100\n",
            "5/5 [==============================] - 0s 2ms/step - loss: 14114.1221 - mae: 14114.1221\n",
            "Epoch 24/100\n",
            "5/5 [==============================] - 0s 2ms/step - loss: 14114.0908 - mae: 14114.0908\n",
            "Epoch 25/100\n",
            "5/5 [==============================] - 0s 3ms/step - loss: 14113.9277 - mae: 14113.9277\n",
            "Epoch 26/100\n",
            "5/5 [==============================] - 0s 2ms/step - loss: 14113.4766 - mae: 14113.4766\n",
            "Epoch 27/100\n",
            "5/5 [==============================] - 0s 2ms/step - loss: 14113.6904 - mae: 14113.6904\n",
            "Epoch 28/100\n",
            "5/5 [==============================] - 0s 3ms/step - loss: 14113.6621 - mae: 14113.6621\n",
            "Epoch 29/100\n",
            "5/5 [==============================] - 0s 3ms/step - loss: 14113.9746 - mae: 14113.9746\n",
            "Epoch 30/100\n",
            "5/5 [==============================] - 0s 2ms/step - loss: 14113.3096 - mae: 14113.3096\n",
            "Epoch 31/100\n",
            "5/5 [==============================] - 0s 2ms/step - loss: 14113.6484 - mae: 14113.6484\n",
            "Epoch 32/100\n",
            "5/5 [==============================] - 0s 2ms/step - loss: 14112.2627 - mae: 14112.2627\n",
            "Epoch 33/100\n",
            "5/5 [==============================] - 0s 2ms/step - loss: 14111.6699 - mae: 14111.6699\n",
            "Epoch 34/100\n",
            "5/5 [==============================] - 0s 2ms/step - loss: 14111.6934 - mae: 14111.6934\n",
            "Epoch 35/100\n",
            "5/5 [==============================] - 0s 2ms/step - loss: 14110.8730 - mae: 14110.8730\n",
            "Epoch 36/100\n",
            "5/5 [==============================] - 0s 2ms/step - loss: 14111.7080 - mae: 14111.7080\n",
            "Epoch 37/100\n",
            "5/5 [==============================] - 0s 3ms/step - loss: 14109.9375 - mae: 14109.9375\n",
            "Epoch 38/100\n",
            "5/5 [==============================] - 0s 2ms/step - loss: 14110.8223 - mae: 14110.8223\n",
            "Epoch 39/100\n",
            "5/5 [==============================] - 0s 2ms/step - loss: 14112.7002 - mae: 14112.7002\n",
            "Epoch 40/100\n",
            "5/5 [==============================] - 0s 2ms/step - loss: 14110.6895 - mae: 14110.6895\n",
            "Epoch 41/100\n",
            "5/5 [==============================] - 0s 2ms/step - loss: 14110.3223 - mae: 14110.3223\n",
            "Epoch 42/100\n",
            "5/5 [==============================] - 0s 2ms/step - loss: 14109.6348 - mae: 14109.6348\n",
            "Epoch 43/100\n",
            "5/5 [==============================] - 0s 2ms/step - loss: 14108.8145 - mae: 14108.8145\n",
            "Epoch 44/100\n",
            "5/5 [==============================] - 0s 3ms/step - loss: 14108.3457 - mae: 14108.3457\n",
            "Epoch 45/100\n",
            "5/5 [==============================] - 0s 2ms/step - loss: 14113.2314 - mae: 14113.2314\n",
            "Epoch 46/100\n",
            "5/5 [==============================] - 0s 3ms/step - loss: 14109.3594 - mae: 14109.3594\n",
            "Epoch 47/100\n",
            "5/5 [==============================] - 0s 2ms/step - loss: 14108.2529 - mae: 14108.2529\n",
            "Epoch 48/100\n",
            "5/5 [==============================] - 0s 2ms/step - loss: 14112.2129 - mae: 14112.2129\n",
            "Epoch 49/100\n",
            "5/5 [==============================] - 0s 3ms/step - loss: 14108.7090 - mae: 14108.7090\n",
            "Epoch 50/100\n",
            "5/5 [==============================] - 0s 2ms/step - loss: 14109.6641 - mae: 14109.6641\n",
            "Epoch 51/100\n",
            "5/5 [==============================] - 0s 2ms/step - loss: 14108.9941 - mae: 14108.9941\n",
            "Epoch 52/100\n",
            "5/5 [==============================] - 0s 2ms/step - loss: 14107.7285 - mae: 14107.7285\n",
            "Epoch 53/100\n",
            "5/5 [==============================] - 0s 2ms/step - loss: 14107.1094 - mae: 14107.1094\n",
            "Epoch 54/100\n",
            "5/5 [==============================] - 0s 3ms/step - loss: 14107.1846 - mae: 14107.1846\n",
            "Epoch 55/100\n",
            "5/5 [==============================] - 0s 2ms/step - loss: 14106.9141 - mae: 14106.9141\n",
            "Epoch 56/100\n",
            "5/5 [==============================] - 0s 3ms/step - loss: 14105.8984 - mae: 14105.8984\n",
            "Epoch 57/100\n",
            "5/5 [==============================] - 0s 2ms/step - loss: 14106.1250 - mae: 14106.1250\n",
            "Epoch 58/100\n",
            "5/5 [==============================] - 0s 4ms/step - loss: 14109.7705 - mae: 14109.7705\n",
            "Epoch 59/100\n",
            "5/5 [==============================] - 0s 3ms/step - loss: 14106.5254 - mae: 14106.5254\n",
            "Epoch 60/100\n",
            "5/5 [==============================] - 0s 2ms/step - loss: 14105.1924 - mae: 14105.1924\n",
            "Epoch 61/100\n",
            "5/5 [==============================] - 0s 2ms/step - loss: 14105.3828 - mae: 14105.3828\n",
            "Epoch 62/100\n",
            "5/5 [==============================] - 0s 2ms/step - loss: 14105.5762 - mae: 14105.5762\n",
            "Epoch 63/100\n",
            "5/5 [==============================] - 0s 2ms/step - loss: 14104.3496 - mae: 14104.3496\n",
            "Epoch 64/100\n",
            "5/5 [==============================] - 0s 2ms/step - loss: 14107.1123 - mae: 14107.1123\n",
            "Epoch 65/100\n",
            "5/5 [==============================] - 0s 3ms/step - loss: 14104.7139 - mae: 14104.7139\n",
            "Epoch 66/100\n",
            "5/5 [==============================] - 0s 2ms/step - loss: 14104.3809 - mae: 14104.3809\n",
            "Epoch 67/100\n",
            "5/5 [==============================] - 0s 2ms/step - loss: 14103.9502 - mae: 14103.9502\n",
            "Epoch 68/100\n",
            "5/5 [==============================] - 0s 2ms/step - loss: 14104.8154 - mae: 14104.8154\n",
            "Epoch 69/100\n",
            "5/5 [==============================] - 0s 2ms/step - loss: 14105.8340 - mae: 14105.8340\n",
            "Epoch 70/100\n",
            "5/5 [==============================] - 0s 2ms/step - loss: 14104.3389 - mae: 14104.3389\n",
            "Epoch 71/100\n",
            "5/5 [==============================] - 0s 3ms/step - loss: 14106.3701 - mae: 14106.3701\n",
            "Epoch 72/100\n",
            "5/5 [==============================] - 0s 2ms/step - loss: 14103.3906 - mae: 14103.3906\n",
            "Epoch 73/100\n",
            "5/5 [==============================] - 0s 2ms/step - loss: 14103.5625 - mae: 14103.5625\n",
            "Epoch 74/100\n",
            "5/5 [==============================] - 0s 2ms/step - loss: 14103.5938 - mae: 14103.5938\n",
            "Epoch 75/100\n",
            "5/5 [==============================] - 0s 2ms/step - loss: 14105.4062 - mae: 14105.4062\n",
            "Epoch 76/100\n",
            "5/5 [==============================] - 0s 2ms/step - loss: 14104.4111 - mae: 14104.4111\n",
            "Epoch 77/100\n",
            "5/5 [==============================] - 0s 4ms/step - loss: 14102.2285 - mae: 14102.2285\n",
            "Epoch 78/100\n",
            "5/5 [==============================] - 0s 3ms/step - loss: 14103.6689 - mae: 14103.6689\n",
            "Epoch 79/100\n",
            "5/5 [==============================] - 0s 3ms/step - loss: 14102.1123 - mae: 14102.1123\n",
            "Epoch 80/100\n",
            "5/5 [==============================] - 0s 2ms/step - loss: 14104.4160 - mae: 14104.4160\n",
            "Epoch 81/100\n",
            "5/5 [==============================] - 0s 3ms/step - loss: 14102.5645 - mae: 14102.5645\n",
            "Epoch 82/100\n",
            "5/5 [==============================] - 0s 3ms/step - loss: 14101.9893 - mae: 14101.9893\n",
            "Epoch 83/100\n",
            "5/5 [==============================] - 0s 2ms/step - loss: 14100.6221 - mae: 14100.6221\n",
            "Epoch 84/100\n",
            "5/5 [==============================] - 0s 2ms/step - loss: 14102.5293 - mae: 14102.5293\n",
            "Epoch 85/100\n",
            "5/5 [==============================] - 0s 3ms/step - loss: 14101.6543 - mae: 14101.6543\n",
            "Epoch 86/100\n",
            "5/5 [==============================] - 0s 2ms/step - loss: 14101.1299 - mae: 14101.1299\n",
            "Epoch 87/100\n",
            "5/5 [==============================] - 0s 2ms/step - loss: 14101.9873 - mae: 14101.9873\n",
            "Epoch 88/100\n",
            "5/5 [==============================] - 0s 4ms/step - loss: 14099.2969 - mae: 14099.2969\n",
            "Epoch 89/100\n",
            "5/5 [==============================] - 0s 2ms/step - loss: 14099.6904 - mae: 14099.6904\n",
            "Epoch 90/100\n",
            "5/5 [==============================] - 0s 3ms/step - loss: 14098.9033 - mae: 14098.9033\n",
            "Epoch 91/100\n",
            "5/5 [==============================] - 0s 2ms/step - loss: 14098.0879 - mae: 14098.0879\n",
            "Epoch 92/100\n",
            "5/5 [==============================] - 0s 4ms/step - loss: 14101.3438 - mae: 14101.3438\n",
            "Epoch 93/100\n",
            "5/5 [==============================] - 0s 3ms/step - loss: 14099.8379 - mae: 14099.8379\n",
            "Epoch 94/100\n",
            "5/5 [==============================] - 0s 3ms/step - loss: 14099.0840 - mae: 14099.0840\n",
            "Epoch 95/100\n",
            "5/5 [==============================] - 0s 2ms/step - loss: 14098.5625 - mae: 14098.5625\n",
            "Epoch 96/100\n",
            "5/5 [==============================] - 0s 3ms/step - loss: 14096.8691 - mae: 14096.8691\n",
            "Epoch 97/100\n",
            "5/5 [==============================] - 0s 2ms/step - loss: 14097.6934 - mae: 14097.6934\n",
            "Epoch 98/100\n",
            "5/5 [==============================] - 0s 3ms/step - loss: 14097.9873 - mae: 14097.9873\n",
            "Epoch 99/100\n",
            "5/5 [==============================] - 0s 3ms/step - loss: 14098.4082 - mae: 14098.4082\n",
            "Epoch 100/100\n",
            "5/5 [==============================] - 0s 3ms/step - loss: 14098.6562 - mae: 14098.6562\n"
          ],
          "name": "stdout"
        },
        {
          "output_type": "execute_result",
          "data": {
            "text/plain": [
              "<tensorflow.python.keras.callbacks.History at 0x7fb720031590>"
            ]
          },
          "metadata": {
            "tags": []
          },
          "execution_count": 6
        }
      ]
    },
    {
      "cell_type": "code",
      "metadata": {
        "colab": {
          "base_uri": "https://localhost:8080/",
          "height": 428
        },
        "id": "X5If6IMJ-6Wt",
        "outputId": "d927a1b2-936c-43a5-e3a5-2179c7d55a7b"
      },
      "source": [
        "# Make and plot our model's prediction\n",
        "y_preds_1 = model_1.predict(X_test)\n",
        "plot_predictions(X_train,y_train, X_test, y_test, y_preds_1)"
      ],
      "execution_count": null,
      "outputs": [
        {
          "output_type": "display_data",
          "data": {
            "image/png": "[encoded data removed]",
            "text/plain": [
              "<Figure size 720x504 with 1 Axes>"
            ]
          },
          "metadata": {
            "tags": [],
            "needs_background": "light"
          }
        }
      ]
    },
    {
      "cell_type": "code",
      "metadata": {
        "colab": {
          "base_uri": "https://localhost:8080/"
        },
        "id": "1Ou2pdbh_HVa",
        "outputId": "1d65360a-1b54-4077-f384-3623c0d79dea"
      },
      "source": [
        "# Let's improve our model\n",
        "tf.random.set_seed(42)\n",
        "# 1. Build the model\n",
        "model_2 = tf.keras.Sequential([\n",
        "  tf.keras.layers.Dense(100, input_shape=[1]),\n",
        "  tf.keras.layers.Dense(1)\n",
        "])\n",
        "\n",
        "# 2. Compile the model\n",
        "model_2.compile(loss=tf.keras.losses.MAE,\n",
        "                optimizer=tf.keras.optimizers.SGD(),\n",
        "                metrics=[\"mae\"])\n",
        "\n",
        "# 3. Fit the model\n",
        "model_2.fit(X_train, y_train, epochs=100)"
      ],
      "execution_count": null,
      "outputs": [
        {
          "output_type": "stream",
          "text": [
            "Epoch 1/100\n",
            "5/5 [==============================] - 0s 3ms/step - loss: 14118.7734 - mae: 14118.7734\n",
            "Epoch 2/100\n",
            "5/5 [==============================] - 0s 2ms/step - loss: 14125.4219 - mae: 14125.4219\n",
            "Epoch 3/100\n",
            "5/5 [==============================] - 0s 2ms/step - loss: 14118.7012 - mae: 14118.7012\n",
            "Epoch 4/100\n",
            "5/5 [==============================] - 0s 2ms/step - loss: 14121.0566 - mae: 14121.0566\n",
            "Epoch 5/100\n",
            "5/5 [==============================] - 0s 4ms/step - loss: 14117.1074 - mae: 14117.1074\n",
            "Epoch 6/100\n",
            "5/5 [==============================] - 0s 2ms/step - loss: 14116.5098 - mae: 14116.5098\n",
            "Epoch 7/100\n",
            "5/5 [==============================] - 0s 3ms/step - loss: 14120.2002 - mae: 14120.2002\n",
            "Epoch 8/100\n",
            "5/5 [==============================] - 0s 2ms/step - loss: 14118.5840 - mae: 14118.5840\n",
            "Epoch 9/100\n",
            "5/5 [==============================] - 0s 2ms/step - loss: 14116.4404 - mae: 14116.4404\n",
            "Epoch 10/100\n",
            "5/5 [==============================] - 0s 2ms/step - loss: 14118.5938 - mae: 14118.5938\n",
            "Epoch 11/100\n",
            "5/5 [==============================] - 0s 2ms/step - loss: 14114.1484 - mae: 14114.1484\n",
            "Epoch 12/100\n",
            "5/5 [==============================] - 0s 2ms/step - loss: 14130.7705 - mae: 14130.7705\n",
            "Epoch 13/100\n",
            "5/5 [==============================] - 0s 2ms/step - loss: 14141.3574 - mae: 14141.3574\n",
            "Epoch 14/100\n",
            "5/5 [==============================] - 0s 2ms/step - loss: 14115.8623 - mae: 14115.8623\n",
            "Epoch 15/100\n",
            "5/5 [==============================] - 0s 2ms/step - loss: 14115.6406 - mae: 14115.6406\n",
            "Epoch 16/100\n",
            "5/5 [==============================] - 0s 2ms/step - loss: 14118.0498 - mae: 14118.0498\n",
            "Epoch 17/100\n",
            "5/5 [==============================] - 0s 3ms/step - loss: 14114.8018 - mae: 14114.8018\n",
            "Epoch 18/100\n",
            "5/5 [==============================] - 0s 2ms/step - loss: 14114.8516 - mae: 14114.8516\n",
            "Epoch 19/100\n",
            "5/5 [==============================] - 0s 3ms/step - loss: 14114.3545 - mae: 14114.3545\n",
            "Epoch 20/100\n",
            "5/5 [==============================] - 0s 2ms/step - loss: 14113.5996 - mae: 14113.5996\n",
            "Epoch 21/100\n",
            "5/5 [==============================] - 0s 2ms/step - loss: 14115.4160 - mae: 14115.4160\n",
            "Epoch 22/100\n",
            "5/5 [==============================] - 0s 2ms/step - loss: 14127.0996 - mae: 14127.0996\n",
            "Epoch 23/100\n",
            "5/5 [==============================] - 0s 2ms/step - loss: 14115.3672 - mae: 14115.3672\n",
            "Epoch 24/100\n",
            "5/5 [==============================] - 0s 3ms/step - loss: 14115.0625 - mae: 14115.0625\n",
            "Epoch 25/100\n",
            "5/5 [==============================] - 0s 2ms/step - loss: 14115.9717 - mae: 14115.9717\n",
            "Epoch 26/100\n",
            "5/5 [==============================] - 0s 3ms/step - loss: 14113.7607 - mae: 14113.7607\n",
            "Epoch 27/100\n",
            "5/5 [==============================] - 0s 3ms/step - loss: 14115.4082 - mae: 14115.4082\n",
            "Epoch 28/100\n",
            "5/5 [==============================] - 0s 2ms/step - loss: 14117.5986 - mae: 14117.5986\n",
            "Epoch 29/100\n",
            "5/5 [==============================] - 0s 2ms/step - loss: 14117.6250 - mae: 14117.6250\n",
            "Epoch 30/100\n",
            "5/5 [==============================] - 0s 4ms/step - loss: 14117.6270 - mae: 14117.6270\n",
            "Epoch 31/100\n",
            "5/5 [==============================] - 0s 3ms/step - loss: 14118.1699 - mae: 14118.1699\n",
            "Epoch 32/100\n",
            "5/5 [==============================] - 0s 2ms/step - loss: 14113.8105 - mae: 14113.8105\n",
            "Epoch 33/100\n",
            "5/5 [==============================] - 0s 3ms/step - loss: 14111.2207 - mae: 14111.2207\n",
            "Epoch 34/100\n",
            "5/5 [==============================] - 0s 2ms/step - loss: 14113.6875 - mae: 14113.6875\n",
            "Epoch 35/100\n",
            "5/5 [==============================] - 0s 2ms/step - loss: 14108.6309 - mae: 14108.6309\n",
            "Epoch 36/100\n",
            "5/5 [==============================] - 0s 2ms/step - loss: 14114.6797 - mae: 14114.6797\n",
            "Epoch 37/100\n",
            "5/5 [==============================] - 0s 2ms/step - loss: 14102.2246 - mae: 14102.2246\n",
            "Epoch 38/100\n",
            "5/5 [==============================] - 0s 2ms/step - loss: 14109.8184 - mae: 14109.8184\n",
            "Epoch 39/100\n",
            "5/5 [==============================] - 0s 3ms/step - loss: 14146.8877 - mae: 14146.8877\n",
            "Epoch 40/100\n",
            "5/5 [==============================] - 0s 2ms/step - loss: 14115.4375 - mae: 14115.4375\n",
            "Epoch 41/100\n",
            "5/5 [==============================] - 0s 2ms/step - loss: 14109.7471 - mae: 14109.7471\n",
            "Epoch 42/100\n",
            "5/5 [==============================] - 0s 3ms/step - loss: 14104.3418 - mae: 14104.3418\n",
            "Epoch 43/100\n",
            "5/5 [==============================] - 0s 2ms/step - loss: 14094.3281 - mae: 14094.3281\n",
            "Epoch 44/100\n",
            "5/5 [==============================] - 0s 2ms/step - loss: 14085.3828 - mae: 14085.3828\n",
            "Epoch 45/100\n",
            "5/5 [==============================] - 0s 2ms/step - loss: 14196.0547 - mae: 14196.0547\n",
            "Epoch 46/100\n",
            "5/5 [==============================] - 0s 2ms/step - loss: 14122.1562 - mae: 14122.1562\n",
            "Epoch 47/100\n",
            "5/5 [==============================] - 0s 2ms/step - loss: 14096.1592 - mae: 14096.1592\n",
            "Epoch 48/100\n",
            "5/5 [==============================] - 0s 2ms/step - loss: 14177.3301 - mae: 14177.3301\n",
            "Epoch 49/100\n",
            "5/5 [==============================] - 0s 2ms/step - loss: 14118.1201 - mae: 14118.1201\n",
            "Epoch 50/100\n",
            "5/5 [==============================] - 0s 3ms/step - loss: 14129.2373 - mae: 14129.2373\n",
            "Epoch 51/100\n",
            "5/5 [==============================] - 0s 2ms/step - loss: 14144.7002 - mae: 14144.7002\n",
            "Epoch 52/100\n",
            "5/5 [==============================] - 0s 2ms/step - loss: 14106.4531 - mae: 14106.4531\n",
            "Epoch 53/100\n",
            "5/5 [==============================] - 0s 3ms/step - loss: 14096.9121 - mae: 14096.9121\n",
            "Epoch 54/100\n",
            "5/5 [==============================] - 0s 2ms/step - loss: 14100.6748 - mae: 14100.6748\n",
            "Epoch 55/100\n",
            "5/5 [==============================] - 0s 3ms/step - loss: 14094.9248 - mae: 14094.9248\n",
            "Epoch 56/100\n",
            "5/5 [==============================] - 0s 3ms/step - loss: 14069.1074 - mae: 14069.1074\n",
            "Epoch 57/100\n",
            "5/5 [==============================] - 0s 2ms/step - loss: 14075.1895 - mae: 14075.1895\n",
            "Epoch 58/100\n",
            "5/5 [==============================] - 0s 3ms/step - loss: 14257.8389 - mae: 14257.8389\n",
            "Epoch 59/100\n",
            "5/5 [==============================] - 0s 4ms/step - loss: 14103.5605 - mae: 14103.5605\n",
            "Epoch 60/100\n",
            "5/5 [==============================] - 0s 4ms/step - loss: 14067.1484 - mae: 14067.1484\n",
            "Epoch 61/100\n",
            "5/5 [==============================] - 0s 2ms/step - loss: 14080.5967 - mae: 14080.5967\n",
            "Epoch 62/100\n",
            "5/5 [==============================] - 0s 2ms/step - loss: 14090.6172 - mae: 14090.6172\n",
            "Epoch 63/100\n",
            "5/5 [==============================] - 0s 2ms/step - loss: 14052.5215 - mae: 14052.5215\n",
            "Epoch 64/100\n",
            "5/5 [==============================] - 0s 3ms/step - loss: 14148.5938 - mae: 14148.5938\n",
            "Epoch 65/100\n",
            "5/5 [==============================] - 0s 2ms/step - loss: 14081.0156 - mae: 14081.0156\n",
            "Epoch 66/100\n",
            "5/5 [==============================] - 0s 2ms/step - loss: 14087.0996 - mae: 14087.0996\n",
            "Epoch 67/100\n",
            "5/5 [==============================] - 0s 2ms/step - loss: 14062.6436 - mae: 14062.6436\n",
            "Epoch 68/100\n",
            "5/5 [==============================] - 0s 2ms/step - loss: 14115.3770 - mae: 14115.3770\n",
            "Epoch 69/100\n",
            "5/5 [==============================] - 0s 2ms/step - loss: 14171.6123 - mae: 14171.6123\n",
            "Epoch 70/100\n",
            "5/5 [==============================] - 0s 3ms/step - loss: 14103.8330 - mae: 14103.8330\n",
            "Epoch 71/100\n",
            "5/5 [==============================] - 0s 4ms/step - loss: 14170.0137 - mae: 14170.0137\n",
            "Epoch 72/100\n",
            "5/5 [==============================] - 0s 2ms/step - loss: 14080.1201 - mae: 14080.1201\n",
            "Epoch 73/100\n",
            "5/5 [==============================] - 0s 2ms/step - loss: 14086.7529 - mae: 14086.7529\n",
            "Epoch 74/100\n",
            "5/5 [==============================] - 0s 2ms/step - loss: 14111.4941 - mae: 14111.4941\n",
            "Epoch 75/100\n",
            "5/5 [==============================] - 0s 5ms/step - loss: 14177.3809 - mae: 14177.3809\n",
            "Epoch 76/100\n",
            "5/5 [==============================] - 0s 3ms/step - loss: 14132.7080 - mae: 14132.7080\n",
            "Epoch 77/100\n",
            "5/5 [==============================] - 0s 2ms/step - loss: 14089.0654 - mae: 14089.0654\n",
            "Epoch 78/100\n",
            "5/5 [==============================] - 0s 2ms/step - loss: 14109.3574 - mae: 14109.3574\n",
            "Epoch 79/100\n",
            "5/5 [==============================] - 0s 2ms/step - loss: 14085.7607 - mae: 14085.7607\n",
            "Epoch 80/100\n",
            "5/5 [==============================] - 0s 2ms/step - loss: 14189.9111 - mae: 14189.9111\n",
            "Epoch 81/100\n",
            "5/5 [==============================] - 0s 2ms/step - loss: 14117.3496 - mae: 14117.3496\n",
            "Epoch 82/100\n",
            "5/5 [==============================] - 0s 3ms/step - loss: 14094.1113 - mae: 14094.1113\n",
            "Epoch 83/100\n",
            "5/5 [==============================] - 0s 2ms/step - loss: 14053.3154 - mae: 14053.3154\n",
            "Epoch 84/100\n",
            "5/5 [==============================] - 0s 2ms/step - loss: 14135.1738 - mae: 14135.1738\n",
            "Epoch 85/100\n",
            "5/5 [==============================] - 0s 3ms/step - loss: 14106.5078 - mae: 14106.5078\n",
            "Epoch 86/100\n",
            "5/5 [==============================] - 0s 2ms/step - loss: 14090.8076 - mae: 14090.8076\n",
            "Epoch 87/100\n",
            "5/5 [==============================] - 0s 2ms/step - loss: 14150.0127 - mae: 14150.0127\n",
            "Epoch 88/100\n",
            "5/5 [==============================] - 0s 3ms/step - loss: 14049.9062 - mae: 14049.9062\n",
            "Epoch 89/100\n",
            "5/5 [==============================] - 0s 2ms/step - loss: 14060.4561 - mae: 14060.4561\n",
            "Epoch 90/100\n",
            "5/5 [==============================] - 0s 3ms/step - loss: 14032.0518 - mae: 14032.0518\n",
            "Epoch 91/100\n",
            "5/5 [==============================] - 0s 2ms/step - loss: 13988.5312 - mae: 13988.5312\n",
            "Epoch 92/100\n",
            "5/5 [==============================] - 0s 3ms/step - loss: 14186.4092 - mae: 14186.4092\n",
            "Epoch 93/100\n",
            "5/5 [==============================] - 0s 2ms/step - loss: 14130.3125 - mae: 14130.3125\n",
            "Epoch 94/100\n",
            "5/5 [==============================] - 0s 3ms/step - loss: 14072.1074 - mae: 14072.1074\n",
            "Epoch 95/100\n",
            "5/5 [==============================] - 0s 4ms/step - loss: 14062.3018 - mae: 14062.3018\n",
            "Epoch 96/100\n",
            "5/5 [==============================] - 0s 3ms/step - loss: 13973.6592 - mae: 13973.6592\n",
            "Epoch 97/100\n",
            "5/5 [==============================] - 0s 3ms/step - loss: 14020.9170 - mae: 14020.9170\n",
            "Epoch 98/100\n",
            "5/5 [==============================] - 0s 3ms/step - loss: 14085.5879 - mae: 14085.5879\n",
            "Epoch 99/100\n",
            "5/5 [==============================] - 0s 2ms/step - loss: 14130.6934 - mae: 14130.6934\n",
            "Epoch 100/100\n",
            "5/5 [==============================] - 0s 3ms/step - loss: 14144.2871 - mae: 14144.2871\n"
          ],
          "name": "stdout"
        },
        {
          "output_type": "execute_result",
          "data": {
            "text/plain": [
              "<tensorflow.python.keras.callbacks.History at 0x7fb6e2536c50>"
            ]
          },
          "metadata": {
            "tags": []
          },
          "execution_count": 8
        }
      ]
    },
    {
      "cell_type": "code",
      "metadata": {
        "colab": {
          "base_uri": "https://localhost:8080/",
          "height": 428
        },
        "id": "_yIN3UBnA16r",
        "outputId": "a434b932-d5fb-40ec-d50e-7ae50036248f"
      },
      "source": [
        "# Let's make and plot again\n",
        "y_preds_2 = model_2.predict(X_test)\n",
        "plot_predictions(X_train, y_train, X_test, y_test, y_preds_2)"
      ],
      "execution_count": null,
      "outputs": [
        {
          "output_type": "display_data",
          "data": {
            "image/png": "[encoded data removed]",
            "text/plain": [
              "<Figure size 720x504 with 1 Axes>"
            ]
          },
          "metadata": {
            "tags": [],
            "needs_background": "light"
          }
        }
      ]
    },
    {
      "cell_type": "code",
      "metadata": {
        "colab": {
          "base_uri": "https://localhost:8080/"
        },
        "id": "qQsqvn8vBBC_",
        "outputId": "b22327e2-19ed-4a0d-d95c-b7da646de2db"
      },
      "source": [
        "model_2.evaluate(X_test, y_test)"
      ],
      "execution_count": null,
      "outputs": [
        {
          "output_type": "stream",
          "text": [
            "2/2 [==============================] - 0s 4ms/step - loss: 10617.7598 - mae: 10617.7598\n"
          ],
          "name": "stdout"
        },
        {
          "output_type": "execute_result",
          "data": {
            "text/plain": [
              "[10617.759765625, 10617.759765625]"
            ]
          },
          "metadata": {
            "tags": []
          },
          "execution_count": 10
        }
      ]
    },
    {
      "cell_type": "code",
      "metadata": {
        "colab": {
          "base_uri": "https://localhost:8080/"
        },
        "id": "fAFEr0tzBGhN",
        "outputId": "dad88459-419a-4b01-b55f-0d3f0b894751"
      },
      "source": [
        "y_test.mean()"
      ],
      "execution_count": null,
      "outputs": [
        {
          "output_type": "execute_result",
          "data": {
            "text/plain": [
              "10702.8"
            ]
          },
          "metadata": {
            "tags": []
          },
          "execution_count": 11
        }
      ]
    },
    {
      "cell_type": "code",
      "metadata": {
        "colab": {
          "base_uri": "https://localhost:8080/"
        },
        "id": "ERirQW-JBP0p",
        "outputId": "c4940c24-4597-415b-95b4-ec42c1203791"
      },
      "source": [
        "# I will train for more time\n",
        "tf.random.set_seed(42)\n",
        "# 1. Build the model\n",
        "model_3 = tf.keras.Sequential([\n",
        "  tf.keras.layers.Dense(100, input_shape=[1]),\n",
        "  tf.keras.layers.Dense(1)\n",
        "])\n",
        "\n",
        "# 2. Compile the model\n",
        "model_3.compile(loss=tf.keras.losses.MAE,\n",
        "                optimizer=tf.keras.optimizers.SGD(),\n",
        "                metrics=[\"mae\"])\n",
        "\n",
        "# 3. Fit the model\n",
        "history = model_3.fit(X_train, y_train, epochs=500)"
      ],
      "execution_count": null,
      "outputs": [
        {
          "output_type": "stream",
          "text": [
            "Epoch 1/500\n",
            "5/5 [==============================] - 0s 2ms/step - loss: 14118.7734 - mae: 14118.7734\n",
            "Epoch 2/500\n",
            "5/5 [==============================] - 0s 2ms/step - loss: 14125.4219 - mae: 14125.4219\n",
            "Epoch 3/500\n",
            "5/5 [==============================] - 0s 2ms/step - loss: 14118.7012 - mae: 14118.7012\n",
            "Epoch 4/500\n",
            "5/5 [==============================] - 0s 2ms/step - loss: 14121.0566 - mae: 14121.0566\n",
            "Epoch 5/500\n",
            "5/5 [==============================] - 0s 2ms/step - loss: 14117.1074 - mae: 14117.1074\n",
            "Epoch 6/500\n",
            "5/5 [==============================] - 0s 2ms/step - loss: 14116.5098 - mae: 14116.5098\n",
            "Epoch 7/500\n",
            "5/5 [==============================] - 0s 2ms/step - loss: 14120.2002 - mae: 14120.2002\n",
            "Epoch 8/500\n",
            "5/5 [==============================] - 0s 2ms/step - loss: 14118.5840 - mae: 14118.5840\n",
            "Epoch 9/500\n",
            "5/5 [==============================] - 0s 3ms/step - loss: 14116.4404 - mae: 14116.4404\n",
            "Epoch 10/500\n",
            "5/5 [==============================] - 0s 2ms/step - loss: 14118.5938 - mae: 14118.5938\n",
            "Epoch 11/500\n",
            "5/5 [==============================] - 0s 2ms/step - loss: 14114.1484 - mae: 14114.1484\n",
            "Epoch 12/500\n",
            "5/5 [==============================] - 0s 2ms/step - loss: 14130.7705 - mae: 14130.7705\n",
            "Epoch 13/500\n",
            "5/5 [==============================] - 0s 2ms/step - loss: 14141.3574 - mae: 14141.3574\n",
            "Epoch 14/500\n",
            "5/5 [==============================] - 0s 3ms/step - loss: 14115.8623 - mae: 14115.8623\n",
            "Epoch 15/500\n",
            "5/5 [==============================] - 0s 3ms/step - loss: 14115.6406 - mae: 14115.6406\n",
            "Epoch 16/500\n",
            "5/5 [==============================] - 0s 2ms/step - loss: 14118.0498 - mae: 14118.0498\n",
            "Epoch 17/500\n",
            "5/5 [==============================] - 0s 2ms/step - loss: 14114.8018 - mae: 14114.8018\n",
            "Epoch 18/500\n",
            "5/5 [==============================] - 0s 3ms/step - loss: 14114.8516 - mae: 14114.8516\n",
            "Epoch 19/500\n",
            "5/5 [==============================] - 0s 2ms/step - loss: 14114.3545 - mae: 14114.3545\n",
            "Epoch 20/500\n",
            "5/5 [==============================] - 0s 2ms/step - loss: 14113.5996 - mae: 14113.5996\n",
            "Epoch 21/500\n",
            "5/5 [==============================] - 0s 2ms/step - loss: 14115.4160 - mae: 14115.4160\n",
            "Epoch 22/500\n",
            "5/5 [==============================] - 0s 2ms/step - loss: 14127.0996 - mae: 14127.0996\n",
            "Epoch 23/500\n",
            "5/5 [==============================] - 0s 3ms/step - loss: 14115.3672 - mae: 14115.3672\n",
            "Epoch 24/500\n",
            "5/5 [==============================] - 0s 2ms/step - loss: 14115.0625 - mae: 14115.0625\n",
            "Epoch 25/500\n",
            "5/5 [==============================] - 0s 3ms/step - loss: 14115.9717 - mae: 14115.9717\n",
            "Epoch 26/500\n",
            "5/5 [==============================] - 0s 3ms/step - loss: 14113.7607 - mae: 14113.7607\n",
            "Epoch 27/500\n",
            "5/5 [==============================] - 0s 2ms/step - loss: 14115.4082 - mae: 14115.4082\n",
            "Epoch 28/500\n",
            "5/5 [==============================] - 0s 2ms/step - loss: 14117.5986 - mae: 14117.5986\n",
            "Epoch 29/500\n",
            "5/5 [==============================] - 0s 2ms/step - loss: 14117.6250 - mae: 14117.6250\n",
            "Epoch 30/500\n",
            "5/5 [==============================] - 0s 2ms/step - loss: 14117.6270 - mae: 14117.6270\n",
            "Epoch 31/500\n",
            "5/5 [==============================] - 0s 3ms/step - loss: 14118.1699 - mae: 14118.1699\n",
            "Epoch 32/500\n",
            "5/5 [==============================] - 0s 3ms/step - loss: 14113.8105 - mae: 14113.8105\n",
            "Epoch 33/500\n",
            "5/5 [==============================] - 0s 2ms/step - loss: 14111.2207 - mae: 14111.2207\n",
            "Epoch 34/500\n",
            "5/5 [==============================] - 0s 3ms/step - loss: 14113.6875 - mae: 14113.6875\n",
            "Epoch 35/500\n",
            "5/5 [==============================] - 0s 2ms/step - loss: 14108.6309 - mae: 14108.6309\n",
            "Epoch 36/500\n",
            "5/5 [==============================] - 0s 2ms/step - loss: 14114.6797 - mae: 14114.6797\n",
            "Epoch 37/500\n",
            "5/5 [==============================] - 0s 2ms/step - loss: 14102.2246 - mae: 14102.2246\n",
            "Epoch 38/500\n",
            "5/5 [==============================] - 0s 2ms/step - loss: 14109.8184 - mae: 14109.8184\n",
            "Epoch 39/500\n",
            "5/5 [==============================] - 0s 2ms/step - loss: 14146.8877 - mae: 14146.8877\n",
            "Epoch 40/500\n",
            "5/5 [==============================] - 0s 3ms/step - loss: 14115.4375 - mae: 14115.4375\n",
            "Epoch 41/500\n",
            "5/5 [==============================] - 0s 2ms/step - loss: 14109.7471 - mae: 14109.7471\n",
            "Epoch 42/500\n",
            "5/5 [==============================] - 0s 2ms/step - loss: 14104.3418 - mae: 14104.3418\n",
            "Epoch 43/500\n",
            "5/5 [==============================] - 0s 3ms/step - loss: 14094.3281 - mae: 14094.3281\n",
            "Epoch 44/500\n",
            "5/5 [==============================] - 0s 2ms/step - loss: 14085.3828 - mae: 14085.3828\n",
            "Epoch 45/500\n",
            "5/5 [==============================] - 0s 3ms/step - loss: 14196.0547 - mae: 14196.0547\n",
            "Epoch 46/500\n",
            "5/5 [==============================] - 0s 2ms/step - loss: 14122.1562 - mae: 14122.1562\n",
            "Epoch 47/500\n",
            "5/5 [==============================] - 0s 6ms/step - loss: 14096.1592 - mae: 14096.1592\n",
            "Epoch 48/500\n",
            "5/5 [==============================] - 0s 3ms/step - loss: 14177.3301 - mae: 14177.3301\n",
            "Epoch 49/500\n",
            "5/5 [==============================] - 0s 3ms/step - loss: 14118.1201 - mae: 14118.1201\n",
            "Epoch 50/500\n",
            "5/5 [==============================] - 0s 3ms/step - loss: 14129.2373 - mae: 14129.2373\n",
            "Epoch 51/500\n",
            "5/5 [==============================] - 0s 3ms/step - loss: 14144.7002 - mae: 14144.7002\n",
            "Epoch 52/500\n",
            "5/5 [==============================] - 0s 2ms/step - loss: 14106.4531 - mae: 14106.4531\n",
            "Epoch 53/500\n",
            "5/5 [==============================] - 0s 2ms/step - loss: 14096.9121 - mae: 14096.9121\n",
            "Epoch 54/500\n",
            "5/5 [==============================] - 0s 2ms/step - loss: 14100.6748 - mae: 14100.6748\n",
            "Epoch 55/500\n",
            "5/5 [==============================] - 0s 3ms/step - loss: 14094.9248 - mae: 14094.9248\n",
            "Epoch 56/500\n",
            "5/5 [==============================] - 0s 3ms/step - loss: 14069.1074 - mae: 14069.1074\n",
            "Epoch 57/500\n",
            "5/5 [==============================] - 0s 3ms/step - loss: 14075.1895 - mae: 14075.1895\n",
            "Epoch 58/500\n",
            "5/5 [==============================] - 0s 2ms/step - loss: 14257.8389 - mae: 14257.8389\n",
            "Epoch 59/500\n",
            "5/5 [==============================] - 0s 3ms/step - loss: 14103.5605 - mae: 14103.5605\n",
            "Epoch 60/500\n",
            "5/5 [==============================] - 0s 3ms/step - loss: 14067.1484 - mae: 14067.1484\n",
            "Epoch 61/500\n",
            "5/5 [==============================] - 0s 3ms/step - loss: 14080.5967 - mae: 14080.5967\n",
            "Epoch 62/500\n",
            "5/5 [==============================] - 0s 2ms/step - loss: 14090.6172 - mae: 14090.6172\n",
            "Epoch 63/500\n",
            "5/5 [==============================] - 0s 2ms/step - loss: 14052.5215 - mae: 14052.5215\n",
            "Epoch 64/500\n",
            "5/5 [==============================] - 0s 3ms/step - loss: 14148.5938 - mae: 14148.5938\n",
            "Epoch 65/500\n",
            "5/5 [==============================] - 0s 2ms/step - loss: 14081.0156 - mae: 14081.0156\n",
            "Epoch 66/500\n",
            "5/5 [==============================] - 0s 2ms/step - loss: 14087.0996 - mae: 14087.0996\n",
            "Epoch 67/500\n",
            "5/5 [==============================] - 0s 2ms/step - loss: 14062.6436 - mae: 14062.6436\n",
            "Epoch 68/500\n",
            "5/5 [==============================] - 0s 2ms/step - loss: 14115.3770 - mae: 14115.3770\n",
            "Epoch 69/500\n",
            "5/5 [==============================] - 0s 2ms/step - loss: 14171.6123 - mae: 14171.6123\n",
            "Epoch 70/500\n",
            "5/5 [==============================] - 0s 2ms/step - loss: 14103.8330 - mae: 14103.8330\n",
            "Epoch 71/500\n",
            "5/5 [==============================] - 0s 2ms/step - loss: 14170.0137 - mae: 14170.0137\n",
            "Epoch 72/500\n",
            "5/5 [==============================] - 0s 2ms/step - loss: 14080.1201 - mae: 14080.1201\n",
            "Epoch 73/500\n",
            "5/5 [==============================] - 0s 4ms/step - loss: 14086.7529 - mae: 14086.7529\n",
            "Epoch 74/500\n",
            "5/5 [==============================] - 0s 2ms/step - loss: 14111.4941 - mae: 14111.4941\n",
            "Epoch 75/500\n",
            "5/5 [==============================] - 0s 3ms/step - loss: 14177.3809 - mae: 14177.3809\n",
            "Epoch 76/500\n",
            "5/5 [==============================] - 0s 2ms/step - loss: 14132.7080 - mae: 14132.7080\n",
            "Epoch 77/500\n",
            "5/5 [==============================] - 0s 2ms/step - loss: 14089.0654 - mae: 14089.0654\n",
            "Epoch 78/500\n",
            "5/5 [==============================] - 0s 2ms/step - loss: 14109.3574 - mae: 14109.3574\n",
            "Epoch 79/500\n",
            "5/5 [==============================] - 0s 2ms/step - loss: 14085.7607 - mae: 14085.7607\n",
            "Epoch 80/500\n",
            "5/5 [==============================] - 0s 3ms/step - loss: 14189.9111 - mae: 14189.9111\n",
            "Epoch 81/500\n",
            "5/5 [==============================] - 0s 3ms/step - loss: 14117.3496 - mae: 14117.3496\n",
            "Epoch 82/500\n",
            "5/5 [==============================] - 0s 2ms/step - loss: 14094.1113 - mae: 14094.1113\n",
            "Epoch 83/500\n",
            "5/5 [==============================] - 0s 4ms/step - loss: 14053.3154 - mae: 14053.3154\n",
            "Epoch 84/500\n",
            "5/5 [==============================] - 0s 3ms/step - loss: 14135.1738 - mae: 14135.1738\n",
            "Epoch 85/500\n",
            "5/5 [==============================] - 0s 3ms/step - loss: 14106.5078 - mae: 14106.5078\n",
            "Epoch 86/500\n",
            "5/5 [==============================] - 0s 3ms/step - loss: 14090.8076 - mae: 14090.8076\n",
            "Epoch 87/500\n",
            "5/5 [==============================] - 0s 2ms/step - loss: 14150.0127 - mae: 14150.0127\n",
            "Epoch 88/500\n",
            "5/5 [==============================] - 0s 2ms/step - loss: 14049.9062 - mae: 14049.9062\n",
            "Epoch 89/500\n",
            "5/5 [==============================] - 0s 2ms/step - loss: 14060.4561 - mae: 14060.4561\n",
            "Epoch 90/500\n",
            "5/5 [==============================] - 0s 2ms/step - loss: 14032.0518 - mae: 14032.0518\n",
            "Epoch 91/500\n",
            "5/5 [==============================] - 0s 2ms/step - loss: 13988.5312 - mae: 13988.5312\n",
            "Epoch 92/500\n",
            "5/5 [==============================] - 0s 2ms/step - loss: 14186.4092 - mae: 14186.4092\n",
            "Epoch 93/500\n",
            "5/5 [==============================] - 0s 3ms/step - loss: 14130.3125 - mae: 14130.3125\n",
            "Epoch 94/500\n",
            "5/5 [==============================] - 0s 3ms/step - loss: 14072.1074 - mae: 14072.1074\n",
            "Epoch 95/500\n",
            "5/5 [==============================] - 0s 3ms/step - loss: 14062.3018 - mae: 14062.3018\n",
            "Epoch 96/500\n",
            "5/5 [==============================] - 0s 3ms/step - loss: 13973.6592 - mae: 13973.6592\n",
            "Epoch 97/500\n",
            "5/5 [==============================] - 0s 3ms/step - loss: 14020.9170 - mae: 14020.9170\n",
            "Epoch 98/500\n",
            "5/5 [==============================] - 0s 4ms/step - loss: 14085.5879 - mae: 14085.5879\n",
            "Epoch 99/500\n",
            "5/5 [==============================] - 0s 2ms/step - loss: 14130.6934 - mae: 14130.6934\n",
            "Epoch 100/500\n",
            "5/5 [==============================] - 0s 2ms/step - loss: 14144.2871 - mae: 14144.2871\n",
            "Epoch 101/500\n",
            "5/5 [==============================] - 0s 2ms/step - loss: 13991.1562 - mae: 13991.1562\n",
            "Epoch 102/500\n",
            "5/5 [==============================] - 0s 2ms/step - loss: 14230.1982 - mae: 14230.1982\n",
            "Epoch 103/500\n",
            "5/5 [==============================] - 0s 4ms/step - loss: 14026.5752 - mae: 14026.5752\n",
            "Epoch 104/500\n",
            "5/5 [==============================] - 0s 2ms/step - loss: 14095.9355 - mae: 14095.9355\n",
            "Epoch 105/500\n",
            "5/5 [==============================] - 0s 2ms/step - loss: 13996.0723 - mae: 13996.0723\n",
            "Epoch 106/500\n",
            "5/5 [==============================] - 0s 2ms/step - loss: 14043.1035 - mae: 14043.1035\n",
            "Epoch 107/500\n",
            "5/5 [==============================] - 0s 3ms/step - loss: 14107.0596 - mae: 14107.0596\n",
            "Epoch 108/500\n",
            "5/5 [==============================] - 0s 6ms/step - loss: 14031.1797 - mae: 14031.1797\n",
            "Epoch 109/500\n",
            "5/5 [==============================] - 0s 2ms/step - loss: 14166.8154 - mae: 14166.8154\n",
            "Epoch 110/500\n",
            "5/5 [==============================] - 0s 2ms/step - loss: 13964.3848 - mae: 13964.3848\n",
            "Epoch 111/500\n",
            "5/5 [==============================] - 0s 2ms/step - loss: 13970.5176 - mae: 13970.5176\n",
            "Epoch 112/500\n",
            "5/5 [==============================] - 0s 2ms/step - loss: 13948.1191 - mae: 13948.1191\n",
            "Epoch 113/500\n",
            "5/5 [==============================] - 0s 2ms/step - loss: 14170.9473 - mae: 14170.9473\n",
            "Epoch 114/500\n",
            "5/5 [==============================] - 0s 2ms/step - loss: 13897.0410 - mae: 13897.0410\n",
            "Epoch 115/500\n",
            "5/5 [==============================] - 0s 4ms/step - loss: 14216.5859 - mae: 14216.5859\n",
            "Epoch 116/500\n",
            "5/5 [==============================] - 0s 2ms/step - loss: 14036.2344 - mae: 14036.2344\n",
            "Epoch 117/500\n",
            "5/5 [==============================] - 0s 2ms/step - loss: 14107.2061 - mae: 14107.2061\n",
            "Epoch 118/500\n",
            "5/5 [==============================] - 0s 3ms/step - loss: 14153.7471 - mae: 14153.7471\n",
            "Epoch 119/500\n",
            "5/5 [==============================] - 0s 2ms/step - loss: 14120.3301 - mae: 14120.3301\n",
            "Epoch 120/500\n",
            "5/5 [==============================] - 0s 2ms/step - loss: 13922.7363 - mae: 13922.7363\n",
            "Epoch 121/500\n",
            "5/5 [==============================] - 0s 3ms/step - loss: 13985.9199 - mae: 13985.9199\n",
            "Epoch 122/500\n",
            "5/5 [==============================] - 0s 2ms/step - loss: 14105.8223 - mae: 14105.8223\n",
            "Epoch 123/500\n",
            "5/5 [==============================] - 0s 2ms/step - loss: 14066.1299 - mae: 14066.1299\n",
            "Epoch 124/500\n",
            "5/5 [==============================] - 0s 2ms/step - loss: 14053.2891 - mae: 14053.2891\n",
            "Epoch 125/500\n",
            "5/5 [==============================] - 0s 2ms/step - loss: 14152.3311 - mae: 14152.3311\n",
            "Epoch 126/500\n",
            "5/5 [==============================] - 0s 2ms/step - loss: 14061.8643 - mae: 14061.8643\n",
            "Epoch 127/500\n",
            "5/5 [==============================] - 0s 2ms/step - loss: 13892.2871 - mae: 13892.2871\n",
            "Epoch 128/500\n",
            "5/5 [==============================] - 0s 2ms/step - loss: 13936.8438 - mae: 13936.8438\n",
            "Epoch 129/500\n",
            "5/5 [==============================] - 0s 3ms/step - loss: 13960.3018 - mae: 13960.3018\n",
            "Epoch 130/500\n",
            "5/5 [==============================] - 0s 2ms/step - loss: 13927.0029 - mae: 13927.0029\n",
            "Epoch 131/500\n",
            "5/5 [==============================] - 0s 2ms/step - loss: 14473.4375 - mae: 14473.4375\n",
            "Epoch 132/500\n",
            "5/5 [==============================] - 0s 3ms/step - loss: 14233.2559 - mae: 14233.2559\n",
            "Epoch 133/500\n",
            "5/5 [==============================] - 0s 3ms/step - loss: 14096.0020 - mae: 14096.0020\n",
            "Epoch 134/500\n",
            "5/5 [==============================] - 0s 2ms/step - loss: 14011.7207 - mae: 14011.7207\n",
            "Epoch 135/500\n",
            "5/5 [==============================] - 0s 2ms/step - loss: 14048.1660 - mae: 14048.1660\n",
            "Epoch 136/500\n",
            "5/5 [==============================] - 0s 2ms/step - loss: 14049.5059 - mae: 14049.5059\n",
            "Epoch 137/500\n",
            "5/5 [==============================] - 0s 4ms/step - loss: 13881.3154 - mae: 13881.3154\n",
            "Epoch 138/500\n",
            "5/5 [==============================] - 0s 2ms/step - loss: 13881.3623 - mae: 13881.3623\n",
            "Epoch 139/500\n",
            "5/5 [==============================] - 0s 2ms/step - loss: 13879.7988 - mae: 13879.7988\n",
            "Epoch 140/500\n",
            "5/5 [==============================] - 0s 2ms/step - loss: 13887.8848 - mae: 13887.8848\n",
            "Epoch 141/500\n",
            "5/5 [==============================] - 0s 2ms/step - loss: 14090.3857 - mae: 14090.3857\n",
            "Epoch 142/500\n",
            "5/5 [==============================] - 0s 2ms/step - loss: 14097.9170 - mae: 14097.9170\n",
            "Epoch 143/500\n",
            "5/5 [==============================] - 0s 2ms/step - loss: 13817.0293 - mae: 13817.0293\n",
            "Epoch 144/500\n",
            "5/5 [==============================] - 0s 2ms/step - loss: 13925.4160 - mae: 13925.4160\n",
            "Epoch 145/500\n",
            "5/5 [==============================] - 0s 2ms/step - loss: 14221.5029 - mae: 14221.5029\n",
            "Epoch 146/500\n",
            "5/5 [==============================] - 0s 2ms/step - loss: 13988.7861 - mae: 13988.7861\n",
            "Epoch 147/500\n",
            "5/5 [==============================] - 0s 2ms/step - loss: 13772.1934 - mae: 13772.1934\n",
            "Epoch 148/500\n",
            "5/5 [==============================] - 0s 2ms/step - loss: 14195.5762 - mae: 14195.5762\n",
            "Epoch 149/500\n",
            "5/5 [==============================] - 0s 2ms/step - loss: 13789.7207 - mae: 13789.7207\n",
            "Epoch 150/500\n",
            "5/5 [==============================] - 0s 2ms/step - loss: 13807.8926 - mae: 13807.8926\n",
            "Epoch 151/500\n",
            "5/5 [==============================] - 0s 2ms/step - loss: 14526.2871 - mae: 14526.2871\n",
            "Epoch 152/500\n",
            "5/5 [==============================] - 0s 2ms/step - loss: 14113.3574 - mae: 14113.3574\n",
            "Epoch 153/500\n",
            "5/5 [==============================] - 0s 2ms/step - loss: 13848.6719 - mae: 13848.6719\n",
            "Epoch 154/500\n",
            "5/5 [==============================] - 0s 2ms/step - loss: 13769.8330 - mae: 13769.8330\n",
            "Epoch 155/500\n",
            "5/5 [==============================] - 0s 2ms/step - loss: 13830.1611 - mae: 13830.1611\n",
            "Epoch 156/500\n",
            "5/5 [==============================] - 0s 2ms/step - loss: 13822.0371 - mae: 13822.0371\n",
            "Epoch 157/500\n",
            "5/5 [==============================] - 0s 2ms/step - loss: 13849.7217 - mae: 13849.7217\n",
            "Epoch 158/500\n",
            "5/5 [==============================] - 0s 2ms/step - loss: 14034.4902 - mae: 14034.4902\n",
            "Epoch 159/500\n",
            "5/5 [==============================] - 0s 2ms/step - loss: 13722.0342 - mae: 13722.0342\n",
            "Epoch 160/500\n",
            "5/5 [==============================] - 0s 2ms/step - loss: 13627.1426 - mae: 13627.1426\n",
            "Epoch 161/500\n",
            "5/5 [==============================] - 0s 2ms/step - loss: 13956.3691 - mae: 13956.3691\n",
            "Epoch 162/500\n",
            "5/5 [==============================] - 0s 3ms/step - loss: 14227.0254 - mae: 14227.0254\n",
            "Epoch 163/500\n",
            "5/5 [==============================] - 0s 2ms/step - loss: 13613.9746 - mae: 13613.9746\n",
            "Epoch 164/500\n",
            "5/5 [==============================] - 0s 2ms/step - loss: 13961.9844 - mae: 13961.9844\n",
            "Epoch 165/500\n",
            "5/5 [==============================] - 0s 2ms/step - loss: 13944.0684 - mae: 13944.0684\n",
            "Epoch 166/500\n",
            "5/5 [==============================] - 0s 2ms/step - loss: 13804.5127 - mae: 13804.5127\n",
            "Epoch 167/500\n",
            "5/5 [==============================] - 0s 2ms/step - loss: 13939.9121 - mae: 13939.9121\n",
            "Epoch 168/500\n",
            "5/5 [==============================] - 0s 2ms/step - loss: 14086.7031 - mae: 14086.7031\n",
            "Epoch 169/500\n",
            "5/5 [==============================] - 0s 2ms/step - loss: 13816.0879 - mae: 13816.0879\n",
            "Epoch 170/500\n",
            "5/5 [==============================] - 0s 2ms/step - loss: 14100.5566 - mae: 14100.5566\n",
            "Epoch 171/500\n",
            "5/5 [==============================] - 0s 2ms/step - loss: 13775.7129 - mae: 13775.7129\n",
            "Epoch 172/500\n",
            "5/5 [==============================] - 0s 2ms/step - loss: 13669.0000 - mae: 13669.0000\n",
            "Epoch 173/500\n",
            "5/5 [==============================] - 0s 2ms/step - loss: 13863.3701 - mae: 13863.3701\n",
            "Epoch 174/500\n",
            "5/5 [==============================] - 0s 2ms/step - loss: 14014.2705 - mae: 14014.2705\n",
            "Epoch 175/500\n",
            "5/5 [==============================] - 0s 2ms/step - loss: 13927.2871 - mae: 13927.2871\n",
            "Epoch 176/500\n",
            "5/5 [==============================] - 0s 2ms/step - loss: 13978.9902 - mae: 13978.9902\n",
            "Epoch 177/500\n",
            "5/5 [==============================] - 0s 2ms/step - loss: 13962.4043 - mae: 13962.4043\n",
            "Epoch 178/500\n",
            "5/5 [==============================] - 0s 2ms/step - loss: 13680.4893 - mae: 13680.4893\n",
            "Epoch 179/500\n",
            "5/5 [==============================] - 0s 2ms/step - loss: 14204.1719 - mae: 14204.1719\n",
            "Epoch 180/500\n",
            "5/5 [==============================] - 0s 2ms/step - loss: 13684.2949 - mae: 13684.2949\n",
            "Epoch 181/500\n",
            "5/5 [==============================] - 0s 2ms/step - loss: 13699.2969 - mae: 13699.2969\n",
            "Epoch 182/500\n",
            "5/5 [==============================] - 0s 2ms/step - loss: 13947.7920 - mae: 13947.7920\n",
            "Epoch 183/500\n",
            "5/5 [==============================] - 0s 2ms/step - loss: 13793.1250 - mae: 13793.1250\n",
            "Epoch 184/500\n",
            "5/5 [==============================] - 0s 3ms/step - loss: 13603.5996 - mae: 13603.5996\n",
            "Epoch 185/500\n",
            "5/5 [==============================] - 0s 2ms/step - loss: 13473.0371 - mae: 13473.0371\n",
            "Epoch 186/500\n",
            "5/5 [==============================] - 0s 2ms/step - loss: 13594.4814 - mae: 13594.4814\n",
            "Epoch 187/500\n",
            "5/5 [==============================] - 0s 2ms/step - loss: 13565.7207 - mae: 13565.7207\n",
            "Epoch 188/500\n",
            "5/5 [==============================] - 0s 2ms/step - loss: 14568.1309 - mae: 14568.1309\n",
            "Epoch 189/500\n",
            "5/5 [==============================] - 0s 2ms/step - loss: 13664.9531 - mae: 13664.9531\n",
            "Epoch 190/500\n",
            "5/5 [==============================] - 0s 2ms/step - loss: 13859.0234 - mae: 13859.0234\n",
            "Epoch 191/500\n",
            "5/5 [==============================] - 0s 2ms/step - loss: 13786.8438 - mae: 13786.8438\n",
            "Epoch 192/500\n",
            "5/5 [==============================] - 0s 2ms/step - loss: 13473.8262 - mae: 13473.8262\n",
            "Epoch 193/500\n",
            "5/5 [==============================] - 0s 4ms/step - loss: 13453.0811 - mae: 13453.0811\n",
            "Epoch 194/500\n",
            "5/5 [==============================] - 0s 2ms/step - loss: 14287.9238 - mae: 14287.9238\n",
            "Epoch 195/500\n",
            "5/5 [==============================] - 0s 2ms/step - loss: 13612.9033 - mae: 13612.9033\n",
            "Epoch 196/500\n",
            "5/5 [==============================] - 0s 2ms/step - loss: 13570.2217 - mae: 13570.2217\n",
            "Epoch 197/500\n",
            "5/5 [==============================] - 0s 2ms/step - loss: 13649.3828 - mae: 13649.3828\n",
            "Epoch 198/500\n",
            "5/5 [==============================] - 0s 2ms/step - loss: 13893.1689 - mae: 13893.1689\n",
            "Epoch 199/500\n",
            "5/5 [==============================] - 0s 2ms/step - loss: 14017.0518 - mae: 14017.0518\n",
            "Epoch 200/500\n",
            "5/5 [==============================] - 0s 2ms/step - loss: 13653.5605 - mae: 13653.5605\n",
            "Epoch 201/500\n",
            "5/5 [==============================] - 0s 2ms/step - loss: 14791.2158 - mae: 14791.2158\n",
            "Epoch 202/500\n",
            "5/5 [==============================] - 0s 3ms/step - loss: 13806.9951 - mae: 13806.9951\n",
            "Epoch 203/500\n",
            "5/5 [==============================] - 0s 2ms/step - loss: 13625.4199 - mae: 13625.4199\n",
            "Epoch 204/500\n",
            "5/5 [==============================] - 0s 2ms/step - loss: 13624.0605 - mae: 13624.0605\n",
            "Epoch 205/500\n",
            "5/5 [==============================] - 0s 2ms/step - loss: 13653.0332 - mae: 13653.0332\n",
            "Epoch 206/500\n",
            "5/5 [==============================] - 0s 2ms/step - loss: 13526.7871 - mae: 13526.7871\n",
            "Epoch 207/500\n",
            "5/5 [==============================] - 0s 2ms/step - loss: 13449.2002 - mae: 13449.2002\n",
            "Epoch 208/500\n",
            "5/5 [==============================] - 0s 2ms/step - loss: 13309.3223 - mae: 13309.3223\n",
            "Epoch 209/500\n",
            "5/5 [==============================] - 0s 2ms/step - loss: 14629.8672 - mae: 14629.8672\n",
            "Epoch 210/500\n",
            "5/5 [==============================] - 0s 2ms/step - loss: 14097.2090 - mae: 14097.2090\n",
            "Epoch 211/500\n",
            "5/5 [==============================] - 0s 2ms/step - loss: 13626.4561 - mae: 13626.4561\n",
            "Epoch 212/500\n",
            "5/5 [==============================] - 0s 2ms/step - loss: 13650.0107 - mae: 13650.0107\n",
            "Epoch 213/500\n",
            "5/5 [==============================] - 0s 2ms/step - loss: 13465.1250 - mae: 13465.1250\n",
            "Epoch 214/500\n",
            "5/5 [==============================] - 0s 2ms/step - loss: 13745.9033 - mae: 13745.9033\n",
            "Epoch 215/500\n",
            "5/5 [==============================] - 0s 2ms/step - loss: 13748.0859 - mae: 13748.0859\n",
            "Epoch 216/500\n",
            "5/5 [==============================] - 0s 2ms/step - loss: 13371.9404 - mae: 13371.9404\n",
            "Epoch 217/500\n",
            "5/5 [==============================] - 0s 3ms/step - loss: 13783.0684 - mae: 13783.0684\n",
            "Epoch 218/500\n",
            "5/5 [==============================] - 0s 2ms/step - loss: 13633.8457 - mae: 13633.8457\n",
            "Epoch 219/500\n",
            "5/5 [==============================] - 0s 2ms/step - loss: 13667.7090 - mae: 13667.7090\n",
            "Epoch 220/500\n",
            "5/5 [==============================] - 0s 2ms/step - loss: 13650.1299 - mae: 13650.1299\n",
            "Epoch 221/500\n",
            "5/5 [==============================] - 0s 2ms/step - loss: 13306.9941 - mae: 13306.9941\n",
            "Epoch 222/500\n",
            "5/5 [==============================] - 0s 2ms/step - loss: 14351.6064 - mae: 14351.6064\n",
            "Epoch 223/500\n",
            "5/5 [==============================] - 0s 2ms/step - loss: 13600.8809 - mae: 13600.8809\n",
            "Epoch 224/500\n",
            "5/5 [==============================] - 0s 2ms/step - loss: 13392.1797 - mae: 13392.1797\n",
            "Epoch 225/500\n",
            "5/5 [==============================] - 0s 2ms/step - loss: 13364.6514 - mae: 13364.6514\n",
            "Epoch 226/500\n",
            "5/5 [==============================] - 0s 2ms/step - loss: 13731.4199 - mae: 13731.4199\n",
            "Epoch 227/500\n",
            "5/5 [==============================] - 0s 2ms/step - loss: 14067.5684 - mae: 14067.5684\n",
            "Epoch 228/500\n",
            "5/5 [==============================] - 0s 2ms/step - loss: 13575.0176 - mae: 13575.0176\n",
            "Epoch 229/500\n",
            "5/5 [==============================] - 0s 2ms/step - loss: 13403.6270 - mae: 13403.6270\n",
            "Epoch 230/500\n",
            "5/5 [==============================] - 0s 2ms/step - loss: 13350.9453 - mae: 13350.9453\n",
            "Epoch 231/500\n",
            "5/5 [==============================] - 0s 2ms/step - loss: 13679.5527 - mae: 13679.5527\n",
            "Epoch 232/500\n",
            "5/5 [==============================] - 0s 2ms/step - loss: 13361.0156 - mae: 13361.0156\n",
            "Epoch 233/500\n",
            "5/5 [==============================] - 0s 2ms/step - loss: 13220.8809 - mae: 13220.8809\n",
            "Epoch 234/500\n",
            "5/5 [==============================] - 0s 3ms/step - loss: 13963.6191 - mae: 13963.6191\n",
            "Epoch 235/500\n",
            "5/5 [==============================] - 0s 2ms/step - loss: 13551.0986 - mae: 13551.0986\n",
            "Epoch 236/500\n",
            "5/5 [==============================] - 0s 2ms/step - loss: 13527.8389 - mae: 13527.8389\n",
            "Epoch 237/500\n",
            "5/5 [==============================] - 0s 2ms/step - loss: 14420.3770 - mae: 14420.3770\n",
            "Epoch 238/500\n",
            "5/5 [==============================] - 0s 3ms/step - loss: 13488.7861 - mae: 13488.7861\n",
            "Epoch 239/500\n",
            "5/5 [==============================] - 0s 3ms/step - loss: 13770.2910 - mae: 13770.2910\n",
            "Epoch 240/500\n",
            "5/5 [==============================] - 0s 2ms/step - loss: 13277.0176 - mae: 13277.0176\n",
            "Epoch 241/500\n",
            "5/5 [==============================] - 0s 2ms/step - loss: 14041.6250 - mae: 14041.6250\n",
            "Epoch 242/500\n",
            "5/5 [==============================] - 0s 2ms/step - loss: 12923.5029 - mae: 12923.5029\n",
            "Epoch 243/500\n",
            "5/5 [==============================] - 0s 3ms/step - loss: 14463.0469 - mae: 14463.0469\n",
            "Epoch 244/500\n",
            "5/5 [==============================] - 0s 2ms/step - loss: 13430.7891 - mae: 13430.7891\n",
            "Epoch 245/500\n",
            "5/5 [==============================] - 0s 2ms/step - loss: 13944.7520 - mae: 13944.7520\n",
            "Epoch 246/500\n",
            "5/5 [==============================] - 0s 2ms/step - loss: 13235.5371 - mae: 13235.5371\n",
            "Epoch 247/500\n",
            "5/5 [==============================] - 0s 2ms/step - loss: 13431.1621 - mae: 13431.1621\n",
            "Epoch 248/500\n",
            "5/5 [==============================] - 0s 3ms/step - loss: 13692.4766 - mae: 13692.4766\n",
            "Epoch 249/500\n",
            "5/5 [==============================] - 0s 3ms/step - loss: 14132.3252 - mae: 14132.3252\n",
            "Epoch 250/500\n",
            "5/5 [==============================] - 0s 2ms/step - loss: 13397.8828 - mae: 13397.8828\n",
            "Epoch 251/500\n",
            "5/5 [==============================] - 0s 2ms/step - loss: 13359.8848 - mae: 13359.8848\n",
            "Epoch 252/500\n",
            "5/5 [==============================] - 0s 2ms/step - loss: 13556.2549 - mae: 13556.2549\n",
            "Epoch 253/500\n",
            "5/5 [==============================] - 0s 2ms/step - loss: 13251.5957 - mae: 13251.5957\n",
            "Epoch 254/500\n",
            "5/5 [==============================] - 0s 2ms/step - loss: 12987.6865 - mae: 12987.6865\n",
            "Epoch 255/500\n",
            "5/5 [==============================] - 0s 2ms/step - loss: 13478.3184 - mae: 13478.3184\n",
            "Epoch 256/500\n",
            "5/5 [==============================] - 0s 2ms/step - loss: 16578.3633 - mae: 16578.3633\n",
            "Epoch 257/500\n",
            "5/5 [==============================] - 0s 2ms/step - loss: 13761.9121 - mae: 13761.9121\n",
            "Epoch 258/500\n",
            "5/5 [==============================] - 0s 2ms/step - loss: 13583.6074 - mae: 13583.6074\n",
            "Epoch 259/500\n",
            "5/5 [==============================] - 0s 2ms/step - loss: 13415.8340 - mae: 13415.8340\n",
            "Epoch 260/500\n",
            "5/5 [==============================] - 0s 2ms/step - loss: 13502.1533 - mae: 13502.1533\n",
            "Epoch 261/500\n",
            "5/5 [==============================] - 0s 2ms/step - loss: 13290.0332 - mae: 13290.0332\n",
            "Epoch 262/500\n",
            "5/5 [==============================] - 0s 2ms/step - loss: 13084.9600 - mae: 13084.9600\n",
            "Epoch 263/500\n",
            "5/5 [==============================] - 0s 4ms/step - loss: 13643.2344 - mae: 13643.2344\n",
            "Epoch 264/500\n",
            "5/5 [==============================] - 0s 2ms/step - loss: 13325.5469 - mae: 13325.5469\n",
            "Epoch 265/500\n",
            "5/5 [==============================] - 0s 2ms/step - loss: 13125.4453 - mae: 13125.4453\n",
            "Epoch 266/500\n",
            "5/5 [==============================] - 0s 2ms/step - loss: 13178.5127 - mae: 13178.5127\n",
            "Epoch 267/500\n",
            "5/5 [==============================] - 0s 3ms/step - loss: 13176.9473 - mae: 13176.9473\n",
            "Epoch 268/500\n",
            "5/5 [==============================] - 0s 2ms/step - loss: 13563.3145 - mae: 13563.3145\n",
            "Epoch 269/500\n",
            "5/5 [==============================] - 0s 2ms/step - loss: 13716.8799 - mae: 13716.8799\n",
            "Epoch 270/500\n",
            "5/5 [==============================] - 0s 2ms/step - loss: 13660.1748 - mae: 13660.1748\n",
            "Epoch 271/500\n",
            "5/5 [==============================] - 0s 2ms/step - loss: 13209.3594 - mae: 13209.3594\n",
            "Epoch 272/500\n",
            "5/5 [==============================] - 0s 2ms/step - loss: 12957.8271 - mae: 12957.8271\n",
            "Epoch 273/500\n",
            "5/5 [==============================] - 0s 2ms/step - loss: 13632.8770 - mae: 13632.8770\n",
            "Epoch 274/500\n",
            "5/5 [==============================] - 0s 2ms/step - loss: 13094.5693 - mae: 13094.5693\n",
            "Epoch 275/500\n",
            "5/5 [==============================] - 0s 2ms/step - loss: 12975.7363 - mae: 12975.7363\n",
            "Epoch 276/500\n",
            "5/5 [==============================] - 0s 2ms/step - loss: 14326.8779 - mae: 14326.8779\n",
            "Epoch 277/500\n",
            "5/5 [==============================] - 0s 2ms/step - loss: 13947.6533 - mae: 13947.6533\n",
            "Epoch 278/500\n",
            "5/5 [==============================] - 0s 2ms/step - loss: 13313.8389 - mae: 13313.8389\n",
            "Epoch 279/500\n",
            "5/5 [==============================] - 0s 2ms/step - loss: 13473.9043 - mae: 13473.9043\n",
            "Epoch 280/500\n",
            "5/5 [==============================] - 0s 2ms/step - loss: 13607.8643 - mae: 13607.8643\n",
            "Epoch 281/500\n",
            "5/5 [==============================] - 0s 2ms/step - loss: 12876.9287 - mae: 12876.9287\n",
            "Epoch 282/500\n",
            "5/5 [==============================] - 0s 2ms/step - loss: 14040.9248 - mae: 14040.9248\n",
            "Epoch 283/500\n",
            "5/5 [==============================] - 0s 2ms/step - loss: 13066.3262 - mae: 13066.3262\n",
            "Epoch 284/500\n",
            "5/5 [==============================] - 0s 2ms/step - loss: 13333.4160 - mae: 13333.4160\n",
            "Epoch 285/500\n",
            "5/5 [==============================] - 0s 2ms/step - loss: 13002.9785 - mae: 13002.9785\n",
            "Epoch 286/500\n",
            "5/5 [==============================] - 0s 2ms/step - loss: 13152.9043 - mae: 13152.9043\n",
            "Epoch 287/500\n",
            "5/5 [==============================] - 0s 2ms/step - loss: 14042.0098 - mae: 14042.0098\n",
            "Epoch 288/500\n",
            "5/5 [==============================] - 0s 3ms/step - loss: 13430.8496 - mae: 13430.8496\n",
            "Epoch 289/500\n",
            "5/5 [==============================] - 0s 3ms/step - loss: 13172.6426 - mae: 13172.6426\n",
            "Epoch 290/500\n",
            "5/5 [==============================] - 0s 2ms/step - loss: 12991.3828 - mae: 12991.3828\n",
            "Epoch 291/500\n",
            "5/5 [==============================] - 0s 2ms/step - loss: 13402.1270 - mae: 13402.1270\n",
            "Epoch 292/500\n",
            "5/5 [==============================] - 0s 2ms/step - loss: 14045.3457 - mae: 14045.3457\n",
            "Epoch 293/500\n",
            "5/5 [==============================] - 0s 3ms/step - loss: 13454.5596 - mae: 13454.5596\n",
            "Epoch 294/500\n",
            "5/5 [==============================] - 0s 2ms/step - loss: 13326.3096 - mae: 13326.3096\n",
            "Epoch 295/500\n",
            "5/5 [==============================] - 0s 2ms/step - loss: 13063.7510 - mae: 13063.7510\n",
            "Epoch 296/500\n",
            "5/5 [==============================] - 0s 2ms/step - loss: 12571.9912 - mae: 12571.9912\n",
            "Epoch 297/500\n",
            "5/5 [==============================] - 0s 2ms/step - loss: 12977.0957 - mae: 12977.0957\n",
            "Epoch 298/500\n",
            "5/5 [==============================] - 0s 3ms/step - loss: 14568.3408 - mae: 14568.3408\n",
            "Epoch 299/500\n",
            "5/5 [==============================] - 0s 2ms/step - loss: 13541.0498 - mae: 13541.0498\n",
            "Epoch 300/500\n",
            "5/5 [==============================] - 0s 2ms/step - loss: 13214.5059 - mae: 13214.5059\n",
            "Epoch 301/500\n",
            "5/5 [==============================] - 0s 2ms/step - loss: 12983.9707 - mae: 12983.9707\n",
            "Epoch 302/500\n",
            "5/5 [==============================] - 0s 2ms/step - loss: 12550.1631 - mae: 12550.1631\n",
            "Epoch 303/500\n",
            "5/5 [==============================] - 0s 2ms/step - loss: 12982.1904 - mae: 12982.1904\n",
            "Epoch 304/500\n",
            "5/5 [==============================] - 0s 2ms/step - loss: 12936.0371 - mae: 12936.0371\n",
            "Epoch 305/500\n",
            "5/5 [==============================] - 0s 4ms/step - loss: 16323.6826 - mae: 16323.6826\n",
            "Epoch 306/500\n",
            "5/5 [==============================] - 0s 3ms/step - loss: 13716.3154 - mae: 13716.3154\n",
            "Epoch 307/500\n",
            "5/5 [==============================] - 0s 2ms/step - loss: 13408.9375 - mae: 13408.9375\n",
            "Epoch 308/500\n",
            "5/5 [==============================] - 0s 2ms/step - loss: 13205.5059 - mae: 13205.5059\n",
            "Epoch 309/500\n",
            "5/5 [==============================] - 0s 3ms/step - loss: 13656.5215 - mae: 13656.5215\n",
            "Epoch 310/500\n",
            "5/5 [==============================] - 0s 2ms/step - loss: 13303.9238 - mae: 13303.9238\n",
            "Epoch 311/500\n",
            "5/5 [==============================] - 0s 2ms/step - loss: 13124.6777 - mae: 13124.6777\n",
            "Epoch 312/500\n",
            "5/5 [==============================] - 0s 2ms/step - loss: 13294.5127 - mae: 13294.5127\n",
            "Epoch 313/500\n",
            "5/5 [==============================] - 0s 2ms/step - loss: 12850.0049 - mae: 12850.0049\n",
            "Epoch 314/500\n",
            "5/5 [==============================] - 0s 3ms/step - loss: 13841.3691 - mae: 13841.3691\n",
            "Epoch 315/500\n",
            "5/5 [==============================] - 0s 2ms/step - loss: 13148.8027 - mae: 13148.8027\n",
            "Epoch 316/500\n",
            "5/5 [==============================] - 0s 2ms/step - loss: 13237.1748 - mae: 13237.1748\n",
            "Epoch 317/500\n",
            "5/5 [==============================] - 0s 2ms/step - loss: 13235.5000 - mae: 13235.5000\n",
            "Epoch 318/500\n",
            "5/5 [==============================] - 0s 2ms/step - loss: 13661.5625 - mae: 13661.5625\n",
            "Epoch 319/500\n",
            "5/5 [==============================] - 0s 3ms/step - loss: 13222.2754 - mae: 13222.2754\n",
            "Epoch 320/500\n",
            "5/5 [==============================] - 0s 3ms/step - loss: 13284.0449 - mae: 13284.0449\n",
            "Epoch 321/500\n",
            "5/5 [==============================] - 0s 3ms/step - loss: 13411.5527 - mae: 13411.5527\n",
            "Epoch 322/500\n",
            "5/5 [==============================] - 0s 3ms/step - loss: 13340.0596 - mae: 13340.0596\n",
            "Epoch 323/500\n",
            "5/5 [==============================] - 0s 2ms/step - loss: 12740.1338 - mae: 12740.1338\n",
            "Epoch 324/500\n",
            "5/5 [==============================] - 0s 2ms/step - loss: 12884.7822 - mae: 12884.7822\n",
            "Epoch 325/500\n",
            "5/5 [==============================] - 0s 2ms/step - loss: 13471.0889 - mae: 13471.0889\n",
            "Epoch 326/500\n",
            "5/5 [==============================] - 0s 2ms/step - loss: 13021.6221 - mae: 13021.6221\n",
            "Epoch 327/500\n",
            "5/5 [==============================] - 0s 5ms/step - loss: 12684.5566 - mae: 12684.5566\n",
            "Epoch 328/500\n",
            "5/5 [==============================] - 0s 2ms/step - loss: 14538.6611 - mae: 14538.6611\n",
            "Epoch 329/500\n",
            "5/5 [==============================] - 0s 2ms/step - loss: 13034.7959 - mae: 13034.7959\n",
            "Epoch 330/500\n",
            "5/5 [==============================] - 0s 2ms/step - loss: 12925.1982 - mae: 12925.1982\n",
            "Epoch 331/500\n",
            "5/5 [==============================] - 0s 2ms/step - loss: 12991.6621 - mae: 12991.6621\n",
            "Epoch 332/500\n",
            "5/5 [==============================] - 0s 2ms/step - loss: 12686.0576 - mae: 12686.0576\n",
            "Epoch 333/500\n",
            "5/5 [==============================] - 0s 3ms/step - loss: 13928.4922 - mae: 13928.4922\n",
            "Epoch 334/500\n",
            "5/5 [==============================] - 0s 2ms/step - loss: 14258.5879 - mae: 14258.5879\n",
            "Epoch 335/500\n",
            "5/5 [==============================] - 0s 2ms/step - loss: 13348.2578 - mae: 13348.2578\n",
            "Epoch 336/500\n",
            "5/5 [==============================] - 0s 2ms/step - loss: 12986.3096 - mae: 12986.3096\n",
            "Epoch 337/500\n",
            "5/5 [==============================] - 0s 2ms/step - loss: 13021.2529 - mae: 13021.2529\n",
            "Epoch 338/500\n",
            "5/5 [==============================] - 0s 2ms/step - loss: 12642.2969 - mae: 12642.2969\n",
            "Epoch 339/500\n",
            "5/5 [==============================] - 0s 2ms/step - loss: 13049.1357 - mae: 13049.1357\n",
            "Epoch 340/500\n",
            "5/5 [==============================] - 0s 3ms/step - loss: 12895.3730 - mae: 12895.3730\n",
            "Epoch 341/500\n",
            "5/5 [==============================] - 0s 2ms/step - loss: 12555.3770 - mae: 12555.3770\n",
            "Epoch 342/500\n",
            "5/5 [==============================] - 0s 2ms/step - loss: 15030.5283 - mae: 15030.5283\n",
            "Epoch 343/500\n",
            "5/5 [==============================] - 0s 2ms/step - loss: 13449.5254 - mae: 13449.5254\n",
            "Epoch 344/500\n",
            "5/5 [==============================] - 0s 2ms/step - loss: 13263.2080 - mae: 13263.2080\n",
            "Epoch 345/500\n",
            "5/5 [==============================] - 0s 3ms/step - loss: 13093.8311 - mae: 13093.8311\n",
            "Epoch 346/500\n",
            "5/5 [==============================] - 0s 2ms/step - loss: 13860.3496 - mae: 13860.3496\n",
            "Epoch 347/500\n",
            "5/5 [==============================] - 0s 2ms/step - loss: 13106.4004 - mae: 13106.4004\n",
            "Epoch 348/500\n",
            "5/5 [==============================] - 0s 3ms/step - loss: 13138.2061 - mae: 13138.2061\n",
            "Epoch 349/500\n",
            "5/5 [==============================] - 0s 2ms/step - loss: 12765.4893 - mae: 12765.4893\n",
            "Epoch 350/500\n",
            "5/5 [==============================] - 0s 3ms/step - loss: 12607.6885 - mae: 12607.6885\n",
            "Epoch 351/500\n",
            "5/5 [==============================] - 0s 2ms/step - loss: 13355.0078 - mae: 13355.0078\n",
            "Epoch 352/500\n",
            "5/5 [==============================] - 0s 2ms/step - loss: 13195.7295 - mae: 13195.7295\n",
            "Epoch 353/500\n",
            "5/5 [==============================] - 0s 2ms/step - loss: 12491.1611 - mae: 12491.1611\n",
            "Epoch 354/500\n",
            "5/5 [==============================] - 0s 4ms/step - loss: 13778.0469 - mae: 13778.0469\n",
            "Epoch 355/500\n",
            "5/5 [==============================] - 0s 3ms/step - loss: 12642.0254 - mae: 12642.0254\n",
            "Epoch 356/500\n",
            "5/5 [==============================] - 0s 2ms/step - loss: 12843.4277 - mae: 12843.4277\n",
            "Epoch 357/500\n",
            "5/5 [==============================] - 0s 3ms/step - loss: 15838.7998 - mae: 15838.7998\n",
            "Epoch 358/500\n",
            "5/5 [==============================] - 0s 3ms/step - loss: 13483.5000 - mae: 13483.5000\n",
            "Epoch 359/500\n",
            "5/5 [==============================] - 0s 3ms/step - loss: 13173.4121 - mae: 13173.4121\n",
            "Epoch 360/500\n",
            "5/5 [==============================] - 0s 2ms/step - loss: 12970.4824 - mae: 12970.4824\n",
            "Epoch 361/500\n",
            "5/5 [==============================] - 0s 4ms/step - loss: 12653.9150 - mae: 12653.9150\n",
            "Epoch 362/500\n",
            "5/5 [==============================] - 0s 2ms/step - loss: 13306.0547 - mae: 13306.0547\n",
            "Epoch 363/500\n",
            "5/5 [==============================] - 0s 2ms/step - loss: 13209.2158 - mae: 13209.2158\n",
            "Epoch 364/500\n",
            "5/5 [==============================] - 0s 2ms/step - loss: 12993.7373 - mae: 12993.7373\n",
            "Epoch 365/500\n",
            "5/5 [==============================] - 0s 2ms/step - loss: 13156.9346 - mae: 13156.9346\n",
            "Epoch 366/500\n",
            "5/5 [==============================] - 0s 3ms/step - loss: 13541.3984 - mae: 13541.3984\n",
            "Epoch 367/500\n",
            "5/5 [==============================] - 0s 2ms/step - loss: 12750.7754 - mae: 12750.7754\n",
            "Epoch 368/500\n",
            "5/5 [==============================] - 0s 2ms/step - loss: 12765.5615 - mae: 12765.5615\n",
            "Epoch 369/500\n",
            "5/5 [==============================] - 0s 3ms/step - loss: 17015.8340 - mae: 17015.8340\n",
            "Epoch 370/500\n",
            "5/5 [==============================] - 0s 2ms/step - loss: 13641.3389 - mae: 13641.3389\n",
            "Epoch 371/500\n",
            "5/5 [==============================] - 0s 3ms/step - loss: 13379.1748 - mae: 13379.1748\n",
            "Epoch 372/500\n",
            "5/5 [==============================] - 0s 2ms/step - loss: 13172.7129 - mae: 13172.7129\n",
            "Epoch 373/500\n",
            "5/5 [==============================] - 0s 2ms/step - loss: 13520.0498 - mae: 13520.0498\n",
            "Epoch 374/500\n",
            "5/5 [==============================] - 0s 3ms/step - loss: 13266.9873 - mae: 13266.9873\n",
            "Epoch 375/500\n",
            "5/5 [==============================] - 0s 3ms/step - loss: 13660.1113 - mae: 13660.1113\n",
            "Epoch 376/500\n",
            "5/5 [==============================] - 0s 2ms/step - loss: 13032.8184 - mae: 13032.8184\n",
            "Epoch 377/500\n",
            "5/5 [==============================] - 0s 3ms/step - loss: 13175.2734 - mae: 13175.2734\n",
            "Epoch 378/500\n",
            "5/5 [==============================] - 0s 3ms/step - loss: 13027.1855 - mae: 13027.1855\n",
            "Epoch 379/500\n",
            "5/5 [==============================] - 0s 2ms/step - loss: 13144.7715 - mae: 13144.7715\n",
            "Epoch 380/500\n",
            "5/5 [==============================] - 0s 2ms/step - loss: 12188.9189 - mae: 12188.9189\n",
            "Epoch 381/500\n",
            "5/5 [==============================] - 0s 3ms/step - loss: 12459.4785 - mae: 12459.4785\n",
            "Epoch 382/500\n",
            "5/5 [==============================] - 0s 3ms/step - loss: 15552.4746 - mae: 15552.4746\n",
            "Epoch 383/500\n",
            "5/5 [==============================] - 0s 2ms/step - loss: 13616.9033 - mae: 13616.9033\n",
            "Epoch 384/500\n",
            "5/5 [==============================] - 0s 2ms/step - loss: 13066.2070 - mae: 13066.2070\n",
            "Epoch 385/500\n",
            "5/5 [==============================] - 0s 2ms/step - loss: 12885.3438 - mae: 12885.3438\n",
            "Epoch 386/500\n",
            "5/5 [==============================] - 0s 2ms/step - loss: 13071.4248 - mae: 13071.4248\n",
            "Epoch 387/500\n",
            "5/5 [==============================] - 0s 2ms/step - loss: 12971.5908 - mae: 12971.5908\n",
            "Epoch 388/500\n",
            "5/5 [==============================] - 0s 3ms/step - loss: 13165.4580 - mae: 13165.4580\n",
            "Epoch 389/500\n",
            "5/5 [==============================] - 0s 3ms/step - loss: 12784.1660 - mae: 12784.1660\n",
            "Epoch 390/500\n",
            "5/5 [==============================] - 0s 2ms/step - loss: 14444.4717 - mae: 14444.4717\n",
            "Epoch 391/500\n",
            "5/5 [==============================] - 0s 2ms/step - loss: 12653.2861 - mae: 12653.2861\n",
            "Epoch 392/500\n",
            "5/5 [==============================] - 0s 2ms/step - loss: 16678.8926 - mae: 16678.8926\n",
            "Epoch 393/500\n",
            "5/5 [==============================] - 0s 2ms/step - loss: 13477.0029 - mae: 13477.0029\n",
            "Epoch 394/500\n",
            "5/5 [==============================] - 0s 3ms/step - loss: 13315.9814 - mae: 13315.9814\n",
            "Epoch 395/500\n",
            "5/5 [==============================] - 0s 2ms/step - loss: 13289.3154 - mae: 13289.3154\n",
            "Epoch 396/500\n",
            "5/5 [==============================] - 0s 2ms/step - loss: 12829.7949 - mae: 12829.7949\n",
            "Epoch 397/500\n",
            "5/5 [==============================] - 0s 2ms/step - loss: 12494.9463 - mae: 12494.9463\n",
            "Epoch 398/500\n",
            "5/5 [==============================] - 0s 2ms/step - loss: 12703.2197 - mae: 12703.2197\n",
            "Epoch 399/500\n",
            "5/5 [==============================] - 0s 2ms/step - loss: 13955.3516 - mae: 13955.3516\n",
            "Epoch 400/500\n",
            "5/5 [==============================] - 0s 3ms/step - loss: 12972.6455 - mae: 12972.6455\n",
            "Epoch 401/500\n",
            "5/5 [==============================] - 0s 2ms/step - loss: 12706.2246 - mae: 12706.2246\n",
            "Epoch 402/500\n",
            "5/5 [==============================] - 0s 2ms/step - loss: 12835.4551 - mae: 12835.4551\n",
            "Epoch 403/500\n",
            "5/5 [==============================] - 0s 2ms/step - loss: 12964.8281 - mae: 12964.8281\n",
            "Epoch 404/500\n",
            "5/5 [==============================] - 0s 2ms/step - loss: 14221.0342 - mae: 14221.0342\n",
            "Epoch 405/500\n",
            "5/5 [==============================] - 0s 2ms/step - loss: 12922.6006 - mae: 12922.6006\n",
            "Epoch 406/500\n",
            "5/5 [==============================] - 0s 3ms/step - loss: 13304.1035 - mae: 13304.1035\n",
            "Epoch 407/500\n",
            "5/5 [==============================] - 0s 3ms/step - loss: 13564.1328 - mae: 13564.1328\n",
            "Epoch 408/500\n",
            "5/5 [==============================] - 0s 3ms/step - loss: 12941.0332 - mae: 12941.0332\n",
            "Epoch 409/500\n",
            "5/5 [==============================] - 0s 2ms/step - loss: 12862.3672 - mae: 12862.3672\n",
            "Epoch 410/500\n",
            "5/5 [==============================] - 0s 3ms/step - loss: 12546.1660 - mae: 12546.1660\n",
            "Epoch 411/500\n",
            "5/5 [==============================] - 0s 3ms/step - loss: 12543.4512 - mae: 12543.4512\n",
            "Epoch 412/500\n",
            "5/5 [==============================] - 0s 3ms/step - loss: 14987.8857 - mae: 14987.8857\n",
            "Epoch 413/500\n",
            "5/5 [==============================] - 0s 4ms/step - loss: 13553.2988 - mae: 13553.2988\n",
            "Epoch 414/500\n",
            "5/5 [==============================] - 0s 3ms/step - loss: 13368.6582 - mae: 13368.6582\n",
            "Epoch 415/500\n",
            "5/5 [==============================] - 0s 2ms/step - loss: 12740.9980 - mae: 12740.9980\n",
            "Epoch 416/500\n",
            "5/5 [==============================] - 0s 2ms/step - loss: 12619.4004 - mae: 12619.4004\n",
            "Epoch 417/500\n",
            "5/5 [==============================] - 0s 2ms/step - loss: 12415.3516 - mae: 12415.3516\n",
            "Epoch 418/500\n",
            "5/5 [==============================] - 0s 3ms/step - loss: 12284.9111 - mae: 12284.9111\n",
            "Epoch 419/500\n",
            "5/5 [==============================] - 0s 2ms/step - loss: 12981.1865 - mae: 12981.1865\n",
            "Epoch 420/500\n",
            "5/5 [==============================] - 0s 2ms/step - loss: 12924.2451 - mae: 12924.2451\n",
            "Epoch 421/500\n",
            "5/5 [==============================] - 0s 2ms/step - loss: 16344.8018 - mae: 16344.8018\n",
            "Epoch 422/500\n",
            "5/5 [==============================] - 0s 2ms/step - loss: 13518.6689 - mae: 13518.6689\n",
            "Epoch 423/500\n",
            "5/5 [==============================] - 0s 2ms/step - loss: 13810.7109 - mae: 13810.7109\n",
            "Epoch 424/500\n",
            "5/5 [==============================] - 0s 3ms/step - loss: 13047.4092 - mae: 13047.4092\n",
            "Epoch 425/500\n",
            "5/5 [==============================] - 0s 2ms/step - loss: 13045.4971 - mae: 13045.4971\n",
            "Epoch 426/500\n",
            "5/5 [==============================] - 0s 3ms/step - loss: 12725.9980 - mae: 12725.9980\n",
            "Epoch 427/500\n",
            "5/5 [==============================] - 0s 3ms/step - loss: 13215.8457 - mae: 13215.8457\n",
            "Epoch 428/500\n",
            "5/5 [==============================] - 0s 3ms/step - loss: 13455.5801 - mae: 13455.5801\n",
            "Epoch 429/500\n",
            "5/5 [==============================] - 0s 3ms/step - loss: 12830.4727 - mae: 12830.4727\n",
            "Epoch 430/500\n",
            "5/5 [==============================] - 0s 2ms/step - loss: 12465.8730 - mae: 12465.8730\n",
            "Epoch 431/500\n",
            "5/5 [==============================] - 0s 2ms/step - loss: 12569.0254 - mae: 12569.0254\n",
            "Epoch 432/500\n",
            "5/5 [==============================] - 0s 3ms/step - loss: 12835.5879 - mae: 12835.5879\n",
            "Epoch 433/500\n",
            "5/5 [==============================] - 0s 2ms/step - loss: 13188.7090 - mae: 13188.7090\n",
            "Epoch 434/500\n",
            "5/5 [==============================] - 0s 2ms/step - loss: 13868.0605 - mae: 13868.0605\n",
            "Epoch 435/500\n",
            "5/5 [==============================] - 0s 4ms/step - loss: 13453.6670 - mae: 13453.6670\n",
            "Epoch 436/500\n",
            "5/5 [==============================] - 0s 3ms/step - loss: 12892.9395 - mae: 12892.9395\n",
            "Epoch 437/500\n",
            "5/5 [==============================] - 0s 3ms/step - loss: 13170.5811 - mae: 13170.5811\n",
            "Epoch 438/500\n",
            "5/5 [==============================] - 0s 3ms/step - loss: 12557.8955 - mae: 12557.8955\n",
            "Epoch 439/500\n",
            "5/5 [==============================] - 0s 3ms/step - loss: 13085.7559 - mae: 13085.7559\n",
            "Epoch 440/500\n",
            "5/5 [==============================] - 0s 3ms/step - loss: 12344.6475 - mae: 12344.6475\n",
            "Epoch 441/500\n",
            "5/5 [==============================] - 0s 3ms/step - loss: 14687.8467 - mae: 14687.8467\n",
            "Epoch 442/500\n",
            "5/5 [==============================] - 0s 3ms/step - loss: 13496.7441 - mae: 13496.7441\n",
            "Epoch 443/500\n",
            "5/5 [==============================] - 0s 2ms/step - loss: 13151.2090 - mae: 13151.2090\n",
            "Epoch 444/500\n",
            "5/5 [==============================] - 0s 2ms/step - loss: 12532.2754 - mae: 12532.2754\n",
            "Epoch 445/500\n",
            "5/5 [==============================] - 0s 3ms/step - loss: 13295.7051 - mae: 13295.7051\n",
            "Epoch 446/500\n",
            "5/5 [==============================] - 0s 2ms/step - loss: 13099.7393 - mae: 13099.7393\n",
            "Epoch 447/500\n",
            "5/5 [==============================] - 0s 4ms/step - loss: 13367.9111 - mae: 13367.9111\n",
            "Epoch 448/500\n",
            "5/5 [==============================] - 0s 5ms/step - loss: 12259.4463 - mae: 12259.4463\n",
            "Epoch 449/500\n",
            "5/5 [==============================] - 0s 2ms/step - loss: 13032.9639 - mae: 13032.9639\n",
            "Epoch 450/500\n",
            "5/5 [==============================] - 0s 3ms/step - loss: 12669.9561 - mae: 12669.9561\n",
            "Epoch 451/500\n",
            "5/5 [==============================] - 0s 3ms/step - loss: 12684.8789 - mae: 12684.8789\n",
            "Epoch 452/500\n",
            "5/5 [==============================] - 0s 3ms/step - loss: 13855.0059 - mae: 13855.0059\n",
            "Epoch 453/500\n",
            "5/5 [==============================] - 0s 3ms/step - loss: 12328.7158 - mae: 12328.7158\n",
            "Epoch 454/500\n",
            "5/5 [==============================] - 0s 2ms/step - loss: 14246.6406 - mae: 14246.6406\n",
            "Epoch 455/500\n",
            "5/5 [==============================] - 0s 3ms/step - loss: 13513.1777 - mae: 13513.1777\n",
            "Epoch 456/500\n",
            "5/5 [==============================] - 0s 4ms/step - loss: 12946.8770 - mae: 12946.8770\n",
            "Epoch 457/500\n",
            "5/5 [==============================] - 0s 2ms/step - loss: 12501.2510 - mae: 12501.2510\n",
            "Epoch 458/500\n",
            "5/5 [==============================] - 0s 2ms/step - loss: 12717.2090 - mae: 12717.2090\n",
            "Epoch 459/500\n",
            "5/5 [==============================] - 0s 3ms/step - loss: 12638.8457 - mae: 12638.8457\n",
            "Epoch 460/500\n",
            "5/5 [==============================] - 0s 3ms/step - loss: 12549.2061 - mae: 12549.2061\n",
            "Epoch 461/500\n",
            "5/5 [==============================] - 0s 3ms/step - loss: 14582.0566 - mae: 14582.0566\n",
            "Epoch 462/500\n",
            "5/5 [==============================] - 0s 2ms/step - loss: 12956.2686 - mae: 12956.2686\n",
            "Epoch 463/500\n",
            "5/5 [==============================] - 0s 2ms/step - loss: 12727.2061 - mae: 12727.2061\n",
            "Epoch 464/500\n",
            "5/5 [==============================] - 0s 2ms/step - loss: 12964.6953 - mae: 12964.6953\n",
            "Epoch 465/500\n",
            "5/5 [==============================] - 0s 3ms/step - loss: 13377.7627 - mae: 13377.7627\n",
            "Epoch 466/500\n",
            "5/5 [==============================] - 0s 2ms/step - loss: 12809.7949 - mae: 12809.7949\n",
            "Epoch 467/500\n",
            "5/5 [==============================] - 0s 3ms/step - loss: 12705.6777 - mae: 12705.6777\n",
            "Epoch 468/500\n",
            "5/5 [==============================] - 0s 3ms/step - loss: 13225.5674 - mae: 13225.5674\n",
            "Epoch 469/500\n",
            "5/5 [==============================] - 0s 3ms/step - loss: 12518.5898 - mae: 12518.5898\n",
            "Epoch 470/500\n",
            "5/5 [==============================] - 0s 2ms/step - loss: 12645.1191 - mae: 12645.1191\n",
            "Epoch 471/500\n",
            "5/5 [==============================] - 0s 3ms/step - loss: 12766.4492 - mae: 12766.4492\n",
            "Epoch 472/500\n",
            "5/5 [==============================] - 0s 2ms/step - loss: 13748.6465 - mae: 13748.6465\n",
            "Epoch 473/500\n",
            "5/5 [==============================] - 0s 3ms/step - loss: 13984.0889 - mae: 13984.0889\n",
            "Epoch 474/500\n",
            "5/5 [==============================] - 0s 3ms/step - loss: 12503.9717 - mae: 12503.9717\n",
            "Epoch 475/500\n",
            "5/5 [==============================] - 0s 3ms/step - loss: 12543.1045 - mae: 12543.1045\n",
            "Epoch 476/500\n",
            "5/5 [==============================] - 0s 3ms/step - loss: 13280.0625 - mae: 13280.0625\n",
            "Epoch 477/500\n",
            "5/5 [==============================] - 0s 4ms/step - loss: 12811.8955 - mae: 12811.8955\n",
            "Epoch 478/500\n",
            "5/5 [==============================] - 0s 4ms/step - loss: 12187.5762 - mae: 12187.5762\n",
            "Epoch 479/500\n",
            "5/5 [==============================] - 0s 3ms/step - loss: 12876.7109 - mae: 12876.7109\n",
            "Epoch 480/500\n",
            "5/5 [==============================] - 0s 2ms/step - loss: 12763.5107 - mae: 12763.5107\n",
            "Epoch 481/500\n",
            "5/5 [==============================] - 0s 2ms/step - loss: 12892.0059 - mae: 12892.0059\n",
            "Epoch 482/500\n",
            "5/5 [==============================] - 0s 2ms/step - loss: 12396.1309 - mae: 12396.1309\n",
            "Epoch 483/500\n",
            "5/5 [==============================] - 0s 3ms/step - loss: 12211.5088 - mae: 12211.5088\n",
            "Epoch 484/500\n",
            "5/5 [==============================] - 0s 3ms/step - loss: 12180.5332 - mae: 12180.5332\n",
            "Epoch 485/500\n",
            "5/5 [==============================] - 0s 3ms/step - loss: 13650.6924 - mae: 13650.6924\n",
            "Epoch 486/500\n",
            "5/5 [==============================] - 0s 3ms/step - loss: 13359.4434 - mae: 13359.4434\n",
            "Epoch 487/500\n",
            "5/5 [==============================] - 0s 3ms/step - loss: 12766.0518 - mae: 12766.0518\n",
            "Epoch 488/500\n",
            "5/5 [==============================] - 0s 3ms/step - loss: 12555.9238 - mae: 12555.9238\n",
            "Epoch 489/500\n",
            "5/5 [==============================] - 0s 4ms/step - loss: 13173.2842 - mae: 13173.2842\n",
            "Epoch 490/500\n",
            "5/5 [==============================] - 0s 3ms/step - loss: 12429.1533 - mae: 12429.1533\n",
            "Epoch 491/500\n",
            "5/5 [==============================] - 0s 3ms/step - loss: 12548.5449 - mae: 12548.5449\n",
            "Epoch 492/500\n",
            "5/5 [==============================] - 0s 2ms/step - loss: 12634.7041 - mae: 12634.7041\n",
            "Epoch 493/500\n",
            "5/5 [==============================] - 0s 3ms/step - loss: 12656.9795 - mae: 12656.9795\n",
            "Epoch 494/500\n",
            "5/5 [==============================] - 0s 3ms/step - loss: 13924.8301 - mae: 13924.8301\n",
            "Epoch 495/500\n",
            "5/5 [==============================] - 0s 3ms/step - loss: 14281.9502 - mae: 14281.9502\n",
            "Epoch 496/500\n",
            "5/5 [==============================] - 0s 2ms/step - loss: 13125.4922 - mae: 13125.4922\n",
            "Epoch 497/500\n",
            "5/5 [==============================] - 0s 3ms/step - loss: 12683.7109 - mae: 12683.7109\n",
            "Epoch 498/500\n",
            "5/5 [==============================] - 0s 2ms/step - loss: 12487.4580 - mae: 12487.4580\n",
            "Epoch 499/500\n",
            "5/5 [==============================] - 0s 3ms/step - loss: 12867.2607 - mae: 12867.2607\n",
            "Epoch 500/500\n",
            "5/5 [==============================] - 0s 4ms/step - loss: 12314.2969 - mae: 12314.2969\n"
          ],
          "name": "stdout"
        }
      ]
    },
    {
      "cell_type": "code",
      "metadata": {
        "colab": {
          "base_uri": "https://localhost:8080/",
          "height": 428
        },
        "id": "4DFGll_eDuOU",
        "outputId": "0b0b1b06-28f3-4950-a950-cc6e144f6cc7"
      },
      "source": [
        "# Make and plot predictions of model_3\n",
        "y_preds_3 = model_3.predict(X_test)\n",
        "plot_predictions(X_train, y_train, X_test, y_test, y_preds_3)"
      ],
      "execution_count": null,
      "outputs": [
        {
          "output_type": "display_data",
          "data": {
            "image/png": "[encoded data removed]",
            "text/plain": [
              "<Figure size 720x504 with 1 Axes>"
            ]
          },
          "metadata": {
            "tags": [],
            "needs_background": "light"
          }
        }
      ]
    },
    {
      "cell_type": "code",
      "metadata": {
        "colab": {
          "base_uri": "https://localhost:8080/",
          "height": 297
        },
        "id": "Q2xfMbgzEAf3",
        "outputId": "c7865fa5-9a37-4cf9-e24b-dbc4ec4ec6c2"
      },
      "source": [
        "import pandas as pd\n",
        "pd.DataFrame(history.history).plot()\n",
        "plt.ylabel(\"loss\")\n",
        "plt.xlabel(\"epochs\")"
      ],
      "execution_count": null,
      "outputs": [
        {
          "output_type": "execute_result",
          "data": {
            "text/plain": [
              "Text(0.5, 0, 'epochs')"
            ]
          },
          "metadata": {
            "tags": []
          },
          "execution_count": 14
        },
        {
          "output_type": "display_data",
          "data": {
            "image/png": "[encoded data removed]",
            "text/plain": [
              "<Figure size 432x288 with 1 Axes>"
            ]
          },
          "metadata": {
            "tags": [],
            "needs_background": "light"
          }
        }
      ]
    },
    {
      "cell_type": "code",
      "metadata": {
        "id": "r2PbZG8QEOc7"
      },
      "source": [
        "# Let's try again\n",
        "tf.random.set_seed(42)\n",
        "# 1. Build a model\n",
        "model_4 = tf.keras.Sequential([\n",
        "  tf.keras.layers.Dense(100),\n",
        "  tf.keras.layers.Dense(100),\n",
        "  tf.keras.layers.Dense(1)\n",
        "], name=\"model_4\")\n",
        "\n",
        "# 2. Compile the model\n",
        "model_4.compile(loss=tf.keras.losses.MAE,\n",
        "                optimizer=tf.keras.optimizers.Adam(),\n",
        "                metrics=[\"mae\"])\n",
        "\n",
        "# 3. Fit the model\n",
        "history_4 = model_4.fit(X_train, y_train, epochs=500, verbose=0)"
      ],
      "execution_count": null,
      "outputs": []
    },
    {
      "cell_type": "code",
      "metadata": {
        "colab": {
          "base_uri": "https://localhost:8080/",
          "height": 428
        },
        "id": "MayKlmgWivXW",
        "outputId": "b68ad536-dacf-42f6-ea4c-5786cc645ef7"
      },
      "source": [
        "y_preds_4 = model_4.predict(X_test)\n",
        "plot_predictions(X_train, y_train, X_test, y_test, y_preds_4)"
      ],
      "execution_count": null,
      "outputs": [
        {
          "output_type": "display_data",
          "data": {
            "image/png": "[encoded data removed]",
            "text/plain": [
              "<Figure size 720x504 with 1 Axes>"
            ]
          },
          "metadata": {
            "tags": [],
            "needs_background": "light"
          }
        }
      ]
    },
    {
      "cell_type": "code",
      "metadata": {
        "colab": {
          "base_uri": "https://localhost:8080/"
        },
        "id": "tiDkss50jbfN",
        "outputId": "7664a41b-0471-4886-c584-7aad2b7a17b2"
      },
      "source": [
        "model_4.evaluate(X_test, y_test)"
      ],
      "execution_count": null,
      "outputs": [
        {
          "output_type": "stream",
          "text": [
            "2/2 [==============================] - 0s 5ms/step - loss: 8634.7598 - mae: 8634.7598\n"
          ],
          "name": "stdout"
        },
        {
          "output_type": "execute_result",
          "data": {
            "text/plain": [
              "[8634.759765625, 8634.759765625]"
            ]
          },
          "metadata": {
            "tags": []
          },
          "execution_count": 22
        }
      ]
    },
    {
      "cell_type": "code",
      "metadata": {
        "colab": {
          "base_uri": "https://localhost:8080/",
          "height": 297
        },
        "id": "Fkrx_krLjhJp",
        "outputId": "bb618d27-94d9-4f7f-dfc9-b2019fbb53e3"
      },
      "source": [
        "pd.DataFrame(history_4.history).plot()\n",
        "plt.ylabel(\"loss\")\n",
        "plt.xlabel(\"epochs\")"
      ],
      "execution_count": null,
      "outputs": [
        {
          "output_type": "execute_result",
          "data": {
            "text/plain": [
              "Text(0.5, 0, 'epochs')"
            ]
          },
          "metadata": {
            "tags": []
          },
          "execution_count": 26
        },
        {
          "output_type": "display_data",
          "data": {
            "image/png": "[encoded data removed]",
            "text/plain": [
              "<Figure size 432x288 with 1 Axes>"
            ]
          },
          "metadata": {
            "tags": [],
            "needs_background": "light"
          }
        }
      ]
    },
    {
      "cell_type": "code",
      "metadata": {
        "id": "rJIY3l8wjsvm"
      },
      "source": [
        "# Let's do again\n",
        "tf.random.set_seed(42)\n",
        "# 1. Build the model\n",
        "model_5 = tf.keras.Sequential([\n",
        "  tf.keras.layers.Dense(100),\n",
        "  tf.keras.layers.Dense(100),\n",
        "  tf.keras.layers.Dense(1),\n",
        "], name=\"model_5\")\n",
        "\n",
        "# 2. Compile the model\n",
        "model_5.compile(loss=tf.keras.losses.MAE,\n",
        "                optimizer=tf.keras.optimizers.Adam(learning_rate=0.01),\n",
        "                metrics=[\"mae\"])\n",
        "\n",
        "# 3. Fit the model\n",
        "history_5 = model_5.fit(X_train, y_train, epochs=300, verbose=0)"
      ],
      "execution_count": null,
      "outputs": []
    },
    {
      "cell_type": "code",
      "metadata": {
        "colab": {
          "base_uri": "https://localhost:8080/",
          "height": 466
        },
        "id": "TSbeNmSfkjQu",
        "outputId": "6ad703d7-11d4-4983-8106-1d5fd4e6bcc1"
      },
      "source": [
        "# Make and plot predictions of model_5\n",
        "y_preds_5 = model_5.predict(X_test)\n",
        "plot_predictions(X_train, y_train, X_test, y_test, y_preds_5)"
      ],
      "execution_count": null,
      "outputs": [
        {
          "output_type": "stream",
          "text": [
            "WARNING:tensorflow:5 out of the last 11 calls to <function Model.make_predict_function.<locals>.predict_function at 0x7fb6c172f950> triggered tf.function retracing. Tracing is expensive and the excessive number of tracings could be due to (1) creating @tf.function repeatedly in a loop, (2) passing tensors with different shapes, (3) passing Python objects instead of tensors. For (1), please define your @tf.function outside of the loop. For (2), @tf.function has experimental_relax_shapes=True option that relaxes argument shapes that can avoid unnecessary retracing. For (3), please refer to https://www.tensorflow.org/guide/function#controlling_retracing and https://www.tensorflow.org/api_docs/python/tf/function for  more details.\n"
          ],
          "name": "stdout"
        },
        {
          "output_type": "display_data",
          "data": {
            "image/png": "[encoded data removed]",
            "text/plain": [
              "<Figure size 720x504 with 1 Axes>"
            ]
          },
          "metadata": {
            "tags": [],
            "needs_background": "light"
          }
        }
      ]
    },
    {
      "cell_type": "code",
      "metadata": {
        "colab": {
          "base_uri": "https://localhost:8080/",
          "height": 297
        },
        "id": "yJkwbdJbktly",
        "outputId": "a903e2f7-edbe-4163-b659-42fd4543f984"
      },
      "source": [
        "pd.DataFrame(history_5.history).plot()\n",
        "plt.ylabel(\"loss\")\n",
        "plt.xlabel(\"epochs\")"
      ],
      "execution_count": null,
      "outputs": [
        {
          "output_type": "execute_result",
          "data": {
            "text/plain": [
              "Text(0.5, 0, 'epochs')"
            ]
          },
          "metadata": {
            "tags": []
          },
          "execution_count": 30
        },
        {
          "output_type": "display_data",
          "data": {
            "image/png": "[encoded data removed]",
            "text/plain": [
              "<Figure size 432x288 with 1 Axes>"
            ]
          },
          "metadata": {
            "tags": [],
            "needs_background": "light"
          }
        }
      ]
    },
    {
      "cell_type": "code",
      "metadata": {
        "colab": {
          "base_uri": "https://localhost:8080/"
        },
        "id": "WzzyJ_XVk74m",
        "outputId": "df0abda5-3e7f-4f66-bf2d-d1e94d478821"
      },
      "source": [
        "# Evaluating the model\n",
        "model_5.evaluate(X_test, y_test)"
      ],
      "execution_count": null,
      "outputs": [
        {
          "output_type": "stream",
          "text": [
            "2/2 [==============================] - 0s 7ms/step - loss: 8650.2373 - mae: 8650.2373\n"
          ],
          "name": "stdout"
        },
        {
          "output_type": "execute_result",
          "data": {
            "text/plain": [
              "[8650.2373046875, 8650.2373046875]"
            ]
          },
          "metadata": {
            "tags": []
          },
          "execution_count": 31
        }
      ]
    },
    {
      "cell_type": "code",
      "metadata": {
        "colab": {
          "base_uri": "https://localhost:8080/"
        },
        "id": "E6V_G165lHYv",
        "outputId": "667b73a7-cd84-4d68-b39c-77ed4ba5372a"
      },
      "source": [
        "# Final I will add 1 more hidden layer\n",
        "tf.random.set_seed(42)\n",
        "# 1. Build the model\n",
        "model_6 = tf.keras.Sequential([\n",
        "  tf.keras.layers.Dense(100),\n",
        "  tf.keras.layers.Dense(100),\n",
        "  tf.keras.layers.Dense(10),\n",
        "  tf.keras.layers.Dense(1)\n",
        "], name=\"model_6\")\n",
        "\n",
        "# 2. Compile the model\n",
        "model_6.compile(loss=tf.keras.losses.MAE,\n",
        "                optimizer=tf.keras.optimizers.Adam(learning_rate=0.01),\n",
        "                metrics=[\"mae\"])\n",
        "\n",
        "# 3. Fit the model\n",
        "history_6 = model_6.fit(X_train, y_train, epochs=500)\n",
        "\n",
        "model_6.summary()"
      ],
      "execution_count": null,
      "outputs": [
        {
          "output_type": "stream",
          "text": [
            "Epoch 1/500\n",
            "5/5 [==============================] - 0s 3ms/step - loss: 14123.5879 - mae: 14123.5879\n",
            "Epoch 2/500\n",
            "5/5 [==============================] - 0s 2ms/step - loss: 14119.7549 - mae: 14119.7549\n",
            "Epoch 3/500\n",
            "5/5 [==============================] - 0s 2ms/step - loss: 14115.9561 - mae: 14115.9561\n",
            "Epoch 4/500\n",
            "5/5 [==============================] - 0s 2ms/step - loss: 14115.1973 - mae: 14115.1973\n",
            "Epoch 5/500\n",
            "5/5 [==============================] - 0s 4ms/step - loss: 14114.3232 - mae: 14114.3232\n",
            "Epoch 6/500\n",
            "5/5 [==============================] - 0s 3ms/step - loss: 14111.3750 - mae: 14111.3750\n",
            "Epoch 7/500\n",
            "5/5 [==============================] - 0s 3ms/step - loss: 14115.8779 - mae: 14115.8779\n",
            "Epoch 8/500\n",
            "5/5 [==============================] - 0s 3ms/step - loss: 14098.8457 - mae: 14098.8457\n",
            "Epoch 9/500\n",
            "5/5 [==============================] - 0s 2ms/step - loss: 14079.8438 - mae: 14079.8438\n",
            "Epoch 10/500\n",
            "5/5 [==============================] - 0s 3ms/step - loss: 14048.7246 - mae: 14048.7246\n",
            "Epoch 11/500\n",
            "5/5 [==============================] - 0s 4ms/step - loss: 13945.7969 - mae: 13945.7969\n",
            "Epoch 12/500\n",
            "5/5 [==============================] - 0s 3ms/step - loss: 13987.5596 - mae: 13987.5596\n",
            "Epoch 13/500\n",
            "5/5 [==============================] - 0s 2ms/step - loss: 13759.3701 - mae: 13759.3701\n",
            "Epoch 14/500\n",
            "5/5 [==============================] - 0s 3ms/step - loss: 13496.0391 - mae: 13496.0391\n",
            "Epoch 15/500\n",
            "5/5 [==============================] - 0s 3ms/step - loss: 13361.4814 - mae: 13361.4814\n",
            "Epoch 16/500\n",
            "5/5 [==============================] - 0s 2ms/step - loss: 12917.4648 - mae: 12917.4648\n",
            "Epoch 17/500\n",
            "5/5 [==============================] - 0s 2ms/step - loss: 12374.7393 - mae: 12374.7393\n",
            "Epoch 18/500\n",
            "5/5 [==============================] - 0s 2ms/step - loss: 11771.6348 - mae: 11771.6348\n",
            "Epoch 19/500\n",
            "5/5 [==============================] - 0s 2ms/step - loss: 11201.4971 - mae: 11201.4971\n",
            "Epoch 20/500\n",
            "5/5 [==============================] - 0s 2ms/step - loss: 11062.8232 - mae: 11062.8232\n",
            "Epoch 21/500\n",
            "5/5 [==============================] - 0s 3ms/step - loss: 11063.4688 - mae: 11063.4688\n",
            "Epoch 22/500\n",
            "5/5 [==============================] - 0s 2ms/step - loss: 10509.5879 - mae: 10509.5879\n",
            "Epoch 23/500\n",
            "5/5 [==============================] - 0s 3ms/step - loss: 10814.1914 - mae: 10814.1914\n",
            "Epoch 24/500\n",
            "5/5 [==============================] - 0s 2ms/step - loss: 10436.0537 - mae: 10436.0537\n",
            "Epoch 25/500\n",
            "5/5 [==============================] - 0s 3ms/step - loss: 10597.0566 - mae: 10597.0566\n",
            "Epoch 26/500\n",
            "5/5 [==============================] - 0s 2ms/step - loss: 10733.5020 - mae: 10733.5020\n",
            "Epoch 27/500\n",
            "5/5 [==============================] - 0s 3ms/step - loss: 10781.0059 - mae: 10781.0059\n",
            "Epoch 28/500\n",
            "5/5 [==============================] - 0s 2ms/step - loss: 10408.5000 - mae: 10408.5000\n",
            "Epoch 29/500\n",
            "5/5 [==============================] - 0s 2ms/step - loss: 10437.8994 - mae: 10437.8994\n",
            "Epoch 30/500\n",
            "5/5 [==============================] - 0s 2ms/step - loss: 10621.8320 - mae: 10621.8320\n",
            "Epoch 31/500\n",
            "5/5 [==============================] - 0s 3ms/step - loss: 10472.9775 - mae: 10472.9775\n",
            "Epoch 32/500\n",
            "5/5 [==============================] - 0s 3ms/step - loss: 10491.8936 - mae: 10491.8936\n",
            "Epoch 33/500\n",
            "5/5 [==============================] - 0s 4ms/step - loss: 10485.8799 - mae: 10485.8799\n",
            "Epoch 34/500\n",
            "5/5 [==============================] - 0s 2ms/step - loss: 10467.7891 - mae: 10467.7891\n",
            "Epoch 35/500\n",
            "5/5 [==============================] - 0s 2ms/step - loss: 10592.5137 - mae: 10592.5137\n",
            "Epoch 36/500\n",
            "5/5 [==============================] - 0s 3ms/step - loss: 10587.4395 - mae: 10587.4395\n",
            "Epoch 37/500\n",
            "5/5 [==============================] - 0s 2ms/step - loss: 10473.1582 - mae: 10473.1582\n",
            "Epoch 38/500\n",
            "5/5 [==============================] - 0s 2ms/step - loss: 10850.2803 - mae: 10850.2803\n",
            "Epoch 39/500\n",
            "5/5 [==============================] - 0s 3ms/step - loss: 11365.3496 - mae: 11365.3496\n",
            "Epoch 40/500\n",
            "5/5 [==============================] - 0s 3ms/step - loss: 10657.9229 - mae: 10657.9229\n",
            "Epoch 41/500\n",
            "5/5 [==============================] - 0s 2ms/step - loss: 10668.9404 - mae: 10668.9404\n",
            "Epoch 42/500\n",
            "5/5 [==============================] - 0s 3ms/step - loss: 10542.7402 - mae: 10542.7402\n",
            "Epoch 43/500\n",
            "5/5 [==============================] - 0s 3ms/step - loss: 10561.2910 - mae: 10561.2910\n",
            "Epoch 44/500\n",
            "5/5 [==============================] - 0s 2ms/step - loss: 10549.2236 - mae: 10549.2236\n",
            "Epoch 45/500\n",
            "5/5 [==============================] - 0s 2ms/step - loss: 10532.7002 - mae: 10532.7002\n",
            "Epoch 46/500\n",
            "5/5 [==============================] - 0s 3ms/step - loss: 11518.0605 - mae: 11518.0605\n",
            "Epoch 47/500\n",
            "5/5 [==============================] - 0s 2ms/step - loss: 11716.3496 - mae: 11716.3496\n",
            "Epoch 48/500\n",
            "5/5 [==============================] - 0s 2ms/step - loss: 11208.2207 - mae: 11208.2207\n",
            "Epoch 49/500\n",
            "5/5 [==============================] - 0s 2ms/step - loss: 11134.3203 - mae: 11134.3203\n",
            "Epoch 50/500\n",
            "5/5 [==============================] - 0s 3ms/step - loss: 11284.8516 - mae: 11284.8516\n",
            "Epoch 51/500\n",
            "5/5 [==============================] - 0s 2ms/step - loss: 10638.7754 - mae: 10638.7754\n",
            "Epoch 52/500\n",
            "5/5 [==============================] - 0s 2ms/step - loss: 10543.6934 - mae: 10543.6934\n",
            "Epoch 53/500\n",
            "5/5 [==============================] - 0s 2ms/step - loss: 10423.6748 - mae: 10423.6748\n",
            "Epoch 54/500\n",
            "5/5 [==============================] - 0s 2ms/step - loss: 10510.6035 - mae: 10510.6035\n",
            "Epoch 55/500\n",
            "5/5 [==============================] - 0s 2ms/step - loss: 10633.7012 - mae: 10633.7012\n",
            "Epoch 56/500\n",
            "5/5 [==============================] - 0s 2ms/step - loss: 10456.8037 - mae: 10456.8037\n",
            "Epoch 57/500\n",
            "5/5 [==============================] - 0s 2ms/step - loss: 10447.6660 - mae: 10447.6660\n",
            "Epoch 58/500\n",
            "5/5 [==============================] - 0s 2ms/step - loss: 10520.9287 - mae: 10520.9287\n",
            "Epoch 59/500\n",
            "5/5 [==============================] - 0s 3ms/step - loss: 10415.3418 - mae: 10415.3418\n",
            "Epoch 60/500\n",
            "5/5 [==============================] - 0s 2ms/step - loss: 10493.3730 - mae: 10493.3730\n",
            "Epoch 61/500\n",
            "5/5 [==============================] - 0s 3ms/step - loss: 10470.3301 - mae: 10470.3301\n",
            "Epoch 62/500\n",
            "5/5 [==============================] - 0s 2ms/step - loss: 10486.8613 - mae: 10486.8613\n",
            "Epoch 63/500\n",
            "5/5 [==============================] - 0s 2ms/step - loss: 10590.9512 - mae: 10590.9512\n",
            "Epoch 64/500\n",
            "5/5 [==============================] - 0s 2ms/step - loss: 11392.5977 - mae: 11392.5977\n",
            "Epoch 65/500\n",
            "5/5 [==============================] - 0s 2ms/step - loss: 10707.2744 - mae: 10707.2744\n",
            "Epoch 66/500\n",
            "5/5 [==============================] - 0s 2ms/step - loss: 11008.9854 - mae: 11008.9854\n",
            "Epoch 67/500\n",
            "5/5 [==============================] - 0s 3ms/step - loss: 10554.0029 - mae: 10554.0029\n",
            "Epoch 68/500\n",
            "5/5 [==============================] - 0s 2ms/step - loss: 10563.9482 - mae: 10563.9482\n",
            "Epoch 69/500\n",
            "5/5 [==============================] - 0s 3ms/step - loss: 10468.6152 - mae: 10468.6152\n",
            "Epoch 70/500\n",
            "5/5 [==============================] - 0s 3ms/step - loss: 10450.5996 - mae: 10450.5996\n",
            "Epoch 71/500\n",
            "5/5 [==============================] - 0s 2ms/step - loss: 10628.9170 - mae: 10628.9170\n",
            "Epoch 72/500\n",
            "5/5 [==============================] - 0s 2ms/step - loss: 10396.5879 - mae: 10396.5879\n",
            "Epoch 73/500\n",
            "5/5 [==============================] - 0s 3ms/step - loss: 10626.2500 - mae: 10626.2500\n",
            "Epoch 74/500\n",
            "5/5 [==============================] - 0s 3ms/step - loss: 10445.1191 - mae: 10445.1191\n",
            "Epoch 75/500\n",
            "5/5 [==============================] - 0s 2ms/step - loss: 10431.4268 - mae: 10431.4268\n",
            "Epoch 76/500\n",
            "5/5 [==============================] - 0s 3ms/step - loss: 10563.0508 - mae: 10563.0508\n",
            "Epoch 77/500\n",
            "5/5 [==============================] - 0s 3ms/step - loss: 10577.2441 - mae: 10577.2441\n",
            "Epoch 78/500\n",
            "5/5 [==============================] - 0s 3ms/step - loss: 10518.6494 - mae: 10518.6494\n",
            "Epoch 79/500\n",
            "5/5 [==============================] - 0s 3ms/step - loss: 10519.8682 - mae: 10519.8682\n",
            "Epoch 80/500\n",
            "5/5 [==============================] - 0s 2ms/step - loss: 10457.5361 - mae: 10457.5361\n",
            "Epoch 81/500\n",
            "5/5 [==============================] - 0s 3ms/step - loss: 10431.2979 - mae: 10431.2979\n",
            "Epoch 82/500\n",
            "5/5 [==============================] - 0s 2ms/step - loss: 10432.6279 - mae: 10432.6279\n",
            "Epoch 83/500\n",
            "5/5 [==============================] - 0s 3ms/step - loss: 10512.4902 - mae: 10512.4902\n",
            "Epoch 84/500\n",
            "5/5 [==============================] - 0s 2ms/step - loss: 10401.8027 - mae: 10401.8027\n",
            "Epoch 85/500\n",
            "5/5 [==============================] - 0s 2ms/step - loss: 10540.8340 - mae: 10540.8340\n",
            "Epoch 86/500\n",
            "5/5 [==============================] - 0s 2ms/step - loss: 10458.3477 - mae: 10458.3477\n",
            "Epoch 87/500\n",
            "5/5 [==============================] - 0s 4ms/step - loss: 10538.2285 - mae: 10538.2285\n",
            "Epoch 88/500\n",
            "5/5 [==============================] - 0s 3ms/step - loss: 10395.4863 - mae: 10395.4863\n",
            "Epoch 89/500\n",
            "5/5 [==============================] - 0s 3ms/step - loss: 10596.2559 - mae: 10596.2559\n",
            "Epoch 90/500\n",
            "5/5 [==============================] - 0s 3ms/step - loss: 10492.7051 - mae: 10492.7051\n",
            "Epoch 91/500\n",
            "5/5 [==============================] - 0s 2ms/step - loss: 10500.4375 - mae: 10500.4375\n",
            "Epoch 92/500\n",
            "5/5 [==============================] - 0s 2ms/step - loss: 10561.9482 - mae: 10561.9482\n",
            "Epoch 93/500\n",
            "5/5 [==============================] - 0s 2ms/step - loss: 10493.4629 - mae: 10493.4629\n",
            "Epoch 94/500\n",
            "5/5 [==============================] - 0s 2ms/step - loss: 10612.2559 - mae: 10612.2559\n",
            "Epoch 95/500\n",
            "5/5 [==============================] - 0s 2ms/step - loss: 10406.2588 - mae: 10406.2588\n",
            "Epoch 96/500\n",
            "5/5 [==============================] - 0s 2ms/step - loss: 10470.0410 - mae: 10470.0410\n",
            "Epoch 97/500\n",
            "5/5 [==============================] - 0s 3ms/step - loss: 10452.7520 - mae: 10452.7520\n",
            "Epoch 98/500\n",
            "5/5 [==============================] - 0s 3ms/step - loss: 10605.4561 - mae: 10605.4561\n",
            "Epoch 99/500\n",
            "5/5 [==============================] - 0s 5ms/step - loss: 10386.0137 - mae: 10386.0137\n",
            "Epoch 100/500\n",
            "5/5 [==============================] - 0s 3ms/step - loss: 10464.6777 - mae: 10464.6777\n",
            "Epoch 101/500\n",
            "5/5 [==============================] - 0s 3ms/step - loss: 10428.6270 - mae: 10428.6270\n",
            "Epoch 102/500\n",
            "5/5 [==============================] - 0s 3ms/step - loss: 10477.5234 - mae: 10477.5234\n",
            "Epoch 103/500\n",
            "5/5 [==============================] - 0s 3ms/step - loss: 10527.3301 - mae: 10527.3301\n",
            "Epoch 104/500\n",
            "5/5 [==============================] - 0s 2ms/step - loss: 10389.5850 - mae: 10389.5850\n",
            "Epoch 105/500\n",
            "5/5 [==============================] - 0s 3ms/step - loss: 10559.0215 - mae: 10559.0215\n",
            "Epoch 106/500\n",
            "5/5 [==============================] - 0s 2ms/step - loss: 10500.2148 - mae: 10500.2148\n",
            "Epoch 107/500\n",
            "5/5 [==============================] - 0s 3ms/step - loss: 10436.6113 - mae: 10436.6113\n",
            "Epoch 108/500\n",
            "5/5 [==============================] - 0s 3ms/step - loss: 10533.0527 - mae: 10533.0527\n",
            "Epoch 109/500\n",
            "5/5 [==============================] - 0s 2ms/step - loss: 10463.1074 - mae: 10463.1074\n",
            "Epoch 110/500\n",
            "5/5 [==============================] - 0s 2ms/step - loss: 10570.4170 - mae: 10570.4170\n",
            "Epoch 111/500\n",
            "5/5 [==============================] - 0s 2ms/step - loss: 10425.7686 - mae: 10425.7686\n",
            "Epoch 112/500\n",
            "5/5 [==============================] - 0s 2ms/step - loss: 10422.1377 - mae: 10422.1377\n",
            "Epoch 113/500\n",
            "5/5 [==============================] - 0s 3ms/step - loss: 10438.2734 - mae: 10438.2734\n",
            "Epoch 114/500\n",
            "5/5 [==============================] - 0s 3ms/step - loss: 10572.9219 - mae: 10572.9219\n",
            "Epoch 115/500\n",
            "5/5 [==============================] - 0s 4ms/step - loss: 10470.4180 - mae: 10470.4180\n",
            "Epoch 116/500\n",
            "5/5 [==============================] - 0s 3ms/step - loss: 10472.0312 - mae: 10472.0312\n",
            "Epoch 117/500\n",
            "5/5 [==============================] - 0s 3ms/step - loss: 10480.6855 - mae: 10480.6855\n",
            "Epoch 118/500\n",
            "5/5 [==============================] - 0s 3ms/step - loss: 10459.1025 - mae: 10459.1025\n",
            "Epoch 119/500\n",
            "5/5 [==============================] - 0s 3ms/step - loss: 10473.5049 - mae: 10473.5049\n",
            "Epoch 120/500\n",
            "5/5 [==============================] - 0s 3ms/step - loss: 10401.6904 - mae: 10401.6904\n",
            "Epoch 121/500\n",
            "5/5 [==============================] - 0s 3ms/step - loss: 10503.4092 - mae: 10503.4092\n",
            "Epoch 122/500\n",
            "5/5 [==============================] - 0s 3ms/step - loss: 10488.2637 - mae: 10488.2637\n",
            "Epoch 123/500\n",
            "5/5 [==============================] - 0s 2ms/step - loss: 10711.1396 - mae: 10711.1396\n",
            "Epoch 124/500\n",
            "5/5 [==============================] - 0s 2ms/step - loss: 10515.0020 - mae: 10515.0020\n",
            "Epoch 125/500\n",
            "5/5 [==============================] - 0s 2ms/step - loss: 10577.7422 - mae: 10577.7422\n",
            "Epoch 126/500\n",
            "5/5 [==============================] - 0s 3ms/step - loss: 10491.7441 - mae: 10491.7441\n",
            "Epoch 127/500\n",
            "5/5 [==============================] - 0s 3ms/step - loss: 10429.5342 - mae: 10429.5342\n",
            "Epoch 128/500\n",
            "5/5 [==============================] - 0s 3ms/step - loss: 10445.9580 - mae: 10445.9580\n",
            "Epoch 129/500\n",
            "5/5 [==============================] - 0s 3ms/step - loss: 10465.0957 - mae: 10465.0957\n",
            "Epoch 130/500\n",
            "5/5 [==============================] - 0s 3ms/step - loss: 10401.3291 - mae: 10401.3291\n",
            "Epoch 131/500\n",
            "5/5 [==============================] - 0s 3ms/step - loss: 10784.2529 - mae: 10784.2529\n",
            "Epoch 132/500\n",
            "5/5 [==============================] - 0s 4ms/step - loss: 10634.9355 - mae: 10634.9355\n",
            "Epoch 133/500\n",
            "5/5 [==============================] - 0s 3ms/step - loss: 10495.9902 - mae: 10495.9902\n",
            "Epoch 134/500\n",
            "5/5 [==============================] - 0s 3ms/step - loss: 10429.3086 - mae: 10429.3086\n",
            "Epoch 135/500\n",
            "5/5 [==============================] - 0s 3ms/step - loss: 10486.1875 - mae: 10486.1875\n",
            "Epoch 136/500\n",
            "5/5 [==============================] - 0s 3ms/step - loss: 10516.0137 - mae: 10516.0137\n",
            "Epoch 137/500\n",
            "5/5 [==============================] - 0s 3ms/step - loss: 10579.1309 - mae: 10579.1309\n",
            "Epoch 138/500\n",
            "5/5 [==============================] - 0s 3ms/step - loss: 10419.9980 - mae: 10419.9980\n",
            "Epoch 139/500\n",
            "5/5 [==============================] - 0s 3ms/step - loss: 10381.9277 - mae: 10381.9277\n",
            "Epoch 140/500\n",
            "5/5 [==============================] - 0s 3ms/step - loss: 10492.1719 - mae: 10492.1719\n",
            "Epoch 141/500\n",
            "5/5 [==============================] - 0s 3ms/step - loss: 10516.8535 - mae: 10516.8535\n",
            "Epoch 142/500\n",
            "5/5 [==============================] - 0s 2ms/step - loss: 10785.7871 - mae: 10785.7871\n",
            "Epoch 143/500\n",
            "5/5 [==============================] - 0s 3ms/step - loss: 10636.1143 - mae: 10636.1143\n",
            "Epoch 144/500\n",
            "5/5 [==============================] - 0s 3ms/step - loss: 10608.5957 - mae: 10608.5957\n",
            "Epoch 145/500\n",
            "5/5 [==============================] - 0s 3ms/step - loss: 10390.1377 - mae: 10390.1377\n",
            "Epoch 146/500\n",
            "5/5 [==============================] - 0s 3ms/step - loss: 10796.3223 - mae: 10796.3223\n",
            "Epoch 147/500\n",
            "5/5 [==============================] - 0s 3ms/step - loss: 10359.2793 - mae: 10359.2793\n",
            "Epoch 148/500\n",
            "5/5 [==============================] - 0s 3ms/step - loss: 10447.1562 - mae: 10447.1562\n",
            "Epoch 149/500\n",
            "5/5 [==============================] - 0s 3ms/step - loss: 10442.0479 - mae: 10442.0479\n",
            "Epoch 150/500\n",
            "5/5 [==============================] - 0s 3ms/step - loss: 10438.1201 - mae: 10438.1201\n",
            "Epoch 151/500\n",
            "5/5 [==============================] - 0s 4ms/step - loss: 10459.4121 - mae: 10459.4121\n",
            "Epoch 152/500\n",
            "5/5 [==============================] - 0s 3ms/step - loss: 10430.4199 - mae: 10430.4199\n",
            "Epoch 153/500\n",
            "5/5 [==============================] - 0s 3ms/step - loss: 10419.1309 - mae: 10419.1309\n",
            "Epoch 154/500\n",
            "5/5 [==============================] - 0s 3ms/step - loss: 10449.9873 - mae: 10449.9873\n",
            "Epoch 155/500\n",
            "5/5 [==============================] - 0s 3ms/step - loss: 10486.6562 - mae: 10486.6562\n",
            "Epoch 156/500\n",
            "5/5 [==============================] - 0s 2ms/step - loss: 10440.0068 - mae: 10440.0068\n",
            "Epoch 157/500\n",
            "5/5 [==============================] - 0s 3ms/step - loss: 10519.8301 - mae: 10519.8301\n",
            "Epoch 158/500\n",
            "5/5 [==============================] - 0s 2ms/step - loss: 10466.2021 - mae: 10466.2021\n",
            "Epoch 159/500\n",
            "5/5 [==============================] - 0s 3ms/step - loss: 10458.2451 - mae: 10458.2451\n",
            "Epoch 160/500\n",
            "5/5 [==============================] - 0s 2ms/step - loss: 10498.2402 - mae: 10498.2402\n",
            "Epoch 161/500\n",
            "5/5 [==============================] - 0s 2ms/step - loss: 10457.1270 - mae: 10457.1270\n",
            "Epoch 162/500\n",
            "5/5 [==============================] - 0s 3ms/step - loss: 10415.6230 - mae: 10415.6230\n",
            "Epoch 163/500\n",
            "5/5 [==============================] - 0s 3ms/step - loss: 10521.1670 - mae: 10521.1670\n",
            "Epoch 164/500\n",
            "5/5 [==============================] - 0s 3ms/step - loss: 10372.3418 - mae: 10372.3418\n",
            "Epoch 165/500\n",
            "5/5 [==============================] - 0s 3ms/step - loss: 10744.9199 - mae: 10744.9199\n",
            "Epoch 166/500\n",
            "5/5 [==============================] - 0s 3ms/step - loss: 10685.8037 - mae: 10685.8037\n",
            "Epoch 167/500\n",
            "5/5 [==============================] - 0s 3ms/step - loss: 10706.6689 - mae: 10706.6689\n",
            "Epoch 168/500\n",
            "5/5 [==============================] - 0s 3ms/step - loss: 10441.4785 - mae: 10441.4785\n",
            "Epoch 169/500\n",
            "5/5 [==============================] - 0s 3ms/step - loss: 10466.9248 - mae: 10466.9248\n",
            "Epoch 170/500\n",
            "5/5 [==============================] - 0s 3ms/step - loss: 10400.2109 - mae: 10400.2109\n",
            "Epoch 171/500\n",
            "5/5 [==============================] - 0s 3ms/step - loss: 10600.4551 - mae: 10600.4551\n",
            "Epoch 172/500\n",
            "5/5 [==============================] - 0s 3ms/step - loss: 10552.2676 - mae: 10552.2676\n",
            "Epoch 173/500\n",
            "5/5 [==============================] - 0s 3ms/step - loss: 10711.5957 - mae: 10711.5957\n",
            "Epoch 174/500\n",
            "5/5 [==============================] - 0s 3ms/step - loss: 10768.2246 - mae: 10768.2246\n",
            "Epoch 175/500\n",
            "5/5 [==============================] - 0s 3ms/step - loss: 10591.5420 - mae: 10591.5420\n",
            "Epoch 176/500\n",
            "5/5 [==============================] - 0s 3ms/step - loss: 10540.6982 - mae: 10540.6982\n",
            "Epoch 177/500\n",
            "5/5 [==============================] - 0s 3ms/step - loss: 10521.7998 - mae: 10521.7998\n",
            "Epoch 178/500\n",
            "5/5 [==============================] - 0s 3ms/step - loss: 10429.3457 - mae: 10429.3457\n",
            "Epoch 179/500\n",
            "5/5 [==============================] - 0s 3ms/step - loss: 10513.4346 - mae: 10513.4346\n",
            "Epoch 180/500\n",
            "5/5 [==============================] - 0s 3ms/step - loss: 10428.8203 - mae: 10428.8203\n",
            "Epoch 181/500\n",
            "5/5 [==============================] - 0s 3ms/step - loss: 10383.5254 - mae: 10383.5254\n",
            "Epoch 182/500\n",
            "5/5 [==============================] - 0s 4ms/step - loss: 10432.0225 - mae: 10432.0225\n",
            "Epoch 183/500\n",
            "5/5 [==============================] - 0s 3ms/step - loss: 10429.2773 - mae: 10429.2773\n",
            "Epoch 184/500\n",
            "5/5 [==============================] - 0s 4ms/step - loss: 10412.9512 - mae: 10412.9512\n",
            "Epoch 185/500\n",
            "5/5 [==============================] - 0s 2ms/step - loss: 10472.2305 - mae: 10472.2305\n",
            "Epoch 186/500\n",
            "5/5 [==============================] - 0s 3ms/step - loss: 10415.9463 - mae: 10415.9463\n",
            "Epoch 187/500\n",
            "5/5 [==============================] - 0s 3ms/step - loss: 10427.6016 - mae: 10427.6016\n",
            "Epoch 188/500\n",
            "5/5 [==============================] - 0s 3ms/step - loss: 10447.0254 - mae: 10447.0254\n",
            "Epoch 189/500\n",
            "5/5 [==============================] - 0s 3ms/step - loss: 10549.0625 - mae: 10549.0625\n",
            "Epoch 190/500\n",
            "5/5 [==============================] - 0s 3ms/step - loss: 10428.4590 - mae: 10428.4590\n",
            "Epoch 191/500\n",
            "5/5 [==============================] - 0s 3ms/step - loss: 10411.5811 - mae: 10411.5811\n",
            "Epoch 192/500\n",
            "5/5 [==============================] - 0s 3ms/step - loss: 10408.4375 - mae: 10408.4375\n",
            "Epoch 193/500\n",
            "5/5 [==============================] - 0s 3ms/step - loss: 10448.2676 - mae: 10448.2676\n",
            "Epoch 194/500\n",
            "5/5 [==============================] - 0s 3ms/step - loss: 10442.9414 - mae: 10442.9414\n",
            "Epoch 195/500\n",
            "5/5 [==============================] - 0s 3ms/step - loss: 10422.8535 - mae: 10422.8535\n",
            "Epoch 196/500\n",
            "5/5 [==============================] - 0s 3ms/step - loss: 10391.0967 - mae: 10391.0967\n",
            "Epoch 197/500\n",
            "5/5 [==============================] - 0s 3ms/step - loss: 10392.8232 - mae: 10392.8232\n",
            "Epoch 198/500\n",
            "5/5 [==============================] - 0s 3ms/step - loss: 10405.9424 - mae: 10405.9424\n",
            "Epoch 199/500\n",
            "5/5 [==============================] - 0s 3ms/step - loss: 10563.3496 - mae: 10563.3496\n",
            "Epoch 200/500\n",
            "5/5 [==============================] - 0s 2ms/step - loss: 10376.2471 - mae: 10376.2471\n",
            "Epoch 201/500\n",
            "5/5 [==============================] - 0s 2ms/step - loss: 10547.2705 - mae: 10547.2705\n",
            "Epoch 202/500\n",
            "5/5 [==============================] - 0s 2ms/step - loss: 10393.6318 - mae: 10393.6318\n",
            "Epoch 203/500\n",
            "5/5 [==============================] - 0s 3ms/step - loss: 10740.3770 - mae: 10740.3770\n",
            "Epoch 204/500\n",
            "5/5 [==============================] - 0s 4ms/step - loss: 10417.4717 - mae: 10417.4717\n",
            "Epoch 205/500\n",
            "5/5 [==============================] - 0s 3ms/step - loss: 10635.5723 - mae: 10635.5723\n",
            "Epoch 206/500\n",
            "5/5 [==============================] - 0s 3ms/step - loss: 10419.0371 - mae: 10419.0371\n",
            "Epoch 207/500\n",
            "5/5 [==============================] - 0s 3ms/step - loss: 10577.4414 - mae: 10577.4414\n",
            "Epoch 208/500\n",
            "5/5 [==============================] - 0s 3ms/step - loss: 10487.6592 - mae: 10487.6592\n",
            "Epoch 209/500\n",
            "5/5 [==============================] - 0s 3ms/step - loss: 10519.3848 - mae: 10519.3848\n",
            "Epoch 210/500\n",
            "5/5 [==============================] - 0s 3ms/step - loss: 10512.2637 - mae: 10512.2637\n",
            "Epoch 211/500\n",
            "5/5 [==============================] - 0s 3ms/step - loss: 10455.1660 - mae: 10455.1660\n",
            "Epoch 212/500\n",
            "5/5 [==============================] - 0s 3ms/step - loss: 10445.5225 - mae: 10445.5225\n",
            "Epoch 213/500\n",
            "5/5 [==============================] - 0s 3ms/step - loss: 10465.1699 - mae: 10465.1699\n",
            "Epoch 214/500\n",
            "5/5 [==============================] - 0s 3ms/step - loss: 10568.9629 - mae: 10568.9629\n",
            "Epoch 215/500\n",
            "5/5 [==============================] - 0s 3ms/step - loss: 10539.3955 - mae: 10539.3955\n",
            "Epoch 216/500\n",
            "5/5 [==============================] - 0s 3ms/step - loss: 10446.2832 - mae: 10446.2832\n",
            "Epoch 217/500\n",
            "5/5 [==============================] - 0s 2ms/step - loss: 10465.9902 - mae: 10465.9902\n",
            "Epoch 218/500\n",
            "5/5 [==============================] - 0s 3ms/step - loss: 10490.8613 - mae: 10490.8613\n",
            "Epoch 219/500\n",
            "5/5 [==============================] - 0s 4ms/step - loss: 10419.9336 - mae: 10419.9336\n",
            "Epoch 220/500\n",
            "5/5 [==============================] - 0s 3ms/step - loss: 10462.8096 - mae: 10462.8096\n",
            "Epoch 221/500\n",
            "5/5 [==============================] - 0s 3ms/step - loss: 10419.6895 - mae: 10419.6895\n",
            "Epoch 222/500\n",
            "5/5 [==============================] - 0s 3ms/step - loss: 10396.0127 - mae: 10396.0127\n",
            "Epoch 223/500\n",
            "5/5 [==============================] - 0s 3ms/step - loss: 10407.1299 - mae: 10407.1299\n",
            "Epoch 224/500\n",
            "5/5 [==============================] - 0s 3ms/step - loss: 10434.1572 - mae: 10434.1572\n",
            "Epoch 225/500\n",
            "5/5 [==============================] - 0s 3ms/step - loss: 10415.0811 - mae: 10415.0811\n",
            "Epoch 226/500\n",
            "5/5 [==============================] - 0s 3ms/step - loss: 10489.2305 - mae: 10489.2305\n",
            "Epoch 227/500\n",
            "5/5 [==============================] - 0s 3ms/step - loss: 10468.9170 - mae: 10468.9170\n",
            "Epoch 228/500\n",
            "5/5 [==============================] - 0s 3ms/step - loss: 10498.5312 - mae: 10498.5312\n",
            "Epoch 229/500\n",
            "5/5 [==============================] - 0s 3ms/step - loss: 10547.9668 - mae: 10547.9668\n",
            "Epoch 230/500\n",
            "5/5 [==============================] - 0s 3ms/step - loss: 10443.5781 - mae: 10443.5781\n",
            "Epoch 231/500\n",
            "5/5 [==============================] - 0s 3ms/step - loss: 10450.5322 - mae: 10450.5322\n",
            "Epoch 232/500\n",
            "5/5 [==============================] - 0s 3ms/step - loss: 10727.7559 - mae: 10727.7559\n",
            "Epoch 233/500\n",
            "5/5 [==============================] - 0s 3ms/step - loss: 10373.1611 - mae: 10373.1611\n",
            "Epoch 234/500\n",
            "5/5 [==============================] - 0s 3ms/step - loss: 10459.0137 - mae: 10459.0137\n",
            "Epoch 235/500\n",
            "5/5 [==============================] - 0s 3ms/step - loss: 10481.3672 - mae: 10481.3672\n",
            "Epoch 236/500\n",
            "5/5 [==============================] - 0s 3ms/step - loss: 10652.9150 - mae: 10652.9150\n",
            "Epoch 237/500\n",
            "5/5 [==============================] - 0s 3ms/step - loss: 10576.3086 - mae: 10576.3086\n",
            "Epoch 238/500\n",
            "5/5 [==============================] - 0s 3ms/step - loss: 10535.1973 - mae: 10535.1973\n",
            "Epoch 239/500\n",
            "5/5 [==============================] - 0s 3ms/step - loss: 10355.8564 - mae: 10355.8564\n",
            "Epoch 240/500\n",
            "5/5 [==============================] - 0s 3ms/step - loss: 10612.6309 - mae: 10612.6309\n",
            "Epoch 241/500\n",
            "5/5 [==============================] - 0s 3ms/step - loss: 10457.5762 - mae: 10457.5762\n",
            "Epoch 242/500\n",
            "5/5 [==============================] - 0s 3ms/step - loss: 11287.8545 - mae: 11287.8545\n",
            "Epoch 243/500\n",
            "5/5 [==============================] - 0s 3ms/step - loss: 10656.3271 - mae: 10656.3271\n",
            "Epoch 244/500\n",
            "5/5 [==============================] - 0s 3ms/step - loss: 10608.2754 - mae: 10608.2754\n",
            "Epoch 245/500\n",
            "5/5 [==============================] - 0s 3ms/step - loss: 10754.8916 - mae: 10754.8916\n",
            "Epoch 246/500\n",
            "5/5 [==============================] - 0s 3ms/step - loss: 10474.3203 - mae: 10474.3203\n",
            "Epoch 247/500\n",
            "5/5 [==============================] - 0s 4ms/step - loss: 10593.6533 - mae: 10593.6533\n",
            "Epoch 248/500\n",
            "5/5 [==============================] - 0s 3ms/step - loss: 10513.0322 - mae: 10513.0322\n",
            "Epoch 249/500\n",
            "5/5 [==============================] - 0s 3ms/step - loss: 10797.6904 - mae: 10797.6904\n",
            "Epoch 250/500\n",
            "5/5 [==============================] - 0s 3ms/step - loss: 10591.2207 - mae: 10591.2207\n",
            "Epoch 251/500\n",
            "5/5 [==============================] - 0s 3ms/step - loss: 10685.6748 - mae: 10685.6748\n",
            "Epoch 252/500\n",
            "5/5 [==============================] - 0s 4ms/step - loss: 10326.1504 - mae: 10326.1504\n",
            "Epoch 253/500\n",
            "5/5 [==============================] - 0s 3ms/step - loss: 10752.1152 - mae: 10752.1152\n",
            "Epoch 254/500\n",
            "5/5 [==============================] - 0s 3ms/step - loss: 10560.1309 - mae: 10560.1309\n",
            "Epoch 255/500\n",
            "5/5 [==============================] - 0s 3ms/step - loss: 10500.6484 - mae: 10500.6484\n",
            "Epoch 256/500\n",
            "5/5 [==============================] - 0s 3ms/step - loss: 10586.7012 - mae: 10586.7012\n",
            "Epoch 257/500\n",
            "5/5 [==============================] - 0s 3ms/step - loss: 10442.2285 - mae: 10442.2285\n",
            "Epoch 258/500\n",
            "5/5 [==============================] - 0s 3ms/step - loss: 10416.2988 - mae: 10416.2988\n",
            "Epoch 259/500\n",
            "5/5 [==============================] - 0s 3ms/step - loss: 10396.2676 - mae: 10396.2676\n",
            "Epoch 260/500\n",
            "5/5 [==============================] - 0s 3ms/step - loss: 10436.6348 - mae: 10436.6348\n",
            "Epoch 261/500\n",
            "5/5 [==============================] - 0s 3ms/step - loss: 10417.5723 - mae: 10417.5723\n",
            "Epoch 262/500\n",
            "5/5 [==============================] - 0s 3ms/step - loss: 10413.8066 - mae: 10413.8066\n",
            "Epoch 263/500\n",
            "5/5 [==============================] - 0s 3ms/step - loss: 10400.6553 - mae: 10400.6553\n",
            "Epoch 264/500\n",
            "5/5 [==============================] - 0s 3ms/step - loss: 10523.3076 - mae: 10523.3076\n",
            "Epoch 265/500\n",
            "5/5 [==============================] - 0s 3ms/step - loss: 10494.4434 - mae: 10494.4434\n",
            "Epoch 266/500\n",
            "5/5 [==============================] - 0s 3ms/step - loss: 10422.3711 - mae: 10422.3711\n",
            "Epoch 267/500\n",
            "5/5 [==============================] - 0s 3ms/step - loss: 10703.7285 - mae: 10703.7285\n",
            "Epoch 268/500\n",
            "5/5 [==============================] - 0s 3ms/step - loss: 10462.2637 - mae: 10462.2637\n",
            "Epoch 269/500\n",
            "5/5 [==============================] - 0s 5ms/step - loss: 10578.9463 - mae: 10578.9463\n",
            "Epoch 270/500\n",
            "5/5 [==============================] - 0s 3ms/step - loss: 10452.6689 - mae: 10452.6689\n",
            "Epoch 271/500\n",
            "5/5 [==============================] - 0s 3ms/step - loss: 10457.7637 - mae: 10457.7637\n",
            "Epoch 272/500\n",
            "5/5 [==============================] - 0s 3ms/step - loss: 10448.7715 - mae: 10448.7715\n",
            "Epoch 273/500\n",
            "5/5 [==============================] - 0s 3ms/step - loss: 10489.8203 - mae: 10489.8203\n",
            "Epoch 274/500\n",
            "5/5 [==============================] - 0s 3ms/step - loss: 10475.6230 - mae: 10475.6230\n",
            "Epoch 275/500\n",
            "5/5 [==============================] - 0s 3ms/step - loss: 10388.6924 - mae: 10388.6924\n",
            "Epoch 276/500\n",
            "5/5 [==============================] - 0s 3ms/step - loss: 10406.3125 - mae: 10406.3125\n",
            "Epoch 277/500\n",
            "5/5 [==============================] - 0s 3ms/step - loss: 10398.6699 - mae: 10398.6699\n",
            "Epoch 278/500\n",
            "5/5 [==============================] - 0s 3ms/step - loss: 10393.2842 - mae: 10393.2842\n",
            "Epoch 279/500\n",
            "5/5 [==============================] - 0s 3ms/step - loss: 10430.7715 - mae: 10430.7715\n",
            "Epoch 280/500\n",
            "5/5 [==============================] - 0s 3ms/step - loss: 10506.1045 - mae: 10506.1045\n",
            "Epoch 281/500\n",
            "5/5 [==============================] - 0s 3ms/step - loss: 10417.3408 - mae: 10417.3408\n",
            "Epoch 282/500\n",
            "5/5 [==============================] - 0s 3ms/step - loss: 10422.8848 - mae: 10422.8848\n",
            "Epoch 283/500\n",
            "5/5 [==============================] - 0s 4ms/step - loss: 10485.5703 - mae: 10485.5703\n",
            "Epoch 284/500\n",
            "5/5 [==============================] - 0s 3ms/step - loss: 10499.3301 - mae: 10499.3301\n",
            "Epoch 285/500\n",
            "5/5 [==============================] - 0s 3ms/step - loss: 10454.5938 - mae: 10454.5938\n",
            "Epoch 286/500\n",
            "5/5 [==============================] - 0s 3ms/step - loss: 10488.1191 - mae: 10488.1191\n",
            "Epoch 287/500\n",
            "5/5 [==============================] - 0s 4ms/step - loss: 10449.1377 - mae: 10449.1377\n",
            "Epoch 288/500\n",
            "5/5 [==============================] - 0s 3ms/step - loss: 10436.5332 - mae: 10436.5332\n",
            "Epoch 289/500\n",
            "5/5 [==============================] - 0s 3ms/step - loss: 10413.1670 - mae: 10413.1670\n",
            "Epoch 290/500\n",
            "5/5 [==============================] - 0s 3ms/step - loss: 10408.1133 - mae: 10408.1133\n",
            "Epoch 291/500\n",
            "5/5 [==============================] - 0s 3ms/step - loss: 10453.4873 - mae: 10453.4873\n",
            "Epoch 292/500\n",
            "5/5 [==============================] - 0s 3ms/step - loss: 10456.9004 - mae: 10456.9004\n",
            "Epoch 293/500\n",
            "5/5 [==============================] - 0s 3ms/step - loss: 10456.2090 - mae: 10456.2090\n",
            "Epoch 294/500\n",
            "5/5 [==============================] - 0s 3ms/step - loss: 10432.0020 - mae: 10432.0020\n",
            "Epoch 295/500\n",
            "5/5 [==============================] - 0s 3ms/step - loss: 10414.4551 - mae: 10414.4551\n",
            "Epoch 296/500\n",
            "5/5 [==============================] - 0s 3ms/step - loss: 10413.3184 - mae: 10413.3184\n",
            "Epoch 297/500\n",
            "5/5 [==============================] - 0s 3ms/step - loss: 10570.1484 - mae: 10570.1484\n",
            "Epoch 298/500\n",
            "5/5 [==============================] - 0s 3ms/step - loss: 10405.6143 - mae: 10405.6143\n",
            "Epoch 299/500\n",
            "5/5 [==============================] - 0s 3ms/step - loss: 10406.8037 - mae: 10406.8037\n",
            "Epoch 300/500\n",
            "5/5 [==============================] - 0s 3ms/step - loss: 10426.6211 - mae: 10426.6211\n",
            "Epoch 301/500\n",
            "5/5 [==============================] - 0s 3ms/step - loss: 10439.2080 - mae: 10439.2080\n",
            "Epoch 302/500\n",
            "5/5 [==============================] - 0s 4ms/step - loss: 10411.5049 - mae: 10411.5049\n",
            "Epoch 303/500\n",
            "5/5 [==============================] - 0s 3ms/step - loss: 10431.2969 - mae: 10431.2969\n",
            "Epoch 304/500\n",
            "5/5 [==============================] - 0s 3ms/step - loss: 10468.1055 - mae: 10468.1055\n",
            "Epoch 305/500\n",
            "5/5 [==============================] - 0s 3ms/step - loss: 10405.3760 - mae: 10405.3760\n",
            "Epoch 306/500\n",
            "5/5 [==============================] - 0s 3ms/step - loss: 10492.1611 - mae: 10492.1611\n",
            "Epoch 307/500\n",
            "5/5 [==============================] - 0s 4ms/step - loss: 10443.7188 - mae: 10443.7188\n",
            "Epoch 308/500\n",
            "5/5 [==============================] - 0s 3ms/step - loss: 10389.0723 - mae: 10389.0723\n",
            "Epoch 309/500\n",
            "5/5 [==============================] - 0s 3ms/step - loss: 10558.3711 - mae: 10558.3711\n",
            "Epoch 310/500\n",
            "5/5 [==============================] - 0s 3ms/step - loss: 10420.9717 - mae: 10420.9717\n",
            "Epoch 311/500\n",
            "5/5 [==============================] - 0s 3ms/step - loss: 10413.9551 - mae: 10413.9551\n",
            "Epoch 312/500\n",
            "5/5 [==============================] - 0s 3ms/step - loss: 10419.3779 - mae: 10419.3779\n",
            "Epoch 313/500\n",
            "5/5 [==============================] - 0s 3ms/step - loss: 10400.2764 - mae: 10400.2764\n",
            "Epoch 314/500\n",
            "5/5 [==============================] - 0s 3ms/step - loss: 10408.1621 - mae: 10408.1621\n",
            "Epoch 315/500\n",
            "5/5 [==============================] - 0s 4ms/step - loss: 10433.9121 - mae: 10433.9121\n",
            "Epoch 316/500\n",
            "5/5 [==============================] - 0s 3ms/step - loss: 10400.3066 - mae: 10400.3066\n",
            "Epoch 317/500\n",
            "5/5 [==============================] - 0s 3ms/step - loss: 10456.1738 - mae: 10456.1738\n",
            "Epoch 318/500\n",
            "5/5 [==============================] - 0s 4ms/step - loss: 10489.0059 - mae: 10489.0059\n",
            "Epoch 319/500\n",
            "5/5 [==============================] - 0s 3ms/step - loss: 10424.9893 - mae: 10424.9893\n",
            "Epoch 320/500\n",
            "5/5 [==============================] - 0s 3ms/step - loss: 10466.5488 - mae: 10466.5488\n",
            "Epoch 321/500\n",
            "5/5 [==============================] - 0s 3ms/step - loss: 10473.1533 - mae: 10473.1533\n",
            "Epoch 322/500\n",
            "5/5 [==============================] - 0s 3ms/step - loss: 10487.2998 - mae: 10487.2998\n",
            "Epoch 323/500\n",
            "5/5 [==============================] - 0s 3ms/step - loss: 10418.3535 - mae: 10418.3535\n",
            "Epoch 324/500\n",
            "5/5 [==============================] - 0s 4ms/step - loss: 10475.6387 - mae: 10475.6387\n",
            "Epoch 325/500\n",
            "5/5 [==============================] - 0s 4ms/step - loss: 10565.3691 - mae: 10565.3691\n",
            "Epoch 326/500\n",
            "5/5 [==============================] - 0s 3ms/step - loss: 10439.5449 - mae: 10439.5449\n",
            "Epoch 327/500\n",
            "5/5 [==============================] - 0s 3ms/step - loss: 10465.3271 - mae: 10465.3271\n",
            "Epoch 328/500\n",
            "5/5 [==============================] - 0s 3ms/step - loss: 10526.9590 - mae: 10526.9590\n",
            "Epoch 329/500\n",
            "5/5 [==============================] - 0s 3ms/step - loss: 10397.8330 - mae: 10397.8330\n",
            "Epoch 330/500\n",
            "5/5 [==============================] - 0s 3ms/step - loss: 10439.5928 - mae: 10439.5928\n",
            "Epoch 331/500\n",
            "5/5 [==============================] - 0s 4ms/step - loss: 10397.7734 - mae: 10397.7734\n",
            "Epoch 332/500\n",
            "5/5 [==============================] - 0s 3ms/step - loss: 10414.1240 - mae: 10414.1240\n",
            "Epoch 333/500\n",
            "5/5 [==============================] - 0s 3ms/step - loss: 10434.2119 - mae: 10434.2119\n",
            "Epoch 334/500\n",
            "5/5 [==============================] - 0s 3ms/step - loss: 10516.4980 - mae: 10516.4980\n",
            "Epoch 335/500\n",
            "5/5 [==============================] - 0s 3ms/step - loss: 10455.7314 - mae: 10455.7314\n",
            "Epoch 336/500\n",
            "5/5 [==============================] - 0s 3ms/step - loss: 10446.4873 - mae: 10446.4873\n",
            "Epoch 337/500\n",
            "5/5 [==============================] - 0s 3ms/step - loss: 10428.1035 - mae: 10428.1035\n",
            "Epoch 338/500\n",
            "5/5 [==============================] - 0s 3ms/step - loss: 10412.8125 - mae: 10412.8125\n",
            "Epoch 339/500\n",
            "5/5 [==============================] - 0s 3ms/step - loss: 10447.5889 - mae: 10447.5889\n",
            "Epoch 340/500\n",
            "5/5 [==============================] - 0s 3ms/step - loss: 10436.7734 - mae: 10436.7734\n",
            "Epoch 341/500\n",
            "5/5 [==============================] - 0s 3ms/step - loss: 10436.1338 - mae: 10436.1338\n",
            "Epoch 342/500\n",
            "5/5 [==============================] - 0s 4ms/step - loss: 10403.9971 - mae: 10403.9971\n",
            "Epoch 343/500\n",
            "5/5 [==============================] - 0s 3ms/step - loss: 10411.4873 - mae: 10411.4873\n",
            "Epoch 344/500\n",
            "5/5 [==============================] - 0s 3ms/step - loss: 10474.5254 - mae: 10474.5254\n",
            "Epoch 345/500\n",
            "5/5 [==============================] - 0s 3ms/step - loss: 10457.1113 - mae: 10457.1113\n",
            "Epoch 346/500\n",
            "5/5 [==============================] - 0s 3ms/step - loss: 10589.9980 - mae: 10589.9980\n",
            "Epoch 347/500\n",
            "5/5 [==============================] - 0s 3ms/step - loss: 10473.5342 - mae: 10473.5342\n",
            "Epoch 348/500\n",
            "5/5 [==============================] - 0s 3ms/step - loss: 10460.2930 - mae: 10460.2930\n",
            "Epoch 349/500\n",
            "5/5 [==============================] - 0s 3ms/step - loss: 10667.7402 - mae: 10667.7402\n",
            "Epoch 350/500\n",
            "5/5 [==============================] - 0s 3ms/step - loss: 10483.9775 - mae: 10483.9775\n",
            "Epoch 351/500\n",
            "5/5 [==============================] - 0s 3ms/step - loss: 10395.8896 - mae: 10395.8896\n",
            "Epoch 352/500\n",
            "5/5 [==============================] - 0s 3ms/step - loss: 10380.7314 - mae: 10380.7314\n",
            "Epoch 353/500\n",
            "5/5 [==============================] - 0s 3ms/step - loss: 10516.0586 - mae: 10516.0586\n",
            "Epoch 354/500\n",
            "5/5 [==============================] - 0s 3ms/step - loss: 10424.5156 - mae: 10424.5156\n",
            "Epoch 355/500\n",
            "5/5 [==============================] - 0s 3ms/step - loss: 10568.6074 - mae: 10568.6074\n",
            "Epoch 356/500\n",
            "5/5 [==============================] - 0s 3ms/step - loss: 10458.7842 - mae: 10458.7842\n",
            "Epoch 357/500\n",
            "5/5 [==============================] - 0s 3ms/step - loss: 10463.1455 - mae: 10463.1455\n",
            "Epoch 358/500\n",
            "5/5 [==============================] - 0s 3ms/step - loss: 10614.5439 - mae: 10614.5439\n",
            "Epoch 359/500\n",
            "5/5 [==============================] - 0s 3ms/step - loss: 10479.8711 - mae: 10479.8711\n",
            "Epoch 360/500\n",
            "5/5 [==============================] - 0s 3ms/step - loss: 10681.3906 - mae: 10681.3906\n",
            "Epoch 361/500\n",
            "5/5 [==============================] - 0s 3ms/step - loss: 10688.7480 - mae: 10688.7480\n",
            "Epoch 362/500\n",
            "5/5 [==============================] - 0s 3ms/step - loss: 10532.6826 - mae: 10532.6826\n",
            "Epoch 363/500\n",
            "5/5 [==============================] - 0s 3ms/step - loss: 10517.3535 - mae: 10517.3535\n",
            "Epoch 364/500\n",
            "5/5 [==============================] - 0s 3ms/step - loss: 10430.1328 - mae: 10430.1328\n",
            "Epoch 365/500\n",
            "5/5 [==============================] - 0s 3ms/step - loss: 10377.1729 - mae: 10377.1729\n",
            "Epoch 366/500\n",
            "5/5 [==============================] - 0s 3ms/step - loss: 10446.5723 - mae: 10446.5723\n",
            "Epoch 367/500\n",
            "5/5 [==============================] - 0s 4ms/step - loss: 10452.1221 - mae: 10452.1221\n",
            "Epoch 368/500\n",
            "5/5 [==============================] - 0s 3ms/step - loss: 10404.9414 - mae: 10404.9414\n",
            "Epoch 369/500\n",
            "5/5 [==============================] - 0s 3ms/step - loss: 10554.7695 - mae: 10554.7695\n",
            "Epoch 370/500\n",
            "5/5 [==============================] - 0s 3ms/step - loss: 10445.5781 - mae: 10445.5781\n",
            "Epoch 371/500\n",
            "5/5 [==============================] - 0s 3ms/step - loss: 10532.5957 - mae: 10532.5957\n",
            "Epoch 372/500\n",
            "5/5 [==============================] - 0s 3ms/step - loss: 10480.4121 - mae: 10480.4121\n",
            "Epoch 373/500\n",
            "5/5 [==============================] - 0s 3ms/step - loss: 10425.9941 - mae: 10425.9941\n",
            "Epoch 374/500\n",
            "5/5 [==============================] - 0s 4ms/step - loss: 10453.2100 - mae: 10453.2100\n",
            "Epoch 375/500\n",
            "5/5 [==============================] - 0s 3ms/step - loss: 10533.5566 - mae: 10533.5566\n",
            "Epoch 376/500\n",
            "5/5 [==============================] - 0s 3ms/step - loss: 10434.0498 - mae: 10434.0498\n",
            "Epoch 377/500\n",
            "5/5 [==============================] - 0s 3ms/step - loss: 10505.8301 - mae: 10505.8301\n",
            "Epoch 378/500\n",
            "5/5 [==============================] - 0s 3ms/step - loss: 10405.1641 - mae: 10405.1641\n",
            "Epoch 379/500\n",
            "5/5 [==============================] - 0s 3ms/step - loss: 10453.0859 - mae: 10453.0859\n",
            "Epoch 380/500\n",
            "5/5 [==============================] - 0s 3ms/step - loss: 10424.4199 - mae: 10424.4199\n",
            "Epoch 381/500\n",
            "5/5 [==============================] - 0s 3ms/step - loss: 10402.9932 - mae: 10402.9932\n",
            "Epoch 382/500\n",
            "5/5 [==============================] - 0s 3ms/step - loss: 10469.4854 - mae: 10469.4854\n",
            "Epoch 383/500\n",
            "5/5 [==============================] - 0s 3ms/step - loss: 10420.6426 - mae: 10420.6426\n",
            "Epoch 384/500\n",
            "5/5 [==============================] - 0s 3ms/step - loss: 10433.8799 - mae: 10433.8799\n",
            "Epoch 385/500\n",
            "5/5 [==============================] - 0s 4ms/step - loss: 10503.4766 - mae: 10503.4766\n",
            "Epoch 386/500\n",
            "5/5 [==============================] - 0s 3ms/step - loss: 10416.7734 - mae: 10416.7734\n",
            "Epoch 387/500\n",
            "5/5 [==============================] - 0s 3ms/step - loss: 10450.8535 - mae: 10450.8535\n",
            "Epoch 388/500\n",
            "5/5 [==============================] - 0s 3ms/step - loss: 10427.6504 - mae: 10427.6504\n",
            "Epoch 389/500\n",
            "5/5 [==============================] - 0s 3ms/step - loss: 10488.7266 - mae: 10488.7266\n",
            "Epoch 390/500\n",
            "5/5 [==============================] - 0s 3ms/step - loss: 10449.0195 - mae: 10449.0195\n",
            "Epoch 391/500\n",
            "5/5 [==============================] - 0s 3ms/step - loss: 10393.3896 - mae: 10393.3896\n",
            "Epoch 392/500\n",
            "5/5 [==============================] - 0s 3ms/step - loss: 10681.8145 - mae: 10681.8145\n",
            "Epoch 393/500\n",
            "5/5 [==============================] - 0s 3ms/step - loss: 10413.4043 - mae: 10413.4043\n",
            "Epoch 394/500\n",
            "5/5 [==============================] - 0s 4ms/step - loss: 10518.1865 - mae: 10518.1865\n",
            "Epoch 395/500\n",
            "5/5 [==============================] - 0s 4ms/step - loss: 10552.8535 - mae: 10552.8535\n",
            "Epoch 396/500\n",
            "5/5 [==============================] - 0s 3ms/step - loss: 10488.6504 - mae: 10488.6504\n",
            "Epoch 397/500\n",
            "5/5 [==============================] - 0s 3ms/step - loss: 10419.4404 - mae: 10419.4404\n",
            "Epoch 398/500\n",
            "5/5 [==============================] - 0s 3ms/step - loss: 10379.7891 - mae: 10379.7891\n",
            "Epoch 399/500\n",
            "5/5 [==============================] - 0s 3ms/step - loss: 10570.4141 - mae: 10570.4141\n",
            "Epoch 400/500\n",
            "5/5 [==============================] - 0s 3ms/step - loss: 10485.4092 - mae: 10485.4092\n",
            "Epoch 401/500\n",
            "5/5 [==============================] - 0s 3ms/step - loss: 10493.9375 - mae: 10493.9375\n",
            "Epoch 402/500\n",
            "5/5 [==============================] - 0s 5ms/step - loss: 10639.5605 - mae: 10639.5605\n",
            "Epoch 403/500\n",
            "5/5 [==============================] - 0s 4ms/step - loss: 10367.8154 - mae: 10367.8154\n",
            "Epoch 404/500\n",
            "5/5 [==============================] - 0s 4ms/step - loss: 10459.4160 - mae: 10459.4160\n",
            "Epoch 405/500\n",
            "5/5 [==============================] - 0s 4ms/step - loss: 10432.9639 - mae: 10432.9639\n",
            "Epoch 406/500\n",
            "5/5 [==============================] - 0s 4ms/step - loss: 10407.2471 - mae: 10407.2471\n",
            "Epoch 407/500\n",
            "5/5 [==============================] - 0s 3ms/step - loss: 10630.7568 - mae: 10630.7568\n",
            "Epoch 408/500\n",
            "5/5 [==============================] - 0s 3ms/step - loss: 10381.6182 - mae: 10381.6182\n",
            "Epoch 409/500\n",
            "5/5 [==============================] - 0s 3ms/step - loss: 10448.5088 - mae: 10448.5088\n",
            "Epoch 410/500\n",
            "5/5 [==============================] - 0s 3ms/step - loss: 10490.7969 - mae: 10490.7969\n",
            "Epoch 411/500\n",
            "5/5 [==============================] - 0s 4ms/step - loss: 10458.8555 - mae: 10458.8555\n",
            "Epoch 412/500\n",
            "5/5 [==============================] - 0s 3ms/step - loss: 10451.6172 - mae: 10451.6172\n",
            "Epoch 413/500\n",
            "5/5 [==============================] - 0s 3ms/step - loss: 10397.4824 - mae: 10397.4824\n",
            "Epoch 414/500\n",
            "5/5 [==============================] - 0s 4ms/step - loss: 10425.3730 - mae: 10425.3730\n",
            "Epoch 415/500\n",
            "5/5 [==============================] - 0s 3ms/step - loss: 10436.1934 - mae: 10436.1934\n",
            "Epoch 416/500\n",
            "5/5 [==============================] - 0s 4ms/step - loss: 10410.0098 - mae: 10410.0098\n",
            "Epoch 417/500\n",
            "5/5 [==============================] - 0s 4ms/step - loss: 10431.4609 - mae: 10431.4609\n",
            "Epoch 418/500\n",
            "5/5 [==============================] - 0s 4ms/step - loss: 10405.3008 - mae: 10405.3008\n",
            "Epoch 419/500\n",
            "5/5 [==============================] - 0s 3ms/step - loss: 10412.3652 - mae: 10412.3652\n",
            "Epoch 420/500\n",
            "5/5 [==============================] - 0s 3ms/step - loss: 10431.5088 - mae: 10431.5088\n",
            "Epoch 421/500\n",
            "5/5 [==============================] - 0s 3ms/step - loss: 10439.6406 - mae: 10439.6406\n",
            "Epoch 422/500\n",
            "5/5 [==============================] - 0s 3ms/step - loss: 10430.5986 - mae: 10430.5986\n",
            "Epoch 423/500\n",
            "5/5 [==============================] - 0s 3ms/step - loss: 10474.7744 - mae: 10474.7744\n",
            "Epoch 424/500\n",
            "5/5 [==============================] - 0s 3ms/step - loss: 10395.5117 - mae: 10395.5117\n",
            "Epoch 425/500\n",
            "5/5 [==============================] - 0s 3ms/step - loss: 10411.3301 - mae: 10411.3301\n",
            "Epoch 426/500\n",
            "5/5 [==============================] - 0s 3ms/step - loss: 10427.2949 - mae: 10427.2949\n",
            "Epoch 427/500\n",
            "5/5 [==============================] - 0s 3ms/step - loss: 10486.8701 - mae: 10486.8701\n",
            "Epoch 428/500\n",
            "5/5 [==============================] - 0s 3ms/step - loss: 10483.6191 - mae: 10483.6191\n",
            "Epoch 429/500\n",
            "5/5 [==============================] - 0s 3ms/step - loss: 10506.4043 - mae: 10506.4043\n",
            "Epoch 430/500\n",
            "5/5 [==============================] - 0s 3ms/step - loss: 10452.0254 - mae: 10452.0254\n",
            "Epoch 431/500\n",
            "5/5 [==============================] - 0s 3ms/step - loss: 10424.2783 - mae: 10424.2783\n",
            "Epoch 432/500\n",
            "5/5 [==============================] - 0s 3ms/step - loss: 10413.7910 - mae: 10413.7910\n",
            "Epoch 433/500\n",
            "5/5 [==============================] - 0s 3ms/step - loss: 10535.2676 - mae: 10535.2676\n",
            "Epoch 434/500\n",
            "5/5 [==============================] - 0s 3ms/step - loss: 10423.9893 - mae: 10423.9893\n",
            "Epoch 435/500\n",
            "5/5 [==============================] - 0s 3ms/step - loss: 10427.5918 - mae: 10427.5918\n",
            "Epoch 436/500\n",
            "5/5 [==============================] - 0s 3ms/step - loss: 10515.5850 - mae: 10515.5850\n",
            "Epoch 437/500\n",
            "5/5 [==============================] - 0s 3ms/step - loss: 10462.7939 - mae: 10462.7939\n",
            "Epoch 438/500\n",
            "5/5 [==============================] - 0s 4ms/step - loss: 10446.6201 - mae: 10446.6201\n",
            "Epoch 439/500\n",
            "5/5 [==============================] - 0s 3ms/step - loss: 10415.7793 - mae: 10415.7793\n",
            "Epoch 440/500\n",
            "5/5 [==============================] - 0s 3ms/step - loss: 10420.2188 - mae: 10420.2188\n",
            "Epoch 441/500\n",
            "5/5 [==============================] - 0s 3ms/step - loss: 10441.6846 - mae: 10441.6846\n",
            "Epoch 442/500\n",
            "5/5 [==============================] - 0s 3ms/step - loss: 10381.4355 - mae: 10381.4355\n",
            "Epoch 443/500\n",
            "5/5 [==============================] - 0s 3ms/step - loss: 10419.7539 - mae: 10419.7539\n",
            "Epoch 444/500\n",
            "5/5 [==============================] - 0s 3ms/step - loss: 10392.4609 - mae: 10392.4609\n",
            "Epoch 445/500\n",
            "5/5 [==============================] - 0s 3ms/step - loss: 10397.7715 - mae: 10397.7715\n",
            "Epoch 446/500\n",
            "5/5 [==============================] - 0s 4ms/step - loss: 10441.8262 - mae: 10441.8262\n",
            "Epoch 447/500\n",
            "5/5 [==============================] - 0s 3ms/step - loss: 10428.9492 - mae: 10428.9492\n",
            "Epoch 448/500\n",
            "5/5 [==============================] - 0s 4ms/step - loss: 10464.3730 - mae: 10464.3730\n",
            "Epoch 449/500\n",
            "5/5 [==============================] - 0s 4ms/step - loss: 10541.8359 - mae: 10541.8359\n",
            "Epoch 450/500\n",
            "5/5 [==============================] - 0s 3ms/step - loss: 10513.5098 - mae: 10513.5098\n",
            "Epoch 451/500\n",
            "5/5 [==============================] - 0s 3ms/step - loss: 10520.5127 - mae: 10520.5127\n",
            "Epoch 452/500\n",
            "5/5 [==============================] - 0s 3ms/step - loss: 10464.0518 - mae: 10464.0518\n",
            "Epoch 453/500\n",
            "5/5 [==============================] - 0s 3ms/step - loss: 10467.8574 - mae: 10467.8574\n",
            "Epoch 454/500\n",
            "5/5 [==============================] - 0s 3ms/step - loss: 10495.0703 - mae: 10495.0703\n",
            "Epoch 455/500\n",
            "5/5 [==============================] - 0s 3ms/step - loss: 10391.1543 - mae: 10391.1543\n",
            "Epoch 456/500\n",
            "5/5 [==============================] - 0s 5ms/step - loss: 10425.0674 - mae: 10425.0674\n",
            "Epoch 457/500\n",
            "5/5 [==============================] - 0s 3ms/step - loss: 10399.2207 - mae: 10399.2207\n",
            "Epoch 458/500\n",
            "5/5 [==============================] - 0s 3ms/step - loss: 10400.5361 - mae: 10400.5361\n",
            "Epoch 459/500\n",
            "5/5 [==============================] - 0s 3ms/step - loss: 10489.0820 - mae: 10489.0820\n",
            "Epoch 460/500\n",
            "5/5 [==============================] - 0s 3ms/step - loss: 10416.9814 - mae: 10416.9814\n",
            "Epoch 461/500\n",
            "5/5 [==============================] - 0s 3ms/step - loss: 10430.0000 - mae: 10430.0000\n",
            "Epoch 462/500\n",
            "5/5 [==============================] - 0s 3ms/step - loss: 10439.9551 - mae: 10439.9551\n",
            "Epoch 463/500\n",
            "5/5 [==============================] - 0s 3ms/step - loss: 10445.9346 - mae: 10445.9346\n",
            "Epoch 464/500\n",
            "5/5 [==============================] - 0s 4ms/step - loss: 10399.9424 - mae: 10399.9424\n",
            "Epoch 465/500\n",
            "5/5 [==============================] - 0s 3ms/step - loss: 10452.0332 - mae: 10452.0332\n",
            "Epoch 466/500\n",
            "5/5 [==============================] - 0s 4ms/step - loss: 10450.2510 - mae: 10450.2510\n",
            "Epoch 467/500\n",
            "5/5 [==============================] - 0s 3ms/step - loss: 10466.4590 - mae: 10466.4590\n",
            "Epoch 468/500\n",
            "5/5 [==============================] - 0s 3ms/step - loss: 10482.9082 - mae: 10482.9082\n",
            "Epoch 469/500\n",
            "5/5 [==============================] - 0s 3ms/step - loss: 10450.5811 - mae: 10450.5811\n",
            "Epoch 470/500\n",
            "5/5 [==============================] - 0s 3ms/step - loss: 10439.2520 - mae: 10439.2520\n",
            "Epoch 471/500\n",
            "5/5 [==============================] - 0s 3ms/step - loss: 10511.5820 - mae: 10511.5820\n",
            "Epoch 472/500\n",
            "5/5 [==============================] - 0s 3ms/step - loss: 10481.3770 - mae: 10481.3770\n",
            "Epoch 473/500\n",
            "5/5 [==============================] - 0s 3ms/step - loss: 10471.2871 - mae: 10471.2871\n",
            "Epoch 474/500\n",
            "5/5 [==============================] - 0s 3ms/step - loss: 10472.1982 - mae: 10472.1982\n",
            "Epoch 475/500\n",
            "5/5 [==============================] - 0s 3ms/step - loss: 10432.9873 - mae: 10432.9873\n",
            "Epoch 476/500\n",
            "5/5 [==============================] - 0s 3ms/step - loss: 10509.5547 - mae: 10509.5547\n",
            "Epoch 477/500\n",
            "5/5 [==============================] - 0s 3ms/step - loss: 10514.4238 - mae: 10514.4238\n",
            "Epoch 478/500\n",
            "5/5 [==============================] - 0s 3ms/step - loss: 10465.6387 - mae: 10465.6387\n",
            "Epoch 479/500\n",
            "5/5 [==============================] - 0s 3ms/step - loss: 10496.7480 - mae: 10496.7480\n",
            "Epoch 480/500\n",
            "5/5 [==============================] - 0s 4ms/step - loss: 10365.8340 - mae: 10365.8340\n",
            "Epoch 481/500\n",
            "5/5 [==============================] - 0s 3ms/step - loss: 10682.4199 - mae: 10682.4199\n",
            "Epoch 482/500\n",
            "5/5 [==============================] - 0s 4ms/step - loss: 10526.8105 - mae: 10526.8105\n",
            "Epoch 483/500\n",
            "5/5 [==============================] - 0s 3ms/step - loss: 10562.0371 - mae: 10562.0371\n",
            "Epoch 484/500\n",
            "5/5 [==============================] - 0s 3ms/step - loss: 10545.0303 - mae: 10545.0303\n",
            "Epoch 485/500\n",
            "5/5 [==============================] - 0s 3ms/step - loss: 10504.0859 - mae: 10504.0859\n",
            "Epoch 486/500\n",
            "5/5 [==============================] - 0s 3ms/step - loss: 10478.3887 - mae: 10478.3887\n",
            "Epoch 487/500\n",
            "5/5 [==============================] - 0s 3ms/step - loss: 10391.2998 - mae: 10391.2998\n",
            "Epoch 488/500\n",
            "5/5 [==============================] - 0s 3ms/step - loss: 10446.2549 - mae: 10446.2549\n",
            "Epoch 489/500\n",
            "5/5 [==============================] - 0s 3ms/step - loss: 10531.2920 - mae: 10531.2920\n",
            "Epoch 490/500\n",
            "5/5 [==============================] - 0s 3ms/step - loss: 10382.4619 - mae: 10382.4619\n",
            "Epoch 491/500\n",
            "5/5 [==============================] - 0s 3ms/step - loss: 10412.5801 - mae: 10412.5801\n",
            "Epoch 492/500\n",
            "5/5 [==============================] - 0s 3ms/step - loss: 10431.7607 - mae: 10431.7607\n",
            "Epoch 493/500\n",
            "5/5 [==============================] - 0s 3ms/step - loss: 10486.3418 - mae: 10486.3418\n",
            "Epoch 494/500\n",
            "5/5 [==============================] - 0s 5ms/step - loss: 10455.5205 - mae: 10455.5205\n",
            "Epoch 495/500\n",
            "5/5 [==============================] - 0s 3ms/step - loss: 10430.6016 - mae: 10430.6016\n",
            "Epoch 496/500\n",
            "5/5 [==============================] - 0s 4ms/step - loss: 10387.6172 - mae: 10387.6172\n",
            "Epoch 497/500\n",
            "5/5 [==============================] - 0s 3ms/step - loss: 10489.8096 - mae: 10489.8096\n",
            "Epoch 498/500\n",
            "5/5 [==============================] - 0s 3ms/step - loss: 10393.3164 - mae: 10393.3164\n",
            "Epoch 499/500\n",
            "5/5 [==============================] - 0s 3ms/step - loss: 10413.6709 - mae: 10413.6709\n",
            "Epoch 500/500\n",
            "5/5 [==============================] - 0s 3ms/step - loss: 10463.8154 - mae: 10463.8154\n",
            "Model: \"model_6\"\n",
            "_________________________________________________________________\n",
            "Layer (type)                 Output Shape              Param #   \n",
            "=================================================================\n",
            "dense_34 (Dense)             (32, 100)                 200       \n",
            "_________________________________________________________________\n",
            "dense_35 (Dense)             (32, 100)                 10100     \n",
            "_________________________________________________________________\n",
            "dense_36 (Dense)             (32, 10)                  1010      \n",
            "_________________________________________________________________\n",
            "dense_37 (Dense)             (32, 1)                   11        \n",
            "=================================================================\n",
            "Total params: 11,321\n",
            "Trainable params: 11,321\n",
            "Non-trainable params: 0\n",
            "_________________________________________________________________\n"
          ],
          "name": "stdout"
        }
      ]
    },
    {
      "cell_type": "code",
      "metadata": {
        "colab": {
          "base_uri": "https://localhost:8080/",
          "height": 466
        },
        "id": "1212Ueyulx_P",
        "outputId": "557fe8a9-9420-4904-f75c-3858fb3919c2"
      },
      "source": [
        "# Make and plot our last predictions\n",
        "y_preds_6 = model_6.predict(X_test)\n",
        "plot_predictions(X_train, y_train, X_test, y_test, y_preds_6)"
      ],
      "execution_count": null,
      "outputs": [
        {
          "output_type": "stream",
          "text": [
            "WARNING:tensorflow:5 out of the last 11 calls to <function Model.make_predict_function.<locals>.predict_function at 0x7fb6d14f3cb0> triggered tf.function retracing. Tracing is expensive and the excessive number of tracings could be due to (1) creating @tf.function repeatedly in a loop, (2) passing tensors with different shapes, (3) passing Python objects instead of tensors. For (1), please define your @tf.function outside of the loop. For (2), @tf.function has experimental_relax_shapes=True option that relaxes argument shapes that can avoid unnecessary retracing. For (3), please refer to https://www.tensorflow.org/guide/function#controlling_retracing and https://www.tensorflow.org/api_docs/python/tf/function for  more details.\n"
          ],
          "name": "stdout"
        },
        {
          "output_type": "display_data",
          "data": {
            "image/png": "[encoded data removed]",
            "text/plain": [
              "<Figure size 720x504 with 1 Axes>"
            ]
          },
          "metadata": {
            "tags": [],
            "needs_background": "light"
          }
        }
      ]
    },
    {
      "cell_type": "code",
      "metadata": {
        "colab": {
          "base_uri": "https://localhost:8080/",
          "height": 297
        },
        "id": "2mWjsYNVmbOj",
        "outputId": "05073a55-708c-49a8-9c35-916098b0d065"
      },
      "source": [
        "pd.DataFrame(history_6.history).plot()\n",
        "plt.ylabel(\"loss\")\n",
        "plt.xlabel(\"epochs\")"
      ],
      "execution_count": null,
      "outputs": [
        {
          "output_type": "execute_result",
          "data": {
            "text/plain": [
              "Text(0.5, 0, 'epochs')"
            ]
          },
          "metadata": {
            "tags": []
          },
          "execution_count": 36
        },
        {
          "output_type": "display_data",
          "data": {
            "image/png": "[encoded data removed]",
            "text/plain": [
              "<Figure size 432x288 with 1 Axes>"
            ]
          },
          "metadata": {
            "tags": [],
            "needs_background": "light"
          }
        }
      ]
    },
    {
      "cell_type": "code",
      "metadata": {
        "colab": {
          "base_uri": "https://localhost:8080/"
        },
        "id": "7qMGCpSzmost",
        "outputId": "83786a5c-fca8-4bb8-9869-c5407c5f858a"
      },
      "source": [
        "model_6.evaluate(X_test, y_test)"
      ],
      "execution_count": null,
      "outputs": [
        {
          "output_type": "stream",
          "text": [
            "2/2 [==============================] - 0s 7ms/step - loss: 8738.4902 - mae: 8738.4902\n"
          ],
          "name": "stdout"
        },
        {
          "output_type": "execute_result",
          "data": {
            "text/plain": [
              "[8738.490234375, 8738.490234375]"
            ]
          },
          "metadata": {
            "tags": []
          },
          "execution_count": 37
        }
      ]
    },
    {
      "cell_type": "code",
      "metadata": {
        "colab": {
          "base_uri": "https://localhost:8080/"
        },
        "id": "GXiwQd_smxIg",
        "outputId": "93fd77b2-0704-4ac3-9091-a90030610086"
      },
      "source": [
        "np.mean(y_test)"
      ],
      "execution_count": null,
      "outputs": [
        {
          "output_type": "execute_result",
          "data": {
            "text/plain": [
              "10702.8"
            ]
          },
          "metadata": {
            "tags": []
          },
          "execution_count": 43
        }
      ]
    },
    {
      "cell_type": "code",
      "metadata": {
        "colab": {
          "base_uri": "https://localhost:8080/"
        },
        "id": "zWzZdV7umzyx",
        "outputId": "4f030da7-589c-46dc-dc53-b8d52ead9c69"
      },
      "source": [
        "np.median(y_test)"
      ],
      "execution_count": null,
      "outputs": [
        {
          "output_type": "execute_result",
          "data": {
            "text/plain": [
              "6038.0"
            ]
          },
          "metadata": {
            "tags": []
          },
          "execution_count": 42
        }
      ]
    },
    {
      "cell_type": "markdown",
      "metadata": {
        "id": "bkt4FY_InnvM"
      },
      "source": [
        "### 2. Try to improve the results we got on the insurance dataset, some things you might want to try include:\n",
        "\n",
        "* Building a larger model (how does one with 4 dense layers go?).\n",
        "* Increasing the number of units in each layer.\n",
        "* Lookup the documantation of Adam and find out what the first parameter is, what happens if you increase it by 10x?\n",
        "* What happens if you train for longer (say 300 epochs instead of 200)?"
      ]
    },
    {
      "cell_type": "markdown",
      "metadata": {
        "id": "UjGE23DQoMV4"
      },
      "source": [
        "## Import our data and preprocessing data (normalization and standardization)\n"
      ]
    },
    {
      "cell_type": "code",
      "metadata": {
        "colab": {
          "base_uri": "https://localhost:8080/",
          "height": 424
        },
        "id": "7pDOw5b2oLaH",
        "outputId": "58ad6310-074b-49b9-ec7d-0acf242cc88e"
      },
      "source": [
        "import pandas as pd\n",
        "import matplotlib.pyplot as plt\n",
        "import tensorflow as tf\n",
        "\n",
        "insurance = pd.read_csv(\"https://raw.githubusercontent.com/stedy/Machine-Learning-with-R-datasets/master/insurance.csv\")\n",
        "insurance"
      ],
      "execution_count": 1,
      "outputs": [
        {
          "output_type": "execute_result",
          "data": {
            "text/html": [
              "<div>\n",
              "<style scoped>\n",
              "    .dataframe tbody tr th:only-of-type {\n",
              "        vertical-align: middle;\n",
              "    }\n",
              "\n",
              "    .dataframe tbody tr th {\n",
              "        vertical-align: top;\n",
              "    }\n",
              "\n",
              "    .dataframe thead th {\n",
              "        text-align: right;\n",
              "    }\n",
              "</style>\n",
              "<table border=\"1\" class=\"dataframe\">\n",
              "  <thead>\n",
              "    <tr style=\"text-align: right;\">\n",
              "      <th></th>\n",
              "      <th>age</th>\n",
              "      <th>sex</th>\n",
              "      <th>bmi</th>\n",
              "      <th>children</th>\n",
              "      <th>smoker</th>\n",
              "      <th>region</th>\n",
              "      <th>charges</th>\n",
              "    </tr>\n",
              "  </thead>\n",
              "  <tbody>\n",
              "    <tr>\n",
              "      <th>0</th>\n",
              "      <td>19</td>\n",
              "      <td>female</td>\n",
              "      <td>27.900</td>\n",
              "      <td>0</td>\n",
              "      <td>yes</td>\n",
              "      <td>southwest</td>\n",
              "      <td>16884.92400</td>\n",
              "    </tr>\n",
              "    <tr>\n",
              "      <th>1</th>\n",
              "      <td>18</td>\n",
              "      <td>male</td>\n",
              "      <td>33.770</td>\n",
              "      <td>1</td>\n",
              "      <td>no</td>\n",
              "      <td>southeast</td>\n",
              "      <td>1725.55230</td>\n",
              "    </tr>\n",
              "    <tr>\n",
              "      <th>2</th>\n",
              "      <td>28</td>\n",
              "      <td>male</td>\n",
              "      <td>33.000</td>\n",
              "      <td>3</td>\n",
              "      <td>no</td>\n",
              "      <td>southeast</td>\n",
              "      <td>4449.46200</td>\n",
              "    </tr>\n",
              "    <tr>\n",
              "      <th>3</th>\n",
              "      <td>33</td>\n",
              "      <td>male</td>\n",
              "      <td>22.705</td>\n",
              "      <td>0</td>\n",
              "      <td>no</td>\n",
              "      <td>northwest</td>\n",
              "      <td>21984.47061</td>\n",
              "    </tr>\n",
              "    <tr>\n",
              "      <th>4</th>\n",
              "      <td>32</td>\n",
              "      <td>male</td>\n",
              "      <td>28.880</td>\n",
              "      <td>0</td>\n",
              "      <td>no</td>\n",
              "      <td>northwest</td>\n",
              "      <td>3866.85520</td>\n",
              "    </tr>\n",
              "    <tr>\n",
              "      <th>...</th>\n",
              "      <td>...</td>\n",
              "      <td>...</td>\n",
              "      <td>...</td>\n",
              "      <td>...</td>\n",
              "      <td>...</td>\n",
              "      <td>...</td>\n",
              "      <td>...</td>\n",
              "    </tr>\n",
              "    <tr>\n",
              "      <th>1333</th>\n",
              "      <td>50</td>\n",
              "      <td>male</td>\n",
              "      <td>30.970</td>\n",
              "      <td>3</td>\n",
              "      <td>no</td>\n",
              "      <td>northwest</td>\n",
              "      <td>10600.54830</td>\n",
              "    </tr>\n",
              "    <tr>\n",
              "      <th>1334</th>\n",
              "      <td>18</td>\n",
              "      <td>female</td>\n",
              "      <td>31.920</td>\n",
              "      <td>0</td>\n",
              "      <td>no</td>\n",
              "      <td>northeast</td>\n",
              "      <td>2205.98080</td>\n",
              "    </tr>\n",
              "    <tr>\n",
              "      <th>1335</th>\n",
              "      <td>18</td>\n",
              "      <td>female</td>\n",
              "      <td>36.850</td>\n",
              "      <td>0</td>\n",
              "      <td>no</td>\n",
              "      <td>southeast</td>\n",
              "      <td>1629.83350</td>\n",
              "    </tr>\n",
              "    <tr>\n",
              "      <th>1336</th>\n",
              "      <td>21</td>\n",
              "      <td>female</td>\n",
              "      <td>25.800</td>\n",
              "      <td>0</td>\n",
              "      <td>no</td>\n",
              "      <td>southwest</td>\n",
              "      <td>2007.94500</td>\n",
              "    </tr>\n",
              "    <tr>\n",
              "      <th>1337</th>\n",
              "      <td>61</td>\n",
              "      <td>female</td>\n",
              "      <td>29.070</td>\n",
              "      <td>0</td>\n",
              "      <td>yes</td>\n",
              "      <td>northwest</td>\n",
              "      <td>29141.36030</td>\n",
              "    </tr>\n",
              "  </tbody>\n",
              "</table>\n",
              "<p>1338 rows × 7 columns</p>\n",
              "</div>"
            ],
            "text/plain": [
              "      age     sex     bmi  children smoker     region      charges\n",
              "0      19  female  27.900         0    yes  southwest  16884.92400\n",
              "1      18    male  33.770         1     no  southeast   1725.55230\n",
              "2      28    male  33.000         3     no  southeast   4449.46200\n",
              "3      33    male  22.705         0     no  northwest  21984.47061\n",
              "4      32    male  28.880         0     no  northwest   3866.85520\n",
              "...   ...     ...     ...       ...    ...        ...          ...\n",
              "1333   50    male  30.970         3     no  northwest  10600.54830\n",
              "1334   18  female  31.920         0     no  northeast   2205.98080\n",
              "1335   18  female  36.850         0     no  southeast   1629.83350\n",
              "1336   21  female  25.800         0     no  southwest   2007.94500\n",
              "1337   61  female  29.070         0    yes  northwest  29141.36030\n",
              "\n",
              "[1338 rows x 7 columns]"
            ]
          },
          "metadata": {
            "tags": []
          },
          "execution_count": 1
        }
      ]
    },
    {
      "cell_type": "markdown",
      "metadata": {
        "id": "Nu0rhy9krQ0S"
      },
      "source": [
        "# To prepare our data, we can borrow a few classes from Scikit-Learn"
      ]
    },
    {
      "cell_type": "code",
      "metadata": {
        "id": "NuvLd73boytn"
      },
      "source": [
        "from sklearn.compose import make_column_transformer\n",
        "from sklearn.preprocessing import MinMaxScaler, OneHotEncoder\n",
        "from sklearn.model_selection import train_test_split\n",
        "\n",
        "# Creat a column transformer\n",
        "ct = make_column_transformer(\n",
        "    (MinMaxScaler(), [\"age\", \"bmi\", \"children\"]), # turn all values in these column between 0 and 1\n",
        "    (OneHotEncoder(handle_unknown=\"ignore\"), [\"sex\", \"smoker\", \"region\"])\n",
        ")\n",
        "\n",
        "# Create X & y values\n",
        "X = insurance.drop(\"charges\" , axis=1)\n",
        "y = insurance[\"charges\"]\n",
        "\n",
        "# Build our train and test sets\n",
        "X_train, X_test, y_train, y_test = train_test_split(X, y, test_size=0.2, random_state=42)\n",
        "\n",
        "# Fit the column transformer to our training data\n",
        "ct.fit(X_train)\n",
        "\n",
        "# Transform training and test data with normalization (MinMaxScaler) and OneHotEncode\n",
        "X_train_normal = ct.transform(X_train)\n",
        "X_test_normal = ct.transform(X_test)"
      ],
      "execution_count": 2,
      "outputs": []
    },
    {
      "cell_type": "markdown",
      "metadata": {
        "id": "ldaF7c_Ws8BQ"
      },
      "source": [
        "# Another way to process our data"
      ]
    },
    {
      "cell_type": "code",
      "metadata": {
        "colab": {
          "base_uri": "https://localhost:8080/",
          "height": 206
        },
        "id": "6mguF1aLsvDa",
        "outputId": "7e0a93e6-708c-4295-b70b-5c781b4888b7"
      },
      "source": [
        "import pandas as pd\n",
        "insurance_one_hot = pd.get_dummies(insurance)\n",
        "insurance_one_hot.head()"
      ],
      "execution_count": 3,
      "outputs": [
        {
          "output_type": "execute_result",
          "data": {
            "text/html": [
              "<div>\n",
              "<style scoped>\n",
              "    .dataframe tbody tr th:only-of-type {\n",
              "        vertical-align: middle;\n",
              "    }\n",
              "\n",
              "    .dataframe tbody tr th {\n",
              "        vertical-align: top;\n",
              "    }\n",
              "\n",
              "    .dataframe thead th {\n",
              "        text-align: right;\n",
              "    }\n",
              "</style>\n",
              "<table border=\"1\" class=\"dataframe\">\n",
              "  <thead>\n",
              "    <tr style=\"text-align: right;\">\n",
              "      <th></th>\n",
              "      <th>age</th>\n",
              "      <th>bmi</th>\n",
              "      <th>children</th>\n",
              "      <th>charges</th>\n",
              "      <th>sex_female</th>\n",
              "      <th>sex_male</th>\n",
              "      <th>smoker_no</th>\n",
              "      <th>smoker_yes</th>\n",
              "      <th>region_northeast</th>\n",
              "      <th>region_northwest</th>\n",
              "      <th>region_southeast</th>\n",
              "      <th>region_southwest</th>\n",
              "    </tr>\n",
              "  </thead>\n",
              "  <tbody>\n",
              "    <tr>\n",
              "      <th>0</th>\n",
              "      <td>19</td>\n",
              "      <td>27.900</td>\n",
              "      <td>0</td>\n",
              "      <td>16884.92400</td>\n",
              "      <td>1</td>\n",
              "      <td>0</td>\n",
              "      <td>0</td>\n",
              "      <td>1</td>\n",
              "      <td>0</td>\n",
              "      <td>0</td>\n",
              "      <td>0</td>\n",
              "      <td>1</td>\n",
              "    </tr>\n",
              "    <tr>\n",
              "      <th>1</th>\n",
              "      <td>18</td>\n",
              "      <td>33.770</td>\n",
              "      <td>1</td>\n",
              "      <td>1725.55230</td>\n",
              "      <td>0</td>\n",
              "      <td>1</td>\n",
              "      <td>1</td>\n",
              "      <td>0</td>\n",
              "      <td>0</td>\n",
              "      <td>0</td>\n",
              "      <td>1</td>\n",
              "      <td>0</td>\n",
              "    </tr>\n",
              "    <tr>\n",
              "      <th>2</th>\n",
              "      <td>28</td>\n",
              "      <td>33.000</td>\n",
              "      <td>3</td>\n",
              "      <td>4449.46200</td>\n",
              "      <td>0</td>\n",
              "      <td>1</td>\n",
              "      <td>1</td>\n",
              "      <td>0</td>\n",
              "      <td>0</td>\n",
              "      <td>0</td>\n",
              "      <td>1</td>\n",
              "      <td>0</td>\n",
              "    </tr>\n",
              "    <tr>\n",
              "      <th>3</th>\n",
              "      <td>33</td>\n",
              "      <td>22.705</td>\n",
              "      <td>0</td>\n",
              "      <td>21984.47061</td>\n",
              "      <td>0</td>\n",
              "      <td>1</td>\n",
              "      <td>1</td>\n",
              "      <td>0</td>\n",
              "      <td>0</td>\n",
              "      <td>1</td>\n",
              "      <td>0</td>\n",
              "      <td>0</td>\n",
              "    </tr>\n",
              "    <tr>\n",
              "      <th>4</th>\n",
              "      <td>32</td>\n",
              "      <td>28.880</td>\n",
              "      <td>0</td>\n",
              "      <td>3866.85520</td>\n",
              "      <td>0</td>\n",
              "      <td>1</td>\n",
              "      <td>1</td>\n",
              "      <td>0</td>\n",
              "      <td>0</td>\n",
              "      <td>1</td>\n",
              "      <td>0</td>\n",
              "      <td>0</td>\n",
              "    </tr>\n",
              "  </tbody>\n",
              "</table>\n",
              "</div>"
            ],
            "text/plain": [
              "   age     bmi  children  ...  region_northwest  region_southeast  region_southwest\n",
              "0   19  27.900         0  ...                 0                 0                 1\n",
              "1   18  33.770         1  ...                 0                 1                 0\n",
              "2   28  33.000         3  ...                 0                 1                 0\n",
              "3   33  22.705         0  ...                 1                 0                 0\n",
              "4   32  28.880         0  ...                 1                 0                 0\n",
              "\n",
              "[5 rows x 12 columns]"
            ]
          },
          "metadata": {
            "tags": []
          },
          "execution_count": 3
        }
      ]
    },
    {
      "cell_type": "code",
      "metadata": {
        "id": "cp-ij4_JtIUI"
      },
      "source": [
        "# Create X & y value (features and labels)\n",
        "X = insurance_one_hot.drop(\"charges\", axis=1)\n",
        "y = insurance_one_hot[\"charges\"]"
      ],
      "execution_count": 4,
      "outputs": []
    },
    {
      "cell_type": "code",
      "metadata": {
        "id": "OzYb9RQStUrs"
      },
      "source": [
        "# Creating training and testing sets (using sklearn.model_selection)\n",
        "from sklearn.model_selection import train_test_split\n",
        "X_train, X_test, y_train, y_test = train_test_split(X, y , test_size=0.2, random_state=42)"
      ],
      "execution_count": 5,
      "outputs": []
    },
    {
      "cell_type": "markdown",
      "metadata": {
        "id": "Fwhvqg-6t35S"
      },
      "source": [
        "# Build our model for insurance data set"
      ]
    },
    {
      "cell_type": "code",
      "metadata": {
        "colab": {
          "base_uri": "https://localhost:8080/"
        },
        "id": "h421_UE1tqxT",
        "outputId": "eee7dbfc-3406-4590-9ab1-78a0f34f27f5"
      },
      "source": [
        "# First let's go with 4 hidden layers\n",
        "tf.random.set_seed(42)\n",
        "# 1. Build the model\n",
        "model_1 = tf.keras.Sequential([\n",
        "  tf.keras.layers.Dense(100),\n",
        "  tf.keras.layers.Dense(100),\n",
        "  tf.keras.layers.Dense(10),\n",
        "  tf.keras.layers.Dense(1)\n",
        "], name=\"model_1\")\n",
        "# 2. Compile the model\n",
        "model_1.compile(loss=tf.keras.losses.MAE,\n",
        "                optimizer=tf.keras.optimizers.Adam(),\n",
        "                metrics=[\"mae\"])\n",
        "# 3. Fit the model\n",
        "history_1 = model_1.fit(X_train, y_train, epochs=200, verbose=0)\n",
        "\n",
        "model_1.summary()"
      ],
      "execution_count": 6,
      "outputs": [
        {
          "output_type": "stream",
          "text": [
            "Model: \"model_1\"\n",
            "_________________________________________________________________\n",
            "Layer (type)                 Output Shape              Param #   \n",
            "=================================================================\n",
            "dense (Dense)                (None, 100)               1200      \n",
            "_________________________________________________________________\n",
            "dense_1 (Dense)              (None, 100)               10100     \n",
            "_________________________________________________________________\n",
            "dense_2 (Dense)              (None, 10)                1010      \n",
            "_________________________________________________________________\n",
            "dense_3 (Dense)              (None, 1)                 11        \n",
            "=================================================================\n",
            "Total params: 12,321\n",
            "Trainable params: 12,321\n",
            "Non-trainable params: 0\n",
            "_________________________________________________________________\n"
          ],
          "name": "stdout"
        }
      ]
    },
    {
      "cell_type": "code",
      "metadata": {
        "colab": {
          "base_uri": "https://localhost:8080/"
        },
        "id": "SNw9LLt4utaM",
        "outputId": "96ade48b-50c1-4a30-88e1-f73fdb7222e9"
      },
      "source": [
        "# Evaluate our first model\n",
        "model_1.evaluate(X_test, y_test)"
      ],
      "execution_count": 7,
      "outputs": [
        {
          "output_type": "stream",
          "text": [
            "9/9 [==============================] - 0s 2ms/step - loss: 3161.4465 - mae: 3161.4465\n"
          ],
          "name": "stdout"
        },
        {
          "output_type": "execute_result",
          "data": {
            "text/plain": [
              "[3161.446533203125, 3161.446533203125]"
            ]
          },
          "metadata": {
            "tags": []
          },
          "execution_count": 7
        }
      ]
    },
    {
      "cell_type": "code",
      "metadata": {
        "colab": {
          "base_uri": "https://localhost:8080/",
          "height": 297
        },
        "id": "-LDFAKsYvAto",
        "outputId": "232a0c7d-f03d-4bcb-a7d4-e2b638585a73"
      },
      "source": [
        "pd.DataFrame(history_1.history).plot()\n",
        "plt.ylabel(\"loss\")\n",
        "plt.xlabel(\"epochs\")"
      ],
      "execution_count": 8,
      "outputs": [
        {
          "output_type": "execute_result",
          "data": {
            "text/plain": [
              "Text(0.5, 0, 'epochs')"
            ]
          },
          "metadata": {
            "tags": []
          },
          "execution_count": 8
        },
        {
          "output_type": "display_data",
          "data": {
            "image/png": "[encoded data removed]",
            "text/plain": [
              "<Figure size 432x288 with 1 Axes>"
            ]
          },
          "metadata": {
            "tags": [],
            "needs_background": "light"
          }
        }
      ]
    },
    {
      "cell_type": "code",
      "metadata": {
        "colab": {
          "base_uri": "https://localhost:8080/"
        },
        "id": "ZT0vcd5dvJWO",
        "outputId": "527d2f28-9593-473f-b3a5-3b62e515755f"
      },
      "source": [
        "# Try again with model_2, this time I will increase learning_rate by 10 times\n",
        "tf.random.set_seed(42)\n",
        "# 1. Build the model\n",
        "model_2 = tf.keras.Sequential([\n",
        "  tf.keras.layers.Dense(100),\n",
        "  tf.keras.layers.Dense(100),\n",
        "  tf.keras.layers.Dense(10),\n",
        "  tf.keras.layers.Dense(1)\n",
        "], name=\"model_2\")\n",
        "# 2. Compile the model\n",
        "model_2.compile(loss=tf.keras.losses.MAE,\n",
        "                optimizer=tf.keras.optimizers.Adam(learning_rate=0.01),\n",
        "                metrics=[\"mae\"])\n",
        "# 3. Fit and summary the model\n",
        "history_2 = model_2.fit(X_train, y_train, epochs=200, verbose=0)\n",
        "model_2.summary()"
      ],
      "execution_count": 9,
      "outputs": [
        {
          "output_type": "stream",
          "text": [
            "Model: \"model_2\"\n",
            "_________________________________________________________________\n",
            "Layer (type)                 Output Shape              Param #   \n",
            "=================================================================\n",
            "dense_4 (Dense)              (None, 100)               1200      \n",
            "_________________________________________________________________\n",
            "dense_5 (Dense)              (None, 100)               10100     \n",
            "_________________________________________________________________\n",
            "dense_6 (Dense)              (None, 10)                1010      \n",
            "_________________________________________________________________\n",
            "dense_7 (Dense)              (None, 1)                 11        \n",
            "=================================================================\n",
            "Total params: 12,321\n",
            "Trainable params: 12,321\n",
            "Non-trainable params: 0\n",
            "_________________________________________________________________\n"
          ],
          "name": "stdout"
        }
      ]
    },
    {
      "cell_type": "code",
      "metadata": {
        "colab": {
          "base_uri": "https://localhost:8080/"
        },
        "id": "qRokbcZ3wQw_",
        "outputId": "2adbe326-a9b2-45ec-c2e3-87860f418799"
      },
      "source": [
        "# Evaluate our model\n",
        "model_2.evaluate(X_test, y_test)"
      ],
      "execution_count": 10,
      "outputs": [
        {
          "output_type": "stream",
          "text": [
            "9/9 [==============================] - 0s 3ms/step - loss: 3184.9160 - mae: 3184.9160\n"
          ],
          "name": "stdout"
        },
        {
          "output_type": "execute_result",
          "data": {
            "text/plain": [
              "[3184.916015625, 3184.916015625]"
            ]
          },
          "metadata": {
            "tags": []
          },
          "execution_count": 10
        }
      ]
    },
    {
      "cell_type": "code",
      "metadata": {
        "colab": {
          "base_uri": "https://localhost:8080/",
          "height": 297
        },
        "id": "ykxIYQD0waGE",
        "outputId": "6b1f752b-3f59-4be9-8bc7-ae92b1db5b62"
      },
      "source": [
        "pd.DataFrame(history_2.history).plot()\n",
        "plt.ylabel(\"loss\")\n",
        "plt.xlabel(\"epochs\")"
      ],
      "execution_count": 11,
      "outputs": [
        {
          "output_type": "execute_result",
          "data": {
            "text/plain": [
              "Text(0.5, 0, 'epochs')"
            ]
          },
          "metadata": {
            "tags": []
          },
          "execution_count": 11
        },
        {
          "output_type": "display_data",
          "data": {
            "image/png": "[encoded data removed]",
            "text/plain": [
              "<Figure size 432x288 with 1 Axes>"
            ]
          },
          "metadata": {
            "tags": [],
            "needs_background": "light"
          }
        }
      ]
    },
    {
      "cell_type": "code",
      "metadata": {
        "colab": {
          "base_uri": "https://localhost:8080/"
        },
        "id": "7nFctgG4wnDj",
        "outputId": "87178a72-176a-4171-8c0a-1651413b1fce"
      },
      "source": [
        "# Train for more time 300 epochs instead of 200 epochs\n",
        "tf.random.set_seed(42)\n",
        "# 1. Build the model\n",
        "model_3 = tf.keras.Sequential([\n",
        "  tf.keras.layers.Dense(100),\n",
        "  tf.keras.layers.Dense(100),\n",
        "  tf.keras.layers.Dense(10),\n",
        "  tf.keras.layers.Dense(1)\n",
        "], name=\"model_3\")\n",
        "# 2. Compile the model\n",
        "model_3.compile(loss=tf.keras.losses.MAE,\n",
        "                optimizer=tf.keras.optimizers.Adam(learning_rate=0.01),\n",
        "                metrics=[\"mae\"])\n",
        "# 3. Fit and summary the model\n",
        "history_3 = model_3.fit(X_train, y_train, epochs=300, verbose=0)\n",
        "model_3.summary()"
      ],
      "execution_count": 12,
      "outputs": [
        {
          "output_type": "stream",
          "text": [
            "Model: \"model_3\"\n",
            "_________________________________________________________________\n",
            "Layer (type)                 Output Shape              Param #   \n",
            "=================================================================\n",
            "dense_8 (Dense)              (None, 100)               1200      \n",
            "_________________________________________________________________\n",
            "dense_9 (Dense)              (None, 100)               10100     \n",
            "_________________________________________________________________\n",
            "dense_10 (Dense)             (None, 10)                1010      \n",
            "_________________________________________________________________\n",
            "dense_11 (Dense)             (None, 1)                 11        \n",
            "=================================================================\n",
            "Total params: 12,321\n",
            "Trainable params: 12,321\n",
            "Non-trainable params: 0\n",
            "_________________________________________________________________\n"
          ],
          "name": "stdout"
        }
      ]
    },
    {
      "cell_type": "code",
      "metadata": {
        "colab": {
          "base_uri": "https://localhost:8080/"
        },
        "id": "AZs8lfM9xcL5",
        "outputId": "ca520a27-83fb-4482-f82a-08540eb7ab78"
      },
      "source": [
        "# Evaluate our model\n",
        "model_3.evaluate(X_test, y_test)\n"
      ],
      "execution_count": 13,
      "outputs": [
        {
          "output_type": "stream",
          "text": [
            "9/9 [==============================] - 0s 2ms/step - loss: 3198.2495 - mae: 3198.2495\n"
          ],
          "name": "stdout"
        },
        {
          "output_type": "execute_result",
          "data": {
            "text/plain": [
              "[3198.24951171875, 3198.24951171875]"
            ]
          },
          "metadata": {
            "tags": []
          },
          "execution_count": 13
        }
      ]
    },
    {
      "cell_type": "code",
      "metadata": {
        "colab": {
          "base_uri": "https://localhost:8080/",
          "height": 297
        },
        "id": "WN-l77hHxhi8",
        "outputId": "f23d9825-7f92-4d82-f507-437de2eb5637"
      },
      "source": [
        "pd.DataFrame(history_3.history).plot()\n",
        "plt.ylabel(\"loss\")\n",
        "plt.xlabel(\"epochs\")"
      ],
      "execution_count": 14,
      "outputs": [
        {
          "output_type": "execute_result",
          "data": {
            "text/plain": [
              "Text(0.5, 0, 'epochs')"
            ]
          },
          "metadata": {
            "tags": []
          },
          "execution_count": 14
        },
        {
          "output_type": "display_data",
          "data": {
            "image/png": "[encoded data removed]",
            "text/plain": [
              "<Figure size 432x288 with 1 Axes>"
            ]
          },
          "metadata": {
            "tags": [],
            "needs_background": "light"
          }
        }
      ]
    },
    {
      "cell_type": "code",
      "metadata": {
        "colab": {
          "base_uri": "https://localhost:8080/"
        },
        "id": "Xy9x4cojq4ux",
        "outputId": "05ed7126-f2a6-4d13-88c6-8f2efa58e6d7"
      },
      "source": [
        "y_train.mean()"
      ],
      "execution_count": 17,
      "outputs": [
        {
          "output_type": "execute_result",
          "data": {
            "text/plain": [
              "13346.089736364489"
            ]
          },
          "metadata": {
            "tags": []
          },
          "execution_count": 17
        }
      ]
    },
    {
      "cell_type": "code",
      "metadata": {
        "id": "1WwFoVKdxrnB",
        "colab": {
          "base_uri": "https://localhost:8080/"
        },
        "outputId": "1abe507a-fa58-421b-d14f-792a394ba573"
      },
      "source": [
        "# Let's train a model one more time :v \n",
        "tf.random.set_seed(42)\n",
        "# 1. Build the model\n",
        "model_4 = tf.keras.Sequential([\n",
        "  tf.keras.layers.Dense(1000),\n",
        "  tf.keras.layers.Dense(100),\n",
        "  tf.keras.layers.Dense(100),\n",
        "  tf.keras.layers.Dense(10),\n",
        "  tf.keras.layers.Dense(1)         \n",
        "], name=\"model_4\")\n",
        "\n",
        "# 2. Compile the model\n",
        "model_4.compile(loss=tf.keras.losses.MAE,\n",
        "                optimizer=tf.keras.optimizers.Adam(learning_rate=0.01),\n",
        "                metrics=[\"mae\"])\n",
        "\n",
        "#. 3 Fit and summary the model\n",
        "model_4.fit(X_train, y_train, epochs=300, verbose=0)\n",
        "model_4.summary()"
      ],
      "execution_count": 21,
      "outputs": [
        {
          "output_type": "stream",
          "text": [
            "Model: \"model_4\"\n",
            "_________________________________________________________________\n",
            "Layer (type)                 Output Shape              Param #   \n",
            "=================================================================\n",
            "dense_22 (Dense)             (None, 1000)              12000     \n",
            "_________________________________________________________________\n",
            "dense_23 (Dense)             (None, 100)               100100    \n",
            "_________________________________________________________________\n",
            "dense_24 (Dense)             (None, 100)               10100     \n",
            "_________________________________________________________________\n",
            "dense_25 (Dense)             (None, 10)                1010      \n",
            "_________________________________________________________________\n",
            "dense_26 (Dense)             (None, 1)                 11        \n",
            "=================================================================\n",
            "Total params: 123,221\n",
            "Trainable params: 123,221\n",
            "Non-trainable params: 0\n",
            "_________________________________________________________________\n"
          ],
          "name": "stdout"
        }
      ]
    },
    {
      "cell_type": "code",
      "metadata": {
        "colab": {
          "base_uri": "https://localhost:8080/"
        },
        "id": "BsLFRLnsqh8_",
        "outputId": "56a9e4df-18a8-4176-9240-ffc2a8ef5178"
      },
      "source": [
        "# Evaluate our predictions\n",
        "model_4.evaluate(X_test, y_test)"
      ],
      "execution_count": 22,
      "outputs": [
        {
          "output_type": "stream",
          "text": [
            "9/9 [==============================] - 0s 2ms/step - loss: 3295.5342 - mae: 3295.5342\n"
          ],
          "name": "stdout"
        },
        {
          "output_type": "execute_result",
          "data": {
            "text/plain": [
              "[3295.5341796875, 3295.5341796875]"
            ]
          },
          "metadata": {
            "tags": []
          },
          "execution_count": 22
        }
      ]
    },
    {
      "cell_type": "code",
      "metadata": {
        "colab": {
          "base_uri": "https://localhost:8080/",
          "height": 297
        },
        "id": "gFF_JAADrw36",
        "outputId": "7d8b94a6-4798-411e-f0ee-af81c836a654"
      },
      "source": [
        "# Visualize relationship between loss and epoch\n",
        "pd.DataFrame(model_4.fit(X_train, y_train, epochs=300, verbose=0).history).plot()\n",
        "plt.ylabel(\"loss\")\n",
        "plt.xlabel(\"epochs\")"
      ],
      "execution_count": 23,
      "outputs": [
        {
          "output_type": "execute_result",
          "data": {
            "text/plain": [
              "Text(0.5, 0, 'epochs')"
            ]
          },
          "metadata": {
            "tags": []
          },
          "execution_count": 23
        },
        {
          "output_type": "display_data",
          "data": {
            "image/png": "[encoded data removed]",
            "text/plain": [
              "<Figure size 432x288 with 1 Axes>"
            ]
          },
          "metadata": {
            "tags": [],
            "needs_background": "light"
          }
        }
      ]
    },
    {
      "cell_type": "markdown",
      "metadata": {
        "id": "juctV4UVsSBY"
      },
      "source": [
        "### 3. Import the Boston pricing dataset from TensorFlow tf.keras.datasets and model it.\n"
      ]
    },
    {
      "cell_type": "code",
      "metadata": {
        "colab": {
          "base_uri": "https://localhost:8080/",
          "height": 36
        },
        "id": "03jVEaimsI_B",
        "outputId": "d5466625-4488-4fd9-9a71-0e7bac7d53a4"
      },
      "source": [
        "import tensorflow as tf\n",
        "tf.__version__"
      ],
      "execution_count": 24,
      "outputs": [
        {
          "output_type": "execute_result",
          "data": {
            "application/vnd.google.colaboratory.intrinsic+json": {
              "type": "string"
            },
            "text/plain": [
              "'2.5.0'"
            ]
          },
          "metadata": {
            "tags": []
          },
          "execution_count": 24
        }
      ]
    },
    {
      "cell_type": "code",
      "metadata": {
        "colab": {
          "base_uri": "https://localhost:8080/"
        },
        "id": "pY-GGI0nsg5z",
        "outputId": "20c0393d-f75c-42e1-e2c6-d57910713f5c"
      },
      "source": [
        "tf.keras.datasets.boston_housing.load_data()"
      ],
      "execution_count": 25,
      "outputs": [
        {
          "output_type": "stream",
          "text": [
            "Downloading data from https://storage.googleapis.com/tensorflow/tf-keras-datasets/boston_housing.npz\n",
            "57344/57026 [==============================] - 0s 0us/step\n"
          ],
          "name": "stdout"
        },
        {
          "output_type": "execute_result",
          "data": {
            "text/plain": [
              "((array([[1.23247e+00, 0.00000e+00, 8.14000e+00, ..., 2.10000e+01,\n",
              "          3.96900e+02, 1.87200e+01],\n",
              "         [2.17700e-02, 8.25000e+01, 2.03000e+00, ..., 1.47000e+01,\n",
              "          3.95380e+02, 3.11000e+00],\n",
              "         [4.89822e+00, 0.00000e+00, 1.81000e+01, ..., 2.02000e+01,\n",
              "          3.75520e+02, 3.26000e+00],\n",
              "         ...,\n",
              "         [3.46600e-02, 3.50000e+01, 6.06000e+00, ..., 1.69000e+01,\n",
              "          3.62250e+02, 7.83000e+00],\n",
              "         [2.14918e+00, 0.00000e+00, 1.95800e+01, ..., 1.47000e+01,\n",
              "          2.61950e+02, 1.57900e+01],\n",
              "         [1.43900e-02, 6.00000e+01, 2.93000e+00, ..., 1.56000e+01,\n",
              "          3.76700e+02, 4.38000e+00]]),\n",
              "  array([15.2, 42.3, 50. , 21.1, 17.7, 18.5, 11.3, 15.6, 15.6, 14.4, 12.1,\n",
              "         17.9, 23.1, 19.9, 15.7,  8.8, 50. , 22.5, 24.1, 27.5, 10.9, 30.8,\n",
              "         32.9, 24. , 18.5, 13.3, 22.9, 34.7, 16.6, 17.5, 22.3, 16.1, 14.9,\n",
              "         23.1, 34.9, 25. , 13.9, 13.1, 20.4, 20. , 15.2, 24.7, 22.2, 16.7,\n",
              "         12.7, 15.6, 18.4, 21. , 30.1, 15.1, 18.7,  9.6, 31.5, 24.8, 19.1,\n",
              "         22. , 14.5, 11. , 32. , 29.4, 20.3, 24.4, 14.6, 19.5, 14.1, 14.3,\n",
              "         15.6, 10.5,  6.3, 19.3, 19.3, 13.4, 36.4, 17.8, 13.5, 16.5,  8.3,\n",
              "         14.3, 16. , 13.4, 28.6, 43.5, 20.2, 22. , 23. , 20.7, 12.5, 48.5,\n",
              "         14.6, 13.4, 23.7, 50. , 21.7, 39.8, 38.7, 22.2, 34.9, 22.5, 31.1,\n",
              "         28.7, 46. , 41.7, 21. , 26.6, 15. , 24.4, 13.3, 21.2, 11.7, 21.7,\n",
              "         19.4, 50. , 22.8, 19.7, 24.7, 36.2, 14.2, 18.9, 18.3, 20.6, 24.6,\n",
              "         18.2,  8.7, 44. , 10.4, 13.2, 21.2, 37. , 30.7, 22.9, 20. , 19.3,\n",
              "         31.7, 32. , 23.1, 18.8, 10.9, 50. , 19.6,  5. , 14.4, 19.8, 13.8,\n",
              "         19.6, 23.9, 24.5, 25. , 19.9, 17.2, 24.6, 13.5, 26.6, 21.4, 11.9,\n",
              "         22.6, 19.6,  8.5, 23.7, 23.1, 22.4, 20.5, 23.6, 18.4, 35.2, 23.1,\n",
              "         27.9, 20.6, 23.7, 28. , 13.6, 27.1, 23.6, 20.6, 18.2, 21.7, 17.1,\n",
              "          8.4, 25.3, 13.8, 22.2, 18.4, 20.7, 31.6, 30.5, 20.3,  8.8, 19.2,\n",
              "         19.4, 23.1, 23. , 14.8, 48.8, 22.6, 33.4, 21.1, 13.6, 32.2, 13.1,\n",
              "         23.4, 18.9, 23.9, 11.8, 23.3, 22.8, 19.6, 16.7, 13.4, 22.2, 20.4,\n",
              "         21.8, 26.4, 14.9, 24.1, 23.8, 12.3, 29.1, 21. , 19.5, 23.3, 23.8,\n",
              "         17.8, 11.5, 21.7, 19.9, 25. , 33.4, 28.5, 21.4, 24.3, 27.5, 33.1,\n",
              "         16.2, 23.3, 48.3, 22.9, 22.8, 13.1, 12.7, 22.6, 15. , 15.3, 10.5,\n",
              "         24. , 18.5, 21.7, 19.5, 33.2, 23.2,  5. , 19.1, 12.7, 22.3, 10.2,\n",
              "         13.9, 16.3, 17. , 20.1, 29.9, 17.2, 37.3, 45.4, 17.8, 23.2, 29. ,\n",
              "         22. , 18. , 17.4, 34.6, 20.1, 25. , 15.6, 24.8, 28.2, 21.2, 21.4,\n",
              "         23.8, 31. , 26.2, 17.4, 37.9, 17.5, 20. ,  8.3, 23.9,  8.4, 13.8,\n",
              "          7.2, 11.7, 17.1, 21.6, 50. , 16.1, 20.4, 20.6, 21.4, 20.6, 36.5,\n",
              "          8.5, 24.8, 10.8, 21.9, 17.3, 18.9, 36.2, 14.9, 18.2, 33.3, 21.8,\n",
              "         19.7, 31.6, 24.8, 19.4, 22.8,  7.5, 44.8, 16.8, 18.7, 50. , 50. ,\n",
              "         19.5, 20.1, 50. , 17.2, 20.8, 19.3, 41.3, 20.4, 20.5, 13.8, 16.5,\n",
              "         23.9, 20.6, 31.5, 23.3, 16.8, 14. , 33.8, 36.1, 12.8, 18.3, 18.7,\n",
              "         19.1, 29. , 30.1, 50. , 50. , 22. , 11.9, 37.6, 50. , 22.7, 20.8,\n",
              "         23.5, 27.9, 50. , 19.3, 23.9, 22.6, 15.2, 21.7, 19.2, 43.8, 20.3,\n",
              "         33.2, 19.9, 22.5, 32.7, 22. , 17.1, 19. , 15. , 16.1, 25.1, 23.7,\n",
              "         28.7, 37.2, 22.6, 16.4, 25. , 29.8, 22.1, 17.4, 18.1, 30.3, 17.5,\n",
              "         24.7, 12.6, 26.5, 28.7, 13.3, 10.4, 24.4, 23. , 20. , 17.8,  7. ,\n",
              "         11.8, 24.4, 13.8, 19.4, 25.2, 19.4, 19.4, 29.1])),\n",
              " (array([[1.80846e+01, 0.00000e+00, 1.81000e+01, ..., 2.02000e+01,\n",
              "          2.72500e+01, 2.90500e+01],\n",
              "         [1.23290e-01, 0.00000e+00, 1.00100e+01, ..., 1.78000e+01,\n",
              "          3.94950e+02, 1.62100e+01],\n",
              "         [5.49700e-02, 0.00000e+00, 5.19000e+00, ..., 2.02000e+01,\n",
              "          3.96900e+02, 9.74000e+00],\n",
              "         ...,\n",
              "         [1.83377e+00, 0.00000e+00, 1.95800e+01, ..., 1.47000e+01,\n",
              "          3.89610e+02, 1.92000e+00],\n",
              "         [3.58090e-01, 0.00000e+00, 6.20000e+00, ..., 1.74000e+01,\n",
              "          3.91700e+02, 9.71000e+00],\n",
              "         [2.92400e+00, 0.00000e+00, 1.95800e+01, ..., 1.47000e+01,\n",
              "          2.40160e+02, 9.81000e+00]]),\n",
              "  array([ 7.2, 18.8, 19. , 27. , 22.2, 24.5, 31.2, 22.9, 20.5, 23.2, 18.6,\n",
              "         14.5, 17.8, 50. , 20.8, 24.3, 24.2, 19.8, 19.1, 22.7, 12. , 10.2,\n",
              "         20. , 18.5, 20.9, 23. , 27.5, 30.1,  9.5, 22. , 21.2, 14.1, 33.1,\n",
              "         23.4, 20.1,  7.4, 15.4, 23.8, 20.1, 24.5, 33. , 28.4, 14.1, 46.7,\n",
              "         32.5, 29.6, 28.4, 19.8, 20.2, 25. , 35.4, 20.3,  9.7, 14.5, 34.9,\n",
              "         26.6,  7.2, 50. , 32.4, 21.6, 29.8, 13.1, 27.5, 21.2, 23.1, 21.9,\n",
              "         13. , 23.2,  8.1,  5.6, 21.7, 29.6, 19.6,  7. , 26.4, 18.9, 20.9,\n",
              "         28.1, 35.4, 10.2, 24.3, 43.1, 17.6, 15.4, 16.2, 27.1, 21.4, 21.5,\n",
              "         22.4, 25. , 16.6, 18.6, 22. , 42.8, 35.1, 21.5, 36. , 21.9, 24.1,\n",
              "         50. , 26.7, 25. ])))"
            ]
          },
          "metadata": {
            "tags": []
          },
          "execution_count": 25
        }
      ]
    },
    {
      "cell_type": "markdown",
      "metadata": {
        "id": "cD5Tkww9ugqU"
      },
      "source": [
        "## Import our data"
      ]
    },
    {
      "cell_type": "code",
      "metadata": {
        "colab": {
          "base_uri": "https://localhost:8080/"
        },
        "id": "rToXYLwasuhb",
        "outputId": "b5248891-8ddb-4cb5-fc19-4e4803ed3e1c"
      },
      "source": [
        "(X_train, y_train), (X_test, y_test)=tf.keras.datasets.boston_housing.load_data(\n",
        "    path='boston_housing.npz', test_split=0.2, seed=42\n",
        ")\n",
        "X_train.shape"
      ],
      "execution_count": 34,
      "outputs": [
        {
          "output_type": "execute_result",
          "data": {
            "text/plain": [
              "(404, 13)"
            ]
          },
          "metadata": {
            "tags": []
          },
          "execution_count": 34
        }
      ]
    },
    {
      "cell_type": "code",
      "metadata": {
        "colab": {
          "base_uri": "https://localhost:8080/"
        },
        "id": "H74DqbGotf7H",
        "outputId": "0eaba2b9-b2cf-40c8-824b-b435ca6e10e6"
      },
      "source": [
        "X_train[0]"
      ],
      "execution_count": 35,
      "outputs": [
        {
          "output_type": "execute_result",
          "data": {
            "text/plain": [
              "array([9.1780e-02, 0.0000e+00, 4.0500e+00, 0.0000e+00, 5.1000e-01,\n",
              "       6.4160e+00, 8.4100e+01, 2.6463e+00, 5.0000e+00, 2.9600e+02,\n",
              "       1.6600e+01, 3.9550e+02, 9.0400e+00])"
            ]
          },
          "metadata": {
            "tags": []
          },
          "execution_count": 35
        }
      ]
    },
    {
      "cell_type": "markdown",
      "metadata": {
        "id": "YZqC_aonui9T"
      },
      "source": [
        "## Preprocessing data"
      ]
    },
    {
      "cell_type": "code",
      "metadata": {
        "colab": {
          "base_uri": "https://localhost:8080/"
        },
        "id": "TxZLSKIXtioF",
        "outputId": "9fb8964d-d28d-4f70-d26d-af8129b4cc1a"
      },
      "source": [
        "from sklearn.preprocessing import MinMaxScaler\n",
        "scaler = MinMaxScaler()\n",
        "scaler.fit(X_train)"
      ],
      "execution_count": 38,
      "outputs": [
        {
          "output_type": "execute_result",
          "data": {
            "text/plain": [
              "MinMaxScaler(copy=True, feature_range=(0, 1))"
            ]
          },
          "metadata": {
            "tags": []
          },
          "execution_count": 38
        }
      ]
    },
    {
      "cell_type": "code",
      "metadata": {
        "id": "DxoMGhhyt1f9"
      },
      "source": [
        "X_train_normalized = scaler.transform(X_train)\n",
        "X_test_normalized = scaler.transform(X_test)"
      ],
      "execution_count": 39,
      "outputs": []
    },
    {
      "cell_type": "markdown",
      "metadata": {
        "id": "W-8rU-TRulGA"
      },
      "source": [
        "## Build model\n"
      ]
    },
    {
      "cell_type": "code",
      "metadata": {
        "id": "Ly2kn6gUuIsB"
      },
      "source": [
        "# Let's build first model\n",
        "tf.random.set_seed(42)\n",
        "# 1. Build the model\n",
        "bp_1 = tf.keras.Sequential([\n",
        "  tf.keras.layers.Dense(10),\n",
        "  tf.keras.layers.Dense(1)\n",
        "], name=\"bp_1\")\n",
        "\n",
        "# 2. Compile the model\n",
        "bp_1.compile(loss=tf.keras.losses.MAE,\n",
        "             optimizer=tf.keras.optimizers.SGD(),\n",
        "             metrics=[\"mae\"])\n",
        "\n",
        "# 3. Fit the model\n",
        "history_1 = bp_1.fit(X_train_normalized, y_train, epochs = 200, verbose=0)"
      ],
      "execution_count": 45,
      "outputs": []
    },
    {
      "cell_type": "code",
      "metadata": {
        "colab": {
          "base_uri": "https://localhost:8080/"
        },
        "id": "tOLzZh4GuKry",
        "outputId": "914acdbb-9c00-4423-99e9-c45b738a404c"
      },
      "source": [
        "y_test.mean()"
      ],
      "execution_count": 44,
      "outputs": [
        {
          "output_type": "execute_result",
          "data": {
            "text/plain": [
              "22.64019607843137"
            ]
          },
          "metadata": {
            "tags": []
          },
          "execution_count": 44
        }
      ]
    },
    {
      "cell_type": "code",
      "metadata": {
        "colab": {
          "base_uri": "https://localhost:8080/"
        },
        "id": "EzQiuGZCvJ2R",
        "outputId": "2d3e613c-3f32-4261-cfe3-2343865ffbb3"
      },
      "source": [
        "# Evaluate our first model\n",
        "bp_1.evaluate(X_test_normalized, y_test)"
      ],
      "execution_count": 46,
      "outputs": [
        {
          "output_type": "stream",
          "text": [
            "4/4 [==============================] - 0s 3ms/step - loss: 2.9309 - mae: 2.9309\n"
          ],
          "name": "stdout"
        },
        {
          "output_type": "execute_result",
          "data": {
            "text/plain": [
              "[2.9308722019195557, 2.9308722019195557]"
            ]
          },
          "metadata": {
            "tags": []
          },
          "execution_count": 46
        }
      ]
    },
    {
      "cell_type": "code",
      "metadata": {
        "colab": {
          "base_uri": "https://localhost:8080/",
          "height": 297
        },
        "id": "Eejbg384vWIz",
        "outputId": "af322e27-3de3-4584-e2f8-6f3b083e6a2f"
      },
      "source": [
        "# Visualize relationship between loss and epoch\n",
        "pd.DataFrame(history_1.history).plot()\n",
        "plt.ylabel(\"loss\")\n",
        "plt.xlabel(\"epochs\")"
      ],
      "execution_count": 47,
      "outputs": [
        {
          "output_type": "execute_result",
          "data": {
            "text/plain": [
              "Text(0.5, 0, 'epochs')"
            ]
          },
          "metadata": {
            "tags": []
          },
          "execution_count": 47
        },
        {
          "output_type": "display_data",
          "data": {
            "image/png": "[encoded data removed]",
            "text/plain": [
              "<Figure size 432x288 with 1 Axes>"
            ]
          },
          "metadata": {
            "tags": [],
            "needs_background": "light"
          }
        }
      ]
    },
    {
      "cell_type": "code",
      "metadata": {
        "id": "xZ2cOsOKvh-x"
      },
      "source": [
        "# This time I will increase the amount of unit in layer 1\n",
        "tf.random.set_seed(42)\n",
        "# 1. Build the model\n",
        "bp_2 = tf.keras.Sequential([\n",
        "  tf.keras.layers.Dense(100),\n",
        "  tf.keras.layers.Dense(1)\n",
        "], name=\"bp_2\")\n",
        "\n",
        "# 2. Compile the model\n",
        "bp_2.compile(loss=tf.keras.losses.MAE,\n",
        "             optimizer=tf.keras.optimizers.SGD(),\n",
        "             metrics=[\"mae\"])\n",
        "\n",
        "# 3. Fit the model\n",
        "history_2 = bp_2.fit(X_train_normalized, y_train, epochs=200, verbose=0)"
      ],
      "execution_count": 49,
      "outputs": []
    },
    {
      "cell_type": "code",
      "metadata": {
        "colab": {
          "base_uri": "https://localhost:8080/"
        },
        "id": "76O239TOwL0I",
        "outputId": "49aa1f11-a649-4fbb-887b-c852a8b03483"
      },
      "source": [
        "# Evaluate our second model\n",
        "bp_2.evaluate(X_test_normalized, y_test)"
      ],
      "execution_count": 50,
      "outputs": [
        {
          "output_type": "stream",
          "text": [
            "4/4 [==============================] - 0s 3ms/step - loss: 2.9115 - mae: 2.9115\n"
          ],
          "name": "stdout"
        },
        {
          "output_type": "execute_result",
          "data": {
            "text/plain": [
              "[2.9114720821380615, 2.9114720821380615]"
            ]
          },
          "metadata": {
            "tags": []
          },
          "execution_count": 50
        }
      ]
    },
    {
      "cell_type": "code",
      "metadata": {
        "colab": {
          "base_uri": "https://localhost:8080/",
          "height": 301
        },
        "id": "mNXf9Rz7wVCS",
        "outputId": "f6ca30df-c320-4ca1-8c59-e8d581c964e4"
      },
      "source": [
        "# Visualize the relationship between loss and epochs\n",
        "pd.DataFrame(history_2.history).plot()\n",
        "plt.ylabel(\"loss\")\n",
        "plt.xlabel(\"epochs\")"
      ],
      "execution_count": 51,
      "outputs": [
        {
          "output_type": "execute_result",
          "data": {
            "text/plain": [
              "Text(0.5, 0, 'epochs')"
            ]
          },
          "metadata": {
            "tags": []
          },
          "execution_count": 51
        },
        {
          "output_type": "display_data",
          "data": {
            "image/png": "[encoded data removed]",
            "text/plain": [
              "<Figure size 432x288 with 1 Axes>"
            ]
          },
          "metadata": {
            "tags": [],
            "needs_background": "light"
          }
        }
      ]
    },
    {
      "cell_type": "code",
      "metadata": {
        "id": "hYnma_DDwj0I"
      },
      "source": [
        "# Third time I will add one more hidden layer\n",
        "tf.random.set_seed(42)\n",
        "# 1. Build the model\n",
        "bp_3 = tf.keras.Sequential([\n",
        "  tf.keras.layers.Dense(100),\n",
        "  tf.keras.layers.Dense(10),\n",
        "  tf.keras.layers.Dense(1)\n",
        "], name=\"bp_3\")\n",
        "\n",
        "# 2. Compile the model\n",
        "bp_3.compile(loss=tf.keras.losses.MAE,\n",
        "             optimizer=tf.keras.optimizers.SGD(),\n",
        "             metrics=[\"mae\"])\n",
        "\n",
        "# 3. Fit the model\n",
        "history_3 = bp_3.fit(X_train_normalized, y_train, epochs=200, verbose=0)\n"
      ],
      "execution_count": 52,
      "outputs": []
    },
    {
      "cell_type": "code",
      "metadata": {
        "colab": {
          "base_uri": "https://localhost:8080/"
        },
        "id": "wnHcDDMvxauk",
        "outputId": "6236468f-d417-4444-c93b-d42cc6da540e"
      },
      "source": [
        "# Evaluate our third model\n",
        "bp_3.evaluate(X_test_normalized, y_test)"
      ],
      "execution_count": 53,
      "outputs": [
        {
          "output_type": "stream",
          "text": [
            "4/4 [==============================] - 0s 3ms/step - loss: 2.8257 - mae: 2.8257\n"
          ],
          "name": "stdout"
        },
        {
          "output_type": "execute_result",
          "data": {
            "text/plain": [
              "[2.8257484436035156, 2.8257484436035156]"
            ]
          },
          "metadata": {
            "tags": []
          },
          "execution_count": 53
        }
      ]
    },
    {
      "cell_type": "code",
      "metadata": {
        "colab": {
          "base_uri": "https://localhost:8080/",
          "height": 297
        },
        "id": "JfZkS_kjxgz2",
        "outputId": "59a92e8d-fc4c-4097-d6cf-efc53706100d"
      },
      "source": [
        "# Visualized the relationship between loss and epoch\n",
        "pd.DataFrame(history_3.history).plot()\n",
        "plt.ylabel(\"loss\")\n",
        "plt.xlabel(\"epochs\")"
      ],
      "execution_count": 54,
      "outputs": [
        {
          "output_type": "execute_result",
          "data": {
            "text/plain": [
              "Text(0.5, 0, 'epochs')"
            ]
          },
          "metadata": {
            "tags": []
          },
          "execution_count": 54
        },
        {
          "output_type": "display_data",
          "data": {
            "image/png": "[encoded data removed]",
            "text/plain": [
              "<Figure size 432x288 with 1 Axes>"
            ]
          },
          "metadata": {
            "tags": [],
            "needs_background": "light"
          }
        }
      ]
    },
    {
      "cell_type": "code",
      "metadata": {
        "id": "9NC-h6iVxudj"
      },
      "source": [
        "# How about 4 hidden layers like insurance problem? Let's try\n",
        "tf.random.set_seed(42)\n",
        "# 1. Build the model\n",
        "bp_4 = tf.keras.Sequential([\n",
        "  tf.keras.layers.Dense(100),\n",
        "  tf.keras.layers.Dense(100),\n",
        "  tf.keras.layers.Dense(10),\n",
        "  tf.keras.layers.Dense(1)\n",
        "], name=\"bp_4\")\n",
        "\n",
        "# 2. Compile the model\n",
        "bp_4.compile(loss=tf.keras.losses.MAE,\n",
        "             optimizer=tf.keras.optimizers.SGD(),\n",
        "             metrics=[\"mae\"])\n",
        "\n",
        "# 3. Fit the model\n",
        "history_4 = bp_4.fit(X_train_normalized\n",
        "                     , y_train, epochs=200, verbose=0)"
      ],
      "execution_count": 56,
      "outputs": []
    },
    {
      "cell_type": "code",
      "metadata": {
        "colab": {
          "base_uri": "https://localhost:8080/"
        },
        "id": "10SIPaHSyVE0",
        "outputId": "fd95fbdd-19b6-4263-a7a4-1852b3d6fc0c"
      },
      "source": [
        "# Evaluate our 4th model\n",
        "bp_4.evaluate(X_test_normalized, y_test)"
      ],
      "execution_count": 57,
      "outputs": [
        {
          "output_type": "stream",
          "text": [
            "4/4 [==============================] - 0s 3ms/step - loss: 2.9306 - mae: 2.9306\n"
          ],
          "name": "stdout"
        },
        {
          "output_type": "execute_result",
          "data": {
            "text/plain": [
              "[2.930628776550293, 2.930628776550293]"
            ]
          },
          "metadata": {
            "tags": []
          },
          "execution_count": 57
        }
      ]
    },
    {
      "cell_type": "code",
      "metadata": {
        "colab": {
          "base_uri": "https://localhost:8080/",
          "height": 297
        },
        "id": "vybzoATUyc1C",
        "outputId": "b452e7d0-9ed0-47ca-a1cc-adb8edf06feb"
      },
      "source": [
        "# Visualize the relationship between loss and epochs\n",
        "pd.DataFrame(history_4.history).plot()\n",
        "plt.xlabel(\"epochs\")\n",
        "plt.ylabel(\"loss\")"
      ],
      "execution_count": 59,
      "outputs": [
        {
          "output_type": "execute_result",
          "data": {
            "text/plain": [
              "Text(0, 0.5, 'loss')"
            ]
          },
          "metadata": {
            "tags": []
          },
          "execution_count": 59
        },
        {
          "output_type": "display_data",
          "data": {
            "image/png": "[encoded data removed]",
            "text/plain": [
              "<Figure size 432x288 with 1 Axes>"
            ]
          },
          "metadata": {
            "tags": [],
            "needs_background": "light"
          }
        }
      ]
    },
    {
      "cell_type": "code",
      "metadata": {
        "id": "SuuE8nPDyhPX"
      },
      "source": [
        "# At last let train optimizer to Adam and increase learning_rate by 10 times\n",
        "tf.random.set_seed(42)\n",
        "# 1. Build the model\n",
        "bp_5 = tf.keras.Sequential([\n",
        "  tf.keras.layers.Dense(100),\n",
        "  tf.keras.layers.Dense(10),\n",
        "  tf.keras.layers.Dense(1)\n",
        "], name=\"bp_5\")\n",
        "\n",
        "# 2. Compile the model\n",
        "bp_5.compile(loss=tf.keras.losses.MAE,\n",
        "             optimizer=tf.keras.optimizers.Adam(learning_rate=0.01),\n",
        "             metrics=[\"mae\"])\n",
        "\n",
        "# 3. Fit the model\n",
        "history_5 = bp_5.fit(X_train_normalized, y_train, epochs=200, verbose=0)"
      ],
      "execution_count": 60,
      "outputs": []
    },
    {
      "cell_type": "code",
      "metadata": {
        "colab": {
          "base_uri": "https://localhost:8080/"
        },
        "id": "XGuk_K3WzskW",
        "outputId": "802de5b1-28c0-40a8-fa73-77281ff71830"
      },
      "source": [
        "# Evaluate our last model\n",
        "bp_5.evaluate(X_test_normalized, y_test)"
      ],
      "execution_count": 61,
      "outputs": [
        {
          "output_type": "stream",
          "text": [
            "4/4 [==============================] - 0s 3ms/step - loss: 3.2196 - mae: 3.2196\n"
          ],
          "name": "stdout"
        },
        {
          "output_type": "execute_result",
          "data": {
            "text/plain": [
              "[3.219593048095703, 3.219593048095703]"
            ]
          },
          "metadata": {
            "tags": []
          },
          "execution_count": 61
        }
      ]
    },
    {
      "cell_type": "code",
      "metadata": {
        "colab": {
          "base_uri": "https://localhost:8080/",
          "height": 297
        },
        "id": "zXvdhrXazxvg",
        "outputId": "d8da8180-0656-4dd1-8e32-afc038ce478f"
      },
      "source": [
        "# Visualize the relationship between loss and epoch\n",
        "pd.DataFrame(history_5.history).plot()\n",
        "plt.xlabel(\"epoch\")\n",
        "plt.ylabel(\"loss\")"
      ],
      "execution_count": 62,
      "outputs": [
        {
          "output_type": "execute_result",
          "data": {
            "text/plain": [
              "Text(0, 0.5, 'loss')"
            ]
          },
          "metadata": {
            "tags": []
          },
          "execution_count": 62
        },
        {
          "output_type": "display_data",
          "data": {
            "image/png": "[encoded data removed]",
            "text/plain": [
              "<Figure size 432x288 with 1 Axes>"
            ]
          },
          "metadata": {
            "tags": [],
            "needs_background": "light"
          }
        }
      ]
    },
    {
      "cell_type": "code",
      "metadata": {
        "id": "2SRW6srA0A5m"
      },
      "source": [
        ""
      ],
      "execution_count": null,
      "outputs": []
    }
  ]
}